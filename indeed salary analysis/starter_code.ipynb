{
 "cells": [
  {
   "cell_type": "markdown",
   "metadata": {
    "focus": false,
    "id": "69b9a648-bcc7-490d-9f9b-ea244d156bd6"
   },
   "source": [
    "# Web Scraping for Indeed.com and Predicting Salaries"
   ]
  },
  {
   "cell_type": "markdown",
   "metadata": {},
   "source": [
    "### Goal\n",
    "\n",
    "Determine the industry factors that are most important in predicting the salary amounts for data-related jobs (e.g. data scientist, data analyst, research scientist, business intelligence) in the UK.\n",
    "\n",
    "I will scrape job-related data from the [Indeed.co.uk](https://www.indeed.co.uk).\n",
    "\n",
    "---"
   ]
  },
  {
   "cell_type": "markdown",
   "metadata": {},
   "source": [
    "### Factors that impact salary\n",
    "\n",
    "To predict salary the most appropriate approach would be a regression model.\n",
    "Here instead we just want to estimate which factors (like location, job title, job level, industry sector) lead to high or low salary and work with a classification model. To do so, I split the salary into two groups of high and low salary."
   ]
  },
  {
   "cell_type": "markdown",
   "metadata": {
    "focus": false,
    "id": "a948d79c-5527-4c0d-ab23-f5d43ce72056"
   },
   "source": [
    "### Scraping job listings from Indeed.co.uk"
   ]
  },
  {
   "cell_type": "markdown",
   "metadata": {
    "focus": true,
    "id": "7203e0c9-e437-4802-a6ad-7dc464f94436"
   },
   "source": [
    "I will be scraping job listings from Indeed.co.uk using BeautifulSoup. \n",
    "\n",
    "First, look at the source of an Indeed.com page: (http://www.indeed.com/jobs?q=data+scientist+%2420%2C000&l=New+York&start=10\").\n",
    "\n",
    "Notice, each job listing is underneath a `div` tag with a class name of `result`. We can use BeautifulSoup to extract those. "
   ]
  },
  {
   "cell_type": "markdown",
   "metadata": {
    "focus": false,
    "id": "9732c901-ae26-4160-8376-42e22dd327df"
   },
   "source": [
    "#### Setup a request (using `requests`) to the Indeed. Use BeautifulSoup to parse the page and extract all results\n",
    "\n",
    "The URL here has many query parameters:\n",
    "\n",
    "- `q` for the job search\n",
    "- This is followed by \"+20,000\" to return results with salaries (or expected salaries >$20,000)\n",
    "- `l` for a location \n",
    "- `start` for what result number to start on"
   ]
  },
  {
   "cell_type": "code",
   "execution_count": null,
   "metadata": {
    "focus": false,
    "id": "e915023e-6b0d-4982-af2a-b1e0355f4927"
   },
   "outputs": [],
   "source": [
    "URL = \"http://www.indeed.co.uk/jobs?q=data+scientist+%2420%2C000&l=London&start=1\""
   ]
  },
  {
   "cell_type": "code",
   "execution_count": 1,
   "metadata": {
    "execution": {
     "iopub.execute_input": "2020-09-14T10:40:14.576644Z",
     "iopub.status.busy": "2020-09-14T10:40:14.575381Z",
     "iopub.status.idle": "2020-09-14T10:40:31.311317Z",
     "shell.execute_reply": "2020-09-14T10:40:31.310322Z",
     "shell.execute_reply.started": "2020-09-14T10:40:14.576598Z"
    },
    "focus": false,
    "id": "2efefc73-064a-482d-b3b5-ddf5508cb4ec"
   },
   "outputs": [],
   "source": [
    "import requests\n",
    "import bs4\n",
    "from bs4 import BeautifulSoup\n",
    "from tqdm import tqdm\n",
    "import pandas as pd\n",
    "import numpy as np\n",
    "import re\n",
    "import pandas_profiling as pp\n",
    "import matplotlib.pyplot as plt"
   ]
  },
  {
   "cell_type": "code",
   "execution_count": 2,
   "metadata": {
    "execution": {
     "iopub.execute_input": "2020-09-14T10:40:31.312982Z",
     "iopub.status.busy": "2020-09-14T10:40:31.312752Z",
     "iopub.status.idle": "2020-09-14T10:40:31.926945Z",
     "shell.execute_reply": "2020-09-14T10:40:31.925208Z",
     "shell.execute_reply.started": "2020-09-14T10:40:31.312957Z"
    }
   },
   "outputs": [],
   "source": [
    "from sklearn.model_selection import train_test_split, cross_val_score, KFold\n",
    "from sklearn.preprocessing import StandardScaler, MinMaxScaler\n",
    "from sklearn.linear_model import LogisticRegression\n",
    "from sklearn.model_selection import GridSearchCV\n",
    "import scikitplot as skplt\n",
    "from sklearn.metrics import classification_report, confusion_matrix\n",
    "from sklearn.pipeline import Pipeline\n",
    "from sklearn.pipeline import make_pipeline\n",
    "from sklearn.compose import ColumnTransformer"
   ]
  },
  {
   "cell_type": "code",
   "execution_count": null,
   "metadata": {
    "focus": false,
    "id": "2c6752c4-7704-4c94-8bc0-6f13d2d0d570"
   },
   "outputs": [],
   "source": [
    "r_ = requests.get(URL)\n",
    "soup = BeautifulSoup(r_.text, 'html.parser')"
   ]
  },
  {
   "cell_type": "markdown",
   "metadata": {
    "focus": false,
    "id": "bb0b866a-26a7-45e9-8084-5a0f90eb4b3e"
   },
   "source": [
    "Let's look at one result more closely. A single `result` looks like\n",
    "\n",
    "```\n",
    "<div class=\" row result\" data-jk=\"2480d203f7e97210\" data-tn-component=\"organicJob\" id=\"p_2480d203f7e97210\" itemscope=\"\" itemtype=\"http://schema.org/JobPosting\">\n",
    "<h2 class=\"jobtitle\" id=\"jl_2480d203f7e97210\">\n",
    "<a class=\"turnstileLink\" data-tn-element=\"jobTitle\" onmousedown=\"return rclk(this,jobmap[0],1);\" rel=\"nofollow\" target=\"_blank\" title=\"AVP/Quantitative Analyst\">AVP/Quantitative Analyst</a>\n",
    "</h2>\n",
    "<span class=\"company\" itemprop=\"hiringOrganization\" itemtype=\"http://schema.org/Organization\">\n",
    "<span itemprop=\"name\">\n",
    "<a href=\"/cmp/Alliancebernstein?from=SERP&amp;campaignid=serp-linkcompanyname&amp;fromjk=2480d203f7e97210&amp;jcid=b374f2a780e04789\" target=\"_blank\">\n",
    "    AllianceBernstein</a></span>\n",
    "</span>\n",
    "<tr>\n",
    "<td class=\"snip\">\n",
    "<nobr>$117,500 - $127,500 a year</nobr>\n",
    "<div>\n",
    "<span class=\"summary\" itemprop=\"description\">\n",
    "C onduct quantitative and statistical research as well as portfolio management for various investment portfolios. Collaborate with Quantitative Analysts and</span>\n",
    "</div>\n",
    "</div>\n",
    "</td>\n",
    "</tr>\n",
    "</table>\n",
    "</div>\n",
    "```\n",
    "\n",
    "While this has some more verbose elements removed, we can see that there is some structure to the above:\n",
    "- The salary is in a `span` with `class='salaryText'`.\n",
    "- The title of a job is in a link with class set to `jobtitle` and a `data-tn-element='jobTitle'`.  \n",
    "- The location is set in a `span` with `class='location'`. \n",
    "- The company is set in a `span` with `class='company'`. \n",
    "- Decide which other components could be relevant, for example the region or the summary of the job advert."
   ]
  },
  {
   "cell_type": "markdown",
   "metadata": {
    "focus": false,
    "id": "f1eddb90-4ba8-483c-a229-77e93aa53119"
   },
   "source": [
    "### Write 4 functions to extract each item: location, company, job, and salary."
   ]
  },
  {
   "cell_type": "code",
   "execution_count": null,
   "metadata": {},
   "outputs": [],
   "source": [
    "# extract job titles from html passed as a parameter\n",
    "def extract_job(r):\n",
    "    job = ''\n",
    "    \n",
    "    try:\n",
    "        job = r.find('a', attrs={'class': 'jobtitle turnstileLink', 'data-tn-element':'jobTitle'}).text\n",
    "    except:\n",
    "        job = np.nan\n",
    "        \n",
    "        \n",
    "    return job"
   ]
  },
  {
   "cell_type": "code",
   "execution_count": null,
   "metadata": {},
   "outputs": [],
   "source": [
    "def extract_company(r):\n",
    "    company = ''\n",
    "    \n",
    "    try:\n",
    "        company = r.find('span', attrs={'class': 'company'}).text\n",
    "    except:\n",
    "        company = np.nan\n",
    "       \n",
    "    \n",
    "    return company"
   ]
  },
  {
   "cell_type": "code",
   "execution_count": null,
   "metadata": {},
   "outputs": [],
   "source": [
    "# Append the city searched for to the location scraped. This will make it to group jobs together based on common locatiions.\n",
    "def extract_location(r, city):\n",
    "    location = ''\n",
    "    \n",
    "    try:\n",
    "        location = r.find('span', attrs={'class':'location accessible-contrast-color-location'}).text\n",
    "        location = location + ', ' + city\n",
    "    except:\n",
    "        location = np.nan\n",
    "            \n",
    "            \n",
    "    return location"
   ]
  },
  {
   "cell_type": "code",
   "execution_count": null,
   "metadata": {},
   "outputs": [],
   "source": [
    "extract_location(soup, 'London')"
   ]
  },
  {
   "cell_type": "code",
   "execution_count": null,
   "metadata": {
    "focus": false,
    "id": "a1af53c9-9090-494f-b82e-cadb60a54909"
   },
   "outputs": [],
   "source": [
    "def extract_salary(r):\n",
    "    salary = ''\n",
    "    \n",
    "    try:\n",
    "        salary = r.find('span', attrs={'class': 'salaryText'}).text\n",
    "    except:\n",
    "        salary = np.nan\n",
    "            \n",
    "            \n",
    "    return salary"
   ]
  },
  {
   "cell_type": "code",
   "execution_count": null,
   "metadata": {},
   "outputs": [],
   "source": [
    "extract_salary(soup)"
   ]
  },
  {
   "cell_type": "markdown",
   "metadata": {
    "focus": false,
    "id": "e8beed7c-3e42-40c0-810f-5f67f8f885a0"
   },
   "source": [
    "### Scrape all required from Indeed.co.uk\n",
    "\n",
    "Requirements\n",
    "- Data-related jobs in the UK"
   ]
  },
  {
   "cell_type": "code",
   "execution_count": null,
   "metadata": {
    "focus": false,
    "id": "a9aa87ec-3575-4a01-a986-eb684f2c47d0"
   },
   "outputs": [],
   "source": [
    "YOUR_CITY = 'London'"
   ]
  },
  {
   "cell_type": "code",
   "execution_count": null,
   "metadata": {
    "focus": false,
    "id": "04b0f9af-540e-402f-8292-81748707c676"
   },
   "outputs": [],
   "source": [
    "# define the url, max results, cities and jobs to search for\n",
    "url = \"https://www.indeed.co.uk/jobs?q={}+%C2%A320%2C000&l={}&start={}\"\n",
    "max_results_per_city = 301\n",
    "\n",
    "# define cities to include\n",
    "cities = [YOUR_CITY, 'Manchester', 'Liverpool', 'Edinburgh', 'Cardiff', 'Belfast', 'Southampton',\n",
    "           'Cambridge', 'Oxford', 'Bath', 'Bristol', 'Exeter', 'Leeds', 'Birmingham', 'Glasgow', 'Sheffield']\n",
    "\n",
    "# define job titles to search for\n",
    "jobs = ['data+scientist', 'data+analyst', 'bi+analyst', 'business+intelligence', 'analytics', 'machine+learning']\n",
    "\n",
    "results = []\n",
    "\n",
    "# iterate through search results for each city and job combination\n",
    "for city in tqdm(cities):\n",
    "    for job in jobs:\n",
    "        for start in range(0, max_results_per_city, 10):\n",
    "            r_ = requests.get(url.format(job, city, start))\n",
    "            bs = BeautifulSoup(r_.text, 'html.parser')\n",
    "            results.append(bs)"
   ]
  },
  {
   "cell_type": "code",
   "execution_count": null,
   "metadata": {},
   "outputs": [],
   "source": [
    "len(results)"
   ]
  },
  {
   "cell_type": "markdown",
   "metadata": {
    "focus": false,
    "id": "20339c09-5032-4e27-91be-286e9b46cd13"
   },
   "source": [
    "#### Use the functions you wrote above to parse out the 4 fields - location, title, company and salary. Create a dataframe from the results with those 4 columns."
   ]
  },
  {
   "cell_type": "code",
   "execution_count": null,
   "metadata": {
    "focus": false,
    "id": "6e259594-1c52-436b-ab9e-527e071941c1"
   },
   "outputs": [],
   "source": [
    "#prepare data frame for storing results\n",
    "job_results = pd.DataFrame(columns=['job', 'company', 'location', 'salary'])\n",
    "\n",
    "# loop through each job scraped previously and extract relevant details.\n",
    "for result in tqdm(results):\n",
    "    \n",
    "        city_searched = result.find('h1', attrs={'id': 'jobsInLocation'}).text.split()[-1]\n",
    "        \n",
    "        for listing in result.find_all('div', attrs={'data-tn-component':'organicJob'}):\n",
    "        \n",
    "            job_data = {'job': extract_job(listing),\n",
    "                        'company': extract_company(listing),\n",
    "                        'location': extract_location(listing, city_searched),\n",
    "                        'salary': extract_salary(listing)}\n",
    "        \n",
    "            job_results = job_results.append(job_data, ignore_index=True)\n"
   ]
  },
  {
   "cell_type": "code",
   "execution_count": null,
   "metadata": {},
   "outputs": [],
   "source": [
    "job_results.shape"
   ]
  },
  {
   "cell_type": "code",
   "execution_count": null,
   "metadata": {},
   "outputs": [],
   "source": [
    "job_results.head()"
   ]
  },
  {
   "cell_type": "code",
   "execution_count": null,
   "metadata": {},
   "outputs": [],
   "source": [
    "job_results.isnull().sum()"
   ]
  },
  {
   "cell_type": "code",
   "execution_count": null,
   "metadata": {},
   "outputs": [],
   "source": [
    "job_results.dtypes"
   ]
  },
  {
   "cell_type": "markdown",
   "metadata": {},
   "source": [
    "Scraping seems to have worked well. There is an obvious issue with missing salary details which I will deal with later. The thing to tackle next is to improve the quality of the data stored in each feature."
   ]
  },
  {
   "cell_type": "markdown",
   "metadata": {},
   "source": [
    "---"
   ]
  },
  {
   "cell_type": "markdown",
   "metadata": {},
   "source": [
    "### Remove un-necessary characters from feature values\n",
    "\n",
    "Specifically, remove:\n",
    "- `\\n` characters\n",
    "- remove whitespace"
   ]
  },
  {
   "cell_type": "code",
   "execution_count": null,
   "metadata": {},
   "outputs": [],
   "source": [
    "# function will remove any newline or whitespace, plus convert empty values to NAN\n",
    "def remove_formatting(df):\n",
    "    for col in df.columns:\n",
    "        df[col] = df[col].apply(lambda x: str(x).replace('\\n', '').strip() if not pd.isnull(x) else np.nan)"
   ]
  },
  {
   "cell_type": "code",
   "execution_count": null,
   "metadata": {},
   "outputs": [],
   "source": [
    "# call function with job_results data frame\n",
    "remove_formatting(job_results)"
   ]
  },
  {
   "cell_type": "code",
   "execution_count": null,
   "metadata": {},
   "outputs": [],
   "source": [
    "job_results.head(10)"
   ]
  },
  {
   "cell_type": "markdown",
   "metadata": {},
   "source": [
    "The data nows looks to be in a better format, the next step is to sort out the location values."
   ]
  },
  {
   "cell_type": "markdown",
   "metadata": {},
   "source": [
    "---"
   ]
  },
  {
   "cell_type": "markdown",
   "metadata": {},
   "source": [
    "### Improve location values\n",
    "\n",
    "Specifically, define locations based on the city searched for. If I don't do this I will end up with a feature with high cardinality which I don't really want as I may end up with a very long list of locations which relate to very few jobs. This will make it harder for me to understand how location relates to salary."
   ]
  },
  {
   "cell_type": "code",
   "execution_count": null,
   "metadata": {},
   "outputs": [],
   "source": [
    "# number of unique locations scraped!\n",
    "job_results.location.nunique()"
   ]
  },
  {
   "cell_type": "code",
   "execution_count": null,
   "metadata": {},
   "outputs": [],
   "source": [
    "# location data looks really mixed, postcode, boroughs, cities, towns, counties, ... \n",
    "# Adding the location search term will make it much easier to make sense of this.\n",
    "job_results.location.unique()"
   ]
  },
  {
   "cell_type": "code",
   "execution_count": null,
   "metadata": {},
   "outputs": [],
   "source": [
    "# function to split location data into a list and return the city location relates to\n",
    "def set_location(s):\n",
    "    return ''.join([city for city in cities if city in s.split()][0])"
   ]
  },
  {
   "cell_type": "code",
   "execution_count": null,
   "metadata": {},
   "outputs": [],
   "source": [
    "job_results['location'] = job_results.location.apply(set_location)"
   ]
  },
  {
   "cell_type": "code",
   "execution_count": null,
   "metadata": {},
   "outputs": [],
   "source": [
    "job_results.head()"
   ]
  },
  {
   "cell_type": "code",
   "execution_count": null,
   "metadata": {},
   "outputs": [],
   "source": [
    "# locations now related to the citites searched for\n",
    "job_results.location.nunique()"
   ]
  },
  {
   "cell_type": "code",
   "execution_count": null,
   "metadata": {},
   "outputs": [],
   "source": [
    "# job data fairly evenly distrubted between locations\n",
    "job_results.location.value_counts(dropna=False)"
   ]
  },
  {
   "cell_type": "code",
   "execution_count": null,
   "metadata": {},
   "outputs": [],
   "source": [
    "job_results.shape"
   ]
  },
  {
   "cell_type": "markdown",
   "metadata": {},
   "source": [
    "---"
   ]
  },
  {
   "cell_type": "markdown",
   "metadata": {},
   "source": [
    "### Remove duplicates from data frame\n",
    "\n",
    "Duplicates are defined as those rows which have the same values for all features."
   ]
  },
  {
   "cell_type": "code",
   "execution_count": null,
   "metadata": {},
   "outputs": [],
   "source": [
    "job_results.drop_duplicates(keep='first', inplace=True)"
   ]
  },
  {
   "cell_type": "code",
   "execution_count": null,
   "metadata": {},
   "outputs": [],
   "source": [
    "job_results.shape"
   ]
  },
  {
   "cell_type": "markdown",
   "metadata": {},
   "source": [
    "---"
   ]
  },
  {
   "cell_type": "markdown",
   "metadata": {},
   "source": [
    "### Filter jobs\n",
    "\n",
    "Looking at the jobs returned by the scraping, it appears a significant proportion relate to jobs not linked to my search terms (or data science). Therefore, I need to filter my results to ensure only relevant jobs are included."
   ]
  },
  {
   "cell_type": "code",
   "execution_count": null,
   "metadata": {},
   "outputs": [],
   "source": [
    "# define list of keywords data jobs will potentially include\n",
    "keywords = ['data ','bi ','analytics','business intelligence','ai','ml ','machine learning',\n",
    "           'deep learning','nlp','insights','artificial intelligence','scientist','natural language processing',\n",
    "           'sql', 'etl ']"
   ]
  },
  {
   "cell_type": "code",
   "execution_count": null,
   "metadata": {},
   "outputs": [],
   "source": [
    "filtered_jobs = job_results.copy()"
   ]
  },
  {
   "cell_type": "code",
   "execution_count": null,
   "metadata": {},
   "outputs": [],
   "source": [
    "# Only keep jobs that include one of the keywords in their title\n",
    "filtered_jobs = filtered_jobs[[any([k in job.lower() for k in keywords]) for job in filtered_jobs.job]].copy()"
   ]
  },
  {
   "cell_type": "code",
   "execution_count": null,
   "metadata": {},
   "outputs": [],
   "source": [
    "# exclude jobs based on certain terms\n",
    "filtered_jobs = filtered_jobs[['paid' not in job.lower() for job in filtered_jobs.job]]\n",
    "filtered_jobs = filtered_jobs[['ppc' not in job.lower() for job in filtered_jobs.job]]\n",
    "filtered_jobs = filtered_jobs[['phd studentship' not in job.lower() for job in filtered_jobs.job]]\n",
    "filtered_jobs = filtered_jobs[['de&s air engineering' not in job.lower() for job in filtered_jobs.job]]\n",
    "filtered_jobs = filtered_jobs[['lecturer' not in job.lower() for job in filtered_jobs.job]]\n",
    "filtered_jobs = filtered_jobs[['dio overseas' not in job.lower() for job in filtered_jobs.job]]\n",
    "filtered_jobs = filtered_jobs[['recruitment consultant' not in job.lower() for job in filtered_jobs.job]]\n",
    "filtered_jobs = filtered_jobs[['postdoctoral' not in job.lower() for job in filtered_jobs.job]]\n",
    "filtered_jobs = filtered_jobs[['professor' not in job.lower() for job in filtered_jobs.job]]"
   ]
  },
  {
   "cell_type": "code",
   "execution_count": null,
   "metadata": {},
   "outputs": [],
   "source": [
    "# exclude certain job titles\n",
    "excluded_jobs = ['Marine Claims Examiner', 'Communications data investigator',\n",
    "'Email Marketing Specialist - Spiceworks','Analytics Liaison Support (UK)','In Team Trainer- FDX',\n",
    "'Solution Sales Specialist - Acorn AI','Data Governance & Quality Lead','Payroll and Training Officer', \n",
    "'Claims Actuary', 'Tekla Detailer', 'Test Issues Analyst (SQL / DEFECT MANAGEMENT/ MS OFFICE)',\n",
    " 'Taiwan eCommerce Executive - THG Ingenuity', 'Commercial Finance Business Partner - Warrington - Retail-',\n",
    " 'Senior Manager, Clinical Affairs EMEA', 'Medical Science Liaison','AML & Sanctions Governance Officer',\n",
    " 'Analytics Support - NHS','ACCA Trainee – Financial Services Audit - Manchester',\n",
    "'Digital Manager (located in Kyiv, Ukraine)','IT Project Manager (Data Strategy)',\n",
    "'Airborne Mission Systems - Software Engineer Sr','CRM Email Developer','Supply Chain Analyst',\n",
    "'L2/HEO Trainee Examiner OR Cambridge and Ipswich', 'Supply Chain Analyst', 'Maintenance Team Leader',\n",
    "'Maintenance Engineer', 'Maintenance Person -The Grange Care Home', 'Buyer / Category Manager – Online Retail'\n",
    "'Lecturer in AI Hardware/ Associate Professor in AI Hardware', 'Retail Field Sales Executive',\n",
    " 'Management Development Trainer', 'Data Migration Developer', 'People Insights and Workforce Planning Lead',\n",
    "'Email Marketing Manager','Head of UK Retail Marketing',\n",
    " 'Data Integration Specialist Edinburgh',\n",
    " 'Data Integration Specialist','Email Marketing Specialist','Supply Chain Manager','Head of Security - Air UK',\n",
    "'Communications/Campaign Manager - Government Covid19 (CM/54)','Supply Chain Manager','Finance Graduate - Data & FP&A',\n",
    "'Head of Campaigns / Head of Marketing','Chairperson of UK Bank','Major Account Director - BI Sales','Claims & Performance Analyst (Insurance)',\n",
    "'Internal Quality Assurer (IQA) Data Analysts L4', 'Program Manager: CRM Data Integration in EpiCX Program',\n",
    "'Maintenance Technician', 'Clinical Vascular Scientist','Route Training Support Manager','Sales Business Analytics Manager',\n",
    "'Earth Observation Scientists','Games / UX Designer for AI Platform', 'Engineering Apprentice Trainer',\n",
    " 'React Native/Web Front End Developer for AI Platform','Postdoctoral Research Scientist',\n",
    "'Junior Broker - Full Training Provided','Big Data Software Sales - PRE IPO','Buyer / Category Manager – Online Retail']"
   ]
  },
  {
   "cell_type": "code",
   "execution_count": null,
   "metadata": {},
   "outputs": [],
   "source": [
    "filtered_jobs = filtered_jobs[[all([e not in j for e in excluded_jobs]) for j in filtered_jobs.job]]"
   ]
  },
  {
   "cell_type": "code",
   "execution_count": null,
   "metadata": {},
   "outputs": [],
   "source": [
    "filtered_jobs.shape"
   ]
  },
  {
   "cell_type": "code",
   "execution_count": null,
   "metadata": {},
   "outputs": [],
   "source": [
    "list(filtered_jobs.job)"
   ]
  },
  {
   "cell_type": "markdown",
   "metadata": {},
   "source": [
    "---"
   ]
  },
  {
   "cell_type": "markdown",
   "metadata": {},
   "source": [
    "### Exclude jobs that do not have salary data.\n",
    "\n",
    "A significant number of jobs do not include salary data. It is impossible to know what their values should be so they will be dropped from the data frame."
   ]
  },
  {
   "cell_type": "code",
   "execution_count": null,
   "metadata": {},
   "outputs": [],
   "source": [
    "filtered_jobs.isnull().sum()"
   ]
  },
  {
   "cell_type": "code",
   "execution_count": null,
   "metadata": {},
   "outputs": [],
   "source": [
    "filtered_jobs.dropna(inplace=True)"
   ]
  },
  {
   "cell_type": "code",
   "execution_count": null,
   "metadata": {},
   "outputs": [],
   "source": [
    "filtered_jobs.isnull().sum()"
   ]
  },
  {
   "cell_type": "code",
   "execution_count": null,
   "metadata": {},
   "outputs": [],
   "source": [
    "filtered_jobs.shape"
   ]
  },
  {
   "cell_type": "markdown",
   "metadata": {},
   "source": [
    "---"
   ]
  },
  {
   "cell_type": "markdown",
   "metadata": {
    "focus": false,
    "id": "ff98ce64-78a7-441f-a675-63464e32c834"
   },
   "source": [
    "Lastly, we need to clean up salary data. \n",
    "\n",
    "1. Only a small number of the scraped results have salary information - only these will be used for modeling.\n",
    "1. Some of the salaries are not yearly but hourly or weekly, these will not be useful to us for now.\n",
    "1. Some of the entries may be duplicated.\n",
    "1. The salaries are given as text and usually with ranges."
   ]
  },
  {
   "cell_type": "markdown",
   "metadata": {
    "focus": false,
    "id": "ff98ce64-78a7-441f-a675-63464e32c834"
   },
   "source": [
    "#### Find the entries with annual salary entries, by filtering the entries without salaries or salaries that are not yearly (filter those that refer to hour or week). Also, remove duplicate entries."
   ]
  },
  {
   "cell_type": "code",
   "execution_count": null,
   "metadata": {
    "focus": false,
    "id": "58533e57-f86b-494a-b841-e7b59c6229c6"
   },
   "outputs": [],
   "source": [
    "# terms to search for which we want to exclude\n",
    "pay_range_filter = ['hour', 'day', 'week']"
   ]
  },
  {
   "cell_type": "code",
   "execution_count": null,
   "metadata": {},
   "outputs": [],
   "source": [
    "# exclude jobs whose salary data includes any of the filter terms above.\n",
    "filtered_jobs = filtered_jobs[[all([k not in sal.lower() \n",
    "                                    for k in pay_range_filter]) \n",
    "                               for sal in filtered_jobs.salary]].copy()"
   ]
  },
  {
   "cell_type": "code",
   "execution_count": null,
   "metadata": {},
   "outputs": [],
   "source": [
    "# only left with jobs that have yearly salary data\n",
    "filtered_jobs.salary.unique()"
   ]
  },
  {
   "cell_type": "markdown",
   "metadata": {
    "focus": false,
    "id": "7d4bc860-b214-4f75-9cd0-b234830b1ec2"
   },
   "source": [
    "#### Write a function that takes a salary string and converts it to a number, averaging a salary range if necessary."
   ]
  },
  {
   "cell_type": "code",
   "execution_count": null,
   "metadata": {
    "focus": false,
    "id": "a0f701e0-80bd-40ba-9101-4535860c0968"
   },
   "outputs": [],
   "source": [
    "# extract digits from a salary and convert to an integer\n",
    "# divide the sum of the salary data by the number of salary values found.\n",
    "def convert_salary(sal):\n",
    "    sal_range = re.findall(r'\\d{1,},\\d{1,}', sal)\n",
    "    \n",
    "    sal_range = list(map(lambda x: int(x.replace(',', '')), sal_range))\n",
    "    \n",
    "    return sum(sal_range) / len(sal_range)"
   ]
  },
  {
   "cell_type": "code",
   "execution_count": null,
   "metadata": {},
   "outputs": [],
   "source": [
    "filtered_jobs['salary'] = filtered_jobs.salary.apply(convert_salary)"
   ]
  },
  {
   "cell_type": "code",
   "execution_count": null,
   "metadata": {},
   "outputs": [],
   "source": [
    "filtered_jobs.info()"
   ]
  },
  {
   "cell_type": "code",
   "execution_count": null,
   "metadata": {},
   "outputs": [],
   "source": [
    "filtered_jobs.head()"
   ]
  },
  {
   "cell_type": "markdown",
   "metadata": {
    "focus": false,
    "id": "43e71edd-210e-42b1-9336-70a931f048af"
   },
   "source": [
    "### Save your results as a CSV"
   ]
  },
  {
   "cell_type": "code",
   "execution_count": null,
   "metadata": {
    "focus": false,
    "id": "783fd153-28ac-47ab-bfca-27e7c1de95b4"
   },
   "outputs": [],
   "source": [
    "filtered_jobs.to_csv('data_science_jobs.csv', index=False)"
   ]
  },
  {
   "cell_type": "markdown",
   "metadata": {
    "focus": false,
    "id": "243e949e-2742-40af-872e-fec475fd306c"
   },
   "source": [
    "### Load in the the data of scraped salaries"
   ]
  },
  {
   "cell_type": "code",
   "execution_count": 26,
   "metadata": {
    "focus": false,
    "id": "588f9845-6143-4bcc-bfd1-85d45b79303d"
   },
   "outputs": [],
   "source": [
    "ds_jobs = pd.read_csv('data_science_jobs.csv')"
   ]
  },
  {
   "cell_type": "code",
   "execution_count": 27,
   "metadata": {},
   "outputs": [
    {
     "data": {
      "text/html": [
       "<div>\n",
       "<style scoped>\n",
       "    .dataframe tbody tr th:only-of-type {\n",
       "        vertical-align: middle;\n",
       "    }\n",
       "\n",
       "    .dataframe tbody tr th {\n",
       "        vertical-align: top;\n",
       "    }\n",
       "\n",
       "    .dataframe thead th {\n",
       "        text-align: right;\n",
       "    }\n",
       "</style>\n",
       "<table border=\"1\" class=\"dataframe\">\n",
       "  <thead>\n",
       "    <tr style=\"text-align: right;\">\n",
       "      <th></th>\n",
       "      <th>job</th>\n",
       "      <th>company</th>\n",
       "      <th>location</th>\n",
       "      <th>salary</th>\n",
       "    </tr>\n",
       "  </thead>\n",
       "  <tbody>\n",
       "    <tr>\n",
       "      <th>0</th>\n",
       "      <td>Data Scientist</td>\n",
       "      <td>Public Health England</td>\n",
       "      <td>London</td>\n",
       "      <td>42567.0</td>\n",
       "    </tr>\n",
       "    <tr>\n",
       "      <th>1</th>\n",
       "      <td>Graduate Data Scientist</td>\n",
       "      <td>UK Government - Office for National Statistics</td>\n",
       "      <td>London</td>\n",
       "      <td>29540.0</td>\n",
       "    </tr>\n",
       "    <tr>\n",
       "      <th>2</th>\n",
       "      <td>Data Scientist – Team Lead</td>\n",
       "      <td>SoulTek</td>\n",
       "      <td>London</td>\n",
       "      <td>85000.0</td>\n",
       "    </tr>\n",
       "    <tr>\n",
       "      <th>3</th>\n",
       "      <td>919-SA-33705099-EXT Data Scientist</td>\n",
       "      <td>Public Health England</td>\n",
       "      <td>London</td>\n",
       "      <td>42567.0</td>\n",
       "    </tr>\n",
       "    <tr>\n",
       "      <th>4</th>\n",
       "      <td>Technical Analyst / Data Scientist</td>\n",
       "      <td>Policy in Practice</td>\n",
       "      <td>London</td>\n",
       "      <td>37500.0</td>\n",
       "    </tr>\n",
       "  </tbody>\n",
       "</table>\n",
       "</div>"
      ],
      "text/plain": [
       "                                  job  \\\n",
       "0                      Data Scientist   \n",
       "1             Graduate Data Scientist   \n",
       "2          Data Scientist – Team Lead   \n",
       "3  919-SA-33705099-EXT Data Scientist   \n",
       "4  Technical Analyst / Data Scientist   \n",
       "\n",
       "                                          company location   salary  \n",
       "0                           Public Health England   London  42567.0  \n",
       "1  UK Government - Office for National Statistics   London  29540.0  \n",
       "2                                         SoulTek   London  85000.0  \n",
       "3                           Public Health England   London  42567.0  \n",
       "4                              Policy in Practice   London  37500.0  "
      ]
     },
     "execution_count": 27,
     "metadata": {},
     "output_type": "execute_result"
    }
   ],
   "source": [
    "ds_jobs.head()"
   ]
  },
  {
   "cell_type": "markdown",
   "metadata": {
    "focus": false,
    "id": "c7631f51-07f2-4c79-a093-3e9bc7849a48"
   },
   "source": [
    "### We want to predict a binary variable - whether the salary was low or high. Compute the median salary and create a new binary variable that is true when the salary is high (above the median).\n",
    "\n",
    "We could also perform Linear Regression (or any regression) to predict the salary value here. Instead, we are going to convert this into a _binary_ classification problem, by predicting two classes, HIGH vs LOW salary.\n",
    "\n",
    "While performing regression may be better, performing classification may help remove some of the noise of the extreme salaries. We don't have to choose the `median` as the splitting point - we could also split on the 75th percentile or any other reasonable breaking point.\n",
    "\n",
    "In fact, the ideal scenario may be to predict many levels of salaries."
   ]
  },
  {
   "cell_type": "code",
   "execution_count": 28,
   "metadata": {
    "focus": false,
    "id": "c20d2498-151c-44c3-a453-3a333c79a0ac"
   },
   "outputs": [
    {
     "data": {
      "text/html": [
       "<div>\n",
       "<style scoped>\n",
       "    .dataframe tbody tr th:only-of-type {\n",
       "        vertical-align: middle;\n",
       "    }\n",
       "\n",
       "    .dataframe tbody tr th {\n",
       "        vertical-align: top;\n",
       "    }\n",
       "\n",
       "    .dataframe thead th {\n",
       "        text-align: right;\n",
       "    }\n",
       "</style>\n",
       "<table border=\"1\" class=\"dataframe\">\n",
       "  <thead>\n",
       "    <tr style=\"text-align: right;\">\n",
       "      <th></th>\n",
       "      <th>count</th>\n",
       "      <th>mean</th>\n",
       "      <th>std</th>\n",
       "      <th>min</th>\n",
       "      <th>25%</th>\n",
       "      <th>50%</th>\n",
       "      <th>75%</th>\n",
       "      <th>max</th>\n",
       "    </tr>\n",
       "  </thead>\n",
       "  <tbody>\n",
       "    <tr>\n",
       "      <th>salary</th>\n",
       "      <td>526.0</td>\n",
       "      <td>50757.25</td>\n",
       "      <td>21384.498871</td>\n",
       "      <td>20000.0</td>\n",
       "      <td>35907.0</td>\n",
       "      <td>47097.75</td>\n",
       "      <td>60000.0</td>\n",
       "      <td>175000.0</td>\n",
       "    </tr>\n",
       "  </tbody>\n",
       "</table>\n",
       "</div>"
      ],
      "text/plain": [
       "        count      mean           std      min      25%       50%      75%  \\\n",
       "salary  526.0  50757.25  21384.498871  20000.0  35907.0  47097.75  60000.0   \n",
       "\n",
       "             max  \n",
       "salary  175000.0  "
      ]
     },
     "execution_count": 28,
     "metadata": {},
     "output_type": "execute_result"
    }
   ],
   "source": [
    "# see how the salary values are distributed.\n",
    "ds_jobs.describe().T"
   ]
  },
  {
   "cell_type": "code",
   "execution_count": 29,
   "metadata": {},
   "outputs": [
    {
     "data": {
      "image/png": "[encoded data removed]",
      "text/plain": [
       "<Figure size 576x396 with 1 Axes>"
      ]
     },
     "metadata": {},
     "output_type": "display_data"
    }
   ],
   "source": [
    "ds_jobs.salary.plot.hist(bins=10, title='Distribution of salaries');"
   ]
  },
  {
   "cell_type": "code",
   "execution_count": 30,
   "metadata": {},
   "outputs": [],
   "source": [
    "# High salary defined as anything >= 75% percentile, Low is everything else\n",
    "ds_jobs['salary_cat'] = ds_jobs.salary.apply(lambda x : 1 if x >= 60000 else 0)"
   ]
  },
  {
   "cell_type": "code",
   "execution_count": 31,
   "metadata": {},
   "outputs": [
    {
     "data": {
      "text/html": [
       "<div>\n",
       "<style scoped>\n",
       "    .dataframe tbody tr th:only-of-type {\n",
       "        vertical-align: middle;\n",
       "    }\n",
       "\n",
       "    .dataframe tbody tr th {\n",
       "        vertical-align: top;\n",
       "    }\n",
       "\n",
       "    .dataframe thead th {\n",
       "        text-align: right;\n",
       "    }\n",
       "</style>\n",
       "<table border=\"1\" class=\"dataframe\">\n",
       "  <thead>\n",
       "    <tr style=\"text-align: right;\">\n",
       "      <th></th>\n",
       "      <th>job</th>\n",
       "      <th>company</th>\n",
       "      <th>location</th>\n",
       "      <th>salary</th>\n",
       "      <th>salary_cat</th>\n",
       "    </tr>\n",
       "  </thead>\n",
       "  <tbody>\n",
       "    <tr>\n",
       "      <th>0</th>\n",
       "      <td>Data Scientist</td>\n",
       "      <td>Public Health England</td>\n",
       "      <td>London</td>\n",
       "      <td>42567.0</td>\n",
       "      <td>0</td>\n",
       "    </tr>\n",
       "    <tr>\n",
       "      <th>1</th>\n",
       "      <td>Graduate Data Scientist</td>\n",
       "      <td>UK Government - Office for National Statistics</td>\n",
       "      <td>London</td>\n",
       "      <td>29540.0</td>\n",
       "      <td>0</td>\n",
       "    </tr>\n",
       "    <tr>\n",
       "      <th>2</th>\n",
       "      <td>Data Scientist – Team Lead</td>\n",
       "      <td>SoulTek</td>\n",
       "      <td>London</td>\n",
       "      <td>85000.0</td>\n",
       "      <td>1</td>\n",
       "    </tr>\n",
       "    <tr>\n",
       "      <th>3</th>\n",
       "      <td>919-SA-33705099-EXT Data Scientist</td>\n",
       "      <td>Public Health England</td>\n",
       "      <td>London</td>\n",
       "      <td>42567.0</td>\n",
       "      <td>0</td>\n",
       "    </tr>\n",
       "    <tr>\n",
       "      <th>4</th>\n",
       "      <td>Technical Analyst / Data Scientist</td>\n",
       "      <td>Policy in Practice</td>\n",
       "      <td>London</td>\n",
       "      <td>37500.0</td>\n",
       "      <td>0</td>\n",
       "    </tr>\n",
       "    <tr>\n",
       "      <th>5</th>\n",
       "      <td>Data Scientist</td>\n",
       "      <td>Bank of England</td>\n",
       "      <td>London</td>\n",
       "      <td>47950.0</td>\n",
       "      <td>0</td>\n",
       "    </tr>\n",
       "    <tr>\n",
       "      <th>6</th>\n",
       "      <td>Data Scientist</td>\n",
       "      <td>MBN Solutions</td>\n",
       "      <td>London</td>\n",
       "      <td>60000.0</td>\n",
       "      <td>1</td>\n",
       "    </tr>\n",
       "    <tr>\n",
       "      <th>7</th>\n",
       "      <td>Data Scientist</td>\n",
       "      <td>Ampersand Consulting</td>\n",
       "      <td>London</td>\n",
       "      <td>65000.0</td>\n",
       "      <td>1</td>\n",
       "    </tr>\n",
       "    <tr>\n",
       "      <th>8</th>\n",
       "      <td>Data Scientist - Head of Business Intelligence</td>\n",
       "      <td>UK Government - Marine Management Organisation</td>\n",
       "      <td>London</td>\n",
       "      <td>55029.0</td>\n",
       "      <td>0</td>\n",
       "    </tr>\n",
       "    <tr>\n",
       "      <th>9</th>\n",
       "      <td>Insights Data Scientist</td>\n",
       "      <td>SoulTek</td>\n",
       "      <td>London</td>\n",
       "      <td>52500.0</td>\n",
       "      <td>0</td>\n",
       "    </tr>\n",
       "  </tbody>\n",
       "</table>\n",
       "</div>"
      ],
      "text/plain": [
       "                                              job  \\\n",
       "0                                  Data Scientist   \n",
       "1                         Graduate Data Scientist   \n",
       "2                      Data Scientist – Team Lead   \n",
       "3              919-SA-33705099-EXT Data Scientist   \n",
       "4              Technical Analyst / Data Scientist   \n",
       "5                                  Data Scientist   \n",
       "6                                  Data Scientist   \n",
       "7                                  Data Scientist   \n",
       "8  Data Scientist - Head of Business Intelligence   \n",
       "9                         Insights Data Scientist   \n",
       "\n",
       "                                          company location   salary  \\\n",
       "0                           Public Health England   London  42567.0   \n",
       "1  UK Government - Office for National Statistics   London  29540.0   \n",
       "2                                         SoulTek   London  85000.0   \n",
       "3                           Public Health England   London  42567.0   \n",
       "4                              Policy in Practice   London  37500.0   \n",
       "5                                 Bank of England   London  47950.0   \n",
       "6                                   MBN Solutions   London  60000.0   \n",
       "7                            Ampersand Consulting   London  65000.0   \n",
       "8  UK Government - Marine Management Organisation   London  55029.0   \n",
       "9                                         SoulTek   London  52500.0   \n",
       "\n",
       "   salary_cat  \n",
       "0           0  \n",
       "1           0  \n",
       "2           1  \n",
       "3           0  \n",
       "4           0  \n",
       "5           0  \n",
       "6           1  \n",
       "7           1  \n",
       "8           0  \n",
       "9           0  "
      ]
     },
     "execution_count": 31,
     "metadata": {},
     "output_type": "execute_result"
    }
   ],
   "source": [
    "ds_jobs.head(10)"
   ]
  },
  {
   "cell_type": "markdown",
   "metadata": {
    "focus": false,
    "id": "a7afb2c0-d41e-4779-8216-91cd8dd4473f"
   },
   "source": [
    "#### Thought experiment: What is the baseline accuracy for this model?"
   ]
  },
  {
   "cell_type": "code",
   "execution_count": 32,
   "metadata": {
    "focus": false,
    "id": "87a17d3d-b7f4-4747-9f75-f9af1d18a174"
   },
   "outputs": [
    {
     "data": {
      "text/plain": [
       "0.7186311787072244"
      ]
     },
     "execution_count": 32,
     "metadata": {},
     "output_type": "execute_result"
    }
   ],
   "source": [
    "# Baseline accuracy\n",
    "ds_jobs.salary_cat.value_counts(normalize=True).max()"
   ]
  },
  {
   "cell_type": "markdown",
   "metadata": {
    "focus": false,
    "id": "4fb29de2-5b98-474c-a4ad-5170b72b9aea"
   },
   "source": [
    "### Create a classification model to predict High/Low salary. \n",
    "\n",
    "\n",
    "- Start by ONLY using the location as a feature.\n",
    "- Use at least two different classifiers you find suitable.\n",
    "- Remember that scaling your features might be necessary.\n",
    "- Display the coefficients/feature importances and write a short summary of what they mean.\n",
    "- Create a few new variables in your dataframe to represent interesting features of a job title (e.g. whether 'Senior' or 'Manager' is in the title).\n",
    "- Incorporate other text features from the title or summary that you believe will predict the salary.\n",
    "- Then build new classification models including also those features. Do they add any value?\n",
    "- Tune your models by testing parameter ranges, regularization strengths, etc. Discuss how that affects your models.\n",
    "- Discuss model coefficients or feature importances as applicable."
   ]
  },
  {
   "cell_type": "markdown",
   "metadata": {},
   "source": [
    "### Create new features based on keywords\n",
    "\n",
    "Create features based on indicators of seniority..."
   ]
  },
  {
   "cell_type": "code",
   "execution_count": 33,
   "metadata": {},
   "outputs": [],
   "source": [
    "# job seniority\n",
    "seniority = ['intern', 'graduate', 'senior', 'head', 'manager', 'chief', \n",
    "              'lead', 'director', 'principal', 'officer']"
   ]
  },
  {
   "cell_type": "code",
   "execution_count": 34,
   "metadata": {},
   "outputs": [],
   "source": [
    "for s in seniority:\n",
    "    ds_jobs[s] = ds_jobs.job.apply(lambda x : 1 if s in x.lower() else 0)"
   ]
  },
  {
   "cell_type": "code",
   "execution_count": 35,
   "metadata": {},
   "outputs": [
    {
     "data": {
      "text/plain": [
       "(526, 15)"
      ]
     },
     "execution_count": 35,
     "metadata": {},
     "output_type": "execute_result"
    }
   ],
   "source": [
    "ds_jobs.shape"
   ]
  },
  {
   "cell_type": "code",
   "execution_count": 36,
   "metadata": {},
   "outputs": [],
   "source": [
    "job_type = {'ml': ['ml', 'machine learning', 'ai', 'artifical itelligence', 'nlp', 'deep learning'],\n",
    "  'science': ['science', 'scientist'], \n",
    "  'research': ['research', 'researcher', 'fellow'], \n",
    "  'engineer': ['engineer', 'developer'], \n",
    "  'bi': ['bi', 'business intelligence'],\n",
    "  'consultant': ['consultant'],\n",
    "  'analyst': ['analyst']}"
   ]
  },
  {
   "cell_type": "code",
   "execution_count": 37,
   "metadata": {},
   "outputs": [],
   "source": [
    "for jt in job_type.items():\n",
    "    ds_jobs[jt[0]] = ds_jobs.job.apply(lambda x: 1 if any([t in x.lower() for t in jt[1]]) else 0)"
   ]
  },
  {
   "cell_type": "code",
   "execution_count": 38,
   "metadata": {},
   "outputs": [
    {
     "data": {
      "text/plain": [
       "(526, 22)"
      ]
     },
     "execution_count": 38,
     "metadata": {},
     "output_type": "execute_result"
    }
   ],
   "source": [
    "ds_jobs.shape"
   ]
  },
  {
   "cell_type": "code",
   "execution_count": 39,
   "metadata": {},
   "outputs": [
    {
     "data": {
      "text/plain": [
       "salary_cat    148\n",
       "intern          2\n",
       "graduate        6\n",
       "senior         68\n",
       "head           11\n",
       "manager        34\n",
       "chief           3\n",
       "lead           26\n",
       "director        3\n",
       "principal       6\n",
       "officer         6\n",
       "ml             91\n",
       "science       123\n",
       "research       33\n",
       "engineer      147\n",
       "bi            131\n",
       "consultant     11\n",
       "analyst       161\n",
       "dtype: int64"
      ]
     },
     "execution_count": 39,
     "metadata": {},
     "output_type": "execute_result"
    }
   ],
   "source": [
    "ds_jobs.iloc[:, 4:].sum(axis=0)"
   ]
  },
  {
   "cell_type": "markdown",
   "metadata": {},
   "source": [
    "---"
   ]
  },
  {
   "cell_type": "markdown",
   "metadata": {},
   "source": [
    "## Model 1: Logisitic Regression (location only)"
   ]
  },
  {
   "cell_type": "code",
   "execution_count": 40,
   "metadata": {},
   "outputs": [],
   "source": [
    "X = ds_jobs.location\n",
    "X = pd.get_dummies(X, columns=['location'], drop_first=True)\n",
    "y = ds_jobs.salary_cat"
   ]
  },
  {
   "cell_type": "code",
   "execution_count": 41,
   "metadata": {},
   "outputs": [
    {
     "data": {
      "text/html": [
       "<div>\n",
       "<style scoped>\n",
       "    .dataframe tbody tr th:only-of-type {\n",
       "        vertical-align: middle;\n",
       "    }\n",
       "\n",
       "    .dataframe tbody tr th {\n",
       "        vertical-align: top;\n",
       "    }\n",
       "\n",
       "    .dataframe thead th {\n",
       "        text-align: right;\n",
       "    }\n",
       "</style>\n",
       "<table border=\"1\" class=\"dataframe\">\n",
       "  <thead>\n",
       "    <tr style=\"text-align: right;\">\n",
       "      <th></th>\n",
       "      <th>Belfast</th>\n",
       "      <th>Birmingham</th>\n",
       "      <th>Bristol</th>\n",
       "      <th>Cambridge</th>\n",
       "      <th>Cardiff</th>\n",
       "      <th>Edinburgh</th>\n",
       "      <th>Exeter</th>\n",
       "      <th>Glasgow</th>\n",
       "      <th>Leeds</th>\n",
       "      <th>Liverpool</th>\n",
       "      <th>London</th>\n",
       "      <th>Manchester</th>\n",
       "      <th>Oxford</th>\n",
       "      <th>Sheffield</th>\n",
       "      <th>Southampton</th>\n",
       "    </tr>\n",
       "  </thead>\n",
       "  <tbody>\n",
       "    <tr>\n",
       "      <th>0</th>\n",
       "      <td>0</td>\n",
       "      <td>0</td>\n",
       "      <td>0</td>\n",
       "      <td>0</td>\n",
       "      <td>0</td>\n",
       "      <td>0</td>\n",
       "      <td>0</td>\n",
       "      <td>0</td>\n",
       "      <td>0</td>\n",
       "      <td>0</td>\n",
       "      <td>1</td>\n",
       "      <td>0</td>\n",
       "      <td>0</td>\n",
       "      <td>0</td>\n",
       "      <td>0</td>\n",
       "    </tr>\n",
       "    <tr>\n",
       "      <th>1</th>\n",
       "      <td>0</td>\n",
       "      <td>0</td>\n",
       "      <td>0</td>\n",
       "      <td>0</td>\n",
       "      <td>0</td>\n",
       "      <td>0</td>\n",
       "      <td>0</td>\n",
       "      <td>0</td>\n",
       "      <td>0</td>\n",
       "      <td>0</td>\n",
       "      <td>1</td>\n",
       "      <td>0</td>\n",
       "      <td>0</td>\n",
       "      <td>0</td>\n",
       "      <td>0</td>\n",
       "    </tr>\n",
       "    <tr>\n",
       "      <th>2</th>\n",
       "      <td>0</td>\n",
       "      <td>0</td>\n",
       "      <td>0</td>\n",
       "      <td>0</td>\n",
       "      <td>0</td>\n",
       "      <td>0</td>\n",
       "      <td>0</td>\n",
       "      <td>0</td>\n",
       "      <td>0</td>\n",
       "      <td>0</td>\n",
       "      <td>1</td>\n",
       "      <td>0</td>\n",
       "      <td>0</td>\n",
       "      <td>0</td>\n",
       "      <td>0</td>\n",
       "    </tr>\n",
       "    <tr>\n",
       "      <th>3</th>\n",
       "      <td>0</td>\n",
       "      <td>0</td>\n",
       "      <td>0</td>\n",
       "      <td>0</td>\n",
       "      <td>0</td>\n",
       "      <td>0</td>\n",
       "      <td>0</td>\n",
       "      <td>0</td>\n",
       "      <td>0</td>\n",
       "      <td>0</td>\n",
       "      <td>1</td>\n",
       "      <td>0</td>\n",
       "      <td>0</td>\n",
       "      <td>0</td>\n",
       "      <td>0</td>\n",
       "    </tr>\n",
       "    <tr>\n",
       "      <th>4</th>\n",
       "      <td>0</td>\n",
       "      <td>0</td>\n",
       "      <td>0</td>\n",
       "      <td>0</td>\n",
       "      <td>0</td>\n",
       "      <td>0</td>\n",
       "      <td>0</td>\n",
       "      <td>0</td>\n",
       "      <td>0</td>\n",
       "      <td>0</td>\n",
       "      <td>1</td>\n",
       "      <td>0</td>\n",
       "      <td>0</td>\n",
       "      <td>0</td>\n",
       "      <td>0</td>\n",
       "    </tr>\n",
       "  </tbody>\n",
       "</table>\n",
       "</div>"
      ],
      "text/plain": [
       "   Belfast  Birmingham  Bristol  Cambridge  Cardiff  Edinburgh  Exeter  \\\n",
       "0        0           0        0          0        0          0       0   \n",
       "1        0           0        0          0        0          0       0   \n",
       "2        0           0        0          0        0          0       0   \n",
       "3        0           0        0          0        0          0       0   \n",
       "4        0           0        0          0        0          0       0   \n",
       "\n",
       "   Glasgow  Leeds  Liverpool  London  Manchester  Oxford  Sheffield  \\\n",
       "0        0      0          0       1           0       0          0   \n",
       "1        0      0          0       1           0       0          0   \n",
       "2        0      0          0       1           0       0          0   \n",
       "3        0      0          0       1           0       0          0   \n",
       "4        0      0          0       1           0       0          0   \n",
       "\n",
       "   Southampton  \n",
       "0            0  \n",
       "1            0  \n",
       "2            0  \n",
       "3            0  \n",
       "4            0  "
      ]
     },
     "execution_count": 41,
     "metadata": {},
     "output_type": "execute_result"
    }
   ],
   "source": [
    "X.head()"
   ]
  },
  {
   "cell_type": "code",
   "execution_count": 42,
   "metadata": {},
   "outputs": [
    {
     "data": {
      "text/plain": [
       "((526, 15), (526,))"
      ]
     },
     "execution_count": 42,
     "metadata": {},
     "output_type": "execute_result"
    }
   ],
   "source": [
    "X.shape, y.shape"
   ]
  },
  {
   "cell_type": "code",
   "execution_count": 77,
   "metadata": {},
   "outputs": [],
   "source": [
    "X_train, X_test, y_train, y_test = train_test_split(X, y, stratify=y, test_size=0.3, random_state=4)"
   ]
  },
  {
   "cell_type": "code",
   "execution_count": 78,
   "metadata": {},
   "outputs": [
    {
     "data": {
      "text/plain": [
       "((368, 32), (158, 32), (368,), (158,))"
      ]
     },
     "execution_count": 78,
     "metadata": {},
     "output_type": "execute_result"
    }
   ],
   "source": [
    "X_train.shape, X_test.shape, y_train.shape, y_test.shape"
   ]
  },
  {
   "cell_type": "code",
   "execution_count": 45,
   "metadata": {},
   "outputs": [
    {
     "name": "stdout",
     "output_type": "stream",
     "text": [
      "Fitting 5 folds for each of 1000 candidates, totalling 5000 fits\n"
     ]
    },
    {
     "name": "stderr",
     "output_type": "stream",
     "text": [
      "[Parallel(n_jobs=2)]: Using backend LokyBackend with 2 concurrent workers.\n",
      "[Parallel(n_jobs=2)]: Done 174 tasks      | elapsed:    5.5s\n",
      "[Parallel(n_jobs=2)]: Done 2094 tasks      | elapsed:   18.4s\n",
      "[Parallel(n_jobs=2)]: Done 5000 out of 5000 | elapsed:   37.3s finished\n"
     ]
    },
    {
     "data": {
      "text/plain": [
       "GridSearchCV(cv=5, estimator=LogisticRegression(solver='liblinear'), n_jobs=2,\n",
       "             param_grid={'C': array([1.00000000e-03, 1.02807322e-03, 1.05693455e-03, 1.08660611e-03,\n",
       "       1.11711065e-03, 1.14847155e-03, 1.18071285e-03, 1.21385926e-03,\n",
       "       1.24793621e-03, 1.28296980e-03, 1.31898690e-03, 1.35601511e-03,\n",
       "       1.39408283e-03, 1.43321923e-03, 1.47345431e-03, 1.51481892e-03,\n",
       "       1.55734477e...\n",
       "       5.90939590e+02, 6.07529169e+02, 6.24584471e+02, 6.42118571e+02,\n",
       "       6.60144909e+02, 6.78677305e+02, 6.97729965e+02, 7.17317494e+02,\n",
       "       7.37454909e+02, 7.58157646e+02, 7.79441575e+02, 8.01323013e+02,\n",
       "       8.23818733e+02, 8.46945981e+02, 8.70722485e+02, 8.95166472e+02,\n",
       "       9.20296681e+02, 9.46132376e+02, 9.72693362e+02, 1.00000000e+03]),\n",
       "                         'penalty': ['l1', 'l2']},\n",
       "             return_train_score=True, scoring='accuracy', verbose=1)"
      ]
     },
     "execution_count": 45,
     "metadata": {},
     "output_type": "execute_result"
    }
   ],
   "source": [
    "model = LogisticRegression(solver='liblinear')\n",
    "\n",
    "params = {'C': np.logspace(-3, 3, 500),\n",
    "         'penalty': ['l1', 'l2']}\n",
    "\n",
    "gs = GridSearchCV(model, params, scoring='accuracy', verbose=1, cv=5, n_jobs=2, return_train_score=True)\n",
    "\n",
    "gs.fit(X_train, y_train)"
   ]
  },
  {
   "cell_type": "code",
   "execution_count": 46,
   "metadata": {},
   "outputs": [
    {
     "name": "stdout",
     "output_type": "stream",
     "text": [
      "Best Parameters:\n",
      "{'C': 0.4066478091781858, 'penalty': 'l1'}\n",
      "Best estimator C:\n",
      "0.4066478091781858\n",
      "Best estimator mean cross validated training score:\n",
      "0.7380952380952381\n",
      "Best estimator score on the full training set:\n",
      "0.7380952380952381\n",
      "Best estimator score on the test set:\n",
      "0.7264150943396226\n"
     ]
    }
   ],
   "source": [
    "print('Best Parameters:')\n",
    "print(gs.best_params_)\n",
    "print('Best estimator C:')\n",
    "print(gs.best_estimator_.C)\n",
    "print('Best estimator mean cross validated training score:')\n",
    "print(gs.best_score_)\n",
    "print('Best estimator score on the full training set:')\n",
    "print(gs.score(X_train, y_train))\n",
    "print('Best estimator score on the test set:')\n",
    "print(gs.score(X_test, y_test))"
   ]
  },
  {
   "cell_type": "code",
   "execution_count": 47,
   "metadata": {},
   "outputs": [],
   "source": [
    "gs_best = gs.best_estimator_"
   ]
  },
  {
   "cell_type": "code",
   "execution_count": 48,
   "metadata": {},
   "outputs": [],
   "source": [
    "# turn into a function to create coefficients\n",
    "coef_df = pd.DataFrame({'feature': X.columns,\n",
    "                        'coef': gs_best.coef_[0],\n",
    "                        'abs_coef': np.abs(gs_best.coef_[0])})"
   ]
  },
  {
   "cell_type": "code",
   "execution_count": 49,
   "metadata": {},
   "outputs": [
    {
     "data": {
      "image/png": "[encoded data removed]",
      "text/plain": [
       "<Figure size 576x396 with 1 Axes>"
      ]
     },
     "metadata": {},
     "output_type": "display_data"
    }
   ],
   "source": [
    "coef_df.sort_values(by='coef').plot(kind='barh', x='feature', y='coef', legend=False);"
   ]
  },
  {
   "cell_type": "code",
   "execution_count": 50,
   "metadata": {},
   "outputs": [
    {
     "data": {
      "text/plain": [
       "0.7380952380952381"
      ]
     },
     "execution_count": 50,
     "metadata": {},
     "output_type": "execute_result"
    }
   ],
   "source": [
    "cross_val_score(gs.best_estimator_, X_train, y_train, cv=5).mean()"
   ]
  },
  {
   "cell_type": "code",
   "execution_count": 51,
   "metadata": {},
   "outputs": [],
   "source": [
    "predictions_train = gs.predict(X_train)\n",
    "predictions_test = gs.predict(X_test)"
   ]
  },
  {
   "cell_type": "code",
   "execution_count": 52,
   "metadata": {},
   "outputs": [
    {
     "data": {
      "text/plain": [
       "array([0, 1])"
      ]
     },
     "execution_count": 52,
     "metadata": {},
     "output_type": "execute_result"
    }
   ],
   "source": [
    "gs.classes_"
   ]
  },
  {
   "cell_type": "code",
   "execution_count": 53,
   "metadata": {},
   "outputs": [
    {
     "data": {
      "image/png": "[encoded data removed]",
      "text/plain": [
       "<Figure size 432x432 with 2 Axes>"
      ]
     },
     "metadata": {},
     "output_type": "display_data"
    }
   ],
   "source": [
    "skplt.metrics.plot_confusion_matrix(y_train, predictions_train, labels=[0,1], figsize=(6, 6))\n",
    "plt.show()"
   ]
  },
  {
   "cell_type": "markdown",
   "metadata": {},
   "source": [
    "---"
   ]
  },
  {
   "cell_type": "markdown",
   "metadata": {},
   "source": [
    "## Model(s) 2: LR, Ada, RF, Bag (location, seniority, type)"
   ]
  },
  {
   "cell_type": "code",
   "execution_count": 3,
   "metadata": {},
   "outputs": [],
   "source": [
    "ds_jobs = pd.read_csv('data_science_jobs.csv')\n",
    "\n",
    "# job seniority\n",
    "seniority = ['intern', 'graduate', 'senior', 'head', 'manager', 'chief', \n",
    "              'lead', 'director', 'principal', 'officer']\n",
    "\n",
    "\n",
    "job_type = {'ml': ['ml', 'machine learning', 'ai', 'artifical itelligence', 'nlp', 'deep learning'],\n",
    "  'science': ['science', 'scientist'], \n",
    "  'research': ['research', 'researcher', 'fellow'], \n",
    "  'engineer': ['engineer', 'developer'], \n",
    "  'bi': ['bi', 'business intelligence'],\n",
    "  'consultant': ['consultant'],\n",
    "  'analyst': ['analyst']}"
   ]
  },
  {
   "cell_type": "code",
   "execution_count": 4,
   "metadata": {},
   "outputs": [],
   "source": [
    "ds_jobs['salary_cat'] = ds_jobs.salary.apply(lambda x : 1 if x >= 60000 else 0)"
   ]
  },
  {
   "cell_type": "code",
   "execution_count": 5,
   "metadata": {},
   "outputs": [],
   "source": [
    "X = ds_jobs.copy()\n",
    "y = X.pop('salary_cat')"
   ]
  },
  {
   "cell_type": "code",
   "execution_count": 6,
   "metadata": {},
   "outputs": [],
   "source": [
    "from sklearn.base import BaseEstimator, TransformerMixin\n",
    "\n",
    "class JobPreprocessor(BaseEstimator, TransformerMixin):\n",
    "    \n",
    "    def __init__(self, dummy_cols, job_levels, job_types):\n",
    "        \n",
    "        self.cols_to_drop = cols_to_drop\n",
    "        self.dummy_cols = dummy_cols\n",
    "        self.job_levels = job_levels\n",
    "        self.job_types = job_types\n",
    "        \n",
    "        \n",
    "    def _drop_cols(self, X):\n",
    "        X.drop(self.cols_to_drop, axis=1, inplace=True)\n",
    "        return X\n",
    "    \n",
    "    \n",
    "    def _dummify_cols(self, X):\n",
    "        return pd.get_dummies(X, columns=self.dummy_cols, drop_first=True)\n",
    "    \n",
    "    \n",
    "    def _create_seniority_cols(self, X):\n",
    "        \n",
    "        df = X.copy()\n",
    "        \n",
    "        for s in self.job_levels:\n",
    "            df[s] = df.job.apply(lambda a : 1 if s in a.lower() else 0)\n",
    "            \n",
    "        return df\n",
    "    \n",
    "    \n",
    "    def _create_type_cols(self, X):\n",
    "        \n",
    "        df = X.copy()\n",
    "        \n",
    "        for jt in self.job_types.items():\n",
    "            df[jt[0]] = df.job.apply(lambda a: 1 if any([t in a.lower() for t in jt[1]]) else 0)\n",
    "\n",
    "        return df\n",
    "    \n",
    "    \n",
    "    def transform(self, X, *args):\n",
    "        \n",
    "        X = self._create_seniority_cols(X)\n",
    "        X = self._create_type_cols(X)\n",
    "        X = self._dummify_cols(X)\n",
    "        X = self._drop_cols(X)\n",
    "\n",
    "        return X\n",
    "        \n",
    "    \n",
    "    def fit(self, X, *args):\n",
    "        return self\n",
    "        "
   ]
  },
  {
   "cell_type": "code",
   "execution_count": 7,
   "metadata": {},
   "outputs": [],
   "source": [
    "cols_to_drop = ['job', 'company', 'salary'] \n",
    "cols_to_dummify = ['location']\n",
    "cities = list(X.location.unique())\n",
    "\n",
    "features = JobPreprocessor(cols_to_dummify, seniority, job_type) # seniority & job_type from above"
   ]
  },
  {
   "cell_type": "code",
   "execution_count": 8,
   "metadata": {},
   "outputs": [],
   "source": [
    "X = features.fit_transform(X)"
   ]
  },
  {
   "cell_type": "code",
   "execution_count": 9,
   "metadata": {},
   "outputs": [
    {
     "data": {
      "text/plain": [
       "((526, 32), (526,))"
      ]
     },
     "execution_count": 9,
     "metadata": {},
     "output_type": "execute_result"
    }
   ],
   "source": [
    "X.shape, y.shape"
   ]
  },
  {
   "cell_type": "code",
   "execution_count": 10,
   "metadata": {},
   "outputs": [],
   "source": [
    "X_train, X_test, y_train, y_test = train_test_split(X, y, stratify=y, test_size=0.3, random_state=4)"
   ]
  },
  {
   "cell_type": "code",
   "execution_count": 11,
   "metadata": {},
   "outputs": [
    {
     "data": {
      "text/plain": [
       "((368, 32), (158, 32), (368,), (158,))"
      ]
     },
     "execution_count": 11,
     "metadata": {},
     "output_type": "execute_result"
    }
   ],
   "source": [
    "X_train.shape, X_test.shape, y_train.shape, y_test.shape"
   ]
  },
  {
   "cell_type": "markdown",
   "metadata": {},
   "source": [
    "---"
   ]
  },
  {
   "cell_type": "markdown",
   "metadata": {},
   "source": [
    "#### Logistic Regression"
   ]
  },
  {
   "cell_type": "code",
   "execution_count": 207,
   "metadata": {},
   "outputs": [
    {
     "name": "stdout",
     "output_type": "stream",
     "text": [
      "Fitting 5 folds for each of 200 candidates, totalling 1000 fits\n"
     ]
    },
    {
     "name": "stderr",
     "output_type": "stream",
     "text": [
      "[Parallel(n_jobs=2)]: Using backend LokyBackend with 2 concurrent workers.\n",
      "[Parallel(n_jobs=2)]: Done 540 tasks      | elapsed:    2.7s\n",
      "[Parallel(n_jobs=2)]: Done 1000 out of 1000 | elapsed:    5.2s finished\n"
     ]
    },
    {
     "data": {
      "text/plain": [
       "GridSearchCV(cv=5, estimator=LogisticRegression(solver='liblinear'), n_jobs=2,\n",
       "             param_grid={'C': array([1.00000000e-03, 1.14975700e-03, 1.32194115e-03, 1.51991108e-03,\n",
       "       1.74752840e-03, 2.00923300e-03, 2.31012970e-03, 2.65608778e-03,\n",
       "       3.05385551e-03, 3.51119173e-03, 4.03701726e-03, 4.64158883e-03,\n",
       "       5.33669923e-03, 6.13590727e-03, 7.05480231e-03, 8.11130831e-03,\n",
       "       9.32603347e...\n",
       "       7.05480231e+01, 8.11130831e+01, 9.32603347e+01, 1.07226722e+02,\n",
       "       1.23284674e+02, 1.41747416e+02, 1.62975083e+02, 1.87381742e+02,\n",
       "       2.15443469e+02, 2.47707636e+02, 2.84803587e+02, 3.27454916e+02,\n",
       "       3.76493581e+02, 4.32876128e+02, 4.97702356e+02, 5.72236766e+02,\n",
       "       6.57933225e+02, 7.56463328e+02, 8.69749003e+02, 1.00000000e+03]),\n",
       "                         'penalty': ['l1', 'l2']},\n",
       "             return_train_score=True, scoring='accuracy', verbose=1)"
      ]
     },
     "execution_count": 207,
     "metadata": {},
     "output_type": "execute_result"
    }
   ],
   "source": [
    "lr_params = {'C': np.logspace(-3, 3, 100),\n",
    "             'penalty': ['l1', 'l2']}\n",
    "\n",
    "lr_model = LogisticRegression(solver='liblinear')\n",
    "\n",
    "gs = GridSearchCV(lr_model, lr_params, verbose=1, cv=5, scoring='accuracy', n_jobs=2, return_train_score=True)\n",
    "\n",
    "gs.fit(X_train, y_train)"
   ]
  },
  {
   "cell_type": "code",
   "execution_count": 208,
   "metadata": {},
   "outputs": [
    {
     "name": "stdout",
     "output_type": "stream",
     "text": [
      "Best Parameters:\n",
      "{'C': 0.4641588833612782, 'penalty': 'l1'}\n",
      "Best estimator C:\n",
      "0.4641588833612782\n",
      "Best estimator mean cross validated training score:\n",
      "0.8177341725286931\n",
      "Best estimator score on the full training set:\n",
      "0.8233695652173914\n",
      "Best estimator score on the test set:\n",
      "0.7974683544303798\n"
     ]
    }
   ],
   "source": [
    "print('Best Parameters:')\n",
    "print(gs.best_params_)\n",
    "print('Best estimator C:')\n",
    "print(gs.best_estimator_.C)\n",
    "print('Best estimator mean cross validated training score:')\n",
    "print(gs.best_score_)\n",
    "print('Best estimator score on the full training set:')\n",
    "print(gs.score(X_train, y_train))\n",
    "print('Best estimator score on the test set:')\n",
    "print(gs.score(X_test, y_test))"
   ]
  },
  {
   "cell_type": "code",
   "execution_count": 209,
   "metadata": {},
   "outputs": [],
   "source": [
    "lr_model = gs.best_estimator_\n",
    "\n",
    "# turn into a function to create coefficients\n",
    "coef_df = pd.DataFrame({'feature': X.columns,\n",
    "                        'coef': lr_model.coef_[0],\n",
    "                        'abs_coef': np.abs(lr_model.coef_[0])})"
   ]
  },
  {
   "cell_type": "code",
   "execution_count": 210,
   "metadata": {},
   "outputs": [
    {
     "data": {
      "image/png": "[encoded data removed]",
      "text/plain": [
       "<Figure size 576x576 with 1 Axes>"
      ]
     },
     "metadata": {},
     "output_type": "display_data"
    }
   ],
   "source": [
    "coef_df.sort_values(by='coef').plot(kind='barh', x='feature', y='coef', legend=False, figsize=(8, 8));"
   ]
  },
  {
   "cell_type": "code",
   "execution_count": 211,
   "metadata": {},
   "outputs": [],
   "source": [
    "predictions_lr = lr_model.predict(X_train)"
   ]
  },
  {
   "cell_type": "code",
   "execution_count": 212,
   "metadata": {},
   "outputs": [
    {
     "data": {
      "image/png": "[encoded data removed]",
      "text/plain": [
       "<Figure size 432x432 with 2 Axes>"
      ]
     },
     "metadata": {},
     "output_type": "display_data"
    }
   ],
   "source": [
    "skplt.metrics.plot_confusion_matrix(y_train, predictions_lr, labels=[0,1], figsize=(6, 6))\n",
    "plt.show()"
   ]
  },
  {
   "cell_type": "code",
   "execution_count": 213,
   "metadata": {},
   "outputs": [
    {
     "name": "stdout",
     "output_type": "stream",
     "text": [
      "              precision    recall  f1-score   support\n",
      "\n",
      "           0       0.86      0.90      0.88       264\n",
      "           1       0.71      0.63      0.67       104\n",
      "\n",
      "    accuracy                           0.82       368\n",
      "   macro avg       0.79      0.77      0.77       368\n",
      "weighted avg       0.82      0.82      0.82       368\n",
      "\n"
     ]
    }
   ],
   "source": [
    "print(classification_report(y_train, predictions_lr, labels=lr_model.classes_))"
   ]
  },
  {
   "cell_type": "markdown",
   "metadata": {},
   "source": [
    "Logisitic regression produces a fairly consistent model, with CV, Train and Test scores all being very close to each other.\n",
    "\n",
    "The strongest predictors for High salaries were locations London and Cambridge, as well as jobs with senior, ml and science in the title. The strongest predictors for Low salaries were the words 'analyst' and 'bi' appearing in the title. These results don't suprise me as those predictors which enhance a prediction being part of the High salary class make intuituve sense. The keywords ('bi, 'analyst') which diminish the chance of being in the High salary class, and enhance the chance of being Low salary, were note so obvious but do make sense. Specifically, business intelligence and analyst roles could be thought of as being more junior roles than others included as predictors, so it would make sense that lower salary jobs relate to those descriptions.\n",
    "\n",
    "Finally, the confusion amd classification reports show that that model is not as good as predicting high salary jobs as low salary jobs. In particular it classified only 63% of high-paying jobs correctly (recall for class 1), whereas 90% of low salary jobs were classified correctly (recall score for 0)."
   ]
  },
  {
   "cell_type": "code",
   "execution_count": 214,
   "metadata": {},
   "outputs": [],
   "source": [
    "X_train_copy = X_train.copy()"
   ]
  },
  {
   "cell_type": "code",
   "execution_count": 215,
   "metadata": {},
   "outputs": [],
   "source": [
    "X_train_copy['salary_cat'] = y_train"
   ]
  },
  {
   "cell_type": "code",
   "execution_count": 216,
   "metadata": {},
   "outputs": [
    {
     "data": {
      "text/plain": [
       "salary_cat              1.000000\n",
       "location_London         0.351543\n",
       "science                 0.264810\n",
       "location_Cambridge      0.222228\n",
       "ml                      0.178512\n",
       "head                    0.154928\n",
       "senior                  0.140719\n",
       "lead                    0.114785\n",
       "chief                   0.083167\n",
       "consultant              0.050612\n",
       "manager                 0.046403\n",
       "engineer                0.031462\n",
       "research                0.001979\n",
       "location_Edinburgh      0.000960\n",
       "location_Belfast       -0.007592\n",
       "location_Glasgow       -0.021532\n",
       "intern                 -0.032763\n",
       "director               -0.032763\n",
       "graduate               -0.033151\n",
       "location_Exeter        -0.046397\n",
       "principal              -0.046397\n",
       "location_Cardiff       -0.065795\n",
       "location_Sheffield     -0.065795\n",
       "officer                -0.073662\n",
       "location_Oxford        -0.092456\n",
       "location_Southampton   -0.099378\n",
       "location_Bristol       -0.107355\n",
       "location_Liverpool     -0.110173\n",
       "location_Manchester    -0.121482\n",
       "location_Birmingham    -0.132811\n",
       "location_Leeds         -0.153466\n",
       "bi                     -0.199460\n",
       "analyst                -0.231525\n",
       "Name: salary_cat, dtype: float64"
      ]
     },
     "execution_count": 216,
     "metadata": {},
     "output_type": "execute_result"
    }
   ],
   "source": [
    "X_train_copy.corr().iloc[32].sort_values(ascending=False)"
   ]
  },
  {
   "cell_type": "markdown",
   "metadata": {},
   "source": [
    "---"
   ]
  },
  {
   "cell_type": "markdown",
   "metadata": {},
   "source": [
    "#### Random Forest"
   ]
  },
  {
   "cell_type": "code",
   "execution_count": 217,
   "metadata": {},
   "outputs": [],
   "source": [
    "from sklearn.ensemble import RandomForestClassifier"
   ]
  },
  {
   "cell_type": "code",
   "execution_count": 218,
   "metadata": {},
   "outputs": [
    {
     "name": "stdout",
     "output_type": "stream",
     "text": [
      "Fitting 5 folds for each of 720 candidates, totalling 3600 fits\n"
     ]
    },
    {
     "name": "stderr",
     "output_type": "stream",
     "text": [
      "[Parallel(n_jobs=2)]: Using backend LokyBackend with 2 concurrent workers.\n",
      "[Parallel(n_jobs=2)]: Done  46 tasks      | elapsed:    9.7s\n",
      "[Parallel(n_jobs=2)]: Done 196 tasks      | elapsed:   43.3s\n",
      "[Parallel(n_jobs=2)]: Done 446 tasks      | elapsed:  1.6min\n",
      "[Parallel(n_jobs=2)]: Done 796 tasks      | elapsed:  2.8min\n",
      "[Parallel(n_jobs=2)]: Done 1246 tasks      | elapsed:  4.4min\n",
      "[Parallel(n_jobs=2)]: Done 1796 tasks      | elapsed:  6.3min\n",
      "[Parallel(n_jobs=2)]: Done 2446 tasks      | elapsed:  8.7min\n",
      "[Parallel(n_jobs=2)]: Done 3196 tasks      | elapsed: 11.6min\n",
      "[Parallel(n_jobs=2)]: Done 3600 out of 3600 | elapsed: 13.2min finished\n"
     ]
    },
    {
     "data": {
      "text/plain": [
       "GridSearchCV(cv=5, estimator=RandomForestClassifier(n_jobs=2, random_state=1),\n",
       "             n_jobs=2,\n",
       "             param_grid={'bootstrap': [False, True], 'max_depth': [3, 7, 9, 11],\n",
       "                         'min_samples_leaf': [5, 7, 10],\n",
       "                         'n_estimators': array([ 70,  74,  78,  83,  87,  92,  96, 101, 105, 110, 114, 119, 123,\n",
       "       128, 132, 137, 141, 146, 150, 155, 159, 164, 168, 173, 177, 182,\n",
       "       186, 191, 195, 200])},\n",
       "             return_train_score=True, scoring='accuracy', verbose=1)"
      ]
     },
     "execution_count": 218,
     "metadata": {},
     "output_type": "execute_result"
    }
   ],
   "source": [
    "rfc = RandomForestClassifier(n_jobs=2, random_state=1)\n",
    "\n",
    "params = {'n_estimators': np.linspace(70, 200, 30).astype(int),\n",
    "          'max_depth': [3, 7, 9, 11], \n",
    "          'min_samples_leaf': [ 5, 7, 10],\n",
    "          'bootstrap': [False, True]}\n",
    "\n",
    "gs_rfc = GridSearchCV(rfc, params, verbose=1, cv=5, n_jobs=2,\n",
    "                     return_train_score=True, scoring='accuracy')\n",
    "\n",
    "gs_rfc.fit(X_train, y_train)"
   ]
  },
  {
   "cell_type": "code",
   "execution_count": 219,
   "metadata": {},
   "outputs": [
    {
     "name": "stdout",
     "output_type": "stream",
     "text": [
      "Best Parameters:\n",
      "{'bootstrap': False, 'max_depth': 9, 'min_samples_leaf': 5, 'n_estimators': 191}\n",
      "Best estimator mean cross validated training score:\n",
      "0.7826730840429471\n",
      "Best estimator score on the full training set:\n",
      "0.8260869565217391\n",
      "Best estimator score on the test set:\n",
      "0.7911392405063291\n"
     ]
    }
   ],
   "source": [
    "print('Best Parameters:')\n",
    "print(gs_rfc.best_params_)\n",
    "print('Best estimator mean cross validated training score:')\n",
    "print(gs_rfc.best_score_)\n",
    "print('Best estimator score on the full training set:')\n",
    "print(gs_rfc.score(X_train, y_train))\n",
    "print('Best estimator score on the test set:')\n",
    "print(gs_rfc.score(X_test, y_test))"
   ]
  },
  {
   "cell_type": "code",
   "execution_count": 220,
   "metadata": {},
   "outputs": [
    {
     "data": {
      "text/html": [
       "<div>\n",
       "<style scoped>\n",
       "    .dataframe tbody tr th:only-of-type {\n",
       "        vertical-align: middle;\n",
       "    }\n",
       "\n",
       "    .dataframe tbody tr th {\n",
       "        vertical-align: top;\n",
       "    }\n",
       "\n",
       "    .dataframe thead th {\n",
       "        text-align: right;\n",
       "    }\n",
       "</style>\n",
       "<table border=\"1\" class=\"dataframe\">\n",
       "  <thead>\n",
       "    <tr style=\"text-align: right;\">\n",
       "      <th></th>\n",
       "      <th>feature</th>\n",
       "      <th>importance</th>\n",
       "    </tr>\n",
       "  </thead>\n",
       "  <tbody>\n",
       "    <tr>\n",
       "      <th>27</th>\n",
       "      <td>location_London</td>\n",
       "      <td>0.303989</td>\n",
       "    </tr>\n",
       "    <tr>\n",
       "      <th>11</th>\n",
       "      <td>science</td>\n",
       "      <td>0.130526</td>\n",
       "    </tr>\n",
       "    <tr>\n",
       "      <th>20</th>\n",
       "      <td>location_Cambridge</td>\n",
       "      <td>0.118703</td>\n",
       "    </tr>\n",
       "    <tr>\n",
       "      <th>16</th>\n",
       "      <td>analyst</td>\n",
       "      <td>0.106975</td>\n",
       "    </tr>\n",
       "    <tr>\n",
       "      <th>14</th>\n",
       "      <td>bi</td>\n",
       "      <td>0.077222</td>\n",
       "    </tr>\n",
       "    <tr>\n",
       "      <th>10</th>\n",
       "      <td>ml</td>\n",
       "      <td>0.068663</td>\n",
       "    </tr>\n",
       "    <tr>\n",
       "      <th>2</th>\n",
       "      <td>senior</td>\n",
       "      <td>0.053077</td>\n",
       "    </tr>\n",
       "    <tr>\n",
       "      <th>3</th>\n",
       "      <td>head</td>\n",
       "      <td>0.022904</td>\n",
       "    </tr>\n",
       "    <tr>\n",
       "      <th>25</th>\n",
       "      <td>location_Leeds</td>\n",
       "      <td>0.019397</td>\n",
       "    </tr>\n",
       "    <tr>\n",
       "      <th>13</th>\n",
       "      <td>engineer</td>\n",
       "      <td>0.019198</td>\n",
       "    </tr>\n",
       "  </tbody>\n",
       "</table>\n",
       "</div>"
      ],
      "text/plain": [
       "               feature  importance\n",
       "27     location_London    0.303989\n",
       "11             science    0.130526\n",
       "20  location_Cambridge    0.118703\n",
       "16             analyst    0.106975\n",
       "14                  bi    0.077222\n",
       "10                  ml    0.068663\n",
       "2               senior    0.053077\n",
       "3                 head    0.022904\n",
       "25      location_Leeds    0.019397\n",
       "13            engineer    0.019198"
      ]
     },
     "execution_count": 220,
     "metadata": {},
     "output_type": "execute_result"
    }
   ],
   "source": [
    "fi = pd.DataFrame({\n",
    "    'feature': X_train.columns,\n",
    "    'importance': gs_rfc.best_estimator_.feature_importances_\n",
    "})\n",
    "\n",
    "fi.sort_values('importance', ascending=False, inplace=True)\n",
    "fi[:10]"
   ]
  },
  {
   "cell_type": "code",
   "execution_count": 221,
   "metadata": {},
   "outputs": [],
   "source": [
    "rfc_predict = gs_rfc.predict(X_train)"
   ]
  },
  {
   "cell_type": "code",
   "execution_count": 222,
   "metadata": {},
   "outputs": [
    {
     "data": {
      "image/png": "[encoded data removed]",
      "text/plain": [
       "<Figure size 432x432 with 2 Axes>"
      ]
     },
     "metadata": {},
     "output_type": "display_data"
    }
   ],
   "source": [
    "skplt.metrics.plot_confusion_matrix(y_train, rfc_predict, labels=[0,1], figsize=(6, 6))\n",
    "plt.show()"
   ]
  },
  {
   "cell_type": "code",
   "execution_count": 223,
   "metadata": {},
   "outputs": [
    {
     "name": "stdout",
     "output_type": "stream",
     "text": [
      "              precision    recall  f1-score   support\n",
      "\n",
      "           0       0.86      0.91      0.88       264\n",
      "           1       0.73      0.62      0.67       104\n",
      "\n",
      "    accuracy                           0.83       368\n",
      "   macro avg       0.79      0.76      0.77       368\n",
      "weighted avg       0.82      0.83      0.82       368\n",
      "\n"
     ]
    }
   ],
   "source": [
    "print(classification_report(y_train, rfc_predict, labels=gs_rfc.classes_))"
   ]
  },
  {
   "cell_type": "markdown",
   "metadata": {},
   "source": [
    "The results achieved with a random forest were similar to logisitic regression. It is pleasing to see the the accuracy results were consistent across the CV, train and test scores. I don't think the optimal model chosen is that suprising. It liked having a signficant number of trees in the forest, it preferred to have the min number of samples as possibles for the leaf nodes which would impact on the max depth score as a result. Finally, it preferred to not replace samples when choosing data to use. The feature importance scores also seem to make sense as they are the features that have the largest correlations with salary (and match the coefficients from logisitic regression)\n",
    "\n",
    "The confusion and classification reports tell a similar story to logisitic regression. The Precision score for class 1 (high salary) improved slightly when compared to logisitic regression. This is due to less low salary jobs being classifed as high salary.  However, the Recall score for high salary decreased due to more high salary jobs being classified as low salary."
   ]
  },
  {
   "cell_type": "markdown",
   "metadata": {},
   "source": [
    "---"
   ]
  },
  {
   "cell_type": "markdown",
   "metadata": {},
   "source": [
    "#### AdaBoost"
   ]
  },
  {
   "cell_type": "code",
   "execution_count": 224,
   "metadata": {},
   "outputs": [],
   "source": [
    "from sklearn.tree import DecisionTreeClassifier\n",
    "from sklearn.ensemble import AdaBoostClassifier, BaggingClassifier"
   ]
  },
  {
   "cell_type": "code",
   "execution_count": 225,
   "metadata": {},
   "outputs": [
    {
     "name": "stdout",
     "output_type": "stream",
     "text": [
      "Fitting 5 folds for each of 30 candidates, totalling 150 fits\n"
     ]
    },
    {
     "name": "stderr",
     "output_type": "stream",
     "text": [
      "[Parallel(n_jobs=2)]: Using backend LokyBackend with 2 concurrent workers.\n",
      "[Parallel(n_jobs=2)]: Done  46 tasks      | elapsed:   44.8s\n",
      "[Parallel(n_jobs=2)]: Done 150 out of 150 | elapsed:  2.5min finished\n"
     ]
    },
    {
     "data": {
      "text/plain": [
       "GridSearchCV(cv=5,\n",
       "             estimator=AdaBoostClassifier(base_estimator=DecisionTreeClassifier(max_depth=1,\n",
       "                                                                                random_state=1),\n",
       "                                          random_state=1),\n",
       "             n_jobs=2,\n",
       "             param_grid={'learning_rate': [0.005, 0.01, 0.05],\n",
       "                         'n_estimators': array([ 500,  666,  833, 1000, 1166, 1333, 1500, 1666, 1833, 2000])},\n",
       "             return_train_score=True, scoring='accuracy', verbose=1)"
      ]
     },
     "execution_count": 225,
     "metadata": {},
     "output_type": "execute_result"
    }
   ],
   "source": [
    "ada_tree = DecisionTreeClassifier(max_depth=1, random_state=1)\n",
    "ada = AdaBoostClassifier(base_estimator=ada_tree, random_state=1)\n",
    "\n",
    "ada_params = {'n_estimators': np.linspace(500, 2000, 10).astype(int), \n",
    "         'learning_rate': [0.005, 0.01, 0.05]}\n",
    "\n",
    "gs_ada = GridSearchCV(ada, ada_params, verbose=1, cv=5, n_jobs=2,\n",
    "                     return_train_score=True, scoring='accuracy')\n",
    "\n",
    "gs_ada.fit(X_train, y_train)"
   ]
  },
  {
   "cell_type": "code",
   "execution_count": 226,
   "metadata": {},
   "outputs": [
    {
     "name": "stdout",
     "output_type": "stream",
     "text": [
      "Best Parameters:\n",
      "{'learning_rate': 0.01, 'n_estimators': 1166}\n",
      "Best estimator mean cross validated training score:\n",
      "0.8014439096630877\n",
      "Best estimator score on the full training set:\n",
      "0.8233695652173914\n",
      "Best estimator score on the test set:\n",
      "0.7911392405063291\n"
     ]
    }
   ],
   "source": [
    "print('Best Parameters:')\n",
    "print(gs_ada.best_params_)\n",
    "print('Best estimator mean cross validated training score:')\n",
    "print(gs_ada.best_score_)\n",
    "print('Best estimator score on the full training set:')\n",
    "print(gs_ada.score(X_train, y_train))\n",
    "print('Best estimator score on the test set:')\n",
    "print(gs_ada.score(X_test, y_test))"
   ]
  },
  {
   "cell_type": "code",
   "execution_count": 227,
   "metadata": {},
   "outputs": [
    {
     "data": {
      "text/html": [
       "<div>\n",
       "<style scoped>\n",
       "    .dataframe tbody tr th:only-of-type {\n",
       "        vertical-align: middle;\n",
       "    }\n",
       "\n",
       "    .dataframe tbody tr th {\n",
       "        vertical-align: top;\n",
       "    }\n",
       "\n",
       "    .dataframe thead th {\n",
       "        text-align: right;\n",
       "    }\n",
       "</style>\n",
       "<table border=\"1\" class=\"dataframe\">\n",
       "  <thead>\n",
       "    <tr style=\"text-align: right;\">\n",
       "      <th></th>\n",
       "      <th>feature</th>\n",
       "      <th>importance</th>\n",
       "    </tr>\n",
       "  </thead>\n",
       "  <tbody>\n",
       "    <tr>\n",
       "      <th>27</th>\n",
       "      <td>location_London</td>\n",
       "      <td>0.239280</td>\n",
       "    </tr>\n",
       "    <tr>\n",
       "      <th>20</th>\n",
       "      <td>location_Cambridge</td>\n",
       "      <td>0.155232</td>\n",
       "    </tr>\n",
       "    <tr>\n",
       "      <th>2</th>\n",
       "      <td>senior</td>\n",
       "      <td>0.126930</td>\n",
       "    </tr>\n",
       "    <tr>\n",
       "      <th>16</th>\n",
       "      <td>analyst</td>\n",
       "      <td>0.115780</td>\n",
       "    </tr>\n",
       "    <tr>\n",
       "      <th>10</th>\n",
       "      <td>ml</td>\n",
       "      <td>0.083190</td>\n",
       "    </tr>\n",
       "    <tr>\n",
       "      <th>14</th>\n",
       "      <td>bi</td>\n",
       "      <td>0.062607</td>\n",
       "    </tr>\n",
       "    <tr>\n",
       "      <th>3</th>\n",
       "      <td>head</td>\n",
       "      <td>0.058319</td>\n",
       "    </tr>\n",
       "    <tr>\n",
       "      <th>11</th>\n",
       "      <td>science</td>\n",
       "      <td>0.048885</td>\n",
       "    </tr>\n",
       "    <tr>\n",
       "      <th>12</th>\n",
       "      <td>research</td>\n",
       "      <td>0.030875</td>\n",
       "    </tr>\n",
       "    <tr>\n",
       "      <th>13</th>\n",
       "      <td>engineer</td>\n",
       "      <td>0.028302</td>\n",
       "    </tr>\n",
       "  </tbody>\n",
       "</table>\n",
       "</div>"
      ],
      "text/plain": [
       "               feature  importance\n",
       "27     location_London    0.239280\n",
       "20  location_Cambridge    0.155232\n",
       "2               senior    0.126930\n",
       "16             analyst    0.115780\n",
       "10                  ml    0.083190\n",
       "14                  bi    0.062607\n",
       "3                 head    0.058319\n",
       "11             science    0.048885\n",
       "12            research    0.030875\n",
       "13            engineer    0.028302"
      ]
     },
     "execution_count": 227,
     "metadata": {},
     "output_type": "execute_result"
    }
   ],
   "source": [
    "fi = pd.DataFrame({\n",
    "    'feature': X_train.columns,\n",
    "    'importance': gs_ada.best_estimator_.feature_importances_\n",
    "})\n",
    "\n",
    "fi.sort_values('importance', ascending=False, inplace=True)\n",
    "fi[:10]"
   ]
  },
  {
   "cell_type": "code",
   "execution_count": 228,
   "metadata": {},
   "outputs": [],
   "source": [
    "ada_predict = gs_ada.predict(X_train)"
   ]
  },
  {
   "cell_type": "code",
   "execution_count": 229,
   "metadata": {},
   "outputs": [
    {
     "data": {
      "image/png": "[encoded data removed]",
      "text/plain": [
       "<Figure size 432x432 with 2 Axes>"
      ]
     },
     "metadata": {},
     "output_type": "display_data"
    }
   ],
   "source": [
    "skplt.metrics.plot_confusion_matrix(y_train, ada_predict, labels=[0,1], figsize=(6, 6))\n",
    "plt.show()"
   ]
  },
  {
   "cell_type": "code",
   "execution_count": 230,
   "metadata": {},
   "outputs": [
    {
     "name": "stdout",
     "output_type": "stream",
     "text": [
      "              precision    recall  f1-score   support\n",
      "\n",
      "           0       0.86      0.90      0.88       264\n",
      "           1       0.71      0.63      0.67       104\n",
      "\n",
      "    accuracy                           0.82       368\n",
      "   macro avg       0.79      0.77      0.77       368\n",
      "weighted avg       0.82      0.82      0.82       368\n",
      "\n"
     ]
    }
   ],
   "source": [
    "print(classification_report(y_train, ada_predict, labels=gs_ada.classes_))"
   ]
  },
  {
   "cell_type": "markdown",
   "metadata": {},
   "source": [
    "The optimal model for AdaBoost isn't that suprising. A lower learning rate means the model will learn more slowly, and having more esimators means we have more weak learners to learn from. I would expected the learning rate and estimator to be inversely proportional (upto a certain point). Specifically, if we are learning at a slower pace then we need more models (learners) to create the optimal final model. In terms of the features importances', AdaBoost rated London, Cambridge and Senior features as the most important.\n",
    "\n",
    "\n",
    "The confusion and classification reports show similar results to the previous models. Specifically, more low salary jobs are being classified as high salary, leading to a lower precision score for class 1 (high salary). However, less high salary jobs are being classified as low salary, resulting in a better recall score for class 1."
   ]
  },
  {
   "cell_type": "markdown",
   "metadata": {},
   "source": [
    "---"
   ]
  },
  {
   "cell_type": "markdown",
   "metadata": {},
   "source": [
    "#### Bagging"
   ]
  },
  {
   "cell_type": "code",
   "execution_count": 231,
   "metadata": {},
   "outputs": [
    {
     "name": "stdout",
     "output_type": "stream",
     "text": [
      "Fitting 5 folds for each of 120 candidates, totalling 600 fits\n"
     ]
    },
    {
     "name": "stderr",
     "output_type": "stream",
     "text": [
      "[Parallel(n_jobs=2)]: Using backend LokyBackend with 2 concurrent workers.\n",
      "[Parallel(n_jobs=2)]: Done  46 tasks      | elapsed:    8.7s\n",
      "[Parallel(n_jobs=2)]: Done 196 tasks      | elapsed:   55.0s\n",
      "[Parallel(n_jobs=2)]: Done 446 tasks      | elapsed:  2.3min\n",
      "[Parallel(n_jobs=2)]: Done 600 out of 600 | elapsed:  3.0min finished\n"
     ]
    },
    {
     "data": {
      "text/plain": [
       "GridSearchCV(cv=5,\n",
       "             estimator=BaggingClassifier(base_estimator=DecisionTreeClassifier(max_depth=9,\n",
       "                                                                               min_samples_leaf=5,\n",
       "                                                                               random_state=1),\n",
       "                                         random_state=1),\n",
       "             n_jobs=2,\n",
       "             param_grid={'bootstrap': [False, True],\n",
       "                         'bootstrap_features': [False, True],\n",
       "                         'n_estimators': array([150, 162, 174, 186, 198, 210, 222, 234, 246, 258, 270, 282, 294,\n",
       "       306, 318, 331, 343, 355, 367, 379, 391, 403, 415, 427, 439, 451,\n",
       "       463, 475, 487, 500])},\n",
       "             return_train_score=True, scoring='accuracy', verbose=1)"
      ]
     },
     "execution_count": 231,
     "metadata": {},
     "output_type": "execute_result"
    }
   ],
   "source": [
    "bag_tree = DecisionTreeClassifier(max_depth=9, random_state=1, min_samples_leaf=5)\n",
    "bag = BaggingClassifier(base_estimator=bag_tree, random_state=1)\n",
    "\n",
    "bag_params = {'n_estimators': np.linspace(150, 500, 30).astype(int),\n",
    "              'bootstrap': [False, True],\n",
    "              'bootstrap_features': [False, True]}\n",
    "\n",
    "\n",
    "gs_bag = GridSearchCV(bag, bag_params, verbose=1, cv=5, n_jobs=2,\n",
    "                     return_train_score=True, scoring='accuracy')\n",
    "\n",
    "gs_bag.fit(X_train, y_train)"
   ]
  },
  {
   "cell_type": "code",
   "execution_count": 232,
   "metadata": {},
   "outputs": [
    {
     "name": "stdout",
     "output_type": "stream",
     "text": [
      "Best Parameters:\n",
      "{'bootstrap': True, 'bootstrap_features': False, 'n_estimators': 270}\n",
      "Best estimator mean cross validated training score:\n",
      "0.8096630877452796\n",
      "Best estimator score on the full training set:\n",
      "0.8206521739130435\n",
      "Best estimator score on the test set:\n",
      "0.8037974683544303\n"
     ]
    }
   ],
   "source": [
    "print('Best Parameters:')\n",
    "print(gs_bag.best_params_)\n",
    "print('Best estimator mean cross validated training score:')\n",
    "print(gs_bag.best_score_)\n",
    "print('Best estimator score on the full training set:')\n",
    "print(gs_bag.score(X_train, y_train))\n",
    "print('Best estimator score on the test set:')\n",
    "print(gs_bag.score(X_test, y_test))"
   ]
  },
  {
   "cell_type": "code",
   "execution_count": 233,
   "metadata": {},
   "outputs": [],
   "source": [
    "# create feature importances using the average feature importance from all estimators in the best estimator\n",
    "feature_importances = np.mean([\n",
    "    tree.feature_importances_ for tree in gs_bag.best_estimator_.estimators_\n",
    "], axis=0)"
   ]
  },
  {
   "cell_type": "code",
   "execution_count": 234,
   "metadata": {},
   "outputs": [
    {
     "data": {
      "text/html": [
       "<div>\n",
       "<style scoped>\n",
       "    .dataframe tbody tr th:only-of-type {\n",
       "        vertical-align: middle;\n",
       "    }\n",
       "\n",
       "    .dataframe tbody tr th {\n",
       "        vertical-align: top;\n",
       "    }\n",
       "\n",
       "    .dataframe thead th {\n",
       "        text-align: right;\n",
       "    }\n",
       "</style>\n",
       "<table border=\"1\" class=\"dataframe\">\n",
       "  <thead>\n",
       "    <tr style=\"text-align: right;\">\n",
       "      <th></th>\n",
       "      <th>feature</th>\n",
       "      <th>importance</th>\n",
       "    </tr>\n",
       "  </thead>\n",
       "  <tbody>\n",
       "    <tr>\n",
       "      <th>27</th>\n",
       "      <td>location_London</td>\n",
       "      <td>0.304404</td>\n",
       "    </tr>\n",
       "    <tr>\n",
       "      <th>20</th>\n",
       "      <td>location_Cambridge</td>\n",
       "      <td>0.211867</td>\n",
       "    </tr>\n",
       "    <tr>\n",
       "      <th>10</th>\n",
       "      <td>ml</td>\n",
       "      <td>0.102031</td>\n",
       "    </tr>\n",
       "    <tr>\n",
       "      <th>11</th>\n",
       "      <td>science</td>\n",
       "      <td>0.098335</td>\n",
       "    </tr>\n",
       "    <tr>\n",
       "      <th>16</th>\n",
       "      <td>analyst</td>\n",
       "      <td>0.077983</td>\n",
       "    </tr>\n",
       "    <tr>\n",
       "      <th>2</th>\n",
       "      <td>senior</td>\n",
       "      <td>0.069614</td>\n",
       "    </tr>\n",
       "    <tr>\n",
       "      <th>14</th>\n",
       "      <td>bi</td>\n",
       "      <td>0.053983</td>\n",
       "    </tr>\n",
       "    <tr>\n",
       "      <th>13</th>\n",
       "      <td>engineer</td>\n",
       "      <td>0.033824</td>\n",
       "    </tr>\n",
       "    <tr>\n",
       "      <th>6</th>\n",
       "      <td>lead</td>\n",
       "      <td>0.008122</td>\n",
       "    </tr>\n",
       "    <tr>\n",
       "      <th>12</th>\n",
       "      <td>research</td>\n",
       "      <td>0.007163</td>\n",
       "    </tr>\n",
       "  </tbody>\n",
       "</table>\n",
       "</div>"
      ],
      "text/plain": [
       "               feature  importance\n",
       "27     location_London    0.304404\n",
       "20  location_Cambridge    0.211867\n",
       "10                  ml    0.102031\n",
       "11             science    0.098335\n",
       "16             analyst    0.077983\n",
       "2               senior    0.069614\n",
       "14                  bi    0.053983\n",
       "13            engineer    0.033824\n",
       "6                 lead    0.008122\n",
       "12            research    0.007163"
      ]
     },
     "execution_count": 234,
     "metadata": {},
     "output_type": "execute_result"
    }
   ],
   "source": [
    "fi = pd.DataFrame({\n",
    "    'feature': X_train.columns,\n",
    "    'importance': feature_importances\n",
    "})\n",
    "\n",
    "fi.sort_values('importance', ascending=False, inplace=True)\n",
    "fi[:10]"
   ]
  },
  {
   "cell_type": "code",
   "execution_count": 235,
   "metadata": {},
   "outputs": [],
   "source": [
    "bag_predict = gs_bag.predict(X_train)"
   ]
  },
  {
   "cell_type": "code",
   "execution_count": 236,
   "metadata": {},
   "outputs": [
    {
     "data": {
      "image/png": "[encoded data removed]",
      "text/plain": [
       "<Figure size 432x432 with 2 Axes>"
      ]
     },
     "metadata": {},
     "output_type": "display_data"
    }
   ],
   "source": [
    "skplt.metrics.plot_confusion_matrix(y_train, bag_predict, labels = gs_bag.classes_, figsize=(6, 6));"
   ]
  },
  {
   "cell_type": "code",
   "execution_count": 237,
   "metadata": {},
   "outputs": [
    {
     "name": "stdout",
     "output_type": "stream",
     "text": [
      "              precision    recall  f1-score   support\n",
      "\n",
      "           0       0.86      0.89      0.88       264\n",
      "           1       0.70      0.63      0.67       104\n",
      "\n",
      "    accuracy                           0.82       368\n",
      "   macro avg       0.78      0.76      0.77       368\n",
      "weighted avg       0.82      0.82      0.82       368\n",
      "\n"
     ]
    }
   ],
   "source": [
    "print(classification_report(y_train, bag_predict, labels=gs_bag.classes_))"
   ]
  },
  {
   "cell_type": "markdown",
   "metadata": {},
   "source": [
    "No real suprise with the model choice. It liked have a reasonable number of estimators, and preferred to replace both samples and features when make selections for the estimator models. The accuracy scores were (again!) fairly consistent, and also matched those achieved by the previous models. In this case, the (average) feature importance scores were similar other models run. \n",
    "\n",
    "\n",
    "The confusion and classificaiton reports are almost idenditical to the other models run."
   ]
  },
  {
   "cell_type": "markdown",
   "metadata": {
    "focus": false,
    "id": "4fb29de2-5b98-474c-a4ad-5170b72b9aea"
   },
   "source": [
    "### Model evaluation:\n",
    "\n",
    "Your boss would rather tell a client incorrectly that they would get a lower salary job than tell a client incorrectly that they would get a high salary job. Adjust one of your models to ease his mind, and explain what it is doing and any tradeoffs.\n",
    "\n",
    "\n",
    "- Use cross-validation to evaluate your models.\n",
    "- Evaluate the accuracy, AUC, precision and recall of the models.\n",
    "- Plot the ROC and precision-recall curves for at least one of your models."
   ]
  },
  {
   "cell_type": "markdown",
   "metadata": {},
   "source": [
    "A preference for telling people incorrectly they would get a low salary job implies that we need to optimise a model to increase the Recall score for the low salary class. \n",
    "\n",
    "There are two ways that come to mind that we could fo this. First, we good alter our grid searches to optimise the scoring parameter based on achieving the best recall scores. Unfortunately, when I tried doing this for the models above, it did not result in an improvement in recall scores for class 0. Specifically, it had virtually no impact. This, then, leads us on to the second approach we can take, which is to adjust the threshold values for which jobs are classified as low or high salary. I will use the logistic regression model for this purpose."
   ]
  },
  {
   "cell_type": "code",
   "execution_count": 372,
   "metadata": {},
   "outputs": [
    {
     "name": "stdout",
     "output_type": "stream",
     "text": [
      "CV score:  0.8177341725286931\n",
      "Train score 0.8233695652173914\n",
      "Test score 0.7974683544303798\n"
     ]
    }
   ],
   "source": [
    "# define LR model based on optimal parameters\n",
    "lr_model = LogisticRegression(solver='liblinear', C=0.4641588833612782, penalty='l1')\n",
    "\n",
    "lr_model.fit(X_train, y_train)\n",
    "\n",
    "print(\"CV score: \", cross_val_score(lr_model, X_train, y_train, cv=5).mean())\n",
    "print(\"Train score\", lr_model.score(X_train, y_train))\n",
    "print(\"Test score\", lr_model.score(X_test, y_test))"
   ]
  },
  {
   "cell_type": "code",
   "execution_count": 373,
   "metadata": {},
   "outputs": [],
   "source": [
    "lr_pred_train = lr_model.predict(X_train)\n",
    "lr_pred_test = lr_model.predict(X_test)\n",
    "lr_prob_train = lr_model.predict_proba(X_train)\n",
    "lr_prob_test = lr_model.predict_proba(X_test)"
   ]
  },
  {
   "cell_type": "code",
   "execution_count": 374,
   "metadata": {},
   "outputs": [
    {
     "name": "stdout",
     "output_type": "stream",
     "text": [
      "              precision    recall  f1-score   support\n",
      "\n",
      "           0       0.86      0.90      0.88       264\n",
      "           1       0.71      0.63      0.67       104\n",
      "\n",
      "    accuracy                           0.82       368\n",
      "   macro avg       0.79      0.77      0.77       368\n",
      "weighted avg       0.82      0.82      0.82       368\n",
      "\n"
     ]
    }
   ],
   "source": [
    "print(classification_report(y_train, lr_pred_train, labels=lr_model.classes_))"
   ]
  },
  {
   "cell_type": "code",
   "execution_count": 251,
   "metadata": {},
   "outputs": [
    {
     "name": "stdout",
     "output_type": "stream",
     "text": [
      "              precision    recall  f1-score   support\n",
      "\n",
      "           0       0.82      0.93      0.87       114\n",
      "           1       0.71      0.45      0.56        44\n",
      "\n",
      "    accuracy                           0.80       158\n",
      "   macro avg       0.76      0.69      0.71       158\n",
      "weighted avg       0.79      0.80      0.78       158\n",
      "\n"
     ]
    }
   ],
   "source": [
    "print(classification_report(y_test, lr_pred_test, labels=lr_model.classes_))"
   ]
  },
  {
   "cell_type": "markdown",
   "metadata": {},
   "source": [
    "Currently, our default Logistic Regression (LR) model is pretty good at predicting low salaries. This can be seen by the high scores for both precision and recall for class 0. It is not so good at predicting high salary, and in particular classifying actual high salary jobs accurately (as can be seen by the relatively low recall scores for class 1)."
   ]
  },
  {
   "cell_type": "code",
   "execution_count": 252,
   "metadata": {},
   "outputs": [
    {
     "data": {
      "image/png": "[encoded data removed]",
      "text/plain": [
       "<Figure size 864x432 with 2 Axes>"
      ]
     },
     "metadata": {},
     "output_type": "display_data"
    }
   ],
   "source": [
    "fig_pr, ax = plt.subplots(ncols=2, figsize=(12, 6), sharey=True)\n",
    "skplt.metrics.plot_precision_recall(y_train, lr_prob_train, ax=ax[0], title=\"Precision-Recall Train (LR)\")\n",
    "skplt.metrics.plot_precision_recall(y_test, lr_prob_test, ax=ax[1], title=\"Precision-Recall Test (LR)\")\n",
    "plt.show()"
   ]
  },
  {
   "cell_type": "markdown",
   "metadata": {},
   "source": [
    "The above graphs show that the Precision-Recall curves for both the training and test data for the LR model. Looking at the area scores we can can see that the class 0 is able to acheive a high precision and recall score as the threshold changes. This means the classifier is returning accurate results (high precision), as well as returning a majority of all positive results (high recall).\n",
    "\n",
    "The same is not true for the high salary class. As it's recall score increases so does the number of false positives, so it's accuracy decreases."
   ]
  },
  {
   "cell_type": "code",
   "execution_count": 253,
   "metadata": {},
   "outputs": [
    {
     "data": {
      "image/png": "[encoded data removed]",
      "text/plain": [
       "<Figure size 864x432 with 2 Axes>"
      ]
     },
     "metadata": {},
     "output_type": "display_data"
    }
   ],
   "source": [
    "fig_pr, ax = plt.subplots(ncols=2, figsize=(12, 6), sharey=True)\n",
    "skplt.metrics.plot_roc(y_train, lr_prob_train, ax=ax[0], title='ROC Train (LR)')\n",
    "skplt.metrics.plot_roc(y_test, lr_prob_test, ax=ax[1], title='ROC Test (LR)')\n",
    "plt.show()"
   ]
  },
  {
   "cell_type": "markdown",
   "metadata": {},
   "source": [
    "The ROC curves above show the the model is quite good at discriminating between the different classes. This can be see by the area scores . The AUC score matches the accuracy score (precision) for the positive class (class 0). The reason that the area scores are not 1 is due to some overlap between the different classes.\n",
    "\n",
    "In relation to the question, in order to predict all low salary jobs correctly, we would need to select a point on the graphs that had a true positive rate of 1. The best point would also be the point that had the lowest False Positive rate. Looking at the graphs in this context,  a score of 1 for the TPR could be acheived if the FPR was between 0.7 and 0.9. So we are going to have a fair amount of fale positives!"
   ]
  },
  {
   "cell_type": "markdown",
   "metadata": {},
   "source": [
    "As mentioned initially, we know need to moddify the LR model predictions so that the chance of predicting a low salary job as a high salary jobs is eliminated. The metric we will use to assess this is the recall score for low salary (class 0)."
   ]
  },
  {
   "cell_type": "code",
   "execution_count": 254,
   "metadata": {},
   "outputs": [
    {
     "data": {
      "text/html": [
       "<div>\n",
       "<style scoped>\n",
       "    .dataframe tbody tr th:only-of-type {\n",
       "        vertical-align: middle;\n",
       "    }\n",
       "\n",
       "    .dataframe tbody tr th {\n",
       "        vertical-align: top;\n",
       "    }\n",
       "\n",
       "    .dataframe thead th {\n",
       "        text-align: right;\n",
       "    }\n",
       "</style>\n",
       "<table border=\"1\" class=\"dataframe\">\n",
       "  <thead>\n",
       "    <tr style=\"text-align: right;\">\n",
       "      <th></th>\n",
       "      <th>class_0_pp</th>\n",
       "      <th>class_1_pp</th>\n",
       "    </tr>\n",
       "  </thead>\n",
       "  <tbody>\n",
       "    <tr>\n",
       "      <th>0</th>\n",
       "      <td>0.925573</td>\n",
       "      <td>0.074427</td>\n",
       "    </tr>\n",
       "    <tr>\n",
       "      <th>1</th>\n",
       "      <td>0.535512</td>\n",
       "      <td>0.464488</td>\n",
       "    </tr>\n",
       "    <tr>\n",
       "      <th>2</th>\n",
       "      <td>0.233092</td>\n",
       "      <td>0.766908</td>\n",
       "    </tr>\n",
       "    <tr>\n",
       "      <th>3</th>\n",
       "      <td>0.925573</td>\n",
       "      <td>0.074427</td>\n",
       "    </tr>\n",
       "    <tr>\n",
       "      <th>4</th>\n",
       "      <td>0.753912</td>\n",
       "      <td>0.246088</td>\n",
       "    </tr>\n",
       "  </tbody>\n",
       "</table>\n",
       "</div>"
      ],
      "text/plain": [
       "   class_0_pp  class_1_pp\n",
       "0    0.925573    0.074427\n",
       "1    0.535512    0.464488\n",
       "2    0.233092    0.766908\n",
       "3    0.925573    0.074427\n",
       "4    0.753912    0.246088"
      ]
     },
     "execution_count": 254,
     "metadata": {},
     "output_type": "execute_result"
    }
   ],
   "source": [
    "# Get the predicted probabilities for low and high salaries\n",
    "Y_pp = pd.DataFrame(lr_model.predict_proba(X_train), \n",
    "             columns=['class_0_pp', 'class_1_pp'])\n",
    "Y_pp.head()"
   ]
  },
  {
   "cell_type": "code",
   "execution_count": 257,
   "metadata": {},
   "outputs": [],
   "source": [
    "# create a function to alter predictions based on a given threshold\n",
    "def predict_at_threshold(x, threshold=0.5):\n",
    "    if x >= threshold:\n",
    "        return 1\n",
    "    else:\n",
    "        return 0"
   ]
  },
  {
   "cell_type": "code",
   "execution_count": 380,
   "metadata": {},
   "outputs": [],
   "source": [
    "from sklearn.metrics import accuracy_score, recall_score, precision_score"
   ]
  },
  {
   "cell_type": "code",
   "execution_count": 275,
   "metadata": {},
   "outputs": [
    {
     "data": {
      "text/html": [
       "<div>\n",
       "<style scoped>\n",
       "    .dataframe tbody tr th:only-of-type {\n",
       "        vertical-align: middle;\n",
       "    }\n",
       "\n",
       "    .dataframe tbody tr th {\n",
       "        vertical-align: top;\n",
       "    }\n",
       "\n",
       "    .dataframe thead th {\n",
       "        text-align: right;\n",
       "    }\n",
       "</style>\n",
       "<table border=\"1\" class=\"dataframe\">\n",
       "  <thead>\n",
       "    <tr style=\"text-align: right;\">\n",
       "      <th></th>\n",
       "      <th>class_0_pp</th>\n",
       "      <th>class_1_pp</th>\n",
       "    </tr>\n",
       "  </thead>\n",
       "  <tbody>\n",
       "    <tr>\n",
       "      <th>253</th>\n",
       "      <td>0.925573</td>\n",
       "      <td>0.074427</td>\n",
       "    </tr>\n",
       "    <tr>\n",
       "      <th>149</th>\n",
       "      <td>0.535512</td>\n",
       "      <td>0.464488</td>\n",
       "    </tr>\n",
       "    <tr>\n",
       "      <th>55</th>\n",
       "      <td>0.233092</td>\n",
       "      <td>0.766908</td>\n",
       "    </tr>\n",
       "    <tr>\n",
       "      <th>250</th>\n",
       "      <td>0.925573</td>\n",
       "      <td>0.074427</td>\n",
       "    </tr>\n",
       "    <tr>\n",
       "      <th>148</th>\n",
       "      <td>0.753912</td>\n",
       "      <td>0.246088</td>\n",
       "    </tr>\n",
       "    <tr>\n",
       "      <th>...</th>\n",
       "      <td>...</td>\n",
       "      <td>...</td>\n",
       "    </tr>\n",
       "    <tr>\n",
       "      <th>104</th>\n",
       "      <td>0.753912</td>\n",
       "      <td>0.246088</td>\n",
       "    </tr>\n",
       "    <tr>\n",
       "      <th>508</th>\n",
       "      <td>0.874807</td>\n",
       "      <td>0.125193</td>\n",
       "    </tr>\n",
       "    <tr>\n",
       "      <th>180</th>\n",
       "      <td>0.561762</td>\n",
       "      <td>0.438238</td>\n",
       "    </tr>\n",
       "    <tr>\n",
       "      <th>324</th>\n",
       "      <td>0.724491</td>\n",
       "      <td>0.275509</td>\n",
       "    </tr>\n",
       "    <tr>\n",
       "      <th>471</th>\n",
       "      <td>0.874807</td>\n",
       "      <td>0.125193</td>\n",
       "    </tr>\n",
       "  </tbody>\n",
       "</table>\n",
       "<p>368 rows × 2 columns</p>\n",
       "</div>"
      ],
      "text/plain": [
       "     class_0_pp  class_1_pp\n",
       "253    0.925573    0.074427\n",
       "149    0.535512    0.464488\n",
       "55     0.233092    0.766908\n",
       "250    0.925573    0.074427\n",
       "148    0.753912    0.246088\n",
       "..          ...         ...\n",
       "104    0.753912    0.246088\n",
       "508    0.874807    0.125193\n",
       "180    0.561762    0.438238\n",
       "324    0.724491    0.275509\n",
       "471    0.874807    0.125193\n",
       "\n",
       "[368 rows x 2 columns]"
      ]
     },
     "execution_count": 275,
     "metadata": {},
     "output_type": "execute_result"
    }
   ],
   "source": [
    "Y_pp.set_index(y_train.index) # set pp index to match y_train index"
   ]
  },
  {
   "cell_type": "code",
   "execution_count": 381,
   "metadata": {},
   "outputs": [
    {
     "name": "stderr",
     "output_type": "stream",
     "text": [
      "/Users/user/opt/anaconda3/lib/python3.7/site-packages/sklearn/metrics/_classification.py:1221: UndefinedMetricWarning: Precision is ill-defined and being set to 0.0 due to no predicted samples. Use `zero_division` parameter to control this behavior.\n",
      "  _warn_prf(average, modifier, msg_start, len(result))\n"
     ]
    }
   ],
   "source": [
    "# recall scores for class 0 - the low salary class\n",
    "recalls_0 = np.array(\n",
    "    [(i, recall_score(y_train, Y_pp.class_1_pp.apply(predict_at_threshold, threshold=i), pos_label=0)) \n",
    "        for i in np.linspace(0, 1, 1000)])\n",
    "\n",
    "\n",
    "# recall scores for class 1\n",
    "recalls_1 = np.array(\n",
    "    [(i, recall_score(y_train, Y_pp.class_1_pp.apply(predict_at_threshold, threshold=i), pos_label=1)) \n",
    "        for i in np.linspace(0, 1, 1000)])\n",
    "\n",
    "# precision scores for class 0 - the low salary class\n",
    "precision_0 = np.array(\n",
    "    [(i, precision_score(y_train, Y_pp.class_1_pp.apply(predict_at_threshold, threshold=i), pos_label=0)) \n",
    "        for i in np.linspace(0, 1, 1000)])\n",
    "\n",
    "\n",
    "# recall scores for class 1\n",
    "precision_1 = np.array(\n",
    "    [(i, precision_score(y_train, Y_pp.class_1_pp.apply(predict_at_threshold, threshold=i), pos_label=1)) \n",
    "        for i in np.linspace(0, 1, 1000)])\n",
    "\n",
    "\n",
    "# accuracy score for the LR model\n",
    "accuracies = np.array(\n",
    "    [(i, accuracy_score(y_train, Y_pp.class_1_pp.apply(predict_at_threshold, threshold=i))) \n",
    "        for i in np.linspace(0, 1, 1000)])"
   ]
  },
  {
   "cell_type": "code",
   "execution_count": 297,
   "metadata": {},
   "outputs": [
    {
     "data": {
      "image/png": "[encoded data removed]",
      "text/plain": [
       "<Figure size 864x432 with 1 Axes>"
      ]
     },
     "metadata": {},
     "output_type": "display_data"
    }
   ],
   "source": [
    "plt.figure(figsize=(12, 6))\n",
    "plt.plot(recalls_0[:, 0], recalls_0[:, 1], label='Low Salary')\n",
    "plt.plot(recalls_1[:, 0], recalls_1[:, 1], label='High Salary')\n",
    "plt.xlabel('threshold')\n",
    "plt.ylabel('recall')\n",
    "plt.legend()\n",
    "plt.title('Recall Scores vs. Threshold')\n",
    "plt.show()"
   ]
  },
  {
   "cell_type": "markdown",
   "metadata": {},
   "source": [
    "The above graph shows how the recall scores vary as the threshold increases. We can see the high salary score drops off reasonablly quickly, which means more true high salary jobs are being predicted as low salary as the threshold increases. This makes sense as the threshold is raising the probabiltiy at which jobs can be classified as high salary.\n",
    "\n",
    "We can see that as we increase the threshold the recall for low salary jobs increases. It looks as though the recall score reaches 1 between 0.6 and 0.8, we can find out exacrly by looking at the results. Knowing this is exactly what we need in order to alter our model predictions in the way our boss wants!"
   ]
  },
  {
   "cell_type": "code",
   "execution_count": 382,
   "metadata": {},
   "outputs": [
    {
     "data": {
      "image/png": "[encoded data removed]",
      "text/plain": [
       "<Figure size 864x432 with 1 Axes>"
      ]
     },
     "metadata": {},
     "output_type": "display_data"
    }
   ],
   "source": [
    "plt.figure(figsize=(12, 6))\n",
    "plt.plot(precision_0[:, 0], precision_0[:, 1], label='Low Salary')\n",
    "plt.plot(precision_1[:, 0], precision_1[:, 1], label='High Salary')\n",
    "plt.xlabel('threshold')\n",
    "plt.ylabel('precision')\n",
    "plt.legend()\n",
    "plt.title('Precision Scores vs. Threshold')\n",
    "plt.show()"
   ]
  },
  {
   "cell_type": "markdown",
   "metadata": {},
   "source": [
    "The above graphs shows how increasing the threshold impacts the precision scores for both classes. We can see that when the threshold is low class 0 (low salary) has perfect precision bfore gradually tailing off as the threshold increases. This makes sense as a low threshold means we are classifying more jobs are high salary jobs correctly (and hence reducing the false positives for the low salary class).\n",
    "\n",
    "We can see the the precision score for the high salary class increases as the threshold increases. This makes sense as increasing the threshold will cause more jobs to be classified as low salary, and hence reduce the number of low salary jos mis-classified as high salary."
   ]
  },
  {
   "cell_type": "code",
   "execution_count": 298,
   "metadata": {},
   "outputs": [
    {
     "data": {
      "image/png": "[encoded data removed]",
      "text/plain": [
       "<Figure size 864x432 with 1 Axes>"
      ]
     },
     "metadata": {},
     "output_type": "display_data"
    }
   ],
   "source": [
    "plt.figure(figsize=(12, 6))\n",
    "plt.plot(accuracies[:, 0], accuracies[:, 1])\n",
    "plt.xlabel('threshold')\n",
    "plt.ylabel('accruracy')\n",
    "plt.title('Accuracy Score vs. Threshold')\n",
    "plt.show()"
   ]
  },
  {
   "cell_type": "markdown",
   "metadata": {},
   "source": [
    "Looking at the above graph we can see the the accuracy of the LR model increases upto about 0.5 before it starts to decline. In order to keep the accuracy score as high as possible we should pick the low value for the threshold as possible (which still delivers on our boss' requirement)."
   ]
  },
  {
   "cell_type": "code",
   "execution_count": 324,
   "metadata": {},
   "outputs": [
    {
     "data": {
      "text/html": [
       "<div>\n",
       "<style scoped>\n",
       "    .dataframe tbody tr th:only-of-type {\n",
       "        vertical-align: middle;\n",
       "    }\n",
       "\n",
       "    .dataframe tbody tr th {\n",
       "        vertical-align: top;\n",
       "    }\n",
       "\n",
       "    .dataframe thead th {\n",
       "        text-align: right;\n",
       "    }\n",
       "</style>\n",
       "<table border=\"1\" class=\"dataframe\">\n",
       "  <thead>\n",
       "    <tr style=\"text-align: right;\">\n",
       "      <th></th>\n",
       "      <th>threshold</th>\n",
       "      <th>recall_0_score</th>\n",
       "    </tr>\n",
       "  </thead>\n",
       "  <tbody>\n",
       "    <tr>\n",
       "      <th>693</th>\n",
       "      <td>0.693694</td>\n",
       "      <td>1.0</td>\n",
       "    </tr>\n",
       "    <tr>\n",
       "      <th>694</th>\n",
       "      <td>0.694695</td>\n",
       "      <td>1.0</td>\n",
       "    </tr>\n",
       "    <tr>\n",
       "      <th>695</th>\n",
       "      <td>0.695696</td>\n",
       "      <td>1.0</td>\n",
       "    </tr>\n",
       "    <tr>\n",
       "      <th>696</th>\n",
       "      <td>0.696697</td>\n",
       "      <td>1.0</td>\n",
       "    </tr>\n",
       "    <tr>\n",
       "      <th>697</th>\n",
       "      <td>0.697698</td>\n",
       "      <td>1.0</td>\n",
       "    </tr>\n",
       "    <tr>\n",
       "      <th>698</th>\n",
       "      <td>0.698699</td>\n",
       "      <td>1.0</td>\n",
       "    </tr>\n",
       "    <tr>\n",
       "      <th>699</th>\n",
       "      <td>0.699700</td>\n",
       "      <td>1.0</td>\n",
       "    </tr>\n",
       "    <tr>\n",
       "      <th>700</th>\n",
       "      <td>0.700701</td>\n",
       "      <td>1.0</td>\n",
       "    </tr>\n",
       "    <tr>\n",
       "      <th>701</th>\n",
       "      <td>0.701702</td>\n",
       "      <td>1.0</td>\n",
       "    </tr>\n",
       "    <tr>\n",
       "      <th>702</th>\n",
       "      <td>0.702703</td>\n",
       "      <td>1.0</td>\n",
       "    </tr>\n",
       "  </tbody>\n",
       "</table>\n",
       "</div>"
      ],
      "text/plain": [
       "     threshold  recall_0_score\n",
       "693   0.693694             1.0\n",
       "694   0.694695             1.0\n",
       "695   0.695696             1.0\n",
       "696   0.696697             1.0\n",
       "697   0.697698             1.0\n",
       "698   0.698699             1.0\n",
       "699   0.699700             1.0\n",
       "700   0.700701             1.0\n",
       "701   0.701702             1.0\n",
       "702   0.702703             1.0"
      ]
     },
     "execution_count": 324,
     "metadata": {},
     "output_type": "execute_result"
    }
   ],
   "source": [
    "thrsh = pd.DataFrame(recalls_0, columns=['threshold', 'recall_0_score'])\n",
    "\n",
    "thrsh[thrsh.recall_0_score == 1.0][:10]"
   ]
  },
  {
   "cell_type": "markdown",
   "metadata": {},
   "source": [
    "The `thrsh` data frame shows us the exact point where the recall score for low salaries became 1.0. The lowest threshold value was 0.693694, and so we should use this value to make our predictions."
   ]
  },
  {
   "cell_type": "code",
   "execution_count": 375,
   "metadata": {},
   "outputs": [
    {
     "data": {
      "text/html": [
       "<div>\n",
       "<style scoped>\n",
       "    .dataframe tbody tr th:only-of-type {\n",
       "        vertical-align: middle;\n",
       "    }\n",
       "\n",
       "    .dataframe tbody tr th {\n",
       "        vertical-align: top;\n",
       "    }\n",
       "\n",
       "    .dataframe thead th {\n",
       "        text-align: right;\n",
       "    }\n",
       "</style>\n",
       "<table border=\"1\" class=\"dataframe\">\n",
       "  <thead>\n",
       "    <tr style=\"text-align: right;\">\n",
       "      <th></th>\n",
       "      <th>class_0_pp</th>\n",
       "      <th>class_1_pp</th>\n",
       "      <th>pred_class_thresh</th>\n",
       "    </tr>\n",
       "  </thead>\n",
       "  <tbody>\n",
       "    <tr>\n",
       "      <th>0</th>\n",
       "      <td>0.925573</td>\n",
       "      <td>0.074427</td>\n",
       "      <td>0</td>\n",
       "    </tr>\n",
       "    <tr>\n",
       "      <th>1</th>\n",
       "      <td>0.535512</td>\n",
       "      <td>0.464488</td>\n",
       "      <td>0</td>\n",
       "    </tr>\n",
       "    <tr>\n",
       "      <th>2</th>\n",
       "      <td>0.233092</td>\n",
       "      <td>0.766908</td>\n",
       "      <td>1</td>\n",
       "    </tr>\n",
       "    <tr>\n",
       "      <th>3</th>\n",
       "      <td>0.925573</td>\n",
       "      <td>0.074427</td>\n",
       "      <td>0</td>\n",
       "    </tr>\n",
       "    <tr>\n",
       "      <th>4</th>\n",
       "      <td>0.753912</td>\n",
       "      <td>0.246088</td>\n",
       "      <td>0</td>\n",
       "    </tr>\n",
       "    <tr>\n",
       "      <th>5</th>\n",
       "      <td>0.753912</td>\n",
       "      <td>0.246088</td>\n",
       "      <td>0</td>\n",
       "    </tr>\n",
       "    <tr>\n",
       "      <th>6</th>\n",
       "      <td>0.824450</td>\n",
       "      <td>0.175550</td>\n",
       "      <td>0</td>\n",
       "    </tr>\n",
       "    <tr>\n",
       "      <th>7</th>\n",
       "      <td>0.843354</td>\n",
       "      <td>0.156646</td>\n",
       "      <td>0</td>\n",
       "    </tr>\n",
       "    <tr>\n",
       "      <th>8</th>\n",
       "      <td>0.925573</td>\n",
       "      <td>0.074427</td>\n",
       "      <td>0</td>\n",
       "    </tr>\n",
       "    <tr>\n",
       "      <th>9</th>\n",
       "      <td>0.953319</td>\n",
       "      <td>0.046681</td>\n",
       "      <td>0</td>\n",
       "    </tr>\n",
       "  </tbody>\n",
       "</table>\n",
       "</div>"
      ],
      "text/plain": [
       "   class_0_pp  class_1_pp  pred_class_thresh\n",
       "0    0.925573    0.074427                  0\n",
       "1    0.535512    0.464488                  0\n",
       "2    0.233092    0.766908                  1\n",
       "3    0.925573    0.074427                  0\n",
       "4    0.753912    0.246088                  0\n",
       "5    0.753912    0.246088                  0\n",
       "6    0.824450    0.175550                  0\n",
       "7    0.843354    0.156646                  0\n",
       "8    0.925573    0.074427                  0\n",
       "9    0.953319    0.046681                  0"
      ]
     },
     "execution_count": 375,
     "metadata": {},
     "output_type": "execute_result"
    }
   ],
   "source": [
    "# create predictions based on optimal threshold\n",
    "Y_pp['pred_class_thresh'] = Y_pp.class_1_pp.apply(predict_at_threshold, \n",
    "                                                threshold=0.693694)\n",
    "Y_pp.head(10)"
   ]
  },
  {
   "cell_type": "code",
   "execution_count": 378,
   "metadata": {},
   "outputs": [
    {
     "data": {
      "image/png": "[encoded data removed]",
      "text/plain": [
       "<Figure size 432x432 with 2 Axes>"
      ]
     },
     "metadata": {},
     "output_type": "display_data"
    },
    {
     "data": {
      "image/png": "[encoded data removed]",
      "text/plain": [
       "<Figure size 432x432 with 2 Axes>"
      ]
     },
     "metadata": {},
     "output_type": "display_data"
    }
   ],
   "source": [
    "skplt.metrics.plot_confusion_matrix(y_train, lr_pred_train, labels=lr_model.classes_, \n",
    "                                    figsize=(6, 6), cmap='Greens', title='Original Predictions')\n",
    "skplt.metrics.plot_confusion_matrix(y_train, Y_pp['pred_class_thresh'], \n",
    "                                    labels=lr_model.classes_, figsize=(6, 6), \n",
    "                                    title='Predictions for perfect class 0 recall')\n",
    "\n",
    "plt.show()"
   ]
  },
  {
   "cell_type": "markdown",
   "metadata": {},
   "source": [
    "The above confusion matrices show how the predictions have changed from the original predictions to those with the new threshold value. We can see that all class 0 (low salary) jobs were predicted. However, this perfect score came at the price of more high salary jobs be classified as low salary. We only classified jobs as high salary if the predicted probaility of a job being high salary was above our threshold of 0.693694."
   ]
  },
  {
   "cell_type": "code",
   "execution_count": 379,
   "metadata": {},
   "outputs": [
    {
     "name": "stdout",
     "output_type": "stream",
     "text": [
      "              precision    recall  f1-score   support\n",
      "\n",
      "           0       0.86      0.90      0.88       264\n",
      "           1       0.71      0.63      0.67       104\n",
      "\n",
      "    accuracy                           0.82       368\n",
      "   macro avg       0.79      0.77      0.77       368\n",
      "weighted avg       0.82      0.82      0.82       368\n",
      "\n"
     ]
    }
   ],
   "source": [
    "# original classification scores\n",
    "print(classification_report(y_train, lr_pred_train, labels=lr_model.classes_))"
   ]
  },
  {
   "cell_type": "code",
   "execution_count": 327,
   "metadata": {},
   "outputs": [
    {
     "name": "stdout",
     "output_type": "stream",
     "text": [
      "              precision    recall  f1-score   support\n",
      "\n",
      "           0       0.75      1.00      0.85       264\n",
      "           1       1.00      0.13      0.24       104\n",
      "\n",
      "    accuracy                           0.76       368\n",
      "   macro avg       0.87      0.57      0.55       368\n",
      "weighted avg       0.82      0.76      0.68       368\n",
      "\n"
     ]
    }
   ],
   "source": [
    "# classification scores based on predictions using new threshold\n",
    "print(classification_report(y_train, Y_pp['pred_class_thresh'], labels=lr_model.classes_))"
   ]
  },
  {
   "cell_type": "markdown",
   "metadata": {},
   "source": [
    "The above classification reports echo what we saw in the confusion matrices (and reflects what we expected based on the ROC curves). Speficially, we have acheived a perfect recall score for class 0 (and as a result a perfect precision score for class 1!) but at the expense of the recall score for class 1. The accuracy score also dropped from 0.82 to 0.76, which we anticipated in the accuracy graph previously. "
   ]
  }
 ],
 "metadata": {
  "kernelspec": {
   "display_name": "Python 3",
   "language": "python",
   "name": "python3"
  },
  "language_info": {
   "codemirror_mode": {
    "name": "ipython",
    "version": 3
   },
   "file_extension": ".py",
   "mimetype": "text/x-python",
   "name": "python",
   "nbconvert_exporter": "python",
   "pygments_lexer": "ipython3",
   "version": "3.7.7"
  },
  "toc": {
   "base_numbering": 1,
   "nav_menu": {},
   "number_sections": false,
   "sideBar": true,
   "skip_h1_title": true,
   "title_cell": "Table of Contents",
   "title_sidebar": "Contents",
   "toc_cell": false,
   "toc_position": {},
   "toc_section_display": "block",
   "toc_window_display": false
  }
 },
 "nbformat": 4,
 "nbformat_minor": 4
}
