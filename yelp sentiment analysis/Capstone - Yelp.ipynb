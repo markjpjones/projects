{
 "cells": [
  {
   "cell_type": "markdown",
   "metadata": {},
   "source": [
    "## Predicting the Sentiment of Yelp reviews"
   ]
  },
  {
   "cell_type": "markdown",
   "metadata": {},
   "source": [
    "### Abstract\n",
    "\n",
    "Five-week final project for my General Assmebly immersive programmed. Project involved using the [Yelp](https://www.yelp.com/dataset) dataset to classify restaurant reviews as positive or negative based on their content. I used a number of different natural language processing (NLP) techniques including, stemming, count vectorising and term frequency - indirect document frequency (TFIDF), along with Logistic Regression modelling. The result was an extremely accurate model (accuracy and recall scores of 0.95) which I could then use to analyse reviews from individual restaurants to understand what aspects matter most to people."
   ]
  },
  {
   "cell_type": "markdown",
   "metadata": {},
   "source": [
    "---"
   ]
  },
  {
   "cell_type": "markdown",
   "metadata": {
    "execution": {
     "iopub.execute_input": "2020-09-11T10:42:17.822306Z",
     "iopub.status.busy": "2020-09-11T10:42:17.821387Z",
     "iopub.status.idle": "2020-09-11T10:42:17.834126Z",
     "shell.execute_reply": "2020-09-11T10:42:17.830610Z",
     "shell.execute_reply.started": "2020-09-11T10:42:17.822259Z"
    }
   },
   "source": [
    "#### Setting up connection local DB for storing review data"
   ]
  },
  {
   "cell_type": "code",
   "execution_count": 1,
   "metadata": {
    "execution": {
     "iopub.execute_input": "2020-08-23T13:03:58.970211Z",
     "iopub.status.busy": "2020-08-23T13:03:58.969961Z",
     "iopub.status.idle": "2020-08-23T13:04:02.696080Z",
     "shell.execute_reply": "2020-08-23T13:04:02.695044Z",
     "shell.execute_reply.started": "2020-08-23T13:03:58.970187Z"
    }
   },
   "outputs": [],
   "source": [
    "import pandas as pd\n",
    "import numpy as np\n",
    "from tqdm import tqdm\n",
    "import sqlalchemy"
   ]
  },
  {
   "cell_type": "code",
   "execution_count": 2,
   "metadata": {
    "execution": {
     "iopub.execute_input": "2020-08-23T13:04:02.698128Z",
     "iopub.status.busy": "2020-08-23T13:04:02.697640Z",
     "iopub.status.idle": "2020-08-23T13:04:02.705691Z",
     "shell.execute_reply": "2020-08-23T13:04:02.704755Z",
     "shell.execute_reply.started": "2020-08-23T13:04:02.698083Z"
    }
   },
   "outputs": [],
   "source": [
    "db_user = 'user'\n",
    "db_password = ''\n",
    "db_host = 'localhost'\n",
    "db_port = 5432\n",
    "database = 'user'\n",
    "\n",
    "conn_postgres = f'postgres://{db_user}:{db_password}@{db_host}:{db_port}'"
   ]
  },
  {
   "cell_type": "code",
   "execution_count": 3,
   "metadata": {
    "execution": {
     "iopub.execute_input": "2020-08-23T13:04:02.708490Z",
     "iopub.status.busy": "2020-08-23T13:04:02.708047Z",
     "iopub.status.idle": "2020-08-23T13:04:03.427800Z",
     "shell.execute_reply": "2020-08-23T13:04:03.426776Z",
     "shell.execute_reply.started": "2020-08-23T13:04:02.708451Z"
    }
   },
   "outputs": [],
   "source": [
    "# create an sqlalchemy connection\n",
    "engine = sqlalchemy.engine.create_engine(conn_postgres)\n",
    "# connect using sqlalchemy\n",
    "connection = engine.connect()"
   ]
  },
  {
   "cell_type": "markdown",
   "metadata": {},
   "source": [
    "---"
   ]
  },
  {
   "cell_type": "markdown",
   "metadata": {},
   "source": [
    "## Data Loading (JSONs) <a id='data_loading'></a>"
   ]
  },
  {
   "cell_type": "markdown",
   "metadata": {},
   "source": [
    "### Load business data"
   ]
  },
  {
   "cell_type": "code",
   "execution_count": 3,
   "metadata": {},
   "outputs": [],
   "source": [
    "biz = pd.read_json(\"~/Documents/Datasets/yelp_dataset/yelp_academic_dataset_business.json\", lines=True)"
   ]
  },
  {
   "cell_type": "code",
   "execution_count": 23,
   "metadata": {},
   "outputs": [
    {
     "data": {
      "text/html": [
       "<div>\n",
       "<style scoped>\n",
       "    .dataframe tbody tr th:only-of-type {\n",
       "        vertical-align: middle;\n",
       "    }\n",
       "\n",
       "    .dataframe tbody tr th {\n",
       "        vertical-align: top;\n",
       "    }\n",
       "\n",
       "    .dataframe thead th {\n",
       "        text-align: right;\n",
       "    }\n",
       "</style>\n",
       "<table border=\"1\" class=\"dataframe\">\n",
       "  <thead>\n",
       "    <tr style=\"text-align: right;\">\n",
       "      <th></th>\n",
       "      <th>business_id</th>\n",
       "      <th>name</th>\n",
       "      <th>address</th>\n",
       "      <th>city</th>\n",
       "      <th>state</th>\n",
       "      <th>postal_code</th>\n",
       "      <th>latitude</th>\n",
       "      <th>longitude</th>\n",
       "      <th>stars</th>\n",
       "      <th>review_count</th>\n",
       "      <th>is_open</th>\n",
       "      <th>attributes</th>\n",
       "      <th>categories</th>\n",
       "      <th>hours</th>\n",
       "    </tr>\n",
       "  </thead>\n",
       "  <tbody>\n",
       "    <tr>\n",
       "      <th>0</th>\n",
       "      <td>f9NumwFMBDn751xgFiRbNA</td>\n",
       "      <td>The Range At Lake Norman</td>\n",
       "      <td>10913 Bailey Rd</td>\n",
       "      <td>Cornelius</td>\n",
       "      <td>NC</td>\n",
       "      <td>28031</td>\n",
       "      <td>35.462724</td>\n",
       "      <td>-80.852612</td>\n",
       "      <td>3.5</td>\n",
       "      <td>36</td>\n",
       "      <td>1</td>\n",
       "      <td>{'BusinessAcceptsCreditCards': 'True', 'BikePa...</td>\n",
       "      <td>Active Life, Gun/Rifle Ranges, Guns &amp; Ammo, Sh...</td>\n",
       "      <td>{'Monday': '10:0-18:0', 'Tuesday': '11:0-20:0'...</td>\n",
       "    </tr>\n",
       "    <tr>\n",
       "      <th>1</th>\n",
       "      <td>Yzvjg0SayhoZgCljUJRF9Q</td>\n",
       "      <td>Carlos Santo, NMD</td>\n",
       "      <td>8880 E Via Linda, Ste 107</td>\n",
       "      <td>Scottsdale</td>\n",
       "      <td>AZ</td>\n",
       "      <td>85258</td>\n",
       "      <td>33.569404</td>\n",
       "      <td>-111.890264</td>\n",
       "      <td>5.0</td>\n",
       "      <td>4</td>\n",
       "      <td>1</td>\n",
       "      <td>{'GoodForKids': 'True', 'ByAppointmentOnly': '...</td>\n",
       "      <td>Health &amp; Medical, Fitness &amp; Instruction, Yoga,...</td>\n",
       "      <td>None</td>\n",
       "    </tr>\n",
       "    <tr>\n",
       "      <th>2</th>\n",
       "      <td>XNoUzKckATkOD1hP6vghZg</td>\n",
       "      <td>Felinus</td>\n",
       "      <td>3554 Rue Notre-Dame O</td>\n",
       "      <td>Montreal</td>\n",
       "      <td>QC</td>\n",
       "      <td>H4C 1P4</td>\n",
       "      <td>45.479984</td>\n",
       "      <td>-73.580070</td>\n",
       "      <td>5.0</td>\n",
       "      <td>5</td>\n",
       "      <td>1</td>\n",
       "      <td>None</td>\n",
       "      <td>Pets, Pet Services, Pet Groomers</td>\n",
       "      <td>None</td>\n",
       "    </tr>\n",
       "  </tbody>\n",
       "</table>\n",
       "</div>"
      ],
      "text/plain": [
       "              business_id                      name  \\\n",
       "0  f9NumwFMBDn751xgFiRbNA  The Range At Lake Norman   \n",
       "1  Yzvjg0SayhoZgCljUJRF9Q         Carlos Santo, NMD   \n",
       "2  XNoUzKckATkOD1hP6vghZg                   Felinus   \n",
       "\n",
       "                     address        city state postal_code   latitude  \\\n",
       "0            10913 Bailey Rd   Cornelius    NC       28031  35.462724   \n",
       "1  8880 E Via Linda, Ste 107  Scottsdale    AZ       85258  33.569404   \n",
       "2      3554 Rue Notre-Dame O    Montreal    QC     H4C 1P4  45.479984   \n",
       "\n",
       "    longitude  stars  review_count  is_open  \\\n",
       "0  -80.852612    3.5            36        1   \n",
       "1 -111.890264    5.0             4        1   \n",
       "2  -73.580070    5.0             5        1   \n",
       "\n",
       "                                          attributes  \\\n",
       "0  {'BusinessAcceptsCreditCards': 'True', 'BikePa...   \n",
       "1  {'GoodForKids': 'True', 'ByAppointmentOnly': '...   \n",
       "2                                               None   \n",
       "\n",
       "                                          categories  \\\n",
       "0  Active Life, Gun/Rifle Ranges, Guns & Ammo, Sh...   \n",
       "1  Health & Medical, Fitness & Instruction, Yoga,...   \n",
       "2                   Pets, Pet Services, Pet Groomers   \n",
       "\n",
       "                                               hours  \n",
       "0  {'Monday': '10:0-18:0', 'Tuesday': '11:0-20:0'...  \n",
       "1                                               None  \n",
       "2                                               None  "
      ]
     },
     "execution_count": 23,
     "metadata": {},
     "output_type": "execute_result"
    }
   ],
   "source": [
    "biz.head(3)"
   ]
  },
  {
   "cell_type": "code",
   "execution_count": 41,
   "metadata": {},
   "outputs": [
    {
     "data": {
      "text/plain": [
       "(209393, 14)"
      ]
     },
     "execution_count": 41,
     "metadata": {},
     "output_type": "execute_result"
    }
   ],
   "source": [
    "biz.shape"
   ]
  },
  {
   "cell_type": "code",
   "execution_count": 18,
   "metadata": {},
   "outputs": [
    {
     "data": {
      "text/plain": [
       "business_id      object\n",
       "name             object\n",
       "address          object\n",
       "city             object\n",
       "state            object\n",
       "postal_code      object\n",
       "latitude        float64\n",
       "longitude       float64\n",
       "stars           float64\n",
       "review_count      int64\n",
       "is_open           int64\n",
       "attributes       object\n",
       "categories       object\n",
       "hours            object\n",
       "dtype: object"
      ]
     },
     "execution_count": 18,
     "metadata": {},
     "output_type": "execute_result"
    }
   ],
   "source": [
    "biz.dtypes"
   ]
  },
  {
   "cell_type": "code",
   "execution_count": 35,
   "metadata": {},
   "outputs": [],
   "source": [
    "biz['business_id'] = biz['business_id'].astype('str')\n",
    "biz['attributes'] = biz['attributes'].astype('str')\n",
    "biz['categories'] = biz['categories'].astype('str')\n",
    "biz['hours'] = biz['hours'].astype('str')"
   ]
  },
  {
   "cell_type": "code",
   "execution_count": 36,
   "metadata": {},
   "outputs": [],
   "source": [
    "biz.to_sql(name='yelp_business', con=engine, if_exists = 'replace', index=False)\n",
    "connection.execute('commit')"
   ]
  },
  {
   "cell_type": "markdown",
   "metadata": {},
   "source": [
    "---"
   ]
  },
  {
   "cell_type": "markdown",
   "metadata": {},
   "source": [
    "### Load tips data"
   ]
  },
  {
   "cell_type": "code",
   "execution_count": 43,
   "metadata": {},
   "outputs": [],
   "source": [
    "tip = pd.read_json(\"~/Documents/Datasets/yelp_dataset/yelp_academic_dataset_tip.json\", lines=True)"
   ]
  },
  {
   "cell_type": "code",
   "execution_count": 44,
   "metadata": {},
   "outputs": [
    {
     "data": {
      "text/html": [
       "<div>\n",
       "<style scoped>\n",
       "    .dataframe tbody tr th:only-of-type {\n",
       "        vertical-align: middle;\n",
       "    }\n",
       "\n",
       "    .dataframe tbody tr th {\n",
       "        vertical-align: top;\n",
       "    }\n",
       "\n",
       "    .dataframe thead th {\n",
       "        text-align: right;\n",
       "    }\n",
       "</style>\n",
       "<table border=\"1\" class=\"dataframe\">\n",
       "  <thead>\n",
       "    <tr style=\"text-align: right;\">\n",
       "      <th></th>\n",
       "      <th>user_id</th>\n",
       "      <th>business_id</th>\n",
       "      <th>text</th>\n",
       "      <th>date</th>\n",
       "      <th>compliment_count</th>\n",
       "    </tr>\n",
       "  </thead>\n",
       "  <tbody>\n",
       "    <tr>\n",
       "      <th>0</th>\n",
       "      <td>hf27xTME3EiCp6NL6VtWZQ</td>\n",
       "      <td>UYX5zL_Xj9WEc_Wp-FrqHw</td>\n",
       "      <td>Here for a quick mtg</td>\n",
       "      <td>2013-11-26 18:20:08</td>\n",
       "      <td>0</td>\n",
       "    </tr>\n",
       "    <tr>\n",
       "      <th>1</th>\n",
       "      <td>uEvusDwoSymbJJ0auR3muQ</td>\n",
       "      <td>Ch3HkwQYv1YKw_FO06vBWA</td>\n",
       "      <td>Cucumber strawberry refresher</td>\n",
       "      <td>2014-06-15 22:26:45</td>\n",
       "      <td>0</td>\n",
       "    </tr>\n",
       "    <tr>\n",
       "      <th>2</th>\n",
       "      <td>AY-laIws3S7YXNl_f_D6rQ</td>\n",
       "      <td>rDoT-MgxGRiYqCmi0bG10g</td>\n",
       "      <td>Very nice good service good food</td>\n",
       "      <td>2016-07-18 22:03:42</td>\n",
       "      <td>0</td>\n",
       "    </tr>\n",
       "  </tbody>\n",
       "</table>\n",
       "</div>"
      ],
      "text/plain": [
       "                  user_id             business_id  \\\n",
       "0  hf27xTME3EiCp6NL6VtWZQ  UYX5zL_Xj9WEc_Wp-FrqHw   \n",
       "1  uEvusDwoSymbJJ0auR3muQ  Ch3HkwQYv1YKw_FO06vBWA   \n",
       "2  AY-laIws3S7YXNl_f_D6rQ  rDoT-MgxGRiYqCmi0bG10g   \n",
       "\n",
       "                               text                date  compliment_count  \n",
       "0              Here for a quick mtg 2013-11-26 18:20:08                 0  \n",
       "1     Cucumber strawberry refresher 2014-06-15 22:26:45                 0  \n",
       "2  Very nice good service good food 2016-07-18 22:03:42                 0  "
      ]
     },
     "execution_count": 44,
     "metadata": {},
     "output_type": "execute_result"
    }
   ],
   "source": [
    "tip.head(3)"
   ]
  },
  {
   "cell_type": "code",
   "execution_count": 45,
   "metadata": {},
   "outputs": [
    {
     "data": {
      "text/plain": [
       "(1320761, 5)"
      ]
     },
     "execution_count": 45,
     "metadata": {},
     "output_type": "execute_result"
    }
   ],
   "source": [
    "tip.shape"
   ]
  },
  {
   "cell_type": "code",
   "execution_count": 46,
   "metadata": {},
   "outputs": [
    {
     "data": {
      "text/plain": [
       "user_id                     object\n",
       "business_id                 object\n",
       "text                        object\n",
       "date                datetime64[ns]\n",
       "compliment_count             int64\n",
       "dtype: object"
      ]
     },
     "execution_count": 46,
     "metadata": {},
     "output_type": "execute_result"
    }
   ],
   "source": [
    "tip.dtypes"
   ]
  },
  {
   "cell_type": "code",
   "execution_count": 47,
   "metadata": {},
   "outputs": [],
   "source": [
    "tip['business_id'] = tip['business_id'].astype('str')\n",
    "tip['user_id'] = tip['user_id'].astype('str')"
   ]
  },
  {
   "cell_type": "code",
   "execution_count": 48,
   "metadata": {},
   "outputs": [
    {
     "data": {
      "text/plain": [
       "<sqlalchemy.engine.result.ResultProxy at 0x7f9df31a0b50>"
      ]
     },
     "execution_count": 48,
     "metadata": {},
     "output_type": "execute_result"
    }
   ],
   "source": [
    "tip.to_sql(name='yelp_tips', con=engine, if_exists = 'replace', index=False)\n",
    "connection.execute('commit')"
   ]
  },
  {
   "cell_type": "markdown",
   "metadata": {},
   "source": [
    "---"
   ]
  },
  {
   "cell_type": "markdown",
   "metadata": {},
   "source": [
    "### Load check-in data"
   ]
  },
  {
   "cell_type": "code",
   "execution_count": 52,
   "metadata": {},
   "outputs": [],
   "source": [
    "cin = pd.read_json(\"~/Documents/Datasets/yelp_dataset/yelp_academic_dataset_checkin.json\", lines=True)"
   ]
  },
  {
   "cell_type": "code",
   "execution_count": 53,
   "metadata": {},
   "outputs": [
    {
     "data": {
      "text/html": [
       "<div>\n",
       "<style scoped>\n",
       "    .dataframe tbody tr th:only-of-type {\n",
       "        vertical-align: middle;\n",
       "    }\n",
       "\n",
       "    .dataframe tbody tr th {\n",
       "        vertical-align: top;\n",
       "    }\n",
       "\n",
       "    .dataframe thead th {\n",
       "        text-align: right;\n",
       "    }\n",
       "</style>\n",
       "<table border=\"1\" class=\"dataframe\">\n",
       "  <thead>\n",
       "    <tr style=\"text-align: right;\">\n",
       "      <th></th>\n",
       "      <th>business_id</th>\n",
       "      <th>date</th>\n",
       "    </tr>\n",
       "  </thead>\n",
       "  <tbody>\n",
       "    <tr>\n",
       "      <th>0</th>\n",
       "      <td>--1UhMGODdWsrMastO9DZw</td>\n",
       "      <td>2016-04-26 19:49:16, 2016-08-30 18:36:57, 2016...</td>\n",
       "    </tr>\n",
       "    <tr>\n",
       "      <th>1</th>\n",
       "      <td>--6MefnULPED_I942VcFNA</td>\n",
       "      <td>2011-06-04 18:22:23, 2011-07-23 23:51:33, 2012...</td>\n",
       "    </tr>\n",
       "    <tr>\n",
       "      <th>2</th>\n",
       "      <td>--7zmmkVg-IMGaXbuVd0SQ</td>\n",
       "      <td>2014-12-29 19:25:50, 2015-01-17 01:49:14, 2015...</td>\n",
       "    </tr>\n",
       "  </tbody>\n",
       "</table>\n",
       "</div>"
      ],
      "text/plain": [
       "              business_id                                               date\n",
       "0  --1UhMGODdWsrMastO9DZw  2016-04-26 19:49:16, 2016-08-30 18:36:57, 2016...\n",
       "1  --6MefnULPED_I942VcFNA  2011-06-04 18:22:23, 2011-07-23 23:51:33, 2012...\n",
       "2  --7zmmkVg-IMGaXbuVd0SQ  2014-12-29 19:25:50, 2015-01-17 01:49:14, 2015..."
      ]
     },
     "execution_count": 53,
     "metadata": {},
     "output_type": "execute_result"
    }
   ],
   "source": [
    "cin.head(3)"
   ]
  },
  {
   "cell_type": "code",
   "execution_count": 54,
   "metadata": {},
   "outputs": [
    {
     "data": {
      "text/plain": [
       "(175187, 2)"
      ]
     },
     "execution_count": 54,
     "metadata": {},
     "output_type": "execute_result"
    }
   ],
   "source": [
    "cin.shape"
   ]
  },
  {
   "cell_type": "code",
   "execution_count": 55,
   "metadata": {},
   "outputs": [
    {
     "data": {
      "text/plain": [
       "business_id    object\n",
       "date           object\n",
       "dtype: object"
      ]
     },
     "execution_count": 55,
     "metadata": {},
     "output_type": "execute_result"
    }
   ],
   "source": [
    "cin.dtypes"
   ]
  },
  {
   "cell_type": "code",
   "execution_count": 57,
   "metadata": {},
   "outputs": [],
   "source": [
    "cin['business_id'] = cin['business_id'].astype('str')\n",
    "cin['date'] = cin['date'].astype('str')"
   ]
  },
  {
   "cell_type": "code",
   "execution_count": 58,
   "metadata": {},
   "outputs": [
    {
     "data": {
      "text/plain": [
       "<sqlalchemy.engine.result.ResultProxy at 0x7f9e0f1f3b50>"
      ]
     },
     "execution_count": 58,
     "metadata": {},
     "output_type": "execute_result"
    }
   ],
   "source": [
    "cin.to_sql(name='yelp_check_ins', con=engine, if_exists = 'replace', index=False)\n",
    "connection.execute('commit')"
   ]
  },
  {
   "cell_type": "markdown",
   "metadata": {},
   "source": [
    "---"
   ]
  },
  {
   "cell_type": "markdown",
   "metadata": {},
   "source": [
    "### Load user data"
   ]
  },
  {
   "cell_type": "code",
   "execution_count": 71,
   "metadata": {},
   "outputs": [],
   "source": [
    "user_files = ['users.ab', 'users.ac', 'users.ad', 'users.ae']"
   ]
  },
  {
   "cell_type": "code",
   "execution_count": 64,
   "metadata": {},
   "outputs": [],
   "source": [
    "users = pd.read_json(\"~/Documents/Datasets/yelp_dataset/users.aa\", lines=True)"
   ]
  },
  {
   "cell_type": "code",
   "execution_count": 66,
   "metadata": {},
   "outputs": [
    {
     "data": {
      "text/html": [
       "<div>\n",
       "<style scoped>\n",
       "    .dataframe tbody tr th:only-of-type {\n",
       "        vertical-align: middle;\n",
       "    }\n",
       "\n",
       "    .dataframe tbody tr th {\n",
       "        vertical-align: top;\n",
       "    }\n",
       "\n",
       "    .dataframe thead th {\n",
       "        text-align: right;\n",
       "    }\n",
       "</style>\n",
       "<table border=\"1\" class=\"dataframe\">\n",
       "  <thead>\n",
       "    <tr style=\"text-align: right;\">\n",
       "      <th></th>\n",
       "      <th>user_id</th>\n",
       "      <th>name</th>\n",
       "      <th>review_count</th>\n",
       "      <th>yelping_since</th>\n",
       "      <th>useful</th>\n",
       "      <th>funny</th>\n",
       "      <th>cool</th>\n",
       "      <th>elite</th>\n",
       "      <th>friends</th>\n",
       "      <th>fans</th>\n",
       "      <th>...</th>\n",
       "      <th>compliment_more</th>\n",
       "      <th>compliment_profile</th>\n",
       "      <th>compliment_cute</th>\n",
       "      <th>compliment_list</th>\n",
       "      <th>compliment_note</th>\n",
       "      <th>compliment_plain</th>\n",
       "      <th>compliment_cool</th>\n",
       "      <th>compliment_funny</th>\n",
       "      <th>compliment_writer</th>\n",
       "      <th>compliment_photos</th>\n",
       "    </tr>\n",
       "  </thead>\n",
       "  <tbody>\n",
       "    <tr>\n",
       "      <th>0</th>\n",
       "      <td>ntlvfPzc8eglqvk92iDIAw</td>\n",
       "      <td>Rafael</td>\n",
       "      <td>553</td>\n",
       "      <td>2007-07-06 03:27:11</td>\n",
       "      <td>628</td>\n",
       "      <td>225</td>\n",
       "      <td>227</td>\n",
       "      <td></td>\n",
       "      <td>oeMvJh94PiGQnx_6GlndPQ, wm1z1PaJKvHgSDRKfwhfDg...</td>\n",
       "      <td>14</td>\n",
       "      <td>...</td>\n",
       "      <td>2</td>\n",
       "      <td>1</td>\n",
       "      <td>0</td>\n",
       "      <td>1</td>\n",
       "      <td>11</td>\n",
       "      <td>15</td>\n",
       "      <td>22</td>\n",
       "      <td>22</td>\n",
       "      <td>10</td>\n",
       "      <td>0</td>\n",
       "    </tr>\n",
       "    <tr>\n",
       "      <th>1</th>\n",
       "      <td>FOBRPlBHa3WPHFB5qYDlVg</td>\n",
       "      <td>Michelle</td>\n",
       "      <td>564</td>\n",
       "      <td>2008-04-28 01:29:25</td>\n",
       "      <td>790</td>\n",
       "      <td>316</td>\n",
       "      <td>400</td>\n",
       "      <td>2008,2009,2010,2011,2012,2013</td>\n",
       "      <td>ly7EnE8leJmyqyePVYFlug, pRlR63iDytsnnniPb3AOug...</td>\n",
       "      <td>27</td>\n",
       "      <td>...</td>\n",
       "      <td>4</td>\n",
       "      <td>5</td>\n",
       "      <td>2</td>\n",
       "      <td>1</td>\n",
       "      <td>33</td>\n",
       "      <td>37</td>\n",
       "      <td>63</td>\n",
       "      <td>63</td>\n",
       "      <td>21</td>\n",
       "      <td>5</td>\n",
       "    </tr>\n",
       "    <tr>\n",
       "      <th>2</th>\n",
       "      <td>zZUnPeh2hEp0WydbAZEOOg</td>\n",
       "      <td>Martin</td>\n",
       "      <td>60</td>\n",
       "      <td>2008-08-28 23:40:05</td>\n",
       "      <td>151</td>\n",
       "      <td>125</td>\n",
       "      <td>103</td>\n",
       "      <td>2010</td>\n",
       "      <td>Uwlk0txjQBPw_JhHsQnyeg, Ybxr1tSCkv3lYA0I1qmnPQ...</td>\n",
       "      <td>5</td>\n",
       "      <td>...</td>\n",
       "      <td>6</td>\n",
       "      <td>0</td>\n",
       "      <td>1</td>\n",
       "      <td>0</td>\n",
       "      <td>3</td>\n",
       "      <td>7</td>\n",
       "      <td>17</td>\n",
       "      <td>17</td>\n",
       "      <td>4</td>\n",
       "      <td>1</td>\n",
       "    </tr>\n",
       "  </tbody>\n",
       "</table>\n",
       "<p>3 rows × 22 columns</p>\n",
       "</div>"
      ],
      "text/plain": [
       "                  user_id      name  review_count        yelping_since  \\\n",
       "0  ntlvfPzc8eglqvk92iDIAw    Rafael           553  2007-07-06 03:27:11   \n",
       "1  FOBRPlBHa3WPHFB5qYDlVg  Michelle           564  2008-04-28 01:29:25   \n",
       "2  zZUnPeh2hEp0WydbAZEOOg    Martin            60  2008-08-28 23:40:05   \n",
       "\n",
       "   useful  funny  cool                          elite  \\\n",
       "0     628    225   227                                  \n",
       "1     790    316   400  2008,2009,2010,2011,2012,2013   \n",
       "2     151    125   103                           2010   \n",
       "\n",
       "                                             friends  fans  ...  \\\n",
       "0  oeMvJh94PiGQnx_6GlndPQ, wm1z1PaJKvHgSDRKfwhfDg...    14  ...   \n",
       "1  ly7EnE8leJmyqyePVYFlug, pRlR63iDytsnnniPb3AOug...    27  ...   \n",
       "2  Uwlk0txjQBPw_JhHsQnyeg, Ybxr1tSCkv3lYA0I1qmnPQ...     5  ...   \n",
       "\n",
       "   compliment_more  compliment_profile  compliment_cute  compliment_list  \\\n",
       "0                2                   1                0                1   \n",
       "1                4                   5                2                1   \n",
       "2                6                   0                1                0   \n",
       "\n",
       "   compliment_note  compliment_plain  compliment_cool  compliment_funny  \\\n",
       "0               11                15               22                22   \n",
       "1               33                37               63                63   \n",
       "2                3                 7               17                17   \n",
       "\n",
       "   compliment_writer  compliment_photos  \n",
       "0                 10                  0  \n",
       "1                 21                  5  \n",
       "2                  4                  1  \n",
       "\n",
       "[3 rows x 22 columns]"
      ]
     },
     "execution_count": 66,
     "metadata": {},
     "output_type": "execute_result"
    }
   ],
   "source": [
    "users.head(3)"
   ]
  },
  {
   "cell_type": "code",
   "execution_count": 67,
   "metadata": {},
   "outputs": [
    {
     "data": {
      "text/plain": [
       "(393741, 22)"
      ]
     },
     "execution_count": 67,
     "metadata": {},
     "output_type": "execute_result"
    }
   ],
   "source": [
    "users.shape"
   ]
  },
  {
   "cell_type": "code",
   "execution_count": 68,
   "metadata": {},
   "outputs": [
    {
     "data": {
      "text/plain": [
       "user_id                object\n",
       "name                   object\n",
       "review_count            int64\n",
       "yelping_since          object\n",
       "useful                  int64\n",
       "funny                   int64\n",
       "cool                    int64\n",
       "elite                  object\n",
       "friends                object\n",
       "fans                    int64\n",
       "average_stars         float64\n",
       "compliment_hot          int64\n",
       "compliment_more         int64\n",
       "compliment_profile      int64\n",
       "compliment_cute         int64\n",
       "compliment_list         int64\n",
       "compliment_note         int64\n",
       "compliment_plain        int64\n",
       "compliment_cool         int64\n",
       "compliment_funny        int64\n",
       "compliment_writer       int64\n",
       "compliment_photos       int64\n",
       "dtype: object"
      ]
     },
     "execution_count": 68,
     "metadata": {},
     "output_type": "execute_result"
    }
   ],
   "source": [
    "users.dtypes"
   ]
  },
  {
   "cell_type": "code",
   "execution_count": 69,
   "metadata": {},
   "outputs": [],
   "source": [
    "users['user_id'] = users['user_id'].astype('str')\n",
    "users['elite'] = users['elite'].astype('str')\n",
    "users['friends'] = users['friends'].astype('str')"
   ]
  },
  {
   "cell_type": "code",
   "execution_count": 70,
   "metadata": {},
   "outputs": [
    {
     "data": {
      "text/plain": [
       "<sqlalchemy.engine.result.ResultProxy at 0x7f9e0f30bdd0>"
      ]
     },
     "execution_count": 70,
     "metadata": {},
     "output_type": "execute_result"
    }
   ],
   "source": [
    "users.to_sql(name='yelp_users', con=engine, if_exists = 'replace', index=False)\n",
    "connection.execute('commit')"
   ]
  },
  {
   "cell_type": "code",
   "execution_count": 76,
   "metadata": {},
   "outputs": [],
   "source": [
    "for file in tqdm(user_files):\n",
    "    path = \"~/Documents/Datasets/yelp_dataset/\" + file\n",
    "    users = pd.read_json(path, lines=True)\n",
    "    \n",
    "    users['user_id'] = users['user_id'].astype('str')\n",
    "    users['elite'] = users['elite'].astype('str')\n",
    "    users['friends'] = users['friends'].astype('str')\n",
    "    \n",
    "    users.to_sql(name='yelp_users', con=engine, if_exists = 'append', index=False)\n",
    "    connection.execute('commit')"
   ]
  },
  {
   "cell_type": "markdown",
   "metadata": {},
   "source": [
    "---"
   ]
  },
  {
   "cell_type": "markdown",
   "metadata": {},
   "source": [
    "### Load review data"
   ]
  },
  {
   "cell_type": "code",
   "execution_count": 77,
   "metadata": {},
   "outputs": [],
   "source": [
    "review_files = ['reviews.ab', \n",
    "                'reviews.ac', \n",
    "                'reviews.ad', \n",
    "                'reviews.ae', \n",
    "                'reviews.af', \n",
    "                'reviews.ag', \n",
    "                'reviews.ah', \n",
    "                'reviews.ai', \n",
    "                'reviews.aj']"
   ]
  },
  {
   "cell_type": "code",
   "execution_count": 78,
   "metadata": {},
   "outputs": [],
   "source": [
    "reviews = pd.read_json(\"~/Documents/Datasets/yelp_dataset/reviews.aa\", lines=True)"
   ]
  },
  {
   "cell_type": "code",
   "execution_count": 79,
   "metadata": {},
   "outputs": [
    {
     "data": {
      "text/html": [
       "<div>\n",
       "<style scoped>\n",
       "    .dataframe tbody tr th:only-of-type {\n",
       "        vertical-align: middle;\n",
       "    }\n",
       "\n",
       "    .dataframe tbody tr th {\n",
       "        vertical-align: top;\n",
       "    }\n",
       "\n",
       "    .dataframe thead th {\n",
       "        text-align: right;\n",
       "    }\n",
       "</style>\n",
       "<table border=\"1\" class=\"dataframe\">\n",
       "  <thead>\n",
       "    <tr style=\"text-align: right;\">\n",
       "      <th></th>\n",
       "      <th>review_id</th>\n",
       "      <th>user_id</th>\n",
       "      <th>business_id</th>\n",
       "      <th>stars</th>\n",
       "      <th>useful</th>\n",
       "      <th>funny</th>\n",
       "      <th>cool</th>\n",
       "      <th>text</th>\n",
       "      <th>date</th>\n",
       "    </tr>\n",
       "  </thead>\n",
       "  <tbody>\n",
       "    <tr>\n",
       "      <th>0</th>\n",
       "      <td>xQY8N_XvtGbearJ5X4QryQ</td>\n",
       "      <td>OwjRMXRC0KyPrIlcjaXeFQ</td>\n",
       "      <td>-MhfebM0QIsKt87iDN-FNw</td>\n",
       "      <td>2</td>\n",
       "      <td>5</td>\n",
       "      <td>0</td>\n",
       "      <td>0</td>\n",
       "      <td>As someone who has worked with many museums, I...</td>\n",
       "      <td>2015-04-15 05:21:16</td>\n",
       "    </tr>\n",
       "    <tr>\n",
       "      <th>1</th>\n",
       "      <td>UmFMZ8PyXZTY2QcwzsfQYA</td>\n",
       "      <td>nIJD_7ZXHq-FX8byPMOkMQ</td>\n",
       "      <td>lbrU8StCq3yDfr-QMnGrmQ</td>\n",
       "      <td>1</td>\n",
       "      <td>1</td>\n",
       "      <td>1</td>\n",
       "      <td>0</td>\n",
       "      <td>I am actually horrified this place is still in...</td>\n",
       "      <td>2013-12-07 03:16:52</td>\n",
       "    </tr>\n",
       "    <tr>\n",
       "      <th>2</th>\n",
       "      <td>LG2ZaYiOgpr2DK_90pYjNw</td>\n",
       "      <td>V34qejxNsCbcgD8C0HVk-Q</td>\n",
       "      <td>HQl28KMwrEKHqhFrrDqVNQ</td>\n",
       "      <td>5</td>\n",
       "      <td>1</td>\n",
       "      <td>0</td>\n",
       "      <td>0</td>\n",
       "      <td>I love Deagan's. I do. I really do. The atmosp...</td>\n",
       "      <td>2015-12-05 03:18:11</td>\n",
       "    </tr>\n",
       "  </tbody>\n",
       "</table>\n",
       "</div>"
      ],
      "text/plain": [
       "                review_id                 user_id             business_id  \\\n",
       "0  xQY8N_XvtGbearJ5X4QryQ  OwjRMXRC0KyPrIlcjaXeFQ  -MhfebM0QIsKt87iDN-FNw   \n",
       "1  UmFMZ8PyXZTY2QcwzsfQYA  nIJD_7ZXHq-FX8byPMOkMQ  lbrU8StCq3yDfr-QMnGrmQ   \n",
       "2  LG2ZaYiOgpr2DK_90pYjNw  V34qejxNsCbcgD8C0HVk-Q  HQl28KMwrEKHqhFrrDqVNQ   \n",
       "\n",
       "   stars  useful  funny  cool  \\\n",
       "0      2       5      0     0   \n",
       "1      1       1      1     0   \n",
       "2      5       1      0     0   \n",
       "\n",
       "                                                text                date  \n",
       "0  As someone who has worked with many museums, I... 2015-04-15 05:21:16  \n",
       "1  I am actually horrified this place is still in... 2013-12-07 03:16:52  \n",
       "2  I love Deagan's. I do. I really do. The atmosp... 2015-12-05 03:18:11  "
      ]
     },
     "execution_count": 79,
     "metadata": {},
     "output_type": "execute_result"
    }
   ],
   "source": [
    "reviews.head(3)"
   ]
  },
  {
   "cell_type": "code",
   "execution_count": 80,
   "metadata": {},
   "outputs": [
    {
     "data": {
      "text/plain": [
       "(802113, 9)"
      ]
     },
     "execution_count": 80,
     "metadata": {},
     "output_type": "execute_result"
    }
   ],
   "source": [
    "reviews.shape"
   ]
  },
  {
   "cell_type": "code",
   "execution_count": 81,
   "metadata": {},
   "outputs": [
    {
     "data": {
      "text/plain": [
       "review_id              object\n",
       "user_id                object\n",
       "business_id            object\n",
       "stars                   int64\n",
       "useful                  int64\n",
       "funny                   int64\n",
       "cool                    int64\n",
       "text                   object\n",
       "date           datetime64[ns]\n",
       "dtype: object"
      ]
     },
     "execution_count": 81,
     "metadata": {},
     "output_type": "execute_result"
    }
   ],
   "source": [
    "reviews.dtypes"
   ]
  },
  {
   "cell_type": "code",
   "execution_count": 82,
   "metadata": {},
   "outputs": [],
   "source": [
    "reviews['review_id'] = reviews['review_id'].astype('str')\n",
    "reviews['user_id'] = reviews['user_id'].astype('str')\n",
    "reviews['business_id'] = reviews['business_id'].astype('str')"
   ]
  },
  {
   "cell_type": "code",
   "execution_count": 83,
   "metadata": {},
   "outputs": [
    {
     "data": {
      "text/plain": [
       "<sqlalchemy.engine.result.ResultProxy at 0x7f9df2b232d0>"
      ]
     },
     "execution_count": 83,
     "metadata": {},
     "output_type": "execute_result"
    }
   ],
   "source": [
    "reviews.to_sql(name='yelp_reviews', con=engine, if_exists = 'replace', index=False)\n",
    "connection.execute('commit')"
   ]
  },
  {
   "cell_type": "code",
   "execution_count": 89,
   "metadata": {},
   "outputs": [
    {
     "name": "stderr",
     "output_type": "stream",
     "text": [
      "100%|██████████| 9/9 [31:55<00:00, 212.87s/it]\n"
     ]
    }
   ],
   "source": [
    "for file in tqdm(review_files):\n",
    "    path = \"~/Documents/Datasets/yelp_dataset/\" + file\n",
    "    reviews = pd.read_json(path, lines=True)\n",
    "    \n",
    "    reviews['review_id'] = reviews['review_id'].astype('str')\n",
    "    reviews['user_id'] = reviews['user_id'].astype('str')\n",
    "    reviews['business_id'] = reviews['business_id'].astype('str')\n",
    "\n",
    "    reviews.to_sql(name='yelp_reviews', con=engine, if_exists = 'append', index=False)\n",
    "    connection.execute('commit')"
   ]
  },
  {
   "cell_type": "markdown",
   "metadata": {},
   "source": [
    "---"
   ]
  },
  {
   "cell_type": "markdown",
   "metadata": {},
   "source": [
    "### Check data - read data from Postgres"
   ]
  },
  {
   "cell_type": "code",
   "execution_count": 84,
   "metadata": {},
   "outputs": [],
   "source": [
    "data = pd.read_sql(sql='yelp_reviews', con=engine)"
   ]
  },
  {
   "cell_type": "code",
   "execution_count": 85,
   "metadata": {},
   "outputs": [
    {
     "data": {
      "text/html": [
       "<div>\n",
       "<style scoped>\n",
       "    .dataframe tbody tr th:only-of-type {\n",
       "        vertical-align: middle;\n",
       "    }\n",
       "\n",
       "    .dataframe tbody tr th {\n",
       "        vertical-align: top;\n",
       "    }\n",
       "\n",
       "    .dataframe thead th {\n",
       "        text-align: right;\n",
       "    }\n",
       "</style>\n",
       "<table border=\"1\" class=\"dataframe\">\n",
       "  <thead>\n",
       "    <tr style=\"text-align: right;\">\n",
       "      <th></th>\n",
       "      <th>review_id</th>\n",
       "      <th>user_id</th>\n",
       "      <th>business_id</th>\n",
       "      <th>stars</th>\n",
       "      <th>useful</th>\n",
       "      <th>funny</th>\n",
       "      <th>cool</th>\n",
       "      <th>text</th>\n",
       "      <th>date</th>\n",
       "    </tr>\n",
       "  </thead>\n",
       "  <tbody>\n",
       "    <tr>\n",
       "      <th>0</th>\n",
       "      <td>xQY8N_XvtGbearJ5X4QryQ</td>\n",
       "      <td>OwjRMXRC0KyPrIlcjaXeFQ</td>\n",
       "      <td>-MhfebM0QIsKt87iDN-FNw</td>\n",
       "      <td>2</td>\n",
       "      <td>5</td>\n",
       "      <td>0</td>\n",
       "      <td>0</td>\n",
       "      <td>As someone who has worked with many museums, I...</td>\n",
       "      <td>2015-04-15 05:21:16</td>\n",
       "    </tr>\n",
       "    <tr>\n",
       "      <th>1</th>\n",
       "      <td>UmFMZ8PyXZTY2QcwzsfQYA</td>\n",
       "      <td>nIJD_7ZXHq-FX8byPMOkMQ</td>\n",
       "      <td>lbrU8StCq3yDfr-QMnGrmQ</td>\n",
       "      <td>1</td>\n",
       "      <td>1</td>\n",
       "      <td>1</td>\n",
       "      <td>0</td>\n",
       "      <td>I am actually horrified this place is still in...</td>\n",
       "      <td>2013-12-07 03:16:52</td>\n",
       "    </tr>\n",
       "    <tr>\n",
       "      <th>2</th>\n",
       "      <td>LG2ZaYiOgpr2DK_90pYjNw</td>\n",
       "      <td>V34qejxNsCbcgD8C0HVk-Q</td>\n",
       "      <td>HQl28KMwrEKHqhFrrDqVNQ</td>\n",
       "      <td>5</td>\n",
       "      <td>1</td>\n",
       "      <td>0</td>\n",
       "      <td>0</td>\n",
       "      <td>I love Deagan's. I do. I really do. The atmosp...</td>\n",
       "      <td>2015-12-05 03:18:11</td>\n",
       "    </tr>\n",
       "    <tr>\n",
       "      <th>3</th>\n",
       "      <td>i6g_oA9Yf9Y31qt0wibXpw</td>\n",
       "      <td>ofKDkJKXSKZXu5xJNGiiBQ</td>\n",
       "      <td>5JxlZaqCnk1MnbgRirs40Q</td>\n",
       "      <td>1</td>\n",
       "      <td>0</td>\n",
       "      <td>0</td>\n",
       "      <td>0</td>\n",
       "      <td>Dismal, lukewarm, defrosted-tasting \"TexMex\" g...</td>\n",
       "      <td>2011-05-27 05:30:52</td>\n",
       "    </tr>\n",
       "    <tr>\n",
       "      <th>4</th>\n",
       "      <td>6TdNDKywdbjoTkizeMce8A</td>\n",
       "      <td>UgMW8bLE0QMJDCkQ1Ax5Mg</td>\n",
       "      <td>IS4cv902ykd8wj1TR0N3-A</td>\n",
       "      <td>4</td>\n",
       "      <td>0</td>\n",
       "      <td>0</td>\n",
       "      <td>0</td>\n",
       "      <td>Oh happy day, finally have a Canes near my cas...</td>\n",
       "      <td>2017-01-14 21:56:57</td>\n",
       "    </tr>\n",
       "  </tbody>\n",
       "</table>\n",
       "</div>"
      ],
      "text/plain": [
       "                review_id                 user_id             business_id  \\\n",
       "0  xQY8N_XvtGbearJ5X4QryQ  OwjRMXRC0KyPrIlcjaXeFQ  -MhfebM0QIsKt87iDN-FNw   \n",
       "1  UmFMZ8PyXZTY2QcwzsfQYA  nIJD_7ZXHq-FX8byPMOkMQ  lbrU8StCq3yDfr-QMnGrmQ   \n",
       "2  LG2ZaYiOgpr2DK_90pYjNw  V34qejxNsCbcgD8C0HVk-Q  HQl28KMwrEKHqhFrrDqVNQ   \n",
       "3  i6g_oA9Yf9Y31qt0wibXpw  ofKDkJKXSKZXu5xJNGiiBQ  5JxlZaqCnk1MnbgRirs40Q   \n",
       "4  6TdNDKywdbjoTkizeMce8A  UgMW8bLE0QMJDCkQ1Ax5Mg  IS4cv902ykd8wj1TR0N3-A   \n",
       "\n",
       "   stars  useful  funny  cool  \\\n",
       "0      2       5      0     0   \n",
       "1      1       1      1     0   \n",
       "2      5       1      0     0   \n",
       "3      1       0      0     0   \n",
       "4      4       0      0     0   \n",
       "\n",
       "                                                text                date  \n",
       "0  As someone who has worked with many museums, I... 2015-04-15 05:21:16  \n",
       "1  I am actually horrified this place is still in... 2013-12-07 03:16:52  \n",
       "2  I love Deagan's. I do. I really do. The atmosp... 2015-12-05 03:18:11  \n",
       "3  Dismal, lukewarm, defrosted-tasting \"TexMex\" g... 2011-05-27 05:30:52  \n",
       "4  Oh happy day, finally have a Canes near my cas... 2017-01-14 21:56:57  "
      ]
     },
     "execution_count": 85,
     "metadata": {},
     "output_type": "execute_result"
    }
   ],
   "source": [
    "data.head()"
   ]
  },
  {
   "cell_type": "code",
   "execution_count": 86,
   "metadata": {},
   "outputs": [
    {
     "data": {
      "text/plain": [
       "(802113, 9)"
      ]
     },
     "execution_count": 86,
     "metadata": {},
     "output_type": "execute_result"
    }
   ],
   "source": [
    "data.shape"
   ]
  },
  {
   "cell_type": "markdown",
   "metadata": {},
   "source": [
    "---"
   ]
  },
  {
   "cell_type": "markdown",
   "metadata": {},
   "source": [
    "### Check the language of reviews"
   ]
  },
  {
   "cell_type": "code",
   "execution_count": 4,
   "metadata": {
    "execution": {
     "iopub.execute_input": "2020-08-23T13:04:08.972157Z",
     "iopub.status.busy": "2020-08-23T13:04:08.971909Z",
     "iopub.status.idle": "2020-08-23T13:04:09.086196Z",
     "shell.execute_reply": "2020-08-23T13:04:09.085635Z",
     "shell.execute_reply.started": "2020-08-23T13:04:08.972131Z"
    }
   },
   "outputs": [],
   "source": [
    "from langdetect import detect, DetectorFactory, detect_langs\n",
    "DetectorFactory.seed = 0"
   ]
  },
  {
   "cell_type": "code",
   "execution_count": 17,
   "metadata": {
    "execution": {
     "iopub.execute_input": "2020-08-21T13:11:29.968438Z",
     "iopub.status.busy": "2020-08-21T13:11:29.967947Z",
     "iopub.status.idle": "2020-08-21T13:13:39.482974Z",
     "shell.execute_reply": "2020-08-21T13:13:39.480469Z",
     "shell.execute_reply.started": "2020-08-21T13:11:29.968404Z"
    }
   },
   "outputs": [
    {
     "name": "stderr",
     "output_type": "stream",
     "text": [
      "1it [01:05, 65.23s/it]\n"
     ]
    }
   ],
   "source": [
    "for data in tqdm(pd.read_sql(sql='select review_id, text from yelp_reviews_filtered where stars=3', con=engine, chunksize=50000)):\n",
    "    langs = []\n",
    "    detected_langs = []\n",
    "    \n",
    "    for idx, row in data.iterrows():\n",
    "        try:\n",
    "            langs.append(detect(row['text']))\n",
    "            detected_langs.append(str(detect_langs(row['text'])))\n",
    "        except:\n",
    "            print(row)\n",
    "            langs.append('fail')\n",
    "            detected_langs.append('fail')\n",
    "            continue\n",
    "    \n",
    "    lang = pd.DataFrame({'review_id': data['review_id'], 'lang': langs, 'detected_langs': detected_langs})\n",
    "#     print(lang)\n",
    "    lang.to_sql(name='yelp_reviews_lang', con=engine, if_exists ='append', index=False)\n",
    "    connection.execute('commit')"
   ]
  },
  {
   "cell_type": "markdown",
   "metadata": {},
   "source": [
    "---"
   ]
  },
  {
   "cell_type": "markdown",
   "metadata": {},
   "source": [
    "## Feature Creation"
   ]
  },
  {
   "cell_type": "markdown",
   "metadata": {},
   "source": [
    "### 1. Load sample data into a dataframe"
   ]
  },
  {
   "cell_type": "code",
   "execution_count": 5,
   "metadata": {
    "execution": {
     "iopub.execute_input": "2020-08-23T13:04:12.663916Z",
     "iopub.status.busy": "2020-08-23T13:04:12.663656Z",
     "iopub.status.idle": "2020-08-23T13:04:12.673099Z",
     "shell.execute_reply": "2020-08-23T13:04:12.671331Z",
     "shell.execute_reply.started": "2020-08-23T13:04:12.663891Z"
    }
   },
   "outputs": [],
   "source": [
    "# function to return a sample from the data\n",
    "def get_sample(sample_size=100):\n",
    "    query = \"\"\"\n",
    "            with reviews_1 as (\n",
    "            select review_id, stars, text\n",
    "            from yelp_reviews_filtered TABLESAMPLE BERNOULLI(75) \n",
    "            where stars = 1\n",
    "            limit \"\"\" + str(sample_size) + \"\"\"\n",
    "            )\n",
    "            , reviews_2 as (\n",
    "                select review_id, stars, text\n",
    "                from yelp_reviews_filtered TABLESAMPLE BERNOULLI(75)\n",
    "                where stars = 2\n",
    "                limit \"\"\" + str(sample_size) + \"\"\"\n",
    "            )\n",
    "            , reviews_4 as (\n",
    "                select review_id, stars, text\n",
    "                from yelp_reviews_filtered TABLESAMPLE BERNOULLI(75)\n",
    "                where stars = 4\n",
    "                limit \"\"\" + str(sample_size) + \"\"\"\n",
    "            )\n",
    "            , reviews_5 as (\n",
    "                select review_id, stars, text\n",
    "                from yelp_reviews_filtered TABLESAMPLE BERNOULLI(75)\n",
    "                where stars = 5\n",
    "                limit \"\"\" + str(sample_size) + \"\"\"\n",
    "            )\n",
    "\n",
    "            select *\n",
    "            from reviews_1\n",
    "            union\n",
    "            select *\n",
    "            from reviews_2\n",
    "            union\n",
    "            select *\n",
    "            from reviews_4\n",
    "            union\n",
    "            select *\n",
    "            from reviews_5 \n",
    "            \"\"\"\n",
    "\n",
    "    df = pd.read_sql(con=engine, sql=query)\n",
    "    df['target'] = df.stars.apply(lambda x: (x > 3)*1)\n",
    "\n",
    "    return df.copy()"
   ]
  },
  {
   "cell_type": "code",
   "execution_count": 5,
   "metadata": {},
   "outputs": [],
   "source": [
    "df = get_sample(500)"
   ]
  },
  {
   "cell_type": "code",
   "execution_count": 6,
   "metadata": {},
   "outputs": [
    {
     "data": {
      "text/plain": [
       "(2000, 3)"
      ]
     },
     "execution_count": 6,
     "metadata": {},
     "output_type": "execute_result"
    }
   ],
   "source": [
    "df.shape"
   ]
  },
  {
   "cell_type": "code",
   "execution_count": 7,
   "metadata": {},
   "outputs": [
    {
     "name": "stdout",
     "output_type": "stream",
     "text": [
      "<class 'pandas.core.frame.DataFrame'>\n",
      "RangeIndex: 2000 entries, 0 to 1999\n",
      "Data columns (total 3 columns):\n",
      " #   Column  Non-Null Count  Dtype \n",
      "---  ------  --------------  ----- \n",
      " 0   stars   2000 non-null   int64 \n",
      " 1   text    2000 non-null   object\n",
      " 2   target  2000 non-null   int64 \n",
      "dtypes: int64(2), object(1)\n",
      "memory usage: 47.0+ KB\n"
     ]
    }
   ],
   "source": [
    "df.info()"
   ]
  },
  {
   "cell_type": "code",
   "execution_count": 8,
   "metadata": {},
   "outputs": [
    {
     "data": {
      "text/html": [
       "<div>\n",
       "<style scoped>\n",
       "    .dataframe tbody tr th:only-of-type {\n",
       "        vertical-align: middle;\n",
       "    }\n",
       "\n",
       "    .dataframe tbody tr th {\n",
       "        vertical-align: top;\n",
       "    }\n",
       "\n",
       "    .dataframe thead th {\n",
       "        text-align: right;\n",
       "    }\n",
       "</style>\n",
       "<table border=\"1\" class=\"dataframe\">\n",
       "  <thead>\n",
       "    <tr style=\"text-align: right;\">\n",
       "      <th></th>\n",
       "      <th>stars</th>\n",
       "      <th>text</th>\n",
       "      <th>target</th>\n",
       "    </tr>\n",
       "  </thead>\n",
       "  <tbody>\n",
       "    <tr>\n",
       "      <th>0</th>\n",
       "      <td>2</td>\n",
       "      <td>First time checking this place out tonight- no...</td>\n",
       "      <td>0</td>\n",
       "    </tr>\n",
       "    <tr>\n",
       "      <th>1</th>\n",
       "      <td>4</td>\n",
       "      <td>Oh, those pepperoni rolls!!!\\n\\nI've had nothi...</td>\n",
       "      <td>1</td>\n",
       "    </tr>\n",
       "    <tr>\n",
       "      <th>2</th>\n",
       "      <td>1</td>\n",
       "      <td>This store and its employees are the most unfr...</td>\n",
       "      <td>0</td>\n",
       "    </tr>\n",
       "    <tr>\n",
       "      <th>3</th>\n",
       "      <td>4</td>\n",
       "      <td>Great customer service and has become one of m...</td>\n",
       "      <td>1</td>\n",
       "    </tr>\n",
       "    <tr>\n",
       "      <th>4</th>\n",
       "      <td>4</td>\n",
       "      <td>A vegetarian in a steakhouse? Who would have t...</td>\n",
       "      <td>1</td>\n",
       "    </tr>\n",
       "  </tbody>\n",
       "</table>\n",
       "</div>"
      ],
      "text/plain": [
       "   stars                                               text  target\n",
       "0      2  First time checking this place out tonight- no...       0\n",
       "1      4  Oh, those pepperoni rolls!!!\\n\\nI've had nothi...       1\n",
       "2      1  This store and its employees are the most unfr...       0\n",
       "3      4  Great customer service and has become one of m...       1\n",
       "4      4  A vegetarian in a steakhouse? Who would have t...       1"
      ]
     },
     "execution_count": 8,
     "metadata": {},
     "output_type": "execute_result"
    }
   ],
   "source": [
    "df.head()"
   ]
  },
  {
   "cell_type": "code",
   "execution_count": 9,
   "metadata": {},
   "outputs": [
    {
     "data": {
      "text/plain": [
       "5    500\n",
       "4    500\n",
       "2    500\n",
       "1    500\n",
       "Name: stars, dtype: int64"
      ]
     },
     "execution_count": 9,
     "metadata": {},
     "output_type": "execute_result"
    }
   ],
   "source": [
    "df.stars.value_counts()"
   ]
  },
  {
   "cell_type": "markdown",
   "metadata": {},
   "source": [
    "### 2. Setup Pipeline"
   ]
  },
  {
   "cell_type": "code",
   "execution_count": 17,
   "metadata": {
    "execution": {
     "iopub.execute_input": "2020-08-23T13:12:29.685305Z",
     "iopub.status.busy": "2020-08-23T13:12:29.685061Z",
     "iopub.status.idle": "2020-08-23T13:12:29.693519Z",
     "shell.execute_reply": "2020-08-23T13:12:29.690995Z",
     "shell.execute_reply.started": "2020-08-23T13:12:29.685280Z"
    }
   },
   "outputs": [],
   "source": [
    "import string\n",
    "from tqdm import tqdm\n",
    "from sklearn.decomposition import TruncatedSVD\n",
    "from nltk.corpus import stopwords\n",
    "from nltk.stem import PorterStemmer, WordNetLemmatizer\n",
    "from sklearn.base import BaseEstimator, TransformerMixin\n",
    "from sklearn.model_selection import train_test_split, cross_val_score, KFold\n",
    "from sklearn.feature_extraction.text import CountVectorizer, TfidfTransformer\n",
    "from sklearn.pipeline import Pipeline\n",
    "\n",
    "from sklearn.metrics import recall_score, accuracy_score\n",
    "from sklearn.model_selection import GridSearchCV\n",
    "from sklearn.linear_model import LogisticRegression\n",
    "import matplotlib.pyplot as plt"
   ]
  },
  {
   "cell_type": "code",
   "execution_count": 18,
   "metadata": {
    "execution": {
     "iopub.execute_input": "2020-08-23T13:12:30.106116Z",
     "iopub.status.busy": "2020-08-23T13:12:30.105870Z",
     "iopub.status.idle": "2020-08-23T13:12:30.115141Z",
     "shell.execute_reply": "2020-08-23T13:12:30.113924Z",
     "shell.execute_reply.started": "2020-08-23T13:12:30.106089Z"
    }
   },
   "outputs": [
    {
     "data": {
      "text/plain": [
       "'!\"#$%&\\'()*+,-./:;<=>?@[\\\\]^_`{|}~\\n\\t'"
      ]
     },
     "execution_count": 18,
     "metadata": {},
     "output_type": "execute_result"
    }
   ],
   "source": [
    "punc = string.punctuation + '\\n\\t'\n",
    "punc"
   ]
  },
  {
   "cell_type": "code",
   "execution_count": 21,
   "metadata": {
    "execution": {
     "iopub.execute_input": "2020-08-23T13:13:37.925534Z",
     "iopub.status.busy": "2020-08-23T13:13:37.925284Z",
     "iopub.status.idle": "2020-08-23T13:13:37.938213Z",
     "shell.execute_reply": "2020-08-23T13:13:37.936505Z",
     "shell.execute_reply.started": "2020-08-23T13:13:37.925509Z"
    }
   },
   "outputs": [],
   "source": [
    "# custom pre-processing class for tokenizing, stop word removal, case correction and stemming\n",
    "class JobPreprocessor(BaseEstimator, TransformerMixin):\n",
    "    \n",
    "    def __init__(self, punc=None, stopw=None):\n",
    "        self.punctuation = punc\n",
    "        self.stop_words = stopw\n",
    "        self.stemmer = PorterStemmer()\n",
    "    \n",
    "    def _strip_punctuation(self, X):\n",
    "        X = X.str.translate(str.maketrans('', '', self.punctuation))\n",
    "        return X\n",
    "    \n",
    "    \n",
    "    def _to_lowercase(self, X):\n",
    "        X = X.str.lower()\n",
    "        return X\n",
    "    \n",
    "    \n",
    "    def _tokenise(self, s):\n",
    "        return s.split()\n",
    "    \n",
    "    \n",
    "    def _remove_stop_words(self, X):\n",
    "        X = X.apply(lambda x: ' '.join([l for l in self._tokenise(x) if l not in self.stop_words]))\n",
    "        return X\n",
    "    \n",
    "    \n",
    "    def _stem_words(self, X):\n",
    "        X = X.apply(lambda x: ' '.join([self.stemmer.stem(l) for l in self._tokenise(x)]))\n",
    "        return X\n",
    "    \n",
    "    \n",
    "    def transform(self, X, *args):\n",
    "        \n",
    "        # strip punctuation\n",
    "        X = self._strip_punctuation(X)\n",
    "        \n",
    "        # convert text to lowercase\n",
    "        X = self._to_lowercase(X)\n",
    "        \n",
    "        # remove stop words\n",
    "        X = self._remove_stop_words(X)\n",
    "        \n",
    "        # stem words\n",
    "        X = self._stem_words(X) # lemmatisation instead?\n",
    "\n",
    "        return X\n",
    "        \n",
    "    \n",
    "    def fit(self, X, *args):\n",
    "        return self"
   ]
  },
  {
   "cell_type": "markdown",
   "metadata": {},
   "source": [
    "### 3. Identify optimal settings for Count Vecotorizing & TFIDF"
   ]
  },
  {
   "cell_type": "code",
   "execution_count": 22,
   "metadata": {
    "execution": {
     "iopub.execute_input": "2020-08-23T13:13:40.887860Z",
     "iopub.status.busy": "2020-08-23T13:13:40.886934Z",
     "iopub.status.idle": "2020-08-23T13:13:40.897009Z",
     "shell.execute_reply": "2020-08-23T13:13:40.894476Z",
     "shell.execute_reply.started": "2020-08-23T13:13:40.887821Z"
    }
   },
   "outputs": [],
   "source": [
    "import itertools as it"
   ]
  },
  {
   "cell_type": "code",
   "execution_count": 23,
   "metadata": {
    "execution": {
     "iopub.execute_input": "2020-08-23T13:13:41.225605Z",
     "iopub.status.busy": "2020-08-23T13:13:41.225353Z",
     "iopub.status.idle": "2020-08-23T13:13:41.236647Z",
     "shell.execute_reply": "2020-08-23T13:13:41.234099Z",
     "shell.execute_reply.started": "2020-08-23T13:13:41.225578Z"
    }
   },
   "outputs": [],
   "source": [
    "pipe_params = {\n",
    "    'pre__stopw': [None, stopwords.words('english')],\n",
    "    'cv__min_df': [1, 3, 5],\n",
    "    'cv__binary': [False, True],\n",
    "    'cv__ngram_range': [(1,1), (1,2), (1,3)],\n",
    "    'tfidf__use_idf': [False, True]\n",
    "}\n",
    "\n",
    "test_combos = list(it.product(*[pipe_params[param] for param in pipe_params]))\n",
    "# print(list(test_combos))"
   ]
  },
  {
   "cell_type": "code",
   "execution_count": 24,
   "metadata": {
    "execution": {
     "iopub.execute_input": "2020-08-23T13:13:41.699889Z",
     "iopub.status.busy": "2020-08-23T13:13:41.699641Z",
     "iopub.status.idle": "2020-08-23T13:13:41.712267Z",
     "shell.execute_reply": "2020-08-23T13:13:41.707238Z",
     "shell.execute_reply.started": "2020-08-23T13:13:41.699861Z"
    }
   },
   "outputs": [],
   "source": [
    "# setup test pipeline\n",
    "pipe_test = Pipeline([\n",
    "    ('pre', JobPreprocessor()),\n",
    "    ('cv', CountVectorizer(strip_accents=\"unicode\", ngram_range=(1,1))),\n",
    "    ('tfidf', TfidfTransformer()),\n",
    "    ('lr', LogisticRegression(solver='liblinear', penalty='l2'))\n",
    "])"
   ]
  },
  {
   "cell_type": "code",
   "execution_count": 17,
   "metadata": {},
   "outputs": [],
   "source": [
    "# setup test sample\n",
    "test_sample = get_sample(5000)\n",
    "X_test = test_sample['text']\n",
    "y_test = test_sample['target']"
   ]
  },
  {
   "cell_type": "code",
   "execution_count": 19,
   "metadata": {},
   "outputs": [],
   "source": [
    "test_res = pd.read_csv('pipe_param_results.csv')"
   ]
  },
  {
   "cell_type": "code",
   "execution_count": 20,
   "metadata": {},
   "outputs": [
    {
     "data": {
      "text/plain": [
       "(288, 7)"
      ]
     },
     "execution_count": 20,
     "metadata": {},
     "output_type": "execute_result"
    }
   ],
   "source": [
    "test_res.shape"
   ]
  },
  {
   "cell_type": "code",
   "execution_count": 21,
   "metadata": {},
   "outputs": [
    {
     "data": {
      "text/html": [
       "<div>\n",
       "<style scoped>\n",
       "    .dataframe tbody tr th:only-of-type {\n",
       "        vertical-align: middle;\n",
       "    }\n",
       "\n",
       "    .dataframe tbody tr th {\n",
       "        vertical-align: top;\n",
       "    }\n",
       "\n",
       "    .dataframe thead th {\n",
       "        text-align: right;\n",
       "    }\n",
       "</style>\n",
       "<table border=\"1\" class=\"dataframe\">\n",
       "  <thead>\n",
       "    <tr style=\"text-align: right;\">\n",
       "      <th></th>\n",
       "      <th>params</th>\n",
       "      <th>samples</th>\n",
       "      <th>features</th>\n",
       "      <th>accuracy</th>\n",
       "      <th>recall_0</th>\n",
       "      <th>recall_1</th>\n",
       "      <th>avg_score</th>\n",
       "    </tr>\n",
       "  </thead>\n",
       "  <tbody>\n",
       "    <tr>\n",
       "      <th>0</th>\n",
       "      <td>(None, 1, False, (1, 1), False)</td>\n",
       "      <td>400</td>\n",
       "      <td>4362</td>\n",
       "      <td>0.791019</td>\n",
       "      <td>0.821564</td>\n",
       "      <td>0.760476</td>\n",
       "      <td>0.791020</td>\n",
       "    </tr>\n",
       "    <tr>\n",
       "      <th>1</th>\n",
       "      <td>(None, 1, False, (1, 1), True)</td>\n",
       "      <td>400</td>\n",
       "      <td>4491</td>\n",
       "      <td>0.845277</td>\n",
       "      <td>0.839968</td>\n",
       "      <td>0.850585</td>\n",
       "      <td>0.845277</td>\n",
       "    </tr>\n",
       "    <tr>\n",
       "      <th>2</th>\n",
       "      <td>(None, 1, False, (1, 2), False)</td>\n",
       "      <td>400</td>\n",
       "      <td>28533</td>\n",
       "      <td>0.792469</td>\n",
       "      <td>0.814963</td>\n",
       "      <td>0.769977</td>\n",
       "      <td>0.792470</td>\n",
       "    </tr>\n",
       "    <tr>\n",
       "      <th>3</th>\n",
       "      <td>(None, 1, False, (1, 2), True)</td>\n",
       "      <td>400</td>\n",
       "      <td>29844</td>\n",
       "      <td>0.850428</td>\n",
       "      <td>0.881976</td>\n",
       "      <td>0.818882</td>\n",
       "      <td>0.850429</td>\n",
       "    </tr>\n",
       "    <tr>\n",
       "      <th>4</th>\n",
       "      <td>(None, 1, False, (1, 3), False)</td>\n",
       "      <td>400</td>\n",
       "      <td>64704</td>\n",
       "      <td>0.783768</td>\n",
       "      <td>0.805561</td>\n",
       "      <td>0.761976</td>\n",
       "      <td>0.783768</td>\n",
       "    </tr>\n",
       "    <tr>\n",
       "      <th>...</th>\n",
       "      <td>...</td>\n",
       "      <td>...</td>\n",
       "      <td>...</td>\n",
       "      <td>...</td>\n",
       "      <td>...</td>\n",
       "      <td>...</td>\n",
       "      <td>...</td>\n",
       "    </tr>\n",
       "    <tr>\n",
       "      <th>283</th>\n",
       "      <td>(5, True, (1, 1), True)</td>\n",
       "      <td>28000</td>\n",
       "      <td>10627</td>\n",
       "      <td>0.940547</td>\n",
       "      <td>0.943994</td>\n",
       "      <td>0.937100</td>\n",
       "      <td>0.940547</td>\n",
       "    </tr>\n",
       "    <tr>\n",
       "      <th>284</th>\n",
       "      <td>(5, True, (1, 2), False)</td>\n",
       "      <td>27997</td>\n",
       "      <td>77116</td>\n",
       "      <td>0.939997</td>\n",
       "      <td>0.945895</td>\n",
       "      <td>0.934100</td>\n",
       "      <td>0.939997</td>\n",
       "    </tr>\n",
       "    <tr>\n",
       "      <th>285</th>\n",
       "      <td>(5, True, (1, 2), True)</td>\n",
       "      <td>28000</td>\n",
       "      <td>78066</td>\n",
       "      <td>0.953548</td>\n",
       "      <td>0.957896</td>\n",
       "      <td>0.949200</td>\n",
       "      <td>0.953548</td>\n",
       "    </tr>\n",
       "    <tr>\n",
       "      <th>286</th>\n",
       "      <td>(5, True, (1, 3), False)</td>\n",
       "      <td>28000</td>\n",
       "      <td>136222</td>\n",
       "      <td>0.941097</td>\n",
       "      <td>0.945495</td>\n",
       "      <td>0.936700</td>\n",
       "      <td>0.941097</td>\n",
       "    </tr>\n",
       "    <tr>\n",
       "      <th>287</th>\n",
       "      <td>(5, True, (1, 3), True)</td>\n",
       "      <td>27998</td>\n",
       "      <td>136519</td>\n",
       "      <td>0.953248</td>\n",
       "      <td>0.958196</td>\n",
       "      <td>0.948300</td>\n",
       "      <td>0.953248</td>\n",
       "    </tr>\n",
       "  </tbody>\n",
       "</table>\n",
       "<p>288 rows × 7 columns</p>\n",
       "</div>"
      ],
      "text/plain": [
       "                              params  samples  features  accuracy  recall_0  \\\n",
       "0    (None, 1, False, (1, 1), False)      400      4362  0.791019  0.821564   \n",
       "1     (None, 1, False, (1, 1), True)      400      4491  0.845277  0.839968   \n",
       "2    (None, 1, False, (1, 2), False)      400     28533  0.792469  0.814963   \n",
       "3     (None, 1, False, (1, 2), True)      400     29844  0.850428  0.881976   \n",
       "4    (None, 1, False, (1, 3), False)      400     64704  0.783768  0.805561   \n",
       "..                               ...      ...       ...       ...       ...   \n",
       "283          (5, True, (1, 1), True)    28000     10627  0.940547  0.943994   \n",
       "284         (5, True, (1, 2), False)    27997     77116  0.939997  0.945895   \n",
       "285          (5, True, (1, 2), True)    28000     78066  0.953548  0.957896   \n",
       "286         (5, True, (1, 3), False)    28000    136222  0.941097  0.945495   \n",
       "287          (5, True, (1, 3), True)    27998    136519  0.953248  0.958196   \n",
       "\n",
       "     recall_1  avg_score  \n",
       "0    0.760476   0.791020  \n",
       "1    0.850585   0.845277  \n",
       "2    0.769977   0.792470  \n",
       "3    0.818882   0.850429  \n",
       "4    0.761976   0.783768  \n",
       "..        ...        ...  \n",
       "283  0.937100   0.940547  \n",
       "284  0.934100   0.939997  \n",
       "285  0.949200   0.953548  \n",
       "286  0.936700   0.941097  \n",
       "287  0.948300   0.953248  \n",
       "\n",
       "[288 rows x 7 columns]"
      ]
     },
     "execution_count": 21,
     "metadata": {},
     "output_type": "execute_result"
    }
   ],
   "source": [
    "test_res"
   ]
  },
  {
   "cell_type": "code",
   "execution_count": 126,
   "metadata": {},
   "outputs": [
    {
     "name": "stderr",
     "output_type": "stream",
     "text": [
      "100%|██████████| 72/72 [1:53:30<00:00, 94.59s/it] \n"
     ]
    }
   ],
   "source": [
    "# setup results dataframe\n",
    "# test_res_columns = ['params', 'samples', 'features', 'accuracy', 'recall_0', 'recall_1']\n",
    "# test_res = pd.DataFrame(columns=test_res_columns)\n",
    "\n",
    "# test params\n",
    "for sample in [7000]:\n",
    "    for combo in tqdm(test_combos):\n",
    "    \n",
    "        df = get_sample(sample)\n",
    "\n",
    "        X = df['text'].copy()\n",
    "        y = df['target'].copy()\n",
    "\n",
    "        res = []\n",
    "\n",
    "        pipe_test.set_params(pre__punc = punc,\n",
    "                        pre__stopw = combo[0],\n",
    "                        cv__min_df = combo[1], \n",
    "                        cv__binary = combo[2],\n",
    "                        cv__ngram_range = combo[3],\n",
    "                        tfidf__use_idf = combo[4])\n",
    "\n",
    "        # append pipeline parameters\n",
    "        if combo[0] != None:\n",
    "            res.append(combo[1:])\n",
    "        else:\n",
    "            res.append(combo)\n",
    "        \n",
    "        # append sample size\n",
    "        res.append(X.shape[0])\n",
    "\n",
    "        pipe_test.fit(X, y)\n",
    "\n",
    "        # append number of CV feature number\n",
    "        res.append(len(pipe_test['cv'].get_feature_names()))\n",
    "        \n",
    "        # calculate accuracy and recall scores\n",
    "        predicted = pipe_test.predict(X_test)\n",
    "        res.append(accuracy_score(y_test, predicted))\n",
    "        res.append(recall_score(y_test, predicted, pos_label=0, average='binary'))\n",
    "        res.append(recall_score(y_test, predicted, pos_label=1, average='binary'))\n",
    "\n",
    "        # append results to test results\n",
    "        test_res = test_res.append(pd.Series(res, index=test_res.columns), ignore_index=True)"
   ]
  },
  {
   "cell_type": "code",
   "execution_count": 127,
   "metadata": {},
   "outputs": [
    {
     "data": {
      "text/plain": [
       "(288, 6)"
      ]
     },
     "execution_count": 127,
     "metadata": {},
     "output_type": "execute_result"
    }
   ],
   "source": [
    "test_res.shape # should be 288, 6"
   ]
  },
  {
   "cell_type": "code",
   "execution_count": 128,
   "metadata": {},
   "outputs": [
    {
     "data": {
      "text/html": [
       "<div>\n",
       "<style scoped>\n",
       "    .dataframe tbody tr th:only-of-type {\n",
       "        vertical-align: middle;\n",
       "    }\n",
       "\n",
       "    .dataframe tbody tr th {\n",
       "        vertical-align: top;\n",
       "    }\n",
       "\n",
       "    .dataframe thead th {\n",
       "        text-align: right;\n",
       "    }\n",
       "</style>\n",
       "<table border=\"1\" class=\"dataframe\">\n",
       "  <thead>\n",
       "    <tr style=\"text-align: right;\">\n",
       "      <th></th>\n",
       "      <th>params</th>\n",
       "      <th>samples</th>\n",
       "      <th>features</th>\n",
       "      <th>accuracy</th>\n",
       "      <th>recall_0</th>\n",
       "      <th>recall_1</th>\n",
       "    </tr>\n",
       "  </thead>\n",
       "  <tbody>\n",
       "    <tr>\n",
       "      <th>0</th>\n",
       "      <td>(None, 1, False, (1, 1), False)</td>\n",
       "      <td>400</td>\n",
       "      <td>4362</td>\n",
       "      <td>0.791019</td>\n",
       "      <td>0.821564</td>\n",
       "      <td>0.760476</td>\n",
       "    </tr>\n",
       "    <tr>\n",
       "      <th>1</th>\n",
       "      <td>(None, 1, False, (1, 1), True)</td>\n",
       "      <td>400</td>\n",
       "      <td>4491</td>\n",
       "      <td>0.845277</td>\n",
       "      <td>0.839968</td>\n",
       "      <td>0.850585</td>\n",
       "    </tr>\n",
       "    <tr>\n",
       "      <th>2</th>\n",
       "      <td>(None, 1, False, (1, 2), False)</td>\n",
       "      <td>400</td>\n",
       "      <td>28533</td>\n",
       "      <td>0.792469</td>\n",
       "      <td>0.814963</td>\n",
       "      <td>0.769977</td>\n",
       "    </tr>\n",
       "    <tr>\n",
       "      <th>3</th>\n",
       "      <td>(None, 1, False, (1, 2), True)</td>\n",
       "      <td>400</td>\n",
       "      <td>29844</td>\n",
       "      <td>0.850428</td>\n",
       "      <td>0.881976</td>\n",
       "      <td>0.818882</td>\n",
       "    </tr>\n",
       "    <tr>\n",
       "      <th>4</th>\n",
       "      <td>(None, 1, False, (1, 3), False)</td>\n",
       "      <td>400</td>\n",
       "      <td>64704</td>\n",
       "      <td>0.783768</td>\n",
       "      <td>0.805561</td>\n",
       "      <td>0.761976</td>\n",
       "    </tr>\n",
       "    <tr>\n",
       "      <th>...</th>\n",
       "      <td>...</td>\n",
       "      <td>...</td>\n",
       "      <td>...</td>\n",
       "      <td>...</td>\n",
       "      <td>...</td>\n",
       "      <td>...</td>\n",
       "    </tr>\n",
       "    <tr>\n",
       "      <th>283</th>\n",
       "      <td>(5, True, (1, 1), True)</td>\n",
       "      <td>28000</td>\n",
       "      <td>10627</td>\n",
       "      <td>0.940547</td>\n",
       "      <td>0.943994</td>\n",
       "      <td>0.937100</td>\n",
       "    </tr>\n",
       "    <tr>\n",
       "      <th>284</th>\n",
       "      <td>(5, True, (1, 2), False)</td>\n",
       "      <td>27997</td>\n",
       "      <td>77116</td>\n",
       "      <td>0.939997</td>\n",
       "      <td>0.945895</td>\n",
       "      <td>0.934100</td>\n",
       "    </tr>\n",
       "    <tr>\n",
       "      <th>285</th>\n",
       "      <td>(5, True, (1, 2), True)</td>\n",
       "      <td>28000</td>\n",
       "      <td>78066</td>\n",
       "      <td>0.953548</td>\n",
       "      <td>0.957896</td>\n",
       "      <td>0.949200</td>\n",
       "    </tr>\n",
       "    <tr>\n",
       "      <th>286</th>\n",
       "      <td>(5, True, (1, 3), False)</td>\n",
       "      <td>28000</td>\n",
       "      <td>136222</td>\n",
       "      <td>0.941097</td>\n",
       "      <td>0.945495</td>\n",
       "      <td>0.936700</td>\n",
       "    </tr>\n",
       "    <tr>\n",
       "      <th>287</th>\n",
       "      <td>(5, True, (1, 3), True)</td>\n",
       "      <td>27998</td>\n",
       "      <td>136519</td>\n",
       "      <td>0.953248</td>\n",
       "      <td>0.958196</td>\n",
       "      <td>0.948300</td>\n",
       "    </tr>\n",
       "  </tbody>\n",
       "</table>\n",
       "<p>288 rows × 6 columns</p>\n",
       "</div>"
      ],
      "text/plain": [
       "                              params  samples  features  accuracy  recall_0  \\\n",
       "0    (None, 1, False, (1, 1), False)      400      4362  0.791019  0.821564   \n",
       "1     (None, 1, False, (1, 1), True)      400      4491  0.845277  0.839968   \n",
       "2    (None, 1, False, (1, 2), False)      400     28533  0.792469  0.814963   \n",
       "3     (None, 1, False, (1, 2), True)      400     29844  0.850428  0.881976   \n",
       "4    (None, 1, False, (1, 3), False)      400     64704  0.783768  0.805561   \n",
       "..                               ...      ...       ...       ...       ...   \n",
       "283          (5, True, (1, 1), True)    28000     10627  0.940547  0.943994   \n",
       "284         (5, True, (1, 2), False)    27997     77116  0.939997  0.945895   \n",
       "285          (5, True, (1, 2), True)    28000     78066  0.953548  0.957896   \n",
       "286         (5, True, (1, 3), False)    28000    136222  0.941097  0.945495   \n",
       "287          (5, True, (1, 3), True)    27998    136519  0.953248  0.958196   \n",
       "\n",
       "     recall_1  \n",
       "0    0.760476  \n",
       "1    0.850585  \n",
       "2    0.769977  \n",
       "3    0.818882  \n",
       "4    0.761976  \n",
       "..        ...  \n",
       "283  0.937100  \n",
       "284  0.934100  \n",
       "285  0.949200  \n",
       "286  0.936700  \n",
       "287  0.948300  \n",
       "\n",
       "[288 rows x 6 columns]"
      ]
     },
     "execution_count": 128,
     "metadata": {},
     "output_type": "execute_result"
    }
   ],
   "source": [
    "test_res"
   ]
  },
  {
   "cell_type": "code",
   "execution_count": 129,
   "metadata": {},
   "outputs": [],
   "source": [
    "# test_res.to_csv('pipe_param_results.csv', index=False)"
   ]
  },
  {
   "cell_type": "code",
   "execution_count": 13,
   "metadata": {},
   "outputs": [],
   "source": [
    "test_res = pd.read_csv('pipe_param_results.csv')"
   ]
  },
  {
   "cell_type": "code",
   "execution_count": 14,
   "metadata": {},
   "outputs": [
    {
     "data": {
      "text/plain": [
       "(288, 7)"
      ]
     },
     "execution_count": 14,
     "metadata": {},
     "output_type": "execute_result"
    }
   ],
   "source": [
    "test_res.shape"
   ]
  },
  {
   "cell_type": "code",
   "execution_count": 24,
   "metadata": {},
   "outputs": [],
   "source": [
    "# test_res['avg_score'] = test_res[['accuracy', 'recall_0', 'recall_1']].apply('mean', axis=1)\n",
    "# test_res.to_csv('pipe_param_results.csv', index=False)"
   ]
  },
  {
   "cell_type": "code",
   "execution_count": 15,
   "metadata": {},
   "outputs": [
    {
     "data": {
      "text/html": [
       "<div>\n",
       "<style scoped>\n",
       "    .dataframe tbody tr th:only-of-type {\n",
       "        vertical-align: middle;\n",
       "    }\n",
       "\n",
       "    .dataframe tbody tr th {\n",
       "        vertical-align: top;\n",
       "    }\n",
       "\n",
       "    .dataframe thead th {\n",
       "        text-align: right;\n",
       "    }\n",
       "</style>\n",
       "<table border=\"1\" class=\"dataframe\">\n",
       "  <thead>\n",
       "    <tr style=\"text-align: right;\">\n",
       "      <th></th>\n",
       "      <th>params</th>\n",
       "      <th>samples</th>\n",
       "      <th>features</th>\n",
       "      <th>accuracy</th>\n",
       "      <th>recall_0</th>\n",
       "      <th>recall_1</th>\n",
       "      <th>avg_score</th>\n",
       "    </tr>\n",
       "  </thead>\n",
       "  <tbody>\n",
       "    <tr>\n",
       "      <th>275</th>\n",
       "      <td>(3, True, (1, 3), True)</td>\n",
       "      <td>27999</td>\n",
       "      <td>254778</td>\n",
       "      <td>0.954948</td>\n",
       "      <td>0.962296</td>\n",
       "      <td>0.9476</td>\n",
       "      <td>0.954948</td>\n",
       "    </tr>\n",
       "    <tr>\n",
       "      <th>251</th>\n",
       "      <td>(None, 5, True, (1, 3), True)</td>\n",
       "      <td>27996</td>\n",
       "      <td>136033</td>\n",
       "      <td>0.954148</td>\n",
       "      <td>0.959696</td>\n",
       "      <td>0.9486</td>\n",
       "      <td>0.954148</td>\n",
       "    </tr>\n",
       "    <tr>\n",
       "      <th>239</th>\n",
       "      <td>(None, 3, True, (1, 3), True)</td>\n",
       "      <td>27998</td>\n",
       "      <td>255915</td>\n",
       "      <td>0.954048</td>\n",
       "      <td>0.959996</td>\n",
       "      <td>0.9481</td>\n",
       "      <td>0.954048</td>\n",
       "    </tr>\n",
       "    <tr>\n",
       "      <th>273</th>\n",
       "      <td>(3, True, (1, 2), True)</td>\n",
       "      <td>27999</td>\n",
       "      <td>129179</td>\n",
       "      <td>0.953998</td>\n",
       "      <td>0.959396</td>\n",
       "      <td>0.9486</td>\n",
       "      <td>0.953998</td>\n",
       "    </tr>\n",
       "    <tr>\n",
       "      <th>285</th>\n",
       "      <td>(5, True, (1, 2), True)</td>\n",
       "      <td>28000</td>\n",
       "      <td>78066</td>\n",
       "      <td>0.953548</td>\n",
       "      <td>0.957896</td>\n",
       "      <td>0.9492</td>\n",
       "      <td>0.953548</td>\n",
       "    </tr>\n",
       "    <tr>\n",
       "      <th>287</th>\n",
       "      <td>(5, True, (1, 3), True)</td>\n",
       "      <td>27998</td>\n",
       "      <td>136519</td>\n",
       "      <td>0.953248</td>\n",
       "      <td>0.958196</td>\n",
       "      <td>0.9483</td>\n",
       "      <td>0.953248</td>\n",
       "    </tr>\n",
       "    <tr>\n",
       "      <th>215</th>\n",
       "      <td>(5, True, (1, 3), True)</td>\n",
       "      <td>20000</td>\n",
       "      <td>98505</td>\n",
       "      <td>0.953198</td>\n",
       "      <td>0.959096</td>\n",
       "      <td>0.9473</td>\n",
       "      <td>0.953198</td>\n",
       "    </tr>\n",
       "    <tr>\n",
       "      <th>179</th>\n",
       "      <td>(None, 5, True, (1, 3), True)</td>\n",
       "      <td>19998</td>\n",
       "      <td>98582</td>\n",
       "      <td>0.953098</td>\n",
       "      <td>0.958096</td>\n",
       "      <td>0.9481</td>\n",
       "      <td>0.953098</td>\n",
       "    </tr>\n",
       "    <tr>\n",
       "      <th>237</th>\n",
       "      <td>(None, 3, True, (1, 2), True)</td>\n",
       "      <td>27998</td>\n",
       "      <td>128472</td>\n",
       "      <td>0.952998</td>\n",
       "      <td>0.958796</td>\n",
       "      <td>0.9472</td>\n",
       "      <td>0.952998</td>\n",
       "    </tr>\n",
       "    <tr>\n",
       "      <th>203</th>\n",
       "      <td>(3, True, (1, 3), True)</td>\n",
       "      <td>19998</td>\n",
       "      <td>187556</td>\n",
       "      <td>0.952398</td>\n",
       "      <td>0.958096</td>\n",
       "      <td>0.9467</td>\n",
       "      <td>0.952398</td>\n",
       "    </tr>\n",
       "    <tr>\n",
       "      <th>167</th>\n",
       "      <td>(None, 3, True, (1, 3), True)</td>\n",
       "      <td>20000</td>\n",
       "      <td>186826</td>\n",
       "      <td>0.952198</td>\n",
       "      <td>0.960296</td>\n",
       "      <td>0.9441</td>\n",
       "      <td>0.952198</td>\n",
       "    </tr>\n",
       "    <tr>\n",
       "      <th>249</th>\n",
       "      <td>(None, 5, True, (1, 2), True)</td>\n",
       "      <td>27998</td>\n",
       "      <td>77994</td>\n",
       "      <td>0.952098</td>\n",
       "      <td>0.956096</td>\n",
       "      <td>0.9481</td>\n",
       "      <td>0.952098</td>\n",
       "    </tr>\n",
       "    <tr>\n",
       "      <th>225</th>\n",
       "      <td>(None, 1, True, (1, 2), True)</td>\n",
       "      <td>27997</td>\n",
       "      <td>629400</td>\n",
       "      <td>0.952048</td>\n",
       "      <td>0.958096</td>\n",
       "      <td>0.9460</td>\n",
       "      <td>0.952048</td>\n",
       "    </tr>\n",
       "    <tr>\n",
       "      <th>279</th>\n",
       "      <td>(5, False, (1, 2), True)</td>\n",
       "      <td>27998</td>\n",
       "      <td>77431</td>\n",
       "      <td>0.951848</td>\n",
       "      <td>0.958396</td>\n",
       "      <td>0.9453</td>\n",
       "      <td>0.951848</td>\n",
       "    </tr>\n",
       "    <tr>\n",
       "      <th>165</th>\n",
       "      <td>(None, 3, True, (1, 2), True)</td>\n",
       "      <td>19998</td>\n",
       "      <td>99425</td>\n",
       "      <td>0.951698</td>\n",
       "      <td>0.958296</td>\n",
       "      <td>0.9451</td>\n",
       "      <td>0.951698</td>\n",
       "    </tr>\n",
       "    <tr>\n",
       "      <th>261</th>\n",
       "      <td>(1, True, (1, 2), True)</td>\n",
       "      <td>27997</td>\n",
       "      <td>630679</td>\n",
       "      <td>0.951448</td>\n",
       "      <td>0.957096</td>\n",
       "      <td>0.9458</td>\n",
       "      <td>0.951448</td>\n",
       "    </tr>\n",
       "    <tr>\n",
       "      <th>153</th>\n",
       "      <td>(None, 1, True, (1, 2), True)</td>\n",
       "      <td>19999</td>\n",
       "      <td>502372</td>\n",
       "      <td>0.951348</td>\n",
       "      <td>0.958796</td>\n",
       "      <td>0.9439</td>\n",
       "      <td>0.951348</td>\n",
       "    </tr>\n",
       "    <tr>\n",
       "      <th>281</th>\n",
       "      <td>(5, False, (1, 3), True)</td>\n",
       "      <td>27997</td>\n",
       "      <td>136241</td>\n",
       "      <td>0.951348</td>\n",
       "      <td>0.956196</td>\n",
       "      <td>0.9465</td>\n",
       "      <td>0.951348</td>\n",
       "    </tr>\n",
       "    <tr>\n",
       "      <th>245</th>\n",
       "      <td>(None, 5, False, (1, 3), True)</td>\n",
       "      <td>27996</td>\n",
       "      <td>135575</td>\n",
       "      <td>0.951348</td>\n",
       "      <td>0.956096</td>\n",
       "      <td>0.9466</td>\n",
       "      <td>0.951348</td>\n",
       "    </tr>\n",
       "    <tr>\n",
       "      <th>267</th>\n",
       "      <td>(3, False, (1, 2), True)</td>\n",
       "      <td>27997</td>\n",
       "      <td>128517</td>\n",
       "      <td>0.950948</td>\n",
       "      <td>0.956096</td>\n",
       "      <td>0.9458</td>\n",
       "      <td>0.950948</td>\n",
       "    </tr>\n",
       "  </tbody>\n",
       "</table>\n",
       "</div>"
      ],
      "text/plain": [
       "                             params  samples  features  accuracy  recall_0  \\\n",
       "275         (3, True, (1, 3), True)    27999    254778  0.954948  0.962296   \n",
       "251   (None, 5, True, (1, 3), True)    27996    136033  0.954148  0.959696   \n",
       "239   (None, 3, True, (1, 3), True)    27998    255915  0.954048  0.959996   \n",
       "273         (3, True, (1, 2), True)    27999    129179  0.953998  0.959396   \n",
       "285         (5, True, (1, 2), True)    28000     78066  0.953548  0.957896   \n",
       "287         (5, True, (1, 3), True)    27998    136519  0.953248  0.958196   \n",
       "215         (5, True, (1, 3), True)    20000     98505  0.953198  0.959096   \n",
       "179   (None, 5, True, (1, 3), True)    19998     98582  0.953098  0.958096   \n",
       "237   (None, 3, True, (1, 2), True)    27998    128472  0.952998  0.958796   \n",
       "203         (3, True, (1, 3), True)    19998    187556  0.952398  0.958096   \n",
       "167   (None, 3, True, (1, 3), True)    20000    186826  0.952198  0.960296   \n",
       "249   (None, 5, True, (1, 2), True)    27998     77994  0.952098  0.956096   \n",
       "225   (None, 1, True, (1, 2), True)    27997    629400  0.952048  0.958096   \n",
       "279        (5, False, (1, 2), True)    27998     77431  0.951848  0.958396   \n",
       "165   (None, 3, True, (1, 2), True)    19998     99425  0.951698  0.958296   \n",
       "261         (1, True, (1, 2), True)    27997    630679  0.951448  0.957096   \n",
       "153   (None, 1, True, (1, 2), True)    19999    502372  0.951348  0.958796   \n",
       "281        (5, False, (1, 3), True)    27997    136241  0.951348  0.956196   \n",
       "245  (None, 5, False, (1, 3), True)    27996    135575  0.951348  0.956096   \n",
       "267        (3, False, (1, 2), True)    27997    128517  0.950948  0.956096   \n",
       "\n",
       "     recall_1  avg_score  \n",
       "275    0.9476   0.954948  \n",
       "251    0.9486   0.954148  \n",
       "239    0.9481   0.954048  \n",
       "273    0.9486   0.953998  \n",
       "285    0.9492   0.953548  \n",
       "287    0.9483   0.953248  \n",
       "215    0.9473   0.953198  \n",
       "179    0.9481   0.953098  \n",
       "237    0.9472   0.952998  \n",
       "203    0.9467   0.952398  \n",
       "167    0.9441   0.952198  \n",
       "249    0.9481   0.952098  \n",
       "225    0.9460   0.952048  \n",
       "279    0.9453   0.951848  \n",
       "165    0.9451   0.951698  \n",
       "261    0.9458   0.951448  \n",
       "153    0.9439   0.951348  \n",
       "281    0.9465   0.951348  \n",
       "245    0.9466   0.951348  \n",
       "267    0.9458   0.950948  "
      ]
     },
     "execution_count": 15,
     "metadata": {},
     "output_type": "execute_result"
    }
   ],
   "source": [
    "test_res.sort_values(by='avg_score', ascending=False).head(20)"
   ]
  },
  {
   "cell_type": "markdown",
   "metadata": {},
   "source": [
    "Based on the above results, it seems like params (No Stop Words, 5, True, (1, 2), True) would be good choices. It results in less features than other settings, while also scoring highly. \n",
    "\n",
    "A future improvement could be test if increasing the min_df param results in good scores. For now, I will not do this as I need to move and I can test a similar strategy using max_features."
   ]
  },
  {
   "cell_type": "markdown",
   "metadata": {},
   "source": [
    "---"
   ]
  },
  {
   "cell_type": "markdown",
   "metadata": {},
   "source": [
    "### 4. Is dimensionality reduction worthwhile? - Sparse Matix vs. Truncated SVD vs. Max Features"
   ]
  },
  {
   "cell_type": "code",
   "execution_count": 16,
   "metadata": {},
   "outputs": [],
   "source": [
    "# import sample to test on \n",
    "df = get_sample(5000)\n",
    "\n",
    "# # Define predictors and target\n",
    "X = df['text'].copy()\n",
    "y = df['target'].copy()"
   ]
  },
  {
   "cell_type": "code",
   "execution_count": 32,
   "metadata": {},
   "outputs": [],
   "source": [
    "pipe = Pipeline([\n",
    "    ('pre', JobPreprocessor()),\n",
    "    ('cv', CountVectorizer(strip_accents=\"unicode\")),\n",
    "    ('tfidf', TfidfTransformer()),\n",
    "    ('svd', TruncatedSVD(n_components=3000))\n",
    "])"
   ]
  },
  {
   "cell_type": "code",
   "execution_count": 33,
   "metadata": {},
   "outputs": [
    {
     "data": {
      "text/plain": [
       "Pipeline(steps=[('pre',\n",
       "                 JobPreprocessor(punc='!\"#$%&\\'()*+,-./:;<=>?@[\\\\]^_`{|}~\\n\\t',\n",
       "                                 stopw=['i', 'me', 'my', 'myself', 'we', 'our',\n",
       "                                        'ours', 'ourselves', 'you', \"you're\",\n",
       "                                        \"you've\", \"you'll\", \"you'd\", 'your',\n",
       "                                        'yours', 'yourself', 'yourselves', 'he',\n",
       "                                        'him', 'his', 'himself', 'she', \"she's\",\n",
       "                                        'her', 'hers', 'herself', 'it', \"it's\",\n",
       "                                        'its', 'itself', ...])),\n",
       "                ('cv',\n",
       "                 CountVectorizer(binary=True, min_df=5, ngram_range=(1, 2),\n",
       "                                 strip_accents='unicode')),\n",
       "                ('tfidf', TfidfTransformer())])"
      ]
     },
     "execution_count": 33,
     "metadata": {},
     "output_type": "execute_result"
    }
   ],
   "source": [
    "pipe.set_params(pre__punc = punc,\n",
    "                pre__stopw = stopwords.words('english'),\n",
    "                cv__min_df = 5, \n",
    "                cv__binary = True,\n",
    "                cv__ngram_range = (1,2),\n",
    "                tfidf__use_idf = True)"
   ]
  },
  {
   "cell_type": "code",
   "execution_count": 19,
   "metadata": {},
   "outputs": [],
   "source": [
    "X_tf = pipe.fit_transform(X)"
   ]
  },
  {
   "cell_type": "code",
   "execution_count": 20,
   "metadata": {},
   "outputs": [
    {
     "name": "stdout",
     "output_type": "stream",
     "text": [
      "Number of principal components:\t\t 3000\n"
     ]
    }
   ],
   "source": [
    "# Get the most important pieces of information\n",
    "# print(\"Number of principal components:\\t\\t\", pipe['svd'].n_components)\n",
    "# print(\"Explained variance:\\t\\t\\t\", np.round(pipe['svd'].explained_variance_, 3))\n",
    "# print(\"Explained variance ratio:\\t\\t\", np.round(pipe['svd'].explained_variance_ratio_, 3))\n",
    "# print(\"Cumulative explained variance ratio:\\t\", np.round(np.cumsum(pipe['svd'].explained_variance_ratio_), 3))"
   ]
  },
  {
   "cell_type": "code",
   "execution_count": 21,
   "metadata": {},
   "outputs": [
    {
     "data": {
      "image/png": "[encoded data removed]",
      "text/plain": [
       "<Figure size 864x576 with 1 Axes>"
      ]
     },
     "metadata": {
      "needs_background": "light"
     },
     "output_type": "display_data"
    }
   ],
   "source": [
    "fig, ax = plt.subplots(figsize=(12,8))\n",
    "x_values = range(1, pipe['svd'].n_components+1)\n",
    "ax.plot(x_values, pipe['svd'].explained_variance_ratio_, lw=2, label='explained variance')\n",
    "ax.plot(x_values, np.cumsum(pipe['svd'].explained_variance_ratio_), lw=2, label='cumulative explained variance')\n",
    "ax.set_title('Truncated SVD: explained variance of components')\n",
    "ax.set_xlabel('principal component')\n",
    "ax.set_ylabel('explained variance')\n",
    "plt.legend()\n",
    "plt.show()"
   ]
  },
  {
   "cell_type": "markdown",
   "metadata": {},
   "source": [
    "Using dimensionality reduction will not be useful as each contributes equally (and very little) to the overall variance, so there is no point reducing dimensionality.\n",
    "\n",
    "Another reason this approach is not beneficial is that it converts the sparse matrix from TFDIF to a dense matrix (values stored for every cell), which will degrade performance wise as the sample size increases."
   ]
  },
  {
   "cell_type": "markdown",
   "metadata": {},
   "source": [
    "#### Is limiting the number of features worthwhile?"
   ]
  },
  {
   "cell_type": "code",
   "execution_count": 11,
   "metadata": {
    "execution": {
     "iopub.execute_input": "2020-08-19T17:13:00.817905Z",
     "iopub.status.busy": "2020-08-19T17:13:00.817658Z",
     "iopub.status.idle": "2020-08-19T17:13:00.833234Z",
     "shell.execute_reply": "2020-08-19T17:13:00.830979Z",
     "shell.execute_reply.started": "2020-08-19T17:13:00.817877Z"
    }
   },
   "outputs": [
    {
     "ename": "TypeError",
     "evalue": "__init__() missing 2 required positional arguments: 'punc' and 'stopw'",
     "output_type": "error",
     "traceback": [
      "\u001b[0;31m---------------------------------------------------------------------------\u001b[0m",
      "\u001b[0;31mTypeError\u001b[0m                                 Traceback (most recent call last)",
      "\u001b[0;32m<ipython-input-11-67fbaea03613>\u001b[0m in \u001b[0;36m<module>\u001b[0;34m\u001b[0m\n\u001b[1;32m      1\u001b[0m \u001b[0;31m# define pipeline\u001b[0m\u001b[0;34m\u001b[0m\u001b[0;34m\u001b[0m\u001b[0;34m\u001b[0m\u001b[0m\n\u001b[1;32m      2\u001b[0m pipe_feat = Pipeline([\n\u001b[0;32m----> 3\u001b[0;31m     \u001b[0;34m(\u001b[0m\u001b[0;34m'pre'\u001b[0m\u001b[0;34m,\u001b[0m \u001b[0mJobPreprocessor\u001b[0m\u001b[0;34m(\u001b[0m\u001b[0;34m)\u001b[0m\u001b[0;34m)\u001b[0m\u001b[0;34m,\u001b[0m\u001b[0;34m\u001b[0m\u001b[0;34m\u001b[0m\u001b[0m\n\u001b[0m\u001b[1;32m      4\u001b[0m     \u001b[0;34m(\u001b[0m\u001b[0;34m'cv'\u001b[0m\u001b[0;34m,\u001b[0m \u001b[0mCountVectorizer\u001b[0m\u001b[0;34m(\u001b[0m\u001b[0mstrip_accents\u001b[0m\u001b[0;34m=\u001b[0m\u001b[0;34m\"unicode\"\u001b[0m\u001b[0;34m)\u001b[0m\u001b[0;34m)\u001b[0m\u001b[0;34m,\u001b[0m\u001b[0;34m\u001b[0m\u001b[0;34m\u001b[0m\u001b[0m\n\u001b[1;32m      5\u001b[0m     \u001b[0;34m(\u001b[0m\u001b[0;34m'tfidf'\u001b[0m\u001b[0;34m,\u001b[0m \u001b[0mTfidfTransformer\u001b[0m\u001b[0;34m(\u001b[0m\u001b[0;34m)\u001b[0m\u001b[0;34m)\u001b[0m\u001b[0;34m,\u001b[0m\u001b[0;34m\u001b[0m\u001b[0;34m\u001b[0m\u001b[0m\n",
      "\u001b[0;31mTypeError\u001b[0m: __init__() missing 2 required positional arguments: 'punc' and 'stopw'"
     ]
    }
   ],
   "source": [
    "# define pipeline\n",
    "pipe_feat = Pipeline([\n",
    "    ('pre', JobPreprocessor()),\n",
    "    ('cv', CountVectorizer(strip_accents=\"unicode\")),\n",
    "    ('tfidf', TfidfTransformer()),\n",
    "    ('lr', LogisticRegression(solver='liblinear', penalty='l2'))\n",
    "])"
   ]
  },
  {
   "cell_type": "code",
   "execution_count": 12,
   "metadata": {
    "execution": {
     "iopub.execute_input": "2020-08-19T17:13:01.205896Z",
     "iopub.status.busy": "2020-08-19T17:13:01.205634Z",
     "iopub.status.idle": "2020-08-19T17:13:01.222860Z",
     "shell.execute_reply": "2020-08-19T17:13:01.220689Z",
     "shell.execute_reply.started": "2020-08-19T17:13:01.205869Z"
    }
   },
   "outputs": [
    {
     "ename": "NameError",
     "evalue": "name 'pipe_feat' is not defined",
     "output_type": "error",
     "traceback": [
      "\u001b[0;31m---------------------------------------------------------------------------\u001b[0m",
      "\u001b[0;31mNameError\u001b[0m                                 Traceback (most recent call last)",
      "\u001b[0;32m<ipython-input-12-d7f1009843cf>\u001b[0m in \u001b[0;36m<module>\u001b[0;34m\u001b[0m\n\u001b[0;32m----> 1\u001b[0;31m pipe_feat.set_params(pre__punc = punc,\n\u001b[0m\u001b[1;32m      2\u001b[0m                     \u001b[0mpre__stopw\u001b[0m \u001b[0;34m=\u001b[0m \u001b[0mstopwords\u001b[0m\u001b[0;34m.\u001b[0m\u001b[0mwords\u001b[0m\u001b[0;34m(\u001b[0m\u001b[0;34m'english'\u001b[0m\u001b[0;34m)\u001b[0m\u001b[0;34m,\u001b[0m\u001b[0;34m\u001b[0m\u001b[0;34m\u001b[0m\u001b[0m\n\u001b[1;32m      3\u001b[0m                     \u001b[0mcv__min_df\u001b[0m \u001b[0;34m=\u001b[0m \u001b[0;36m5\u001b[0m\u001b[0;34m,\u001b[0m\u001b[0;34m\u001b[0m\u001b[0;34m\u001b[0m\u001b[0m\n\u001b[1;32m      4\u001b[0m                     \u001b[0mcv__binary\u001b[0m \u001b[0;34m=\u001b[0m \u001b[0;32mTrue\u001b[0m\u001b[0;34m,\u001b[0m\u001b[0;34m\u001b[0m\u001b[0;34m\u001b[0m\u001b[0m\n\u001b[1;32m      5\u001b[0m                     \u001b[0mcv__ngram_range\u001b[0m \u001b[0;34m=\u001b[0m \u001b[0;34m(\u001b[0m\u001b[0;36m1\u001b[0m\u001b[0;34m,\u001b[0m\u001b[0;36m2\u001b[0m\u001b[0;34m)\u001b[0m\u001b[0;34m,\u001b[0m\u001b[0;34m\u001b[0m\u001b[0;34m\u001b[0m\u001b[0m\n",
      "\u001b[0;31mNameError\u001b[0m: name 'pipe_feat' is not defined"
     ]
    }
   ],
   "source": [
    "pipe_feat.set_params(pre__punc = punc,\n",
    "                    pre__stopw = stopwords.words('english'),\n",
    "                    cv__min_df = 5, \n",
    "                    cv__binary = True,\n",
    "                    cv__ngram_range = (1,2),\n",
    "                    tfidf__use_idf = True)"
   ]
  },
  {
   "cell_type": "code",
   "execution_count": 12,
   "metadata": {},
   "outputs": [],
   "source": [
    "# setup test sample\n",
    "df = get_sample(5000)\n",
    "\n",
    "# # Define predictors and target\n",
    "X_test = df['text'].copy()\n",
    "y_test = df['target'].copy()"
   ]
  },
  {
   "cell_type": "code",
   "execution_count": 75,
   "metadata": {},
   "outputs": [],
   "source": [
    "# define results dataframe\n",
    "# feat_test = pd.DataFrame(columns=[['param', 'samples', 'features' ,'accuracy', 'recall_0', 'recall_1']])"
   ]
  },
  {
   "cell_type": "code",
   "execution_count": 13,
   "metadata": {},
   "outputs": [],
   "source": [
    "feat_test = pd.read_csv('feat_test.csv')"
   ]
  },
  {
   "cell_type": "code",
   "execution_count": 16,
   "metadata": {},
   "outputs": [],
   "source": [
    "def get_sample_results(pipe, X, y, X_t, feats=None):\n",
    "    # append results without feature limiting\n",
    "    res = []\n",
    "\n",
    "    pipe.set_params(cv__max_features = feats)\n",
    "\n",
    "    res.append(feats)\n",
    "\n",
    "    # append sample size\n",
    "    res.append(X.shape[0])\n",
    "\n",
    "    pipe.fit(X, y)\n",
    "\n",
    "    # append number of CV feature number\n",
    "    res.append(len(pipe['cv'].get_feature_names()))\n",
    "\n",
    "    # calculate accuracy and recall scores\n",
    "    predicted = pipe.predict(X_t)\n",
    "    res.append(accuracy_score(y_test, predicted))\n",
    "    res.append(recall_score(y_test, predicted, pos_label=0, average='binary'))\n",
    "    res.append(recall_score(y_test, predicted, pos_label=1, average='binary'))\n",
    "    \n",
    "    return res"
   ]
  },
  {
   "cell_type": "code",
   "execution_count": 16,
   "metadata": {},
   "outputs": [
    {
     "name": "stderr",
     "output_type": "stream",
     "text": [
      "100%|██████████| 2/2 [44:44<00:00, 1342.17s/it]\n"
     ]
    }
   ],
   "source": [
    "# for loop going through samples\n",
    "# test params\n",
    "for sample in tqdm(np.linspace(30000, 80000, 4)):\n",
    "    \n",
    "    df = get_sample(sample)\n",
    "\n",
    "    X = df['text'].copy()\n",
    "    y = df['target'].copy()\n",
    "    \n",
    "\n",
    "    # append results to test results\n",
    "#     feat_test = feat_test.append(pd.Series(get_sample_results(pipe_feat, X, y, X_test, None), index=feat_test.columns), ignore_index=True)\n",
    "#     feat_test = feat_test.append(pd.Series(get_sample_results(pipe_feat, X, y, X_test, 100000), index=feat_test.columns), ignore_index=True)\n",
    "    feat_test = feat_test.append(pd.Series(get_sample_results(pipe_feat, X, y, X_test, 50000), index=feat_test.columns), ignore_index=True)"
   ]
  },
  {
   "cell_type": "code",
   "execution_count": 19,
   "metadata": {},
   "outputs": [],
   "source": [
    "feat_test = pd.read_csv('feat_test.csv')"
   ]
  },
  {
   "cell_type": "code",
   "execution_count": 20,
   "metadata": {},
   "outputs": [],
   "source": [
    "feat_test['avg_score'] = feat_test[['accuracy', 'recall_0', 'recall_1']].apply('mean', axis=1)"
   ]
  },
  {
   "cell_type": "code",
   "execution_count": 21,
   "metadata": {},
   "outputs": [
    {
     "data": {
      "text/html": [
       "<div>\n",
       "<style scoped>\n",
       "    .dataframe tbody tr th:only-of-type {\n",
       "        vertical-align: middle;\n",
       "    }\n",
       "\n",
       "    .dataframe tbody tr th {\n",
       "        vertical-align: top;\n",
       "    }\n",
       "\n",
       "    .dataframe thead th {\n",
       "        text-align: right;\n",
       "    }\n",
       "</style>\n",
       "<table border=\"1\" class=\"dataframe\">\n",
       "  <thead>\n",
       "    <tr style=\"text-align: right;\">\n",
       "      <th></th>\n",
       "      <th>param</th>\n",
       "      <th>samples</th>\n",
       "      <th>features</th>\n",
       "      <th>accuracy</th>\n",
       "      <th>recall_0</th>\n",
       "      <th>recall_1</th>\n",
       "      <th>avg_score</th>\n",
       "    </tr>\n",
       "  </thead>\n",
       "  <tbody>\n",
       "    <tr>\n",
       "      <th>19</th>\n",
       "      <td>100000.0</td>\n",
       "      <td>319842.0</td>\n",
       "      <td>100000.0</td>\n",
       "      <td>0.96260</td>\n",
       "      <td>0.9668</td>\n",
       "      <td>0.9584</td>\n",
       "      <td>0.96260</td>\n",
       "    </tr>\n",
       "    <tr>\n",
       "      <th>18</th>\n",
       "      <td>NaN</td>\n",
       "      <td>319842.0</td>\n",
       "      <td>494452.0</td>\n",
       "      <td>0.96200</td>\n",
       "      <td>0.9672</td>\n",
       "      <td>0.9568</td>\n",
       "      <td>0.96200</td>\n",
       "    </tr>\n",
       "    <tr>\n",
       "      <th>15</th>\n",
       "      <td>100000.0</td>\n",
       "      <td>239929.0</td>\n",
       "      <td>100000.0</td>\n",
       "      <td>0.96190</td>\n",
       "      <td>0.9636</td>\n",
       "      <td>0.9602</td>\n",
       "      <td>0.96190</td>\n",
       "    </tr>\n",
       "    <tr>\n",
       "      <th>14</th>\n",
       "      <td>NaN</td>\n",
       "      <td>239929.0</td>\n",
       "      <td>392177.0</td>\n",
       "      <td>0.96160</td>\n",
       "      <td>0.9637</td>\n",
       "      <td>0.9595</td>\n",
       "      <td>0.96160</td>\n",
       "    </tr>\n",
       "    <tr>\n",
       "      <th>11</th>\n",
       "      <td>100000.0</td>\n",
       "      <td>199955.0</td>\n",
       "      <td>100000.0</td>\n",
       "      <td>0.96100</td>\n",
       "      <td>0.9621</td>\n",
       "      <td>0.9599</td>\n",
       "      <td>0.96100</td>\n",
       "    </tr>\n",
       "    <tr>\n",
       "      <th>10</th>\n",
       "      <td>NaN</td>\n",
       "      <td>199955.0</td>\n",
       "      <td>344904.0</td>\n",
       "      <td>0.96095</td>\n",
       "      <td>0.9623</td>\n",
       "      <td>0.9596</td>\n",
       "      <td>0.96095</td>\n",
       "    </tr>\n",
       "    <tr>\n",
       "      <th>12</th>\n",
       "      <td>NaN</td>\n",
       "      <td>219937.0</td>\n",
       "      <td>369631.0</td>\n",
       "      <td>0.96060</td>\n",
       "      <td>0.9626</td>\n",
       "      <td>0.9586</td>\n",
       "      <td>0.96060</td>\n",
       "    </tr>\n",
       "    <tr>\n",
       "      <th>13</th>\n",
       "      <td>100000.0</td>\n",
       "      <td>219937.0</td>\n",
       "      <td>100000.0</td>\n",
       "      <td>0.96050</td>\n",
       "      <td>0.9622</td>\n",
       "      <td>0.9588</td>\n",
       "      <td>0.96050</td>\n",
       "    </tr>\n",
       "    <tr>\n",
       "      <th>17</th>\n",
       "      <td>100000.0</td>\n",
       "      <td>279891.0</td>\n",
       "      <td>100000.0</td>\n",
       "      <td>0.95875</td>\n",
       "      <td>0.9601</td>\n",
       "      <td>0.9574</td>\n",
       "      <td>0.95875</td>\n",
       "    </tr>\n",
       "    <tr>\n",
       "      <th>16</th>\n",
       "      <td>NaN</td>\n",
       "      <td>279891.0</td>\n",
       "      <td>443370.0</td>\n",
       "      <td>0.95825</td>\n",
       "      <td>0.9603</td>\n",
       "      <td>0.9562</td>\n",
       "      <td>0.95825</td>\n",
       "    </tr>\n",
       "    <tr>\n",
       "      <th>8</th>\n",
       "      <td>NaN</td>\n",
       "      <td>39995.0</td>\n",
       "      <td>103191.0</td>\n",
       "      <td>0.95380</td>\n",
       "      <td>0.9594</td>\n",
       "      <td>0.9482</td>\n",
       "      <td>0.95380</td>\n",
       "    </tr>\n",
       "    <tr>\n",
       "      <th>9</th>\n",
       "      <td>100000.0</td>\n",
       "      <td>39995.0</td>\n",
       "      <td>100000.0</td>\n",
       "      <td>0.95375</td>\n",
       "      <td>0.9594</td>\n",
       "      <td>0.9481</td>\n",
       "      <td>0.95375</td>\n",
       "    </tr>\n",
       "    <tr>\n",
       "      <th>6</th>\n",
       "      <td>NaN</td>\n",
       "      <td>30999.0</td>\n",
       "      <td>84520.0</td>\n",
       "      <td>0.95260</td>\n",
       "      <td>0.9575</td>\n",
       "      <td>0.9477</td>\n",
       "      <td>0.95260</td>\n",
       "    </tr>\n",
       "    <tr>\n",
       "      <th>7</th>\n",
       "      <td>100000.0</td>\n",
       "      <td>30999.0</td>\n",
       "      <td>84520.0</td>\n",
       "      <td>0.95260</td>\n",
       "      <td>0.9575</td>\n",
       "      <td>0.9477</td>\n",
       "      <td>0.95260</td>\n",
       "    </tr>\n",
       "    <tr>\n",
       "      <th>5</th>\n",
       "      <td>100000.0</td>\n",
       "      <td>21997.0</td>\n",
       "      <td>63834.0</td>\n",
       "      <td>0.94995</td>\n",
       "      <td>0.9565</td>\n",
       "      <td>0.9434</td>\n",
       "      <td>0.94995</td>\n",
       "    </tr>\n",
       "    <tr>\n",
       "      <th>4</th>\n",
       "      <td>NaN</td>\n",
       "      <td>21997.0</td>\n",
       "      <td>63834.0</td>\n",
       "      <td>0.94995</td>\n",
       "      <td>0.9565</td>\n",
       "      <td>0.9434</td>\n",
       "      <td>0.94995</td>\n",
       "    </tr>\n",
       "    <tr>\n",
       "      <th>3</th>\n",
       "      <td>100000.0</td>\n",
       "      <td>12999.0</td>\n",
       "      <td>41860.0</td>\n",
       "      <td>0.94065</td>\n",
       "      <td>0.9501</td>\n",
       "      <td>0.9312</td>\n",
       "      <td>0.94065</td>\n",
       "    </tr>\n",
       "    <tr>\n",
       "      <th>2</th>\n",
       "      <td>NaN</td>\n",
       "      <td>12999.0</td>\n",
       "      <td>41860.0</td>\n",
       "      <td>0.94065</td>\n",
       "      <td>0.9501</td>\n",
       "      <td>0.9312</td>\n",
       "      <td>0.94065</td>\n",
       "    </tr>\n",
       "    <tr>\n",
       "      <th>1</th>\n",
       "      <td>100000.0</td>\n",
       "      <td>4000.0</td>\n",
       "      <td>15198.0</td>\n",
       "      <td>0.92470</td>\n",
       "      <td>0.9366</td>\n",
       "      <td>0.9128</td>\n",
       "      <td>0.92470</td>\n",
       "    </tr>\n",
       "    <tr>\n",
       "      <th>0</th>\n",
       "      <td>NaN</td>\n",
       "      <td>4000.0</td>\n",
       "      <td>15198.0</td>\n",
       "      <td>0.92470</td>\n",
       "      <td>0.9366</td>\n",
       "      <td>0.9128</td>\n",
       "      <td>0.92470</td>\n",
       "    </tr>\n",
       "  </tbody>\n",
       "</table>\n",
       "</div>"
      ],
      "text/plain": [
       "       param   samples  features  accuracy  recall_0  recall_1  avg_score\n",
       "19  100000.0  319842.0  100000.0   0.96260    0.9668    0.9584    0.96260\n",
       "18       NaN  319842.0  494452.0   0.96200    0.9672    0.9568    0.96200\n",
       "15  100000.0  239929.0  100000.0   0.96190    0.9636    0.9602    0.96190\n",
       "14       NaN  239929.0  392177.0   0.96160    0.9637    0.9595    0.96160\n",
       "11  100000.0  199955.0  100000.0   0.96100    0.9621    0.9599    0.96100\n",
       "10       NaN  199955.0  344904.0   0.96095    0.9623    0.9596    0.96095\n",
       "12       NaN  219937.0  369631.0   0.96060    0.9626    0.9586    0.96060\n",
       "13  100000.0  219937.0  100000.0   0.96050    0.9622    0.9588    0.96050\n",
       "17  100000.0  279891.0  100000.0   0.95875    0.9601    0.9574    0.95875\n",
       "16       NaN  279891.0  443370.0   0.95825    0.9603    0.9562    0.95825\n",
       "8        NaN   39995.0  103191.0   0.95380    0.9594    0.9482    0.95380\n",
       "9   100000.0   39995.0  100000.0   0.95375    0.9594    0.9481    0.95375\n",
       "6        NaN   30999.0   84520.0   0.95260    0.9575    0.9477    0.95260\n",
       "7   100000.0   30999.0   84520.0   0.95260    0.9575    0.9477    0.95260\n",
       "5   100000.0   21997.0   63834.0   0.94995    0.9565    0.9434    0.94995\n",
       "4        NaN   21997.0   63834.0   0.94995    0.9565    0.9434    0.94995\n",
       "3   100000.0   12999.0   41860.0   0.94065    0.9501    0.9312    0.94065\n",
       "2        NaN   12999.0   41860.0   0.94065    0.9501    0.9312    0.94065\n",
       "1   100000.0    4000.0   15198.0   0.92470    0.9366    0.9128    0.92470\n",
       "0        NaN    4000.0   15198.0   0.92470    0.9366    0.9128    0.92470"
      ]
     },
     "execution_count": 21,
     "metadata": {},
     "output_type": "execute_result"
    }
   ],
   "source": [
    "feat_test.sort_values(by='avg_score', ascending=False)"
   ]
  },
  {
   "cell_type": "code",
   "execution_count": 22,
   "metadata": {},
   "outputs": [],
   "source": [
    "feat_test.to_csv('feat_test.csv', index=False)"
   ]
  },
  {
   "cell_type": "markdown",
   "metadata": {},
   "source": [
    "Looking at the results above it seems as though limiting the number of features has neglibale impact on model accuracy. This means that after a certain number of features say 100K) additional features provide negilibable benefit. As a result, limiting the feature is definitly something I should do. The further benefit of limiting the the features is that my model will not increase in complexity with increasing more data."
   ]
  },
  {
   "cell_type": "markdown",
   "metadata": {},
   "source": [
    "### 5. Optimal pre-processing pipeline"
   ]
  },
  {
   "cell_type": "code",
   "execution_count": 10,
   "metadata": {
    "execution": {
     "iopub.execute_input": "2020-08-21T15:34:04.171616Z",
     "iopub.status.busy": "2020-08-21T15:34:04.171136Z",
     "iopub.status.idle": "2020-08-21T15:34:04.321896Z",
     "shell.execute_reply": "2020-08-21T15:34:04.316599Z",
     "shell.execute_reply.started": "2020-08-21T15:34:04.171567Z"
    }
   },
   "outputs": [
    {
     "name": "stderr",
     "output_type": "stream",
     "text": [
      "/Users/user/opt/anaconda3/lib/python3.7/site-packages/sklearn/base.py:213: FutureWarning: From version 0.24, get_params will raise an AttributeError if a parameter cannot be retrieved as an instance attribute. Previously it would return None.\n",
      "  FutureWarning)\n"
     ]
    },
    {
     "data": {
      "text/plain": [
       "Pipeline(steps=[('pre',\n",
       "                 JobPreprocessor(punc='!\"#$%&\\'()*+,-./:;<=>?@[\\\\]^_`{|}~\\n\\t',\n",
       "                                 stopw=['i', 'me', 'my', 'myself', 'we', 'our',\n",
       "                                        'ours', 'ourselves', 'you', \"you're\",\n",
       "                                        \"you've\", \"you'll\", \"you'd\", 'your',\n",
       "                                        'yours', 'yourself', 'yourselves', 'he',\n",
       "                                        'him', 'his', 'himself', 'she', \"she's\",\n",
       "                                        'her', 'hers', 'herself', 'it', \"it's\",\n",
       "                                        'its', 'itself', ...])),\n",
       "                ('cv',\n",
       "                 CountVectorizer(binary=True, max_features=100000, min_df=5,\n",
       "                                 ngram_range=(1, 2), strip_accents='unicode')),\n",
       "                ('tfidf', TfidfTransformer())])"
      ]
     },
     "execution_count": 10,
     "metadata": {},
     "output_type": "execute_result"
    }
   ],
   "source": [
    "# optimal pipeline\n",
    "pipe_final = Pipeline([\n",
    "    ('pre', JobPreprocessor(punc=punc, stopw=stopwords.words('english'))),\n",
    "    ('cv', CountVectorizer(strip_accents=\"unicode\")),\n",
    "    ('tfidf', TfidfTransformer())\n",
    "])\n",
    "\n",
    "# optimal pipeline parameters\n",
    "pipe_final.set_params(\n",
    "                    pre__punc = punc,\n",
    "                    pre__stopw = stopwords.words('english'),\n",
    "                    cv__min_df = 5, \n",
    "                    cv__binary = True,\n",
    "                    cv__ngram_range = (1,2),\n",
    "                    cv__max_features = 100000,\n",
    "                    tfidf__use_idf = True\n",
    ")"
   ]
  },
  {
   "cell_type": "markdown",
   "metadata": {},
   "source": [
    "---"
   ]
  },
  {
   "cell_type": "markdown",
   "metadata": {},
   "source": [
    "## Modelling"
   ]
  },
  {
   "cell_type": "code",
   "execution_count": 10,
   "metadata": {
    "execution": {
     "iopub.execute_input": "2020-08-23T13:04:27.965724Z",
     "iopub.status.busy": "2020-08-23T13:04:27.965466Z",
     "iopub.status.idle": "2020-08-23T13:04:30.071435Z",
     "shell.execute_reply": "2020-08-23T13:04:30.070500Z",
     "shell.execute_reply.started": "2020-08-23T13:04:27.965696Z"
    }
   },
   "outputs": [],
   "source": [
    "import scikitplot as skplt\n",
    "from sklearn.metrics import classification_report, confusion_matrix\n",
    "from sklearn.model_selection import cross_val_score\n",
    "from time import time\n",
    "\n",
    "from sklearn.naive_bayes import BernoulliNB\n",
    "from sklearn.neighbors import KNeighborsClassifier\n",
    "from sklearn.linear_model import LogisticRegression\n",
    "from sklearn.ensemble import RandomForestClassifier\n",
    "from sklearn.tree import DecisionTreeClassifier\n",
    "from sklearn.ensemble import AdaBoostClassifier, BaggingClassifier\n",
    "from xgboost import XGBClassifier\n",
    "from sklearn.svm import SVC, LinearSVC"
   ]
  },
  {
   "cell_type": "code",
   "execution_count": 11,
   "metadata": {
    "execution": {
     "iopub.execute_input": "2020-08-23T13:04:30.073400Z",
     "iopub.status.busy": "2020-08-23T13:04:30.073028Z",
     "iopub.status.idle": "2020-08-23T13:04:30.088602Z",
     "shell.execute_reply": "2020-08-23T13:04:30.087578Z",
     "shell.execute_reply.started": "2020-08-23T13:04:30.073349Z"
    }
   },
   "outputs": [],
   "source": [
    "def get_freq_words(sparse_counts, columns):\n",
    "\n",
    "    word_counts = np.ravel(sparse_counts.sum(axis=0))\n",
    "    freq_words = pd.Series(\n",
    "        word_counts, index=columns).sort_values(ascending=False)\n",
    "\n",
    "    return freq_words"
   ]
  },
  {
   "cell_type": "markdown",
   "metadata": {},
   "source": [
    "### 1. Setup a test / train split "
   ]
  },
  {
   "cell_type": "code",
   "execution_count": 13,
   "metadata": {
    "execution": {
     "iopub.execute_input": "2020-08-21T15:34:10.658651Z",
     "iopub.status.busy": "2020-08-21T15:34:10.658296Z",
     "iopub.status.idle": "2020-08-21T15:50:59.343787Z",
     "shell.execute_reply": "2020-08-21T15:50:59.341207Z",
     "shell.execute_reply.started": "2020-08-21T15:34:10.658608Z"
    }
   },
   "outputs": [],
   "source": [
    "# create training data\n",
    "df_train = get_sample(100000)\n",
    "X_train = df_train['text'].copy()\n",
    "# transform training set using pipeline\n",
    "X_train = pipe_final.fit_transform(X_train)\n",
    "y_train = df_train['target'].copy()"
   ]
  },
  {
   "cell_type": "code",
   "execution_count": 14,
   "metadata": {
    "execution": {
     "iopub.execute_input": "2020-08-21T15:50:59.347524Z",
     "iopub.status.busy": "2020-08-21T15:50:59.347059Z",
     "iopub.status.idle": "2020-08-21T15:57:55.306760Z",
     "shell.execute_reply": "2020-08-21T15:57:55.304650Z",
     "shell.execute_reply.started": "2020-08-21T15:50:59.347485Z"
    }
   },
   "outputs": [],
   "source": [
    "# create test data\n",
    "df_test = get_sample(50000)\n",
    "X_test = df_test['text'].copy()\n",
    "# transform training set using pipeline\n",
    "X_test = pipe_final.transform(X_test)\n",
    "y_test = df_test['target'].copy()"
   ]
  },
  {
   "cell_type": "markdown",
   "metadata": {},
   "source": [
    "Training and test data are randomly sampled from the set of all 1,2,4,5 star. reviews. Reviews are equally-weighted sample to ensure my model is equally good at predicting both positive and negative reviews.\n",
    "\n",
    "The target is a binary variable indicating if a review was positive (4 or 5 stars) or negative (1 or 2 stars)"
   ]
  },
  {
   "cell_type": "code",
   "execution_count": 15,
   "metadata": {
    "execution": {
     "iopub.execute_input": "2020-08-21T15:57:55.317566Z",
     "iopub.status.busy": "2020-08-21T15:57:55.316897Z",
     "iopub.status.idle": "2020-08-21T15:57:55.614837Z",
     "shell.execute_reply": "2020-08-21T15:57:55.606060Z",
     "shell.execute_reply.started": "2020-08-21T15:57:55.317517Z"
    }
   },
   "outputs": [
    {
     "data": {
      "text/plain": [
       "((400000, 100000), (400000,), (200000, 100000), (200000,))"
      ]
     },
     "execution_count": 15,
     "metadata": {},
     "output_type": "execute_result"
    }
   ],
   "source": [
    "X_train.shape, y_train.shape, X_test.shape, y_test.shape"
   ]
  },
  {
   "cell_type": "markdown",
   "metadata": {},
   "source": [
    "The train set contains 400K observations, while the test set contains 200K observations. Both sets have the feature set, which are based on features discovered by my pipeline from the training data."
   ]
  },
  {
   "cell_type": "code",
   "execution_count": 16,
   "metadata": {
    "execution": {
     "iopub.execute_input": "2020-08-21T15:57:55.653104Z",
     "iopub.status.busy": "2020-08-21T15:57:55.652259Z",
     "iopub.status.idle": "2020-08-21T15:57:56.373749Z",
     "shell.execute_reply": "2020-08-21T15:57:56.371766Z",
     "shell.execute_reply.started": "2020-08-21T15:57:55.653048Z"
    }
   },
   "outputs": [
    {
     "data": {
      "text/plain": [
       "400000"
      ]
     },
     "execution_count": 16,
     "metadata": {},
     "output_type": "execute_result"
    }
   ],
   "source": [
    "df_train.review_id.nunique() # all observations are unique"
   ]
  },
  {
   "cell_type": "code",
   "execution_count": 17,
   "metadata": {
    "execution": {
     "iopub.execute_input": "2020-08-21T15:57:56.381640Z",
     "iopub.status.busy": "2020-08-21T15:57:56.376743Z",
     "iopub.status.idle": "2020-08-21T15:57:58.944626Z",
     "shell.execute_reply": "2020-08-21T15:57:58.943909Z",
     "shell.execute_reply.started": "2020-08-21T15:57:56.381576Z"
    }
   },
   "outputs": [
    {
     "data": {
      "text/plain": [
       "0"
      ]
     },
     "execution_count": 17,
     "metadata": {},
     "output_type": "execute_result"
    }
   ],
   "source": [
    "sum([test in df_train.review_id for test in df_test.review_id]*1) # no overlap between train and test data"
   ]
  },
  {
   "cell_type": "markdown",
   "metadata": {},
   "source": [
    "The above lines check that there is no overlap between the training and test sets and that all the observations are unique (as in there is no repeating observations). As we can see all the observations are unique and there is no overlap between training and test observations"
   ]
  },
  {
   "cell_type": "code",
   "execution_count": 39,
   "metadata": {
    "execution": {
     "iopub.execute_input": "2020-08-22T15:54:29.177149Z",
     "iopub.status.busy": "2020-08-22T15:54:29.176312Z",
     "iopub.status.idle": "2020-08-22T15:54:29.378933Z",
     "shell.execute_reply": "2020-08-22T15:54:29.372650Z",
     "shell.execute_reply.started": "2020-08-22T15:54:29.177107Z"
    }
   },
   "outputs": [
    {
     "ename": "NameError",
     "evalue": "name 'X_test' is not defined",
     "output_type": "error",
     "traceback": [
      "\u001b[0;31m---------------------------------------------------------------------------\u001b[0m",
      "\u001b[0;31mNameError\u001b[0m                                 Traceback (most recent call last)",
      "\u001b[0;32m<ipython-input-39-2161117728a4>\u001b[0m in \u001b[0;36m<module>\u001b[0;34m\u001b[0m\n\u001b[1;32m      1\u001b[0m \u001b[0mcolumns\u001b[0m \u001b[0;34m=\u001b[0m \u001b[0mpipe_final\u001b[0m\u001b[0;34m[\u001b[0m\u001b[0;34m'cv'\u001b[0m\u001b[0;34m]\u001b[0m\u001b[0;34m.\u001b[0m\u001b[0mget_feature_names\u001b[0m\u001b[0;34m(\u001b[0m\u001b[0;34m)\u001b[0m\u001b[0;34m\u001b[0m\u001b[0;34m\u001b[0m\u001b[0m\n\u001b[0;32m----> 2\u001b[0;31m \u001b[0mfreq_words\u001b[0m \u001b[0;34m=\u001b[0m \u001b[0mget_freq_words\u001b[0m\u001b[0;34m(\u001b[0m\u001b[0mX_test\u001b[0m\u001b[0;34m,\u001b[0m \u001b[0mcolumns\u001b[0m\u001b[0;34m)\u001b[0m\u001b[0;34m\u001b[0m\u001b[0;34m\u001b[0m\u001b[0m\n\u001b[0m\u001b[1;32m      3\u001b[0m \u001b[0mfreq_words\u001b[0m\u001b[0;34m[\u001b[0m\u001b[0;34m:\u001b[0m\u001b[0;36m20\u001b[0m\u001b[0;34m]\u001b[0m\u001b[0;34m\u001b[0m\u001b[0;34m\u001b[0m\u001b[0m\n",
      "\u001b[0;31mNameError\u001b[0m: name 'X_test' is not defined"
     ]
    }
   ],
   "source": [
    "columns = pipe_final['cv'].get_feature_names()\n",
    "freq_words = get_freq_words(X_test, columns)\n",
    "freq_words[:20]"
   ]
  },
  {
   "cell_type": "code",
   "execution_count": 21,
   "metadata": {
    "execution": {
     "iopub.execute_input": "2020-08-21T15:59:47.009555Z",
     "iopub.status.busy": "2020-08-21T15:59:47.008308Z",
     "iopub.status.idle": "2020-08-21T15:59:47.119547Z",
     "shell.execute_reply": "2020-08-21T15:59:47.118079Z",
     "shell.execute_reply.started": "2020-08-21T15:59:47.009482Z"
    }
   },
   "outputs": [
    {
     "data": {
      "text/plain": [
       "1    0.5\n",
       "0    0.5\n",
       "Name: target, dtype: float64"
      ]
     },
     "execution_count": 21,
     "metadata": {},
     "output_type": "execute_result"
    }
   ],
   "source": [
    "y_test.value_counts(normalize=True)"
   ]
  },
  {
   "cell_type": "markdown",
   "metadata": {},
   "source": [
    "As I am equally sampling the baseline accuracy is 50%."
   ]
  },
  {
   "cell_type": "markdown",
   "metadata": {},
   "source": [
    "### 2. Setup models"
   ]
  },
  {
   "cell_type": "markdown",
   "metadata": {},
   "source": [
    "I am excluding Tree/Forest classifiers as they did not seem very performant as the number of samples was increased, and there scores were not as good as LR and LinearSVC"
   ]
  },
  {
   "cell_type": "code",
   "execution_count": 22,
   "metadata": {
    "execution": {
     "iopub.execute_input": "2020-08-21T15:59:49.384485Z",
     "iopub.status.busy": "2020-08-21T15:59:49.381678Z",
     "iopub.status.idle": "2020-08-21T15:59:49.476629Z",
     "shell.execute_reply": "2020-08-21T15:59:49.473718Z",
     "shell.execute_reply.started": "2020-08-21T15:59:49.384421Z"
    }
   },
   "outputs": [],
   "source": [
    "models = {\n",
    "    'NB Bernoulli': (BernoulliNB(), {}),\n",
    "\n",
    "    'Logistic Regression': (LogisticRegression(solver='liblinear'), {'C': np.linspace(3, 6, 15),\n",
    "                                                                     'penalty': ['l2']}), # 'l1'\n",
    "    \n",
    "    'LinearSVC': (LinearSVC(), {'penalty': ['l2'],\n",
    "                         'class_weight': [None, 'balanced'],\n",
    "                         'C': np.linspace(1, 10, 5)}),\n",
    "\n",
    "#     'RbfSVC': (SVC(kernel='rbf'), {'gamma': ['scale', 'auto'],\n",
    "#                                 'C': np.linspace(1, 100, 10)}),\n",
    "    \n",
    "#     'SigmoidSVC': (SVC(kernel='sigmoid'), {'gamma': ['scale', 'auto'],\n",
    "#                                          'coef0': np.linspace(0, 10, 10),\n",
    "#                                          'C': np.linspace(1, 100, 10)}),\n",
    "    \n",
    "#     'KNN': (KNeighborsClassifier(), {'n_neighbors': [15, 20, 30]}),\n",
    "#     'XGBoost': (XGBClassifier(), {'n_estimators': [200, 300], # 500\n",
    "#                                   'learning_rate': [0.05, 0.1],\n",
    "#                                   'early_stopping_rounds': [10], # 15\n",
    "# #                                   'max_depth': [12], # 10\n",
    "#                                   'objective': ['binary:logistic']}),\n",
    "# #     'Random Forest': (RandomForestClassifier(), {'n_estimators': [100, 200, 300],\n",
    "# #                                                  'max_features': [0.6, 0.8, 1.0],\n",
    "# #                                                  'min_samples_leaf': [3, 5, 7]\n",
    "# #                                                  })\n",
    "#     'Bagging': (BaggingClassifier(base_estimator=DecisionTreeClassifier()), {'n_estimators': np.linspace(150, 300, 4).astype(int),\n",
    "#                                                                          'bootstrap': [True], # False\n",
    "#                                                                          'bootstrap_features': [True]}), # False\n",
    "#     'AdaBoost': (AdaBoostClassifier(base_estimator=DecisionTreeClassifier(max_depth=1)), {'n_estimators': np.linspace(500, 2000, 5).astype(int), \n",
    "#                                                                                            'learning_rate': [0.005, 0.01]})\n",
    "    \n",
    "}\n",
    "\n",
    "gs_params = {\n",
    "    'n_jobs': 2,\n",
    "    'verbose': 0,\n",
    "    'cv': 5, # 4\n",
    "    'scoring': 'accuracy', # 'recall'\n",
    "    'return_train_score': True\n",
    "}"
   ]
  },
  {
   "cell_type": "markdown",
   "metadata": {},
   "source": [
    "### 3. Gridsearch & model performance"
   ]
  },
  {
   "cell_type": "code",
   "execution_count": 23,
   "metadata": {
    "execution": {
     "iopub.execute_input": "2020-08-21T15:59:52.364779Z",
     "iopub.status.busy": "2020-08-21T15:59:52.364445Z",
     "iopub.status.idle": "2020-08-21T16:24:49.858622Z",
     "shell.execute_reply": "2020-08-21T16:24:49.846873Z",
     "shell.execute_reply.started": "2020-08-21T15:59:52.364729Z"
    }
   },
   "outputs": [
    {
     "name": "stdout",
     "output_type": "stream",
     "text": [
      "Model:  NB Bernoulli\n",
      "Train time: 17.638s\n",
      "Best model:  BernoulliNB()\n",
      "Best params:  {}\n",
      "Train accuracy:  0.874685\n",
      "Test accuracy:  0.882185\n",
      "Train recall (class 0):  0.815\n",
      "Test recall (class 0):  0.821\n",
      "\n",
      "confusion matrix: \n",
      "[[82142 17858]\n",
      " [ 5705 94295]]\n",
      "\n",
      "\n",
      "              precision    recall  f1-score   support\n",
      "\n",
      "           0       0.94      0.82      0.87    100000\n",
      "           1       0.84      0.94      0.89    100000\n",
      "\n",
      "    accuracy                           0.88    200000\n",
      "   macro avg       0.89      0.88      0.88    200000\n",
      "weighted avg       0.89      0.88      0.88    200000\n",
      "\n",
      "------------------------------------------------------------\n",
      "Model:  Logistic Regression\n",
      "Train time: 939.825s\n",
      "Best model:  LogisticRegression(C=4.285714285714286, solver='liblinear')\n",
      "Best params:  {'C': 4.285714285714286, 'penalty': 'l2'}\n",
      "Train accuracy:  0.9515475\n",
      "Test accuracy:  0.95261\n",
      "Train recall (class 0):  0.978\n",
      "Test recall (class 0):  0.954\n",
      "\n",
      "confusion matrix: \n",
      "[[95365  4635]\n",
      " [ 4843 95157]]\n",
      "\n",
      "\n",
      "              precision    recall  f1-score   support\n",
      "\n",
      "           0       0.95      0.95      0.95    100000\n",
      "           1       0.95      0.95      0.95    100000\n",
      "\n",
      "    accuracy                           0.95    200000\n",
      "   macro avg       0.95      0.95      0.95    200000\n",
      "weighted avg       0.95      0.95      0.95    200000\n",
      "\n",
      "------------------------------------------------------------\n",
      "Model:  LinearSVC\n",
      "Train time: 535.077s\n",
      "Best model:  LinearSVC()\n",
      "Best params:  {'C': 1.0, 'class_weight': None, 'penalty': 'l2'}\n",
      "Train accuracy:  0.94912\n",
      "Test accuracy:  0.94982\n",
      "Train recall (class 0):  0.988\n",
      "Test recall (class 0):  0.951\n",
      "\n",
      "confusion matrix: \n",
      "[[95053  4947]\n",
      " [ 5089 94911]]\n",
      "\n",
      "\n",
      "              precision    recall  f1-score   support\n",
      "\n",
      "           0       0.95      0.95      0.95    100000\n",
      "           1       0.95      0.95      0.95    100000\n",
      "\n",
      "    accuracy                           0.95    200000\n",
      "   macro avg       0.95      0.95      0.95    200000\n",
      "weighted avg       0.95      0.95      0.95    200000\n",
      "\n",
      "------------------------------------------------------------\n"
     ]
    }
   ],
   "source": [
    "for key, val in models.items():\n",
    "\n",
    "    print('Model: ', key)\n",
    "    gs = GridSearchCV(val[0], param_grid=val[1], **gs_params)\n",
    "    \n",
    "    t0 = time()\n",
    "    gs.fit(X_train, y_train)\n",
    "    train_time = time() - t0\n",
    "    print((\"Train time: %0.3fs\" % train_time))\n",
    "    \n",
    "    pred_train = gs.predict(X_train)\n",
    "    pred_test = gs.predict(X_test)\n",
    "    print(\"Best model: \", gs.best_estimator_)\n",
    "    print(\"Best params: \", gs.best_params_)\n",
    "    print(\"Train accuracy: \", gs.best_score_)\n",
    "    print(\"Test accuracy: \", gs.score(X_test, y_test))\n",
    "    print(\"Train recall (class 0): \", np.round(recall_score(y_train, pred_train, average='binary', pos_label=0),3))\n",
    "    print(\"Test recall (class 0): \", np.round(recall_score(y_test, pred_test, average='binary', pos_label=0),3)) # average='macro'\n",
    "    \n",
    "#     predictions = gs.predict(X_test)\n",
    "    print('\\nconfusion matrix: ')\n",
    "    print(confusion_matrix(y_test, pred_test))\n",
    "    print('\\n')\n",
    "    print(classification_report(y_test, pred_test))\n",
    "    print('-' * 60)"
   ]
  },
  {
   "cell_type": "markdown",
   "metadata": {},
   "source": [
    "The Logistic Regression and LinearSVC models perform equally. Both models have a high degree of accuracy and recall (explain these in more detail), which means that both models can accuractely predict the positive and negative classes. The confusion reports above show that the models are equally good at predicted both classes"
   ]
  },
  {
   "cell_type": "markdown",
   "metadata": {},
   "source": [
    "### 4. Model review - Threshold, ROC.AUC, ......"
   ]
  },
  {
   "cell_type": "code",
   "execution_count": 24,
   "metadata": {
    "execution": {
     "iopub.execute_input": "2020-08-21T16:26:56.047398Z",
     "iopub.status.busy": "2020-08-21T16:26:56.046187Z",
     "iopub.status.idle": "2020-08-21T16:28:33.645583Z",
     "shell.execute_reply": "2020-08-21T16:28:33.644847Z",
     "shell.execute_reply.started": "2020-08-21T16:26:56.047341Z"
    }
   },
   "outputs": [
    {
     "name": "stdout",
     "output_type": "stream",
     "text": [
      "CV score:  0.9515475\n",
      "Train score 0.9770625\n",
      "Test score 0.95261\n"
     ]
    }
   ],
   "source": [
    "# create model based on optimal settings\n",
    "model = LogisticRegression(C=4.285714285714286, solver='liblinear', penalty='l2')\n",
    "\n",
    "model.fit(X_train, y_train)\n",
    "\n",
    "print(\"CV score: \", cross_val_score(model, X_train, y_train, cv=5).mean())\n",
    "print(\"Train score\", model.score(X_train, y_train))\n",
    "print(\"Test score\", model.score(X_test, y_test))"
   ]
  },
  {
   "cell_type": "code",
   "execution_count": 25,
   "metadata": {
    "execution": {
     "iopub.execute_input": "2020-08-21T16:28:33.650850Z",
     "iopub.status.busy": "2020-08-21T16:28:33.650615Z",
     "iopub.status.idle": "2020-08-21T16:28:33.670621Z",
     "shell.execute_reply": "2020-08-21T16:28:33.669681Z",
     "shell.execute_reply.started": "2020-08-21T16:28:33.650825Z"
    }
   },
   "outputs": [
    {
     "data": {
      "text/plain": [
       "1    0.5\n",
       "0    0.5\n",
       "Name: target, dtype: float64"
      ]
     },
     "execution_count": 25,
     "metadata": {},
     "output_type": "execute_result"
    }
   ],
   "source": [
    "y_train.value_counts(normalize=True) # order determines what the model is predicting. Here I am predicting Positive reviews"
   ]
  },
  {
   "cell_type": "code",
   "execution_count": 26,
   "metadata": {
    "execution": {
     "iopub.execute_input": "2020-08-21T16:28:33.676591Z",
     "iopub.status.busy": "2020-08-21T16:28:33.676322Z",
     "iopub.status.idle": "2020-08-21T16:28:34.070526Z",
     "shell.execute_reply": "2020-08-21T16:28:34.069646Z",
     "shell.execute_reply.started": "2020-08-21T16:28:33.676563Z"
    }
   },
   "outputs": [],
   "source": [
    "pred_train = model.predict(X_train)\n",
    "pred_test = model.predict(X_test)\n",
    "prob_train = model.predict_proba(X_train)\n",
    "prob_test = model.predict_proba(X_test)"
   ]
  },
  {
   "cell_type": "code",
   "execution_count": 27,
   "metadata": {
    "execution": {
     "iopub.execute_input": "2020-08-21T16:28:34.076708Z",
     "iopub.status.busy": "2020-08-21T16:28:34.074168Z",
     "iopub.status.idle": "2020-08-21T16:28:34.680048Z",
     "shell.execute_reply": "2020-08-21T16:28:34.679325Z",
     "shell.execute_reply.started": "2020-08-21T16:28:34.076673Z"
    }
   },
   "outputs": [
    {
     "data": {
      "text/plain": [
       "0.88045"
      ]
     },
     "execution_count": 27,
     "metadata": {},
     "output_type": "execute_result"
    }
   ],
   "source": [
    "sum([i[0] > 0.84 or i[1] > 0.84 for i in prob_test]) / len(prob_test)"
   ]
  },
  {
   "cell_type": "markdown",
   "metadata": {},
   "source": [
    "The above score indicates how confident my model is a predicting the class of a given observation. Specfiically, in ~87% of observations the model predicts the class with a probability of at least 85%. What this tells us is that the model is quite confident in the predicitions it is making. It only struggles in very few cases."
   ]
  },
  {
   "cell_type": "code",
   "execution_count": null,
   "metadata": {},
   "outputs": [],
   "source": [
    "# What observations is the model not predicting well? (optional)"
   ]
  },
  {
   "cell_type": "code",
   "execution_count": 29,
   "metadata": {
    "execution": {
     "iopub.execute_input": "2020-08-21T16:29:51.813858Z",
     "iopub.status.busy": "2020-08-21T16:29:51.813531Z",
     "iopub.status.idle": "2020-08-21T16:29:51.820084Z",
     "shell.execute_reply": "2020-08-21T16:29:51.819119Z",
     "shell.execute_reply.started": "2020-08-21T16:29:51.813822Z"
    }
   },
   "outputs": [],
   "source": [
    "import scikitplot as skplt"
   ]
  },
  {
   "cell_type": "code",
   "execution_count": 30,
   "metadata": {
    "execution": {
     "iopub.execute_input": "2020-08-21T16:29:52.573219Z",
     "iopub.status.busy": "2020-08-21T16:29:52.572993Z",
     "iopub.status.idle": "2020-08-21T16:29:59.344627Z",
     "shell.execute_reply": "2020-08-21T16:29:59.343756Z",
     "shell.execute_reply.started": "2020-08-21T16:29:52.573194Z"
    }
   },
   "outputs": [
    {
     "data": {
      "image/png": "[encoded data removed]",
      "text/plain": [
       "<Figure size 864x432 with 2 Axes>"
      ]
     },
     "metadata": {
      "needs_background": "light"
     },
     "output_type": "display_data"
    }
   ],
   "source": [
    "# Plot precision / recall cruve\n",
    "fig_pr, ax = plt.subplots(ncols=2, figsize=(12, 6), sharey=True)\n",
    "skplt.metrics.plot_precision_recall(y_train, prob_train, ax=ax[0], title=\"Precision-Recall Train (LR)\")\n",
    "skplt.metrics.plot_precision_recall(y_test, prob_test, ax=ax[1], title=\"Precision-Recall Test (LR)\")\n",
    "plt.show()"
   ]
  },
  {
   "cell_type": "markdown",
   "metadata": {
    "execution": {
     "iopub.execute_input": "2020-08-20T10:14:52.981269Z",
     "iopub.status.busy": "2020-08-20T10:14:52.980677Z",
     "iopub.status.idle": "2020-08-20T10:14:52.985515Z",
     "shell.execute_reply": "2020-08-20T10:14:52.984466Z",
     "shell.execute_reply.started": "2020-08-20T10:14:52.981217Z"
    }
   },
   "source": [
    "The Precision-Recall curves above shows that as the threshold changes (and the recall increases) the precision scores remains high. This means that as the threshold changes the classifier continue to return accurate results (high precision), as well as positive results (high recall)."
   ]
  },
  {
   "cell_type": "code",
   "execution_count": 31,
   "metadata": {
    "execution": {
     "iopub.execute_input": "2020-08-21T16:29:59.349405Z",
     "iopub.status.busy": "2020-08-21T16:29:59.347989Z",
     "iopub.status.idle": "2020-08-21T16:30:05.005008Z",
     "shell.execute_reply": "2020-08-21T16:30:05.004184Z",
     "shell.execute_reply.started": "2020-08-21T16:29:59.349355Z"
    }
   },
   "outputs": [
    {
     "data": {
      "image/png": "[encoded data removed]",
      "text/plain": [
       "<Figure size 864x432 with 2 Axes>"
      ]
     },
     "metadata": {
      "needs_background": "light"
     },
     "output_type": "display_data"
    }
   ],
   "source": [
    "fig_auc, ax = plt.subplots(ncols=2, figsize=(12, 6), sharey=True)\n",
    "skplt.metrics.plot_roc(y_train, prob_train, ax=ax[0], title='ROC Train (LR)')\n",
    "skplt.metrics.plot_roc(y_test, prob_test, ax=ax[1], title='ROC Test (LR)')\n",
    "plt.show()"
   ]
  },
  {
   "cell_type": "markdown",
   "metadata": {
    "execution": {
     "iopub.execute_input": "2020-08-20T10:14:58.036724Z",
     "iopub.status.busy": "2020-08-20T10:14:58.036090Z",
     "iopub.status.idle": "2020-08-20T10:14:58.044320Z",
     "shell.execute_reply": "2020-08-20T10:14:58.043422Z",
     "shell.execute_reply.started": "2020-08-20T10:14:58.036696Z"
    }
   },
   "source": [
    "The ROC curves above shows the the model can accurately discriminate between the different classes, and does not prduce false positives as the threshold increases. This would suggest that there is no overlap between the different classes.\n",
    "\n",
    "The area indicates that you have good **recall** under all thresholds."
   ]
  },
  {
   "cell_type": "code",
   "execution_count": 32,
   "metadata": {
    "execution": {
     "iopub.execute_input": "2020-08-21T16:30:05.007965Z",
     "iopub.status.busy": "2020-08-21T16:30:05.007606Z",
     "iopub.status.idle": "2020-08-21T16:30:07.082194Z",
     "shell.execute_reply": "2020-08-21T16:30:07.081521Z",
     "shell.execute_reply.started": "2020-08-21T16:30:05.007930Z"
    }
   },
   "outputs": [
    {
     "data": {
      "image/png": "[encoded data removed]",
      "text/plain": [
       "<Figure size 864x432 with 2 Axes>"
      ]
     },
     "metadata": {
      "needs_background": "light"
     },
     "output_type": "display_data"
    }
   ],
   "source": [
    "fig_curves, ax = plt.subplots(ncols=2, figsize=(12, 6), sharey=True)\n",
    "skplt.metrics.plot_precision_recall(y_test, prob_test, ax=ax[0], title=\"Precision-Recall Test (LR)\")\n",
    "skplt.metrics.plot_roc(y_test, prob_test, ax=ax[1], title='ROC Test (LR)')\n",
    "plt.show()"
   ]
  },
  {
   "cell_type": "markdown",
   "metadata": {},
   "source": [
    "The area under the ROC curve tells you how could the model is predicting 1s as 1s and 0s as 0s. The TPR is the Recall and the FPR (FP/FP+TN). Here the model is excellent at correctly predicting the right class at any given threshold. Decreasing threshold increases Recall & FPR. Increasing the threshold does the opposite. So, here as the threshold decreases, the TPR/FPR increase very quickly (until the threshold doesn't matter) this means the model predicting classes with high probability. (The TPR increases at a much faster rate than the FPR as the threshold decreases)\n",
    "\n",
    "The PR shows how the Precision and Recall scores change for each class as the threshold changes. Here, as the threshold decreases the Recall increases. However, as the predicted probabilities for the classes are so high, the threshold does not impact the precision scores until the point at which the the threshold is almost 0. At which point only perfect TN predictions will remain in place, everything else will move over the positive class."
   ]
  },
  {
   "cell_type": "code",
   "execution_count": 40,
   "metadata": {
    "execution": {
     "iopub.execute_input": "2020-08-20T10:15:00.837955Z",
     "iopub.status.busy": "2020-08-20T10:15:00.837675Z",
     "iopub.status.idle": "2020-08-20T10:15:02.927008Z",
     "shell.execute_reply": "2020-08-20T10:15:02.926041Z",
     "shell.execute_reply.started": "2020-08-20T10:15:00.837925Z"
    }
   },
   "outputs": [],
   "source": [
    "fig_curves.savefig('model_performance_curves.jpg', bbox_inches='tight')"
   ]
  },
  {
   "cell_type": "code",
   "execution_count": 33,
   "metadata": {
    "execution": {
     "iopub.execute_input": "2020-08-21T16:30:07.084476Z",
     "iopub.status.busy": "2020-08-21T16:30:07.083939Z",
     "iopub.status.idle": "2020-08-21T16:30:07.209943Z",
     "shell.execute_reply": "2020-08-21T16:30:07.209184Z",
     "shell.execute_reply.started": "2020-08-21T16:30:07.084438Z"
    }
   },
   "outputs": [],
   "source": [
    "df_coef = pd.DataFrame(model.coef_[0], index=columns,\n",
    "                       columns=['coefs'])\n",
    "df_coef['coef_abs'] = df_coef.coefs.abs()"
   ]
  },
  {
   "cell_type": "code",
   "execution_count": 34,
   "metadata": {
    "execution": {
     "iopub.execute_input": "2020-08-21T16:30:07.212592Z",
     "iopub.status.busy": "2020-08-21T16:30:07.211609Z",
     "iopub.status.idle": "2020-08-21T16:30:07.819183Z",
     "shell.execute_reply": "2020-08-21T16:30:07.818310Z",
     "shell.execute_reply.started": "2020-08-21T16:30:07.212544Z"
    }
   },
   "outputs": [
    {
     "data": {
      "image/png": "[encoded data removed]",
      "text/plain": [
       "<Figure size 864x864 with 1 Axes>"
      ]
     },
     "metadata": {
      "needs_background": "light"
     },
     "output_type": "display_data"
    }
   ],
   "source": [
    "fig_coef, ax = plt.subplots(figsize=(12,12))\n",
    "df_coef[df_coef.coef_abs > 10]['coefs'].sort_values().plot(kind='barh');"
   ]
  },
  {
   "cell_type": "code",
   "execution_count": 43,
   "metadata": {
    "execution": {
     "iopub.execute_input": "2020-08-20T10:15:15.933202Z",
     "iopub.status.busy": "2020-08-20T10:15:15.932952Z",
     "iopub.status.idle": "2020-08-20T10:15:16.244296Z",
     "shell.execute_reply": "2020-08-20T10:15:16.243424Z",
     "shell.execute_reply.started": "2020-08-20T10:15:15.933176Z"
    }
   },
   "outputs": [],
   "source": [
    "fig_coef.savefig('model_performance_coef.jpg', bbox_inches='tight')"
   ]
  },
  {
   "cell_type": "markdown",
   "metadata": {},
   "source": [
    "In the coefficient graph above the positive coefficient enhance the prediction of a positive review, while the negative coefficients diminish the chance, and enhance preidcitions of a negative review.\n",
    "\n",
    "- Positive coefficients enhance the prediction being part of the predictive class. As a coeffiecneit becomes more positive it enhances the chances of an observations being assigned to the predictive class\n",
    "- Negative coeffcients diminsih the chance of being in the predictive class. As a coefficient becomes more negative it dimished the chance of an observation being assigned to the predictive class."
   ]
  },
  {
   "cell_type": "markdown",
   "metadata": {},
   "source": [
    "### 5. Pickle final model"
   ]
  },
  {
   "cell_type": "code",
   "execution_count": 12,
   "metadata": {
    "execution": {
     "iopub.execute_input": "2020-08-23T13:04:40.271582Z",
     "iopub.status.busy": "2020-08-23T13:04:40.271330Z",
     "iopub.status.idle": "2020-08-23T13:04:40.276789Z",
     "shell.execute_reply": "2020-08-23T13:04:40.275431Z",
     "shell.execute_reply.started": "2020-08-23T13:04:40.271555Z"
    }
   },
   "outputs": [],
   "source": [
    "import joblib"
   ]
  },
  {
   "cell_type": "code",
   "execution_count": 76,
   "metadata": {
    "execution": {
     "iopub.execute_input": "2020-08-21T16:42:33.982753Z",
     "iopub.status.busy": "2020-08-21T16:42:33.982398Z",
     "iopub.status.idle": "2020-08-21T16:43:01.956806Z",
     "shell.execute_reply": "2020-08-21T16:43:01.955431Z",
     "shell.execute_reply.started": "2020-08-21T16:42:33.982713Z"
    }
   },
   "outputs": [
    {
     "data": {
      "text/plain": [
       "['yelp_pipe.jlib']"
      ]
     },
     "execution_count": 76,
     "metadata": {},
     "output_type": "execute_result"
    }
   ],
   "source": [
    "# joblib.dump(model, 'yelp_model.jlib')\n",
    "# joblib.dump(pipe_final, 'yelp_pipe.jlib')"
   ]
  },
  {
   "cell_type": "code",
   "execution_count": 13,
   "metadata": {
    "execution": {
     "iopub.execute_input": "2020-08-23T13:04:42.206230Z",
     "iopub.status.busy": "2020-08-23T13:04:42.205992Z",
     "iopub.status.idle": "2020-08-23T13:04:56.934786Z",
     "shell.execute_reply": "2020-08-23T13:04:56.934203Z",
     "shell.execute_reply.started": "2020-08-23T13:04:42.206206Z"
    }
   },
   "outputs": [],
   "source": [
    "model = joblib.load('yelp_model.jlib')\n",
    "pipe_final = joblib.load('yelp_pipe.jlib')"
   ]
  },
  {
   "cell_type": "markdown",
   "metadata": {},
   "source": [
    "--- "
   ]
  },
  {
   "cell_type": "markdown",
   "metadata": {},
   "source": [
    "## Assess sentiment of chosen restaurant"
   ]
  },
  {
   "cell_type": "code",
   "execution_count": 61,
   "metadata": {
    "execution": {
     "iopub.execute_input": "2020-08-22T16:16:08.393046Z",
     "iopub.status.busy": "2020-08-22T16:16:08.392714Z",
     "iopub.status.idle": "2020-08-22T16:16:08.398010Z",
     "shell.execute_reply": "2020-08-22T16:16:08.396258Z",
     "shell.execute_reply.started": "2020-08-22T16:16:08.393010Z"
    }
   },
   "outputs": [],
   "source": [
    "query = '''\n",
    "    select review_id, review_year, text, stars \n",
    "    from yelp_reviews_filtered \n",
    "    where business_id = 'JpgVl3d20CMRNjf1DVnzGA' \n",
    "    and review_year > 2018\n",
    "'''"
   ]
  },
  {
   "cell_type": "code",
   "execution_count": 62,
   "metadata": {
    "execution": {
     "iopub.execute_input": "2020-08-22T16:16:09.473748Z",
     "iopub.status.busy": "2020-08-22T16:16:09.473487Z",
     "iopub.status.idle": "2020-08-22T16:17:04.902047Z",
     "shell.execute_reply": "2020-08-22T16:17:04.901057Z",
     "shell.execute_reply.started": "2020-08-22T16:16:09.473723Z"
    }
   },
   "outputs": [
    {
     "data": {
      "text/html": [
       "<div>\n",
       "<style scoped>\n",
       "    .dataframe tbody tr th:only-of-type {\n",
       "        vertical-align: middle;\n",
       "    }\n",
       "\n",
       "    .dataframe tbody tr th {\n",
       "        vertical-align: top;\n",
       "    }\n",
       "\n",
       "    .dataframe thead th {\n",
       "        text-align: right;\n",
       "    }\n",
       "</style>\n",
       "<table border=\"1\" class=\"dataframe\">\n",
       "  <thead>\n",
       "    <tr style=\"text-align: right;\">\n",
       "      <th></th>\n",
       "      <th>review_id</th>\n",
       "      <th>review_year</th>\n",
       "      <th>text</th>\n",
       "      <th>stars</th>\n",
       "    </tr>\n",
       "  </thead>\n",
       "  <tbody>\n",
       "    <tr>\n",
       "      <th>0</th>\n",
       "      <td>L-eK5AkslHTh7_mk5n0PaA</td>\n",
       "      <td>2019</td>\n",
       "      <td>we had an excellent meal tonight. our server, ...</td>\n",
       "      <td>5</td>\n",
       "    </tr>\n",
       "    <tr>\n",
       "      <th>1</th>\n",
       "      <td>C3jt2j2DfSVaW3UvuIWQKg</td>\n",
       "      <td>2019</td>\n",
       "      <td>worst food ever.. they walk around with burnt ...</td>\n",
       "      <td>1</td>\n",
       "    </tr>\n",
       "    <tr>\n",
       "      <th>2</th>\n",
       "      <td>K6AwX8wctGo4xYZIdVSY_w</td>\n",
       "      <td>2019</td>\n",
       "      <td>delicious food and excellent service! all the ...</td>\n",
       "      <td>5</td>\n",
       "    </tr>\n",
       "    <tr>\n",
       "      <th>3</th>\n",
       "      <td>fi8LyvMPE74AVchRcL623w</td>\n",
       "      <td>2019</td>\n",
       "      <td>had the worse experience here. service was hor...</td>\n",
       "      <td>1</td>\n",
       "    </tr>\n",
       "    <tr>\n",
       "      <th>4</th>\n",
       "      <td>jlYfItUIWYNzAtGun97Hzw</td>\n",
       "      <td>2019</td>\n",
       "      <td>this the most horrible meat i ate in my life. ...</td>\n",
       "      <td>1</td>\n",
       "    </tr>\n",
       "  </tbody>\n",
       "</table>\n",
       "</div>"
      ],
      "text/plain": [
       "                review_id  review_year  \\\n",
       "0  L-eK5AkslHTh7_mk5n0PaA         2019   \n",
       "1  C3jt2j2DfSVaW3UvuIWQKg         2019   \n",
       "2  K6AwX8wctGo4xYZIdVSY_w         2019   \n",
       "3  fi8LyvMPE74AVchRcL623w         2019   \n",
       "4  jlYfItUIWYNzAtGun97Hzw         2019   \n",
       "\n",
       "                                                text  stars  \n",
       "0  we had an excellent meal tonight. our server, ...      5  \n",
       "1  worst food ever.. they walk around with burnt ...      1  \n",
       "2  delicious food and excellent service! all the ...      5  \n",
       "3  had the worse experience here. service was hor...      1  \n",
       "4  this the most horrible meat i ate in my life. ...      1  "
      ]
     },
     "execution_count": 62,
     "metadata": {},
     "output_type": "execute_result"
    }
   ],
   "source": [
    "# load in chosen restaurant data\n",
    "rest = pd.read_sql(sql=query, con=engine)\n",
    "rest.head()"
   ]
  },
  {
   "cell_type": "code",
   "execution_count": 63,
   "metadata": {
    "execution": {
     "iopub.execute_input": "2020-08-22T16:17:04.905104Z",
     "iopub.status.busy": "2020-08-22T16:17:04.904645Z",
     "iopub.status.idle": "2020-08-22T16:17:04.916320Z",
     "shell.execute_reply": "2020-08-22T16:17:04.914247Z",
     "shell.execute_reply.started": "2020-08-22T16:17:04.905061Z"
    }
   },
   "outputs": [
    {
     "data": {
      "text/plain": [
       "(472, 4)"
      ]
     },
     "execution_count": 63,
     "metadata": {},
     "output_type": "execute_result"
    }
   ],
   "source": [
    "rest.shape"
   ]
  },
  {
   "cell_type": "code",
   "execution_count": 64,
   "metadata": {
    "execution": {
     "iopub.execute_input": "2020-08-22T16:19:05.222139Z",
     "iopub.status.busy": "2020-08-22T16:19:05.221856Z",
     "iopub.status.idle": "2020-08-22T16:19:06.022938Z",
     "shell.execute_reply": "2020-08-22T16:19:06.021984Z",
     "shell.execute_reply.started": "2020-08-22T16:19:05.222111Z"
    }
   },
   "outputs": [],
   "source": [
    "# setup predictors and target\n",
    "X = pipe_final.transform(rest['text'])\n",
    "y = rest.stars.apply(lambda x: (x > 3)*1)"
   ]
  },
  {
   "cell_type": "code",
   "execution_count": 65,
   "metadata": {
    "execution": {
     "iopub.execute_input": "2020-08-22T16:19:06.025390Z",
     "iopub.status.busy": "2020-08-22T16:19:06.024901Z",
     "iopub.status.idle": "2020-08-22T16:19:06.035726Z",
     "shell.execute_reply": "2020-08-22T16:19:06.034810Z",
     "shell.execute_reply.started": "2020-08-22T16:19:06.025348Z"
    }
   },
   "outputs": [
    {
     "data": {
      "text/plain": [
       "((472, 100000), (472,))"
      ]
     },
     "execution_count": 65,
     "metadata": {},
     "output_type": "execute_result"
    }
   ],
   "source": [
    "X.shape, y.shape"
   ]
  },
  {
   "cell_type": "code",
   "execution_count": 66,
   "metadata": {
    "execution": {
     "iopub.execute_input": "2020-08-22T16:19:07.353840Z",
     "iopub.status.busy": "2020-08-22T16:19:07.353573Z",
     "iopub.status.idle": "2020-08-22T16:19:07.367109Z",
     "shell.execute_reply": "2020-08-22T16:19:07.365520Z",
     "shell.execute_reply.started": "2020-08-22T16:19:07.353812Z"
    }
   },
   "outputs": [
    {
     "data": {
      "text/plain": [
       "0    1\n",
       "1    0\n",
       "2    1\n",
       "3    0\n",
       "4    0\n",
       "Name: stars, dtype: int64"
      ]
     },
     "execution_count": 66,
     "metadata": {},
     "output_type": "execute_result"
    }
   ],
   "source": [
    "y.head()"
   ]
  },
  {
   "cell_type": "code",
   "execution_count": 67,
   "metadata": {
    "execution": {
     "iopub.execute_input": "2020-08-22T16:19:08.275507Z",
     "iopub.status.busy": "2020-08-22T16:19:08.275239Z",
     "iopub.status.idle": "2020-08-22T16:19:08.295426Z",
     "shell.execute_reply": "2020-08-22T16:19:08.291783Z",
     "shell.execute_reply.started": "2020-08-22T16:19:08.275480Z"
    }
   },
   "outputs": [
    {
     "data": {
      "text/plain": [
       "0.9533898305084746"
      ]
     },
     "execution_count": 67,
     "metadata": {},
     "output_type": "execute_result"
    }
   ],
   "source": [
    "model.score(X, y)"
   ]
  },
  {
   "cell_type": "code",
   "execution_count": 68,
   "metadata": {
    "execution": {
     "iopub.execute_input": "2020-08-22T16:19:12.368720Z",
     "iopub.status.busy": "2020-08-22T16:19:12.368469Z",
     "iopub.status.idle": "2020-08-22T16:19:12.380062Z",
     "shell.execute_reply": "2020-08-22T16:19:12.376093Z",
     "shell.execute_reply.started": "2020-08-22T16:19:12.368692Z"
    }
   },
   "outputs": [],
   "source": [
    "rest['predictions'] = model.predict(X)"
   ]
  },
  {
   "cell_type": "code",
   "execution_count": 69,
   "metadata": {
    "execution": {
     "iopub.execute_input": "2020-08-22T16:19:12.926443Z",
     "iopub.status.busy": "2020-08-22T16:19:12.926058Z",
     "iopub.status.idle": "2020-08-22T16:19:12.949030Z",
     "shell.execute_reply": "2020-08-22T16:19:12.942318Z",
     "shell.execute_reply.started": "2020-08-22T16:19:12.926404Z"
    }
   },
   "outputs": [],
   "source": [
    "probs = []\n",
    "for _ in list(model.predict_proba(X)):\n",
    "    probs.append(float(_[0]))"
   ]
  },
  {
   "cell_type": "code",
   "execution_count": 70,
   "metadata": {
    "execution": {
     "iopub.execute_input": "2020-08-22T16:19:13.491435Z",
     "iopub.status.busy": "2020-08-22T16:19:13.491180Z",
     "iopub.status.idle": "2020-08-22T16:19:13.518538Z",
     "shell.execute_reply": "2020-08-22T16:19:13.517081Z",
     "shell.execute_reply.started": "2020-08-22T16:19:13.491404Z"
    }
   },
   "outputs": [],
   "source": [
    "rest['pred_probs_0'] = probs"
   ]
  },
  {
   "cell_type": "code",
   "execution_count": 71,
   "metadata": {
    "execution": {
     "iopub.execute_input": "2020-08-22T16:19:13.987406Z",
     "iopub.status.busy": "2020-08-22T16:19:13.987122Z",
     "iopub.status.idle": "2020-08-22T16:19:14.014113Z",
     "shell.execute_reply": "2020-08-22T16:19:14.008815Z",
     "shell.execute_reply.started": "2020-08-22T16:19:13.987379Z"
    }
   },
   "outputs": [
    {
     "data": {
      "text/html": [
       "<div>\n",
       "<style scoped>\n",
       "    .dataframe tbody tr th:only-of-type {\n",
       "        vertical-align: middle;\n",
       "    }\n",
       "\n",
       "    .dataframe tbody tr th {\n",
       "        vertical-align: top;\n",
       "    }\n",
       "\n",
       "    .dataframe thead th {\n",
       "        text-align: right;\n",
       "    }\n",
       "</style>\n",
       "<table border=\"1\" class=\"dataframe\">\n",
       "  <thead>\n",
       "    <tr style=\"text-align: right;\">\n",
       "      <th></th>\n",
       "      <th>review_id</th>\n",
       "      <th>review_year</th>\n",
       "      <th>text</th>\n",
       "      <th>stars</th>\n",
       "      <th>predictions</th>\n",
       "      <th>pred_probs_0</th>\n",
       "    </tr>\n",
       "  </thead>\n",
       "  <tbody>\n",
       "    <tr>\n",
       "      <th>0</th>\n",
       "      <td>L-eK5AkslHTh7_mk5n0PaA</td>\n",
       "      <td>2019</td>\n",
       "      <td>we had an excellent meal tonight. our server, ...</td>\n",
       "      <td>5</td>\n",
       "      <td>1</td>\n",
       "      <td>0.005674</td>\n",
       "    </tr>\n",
       "    <tr>\n",
       "      <th>1</th>\n",
       "      <td>C3jt2j2DfSVaW3UvuIWQKg</td>\n",
       "      <td>2019</td>\n",
       "      <td>worst food ever.. they walk around with burnt ...</td>\n",
       "      <td>1</td>\n",
       "      <td>0</td>\n",
       "      <td>0.998865</td>\n",
       "    </tr>\n",
       "    <tr>\n",
       "      <th>2</th>\n",
       "      <td>K6AwX8wctGo4xYZIdVSY_w</td>\n",
       "      <td>2019</td>\n",
       "      <td>delicious food and excellent service! all the ...</td>\n",
       "      <td>5</td>\n",
       "      <td>1</td>\n",
       "      <td>0.000141</td>\n",
       "    </tr>\n",
       "    <tr>\n",
       "      <th>3</th>\n",
       "      <td>fi8LyvMPE74AVchRcL623w</td>\n",
       "      <td>2019</td>\n",
       "      <td>had the worse experience here. service was hor...</td>\n",
       "      <td>1</td>\n",
       "      <td>0</td>\n",
       "      <td>0.999813</td>\n",
       "    </tr>\n",
       "    <tr>\n",
       "      <th>4</th>\n",
       "      <td>jlYfItUIWYNzAtGun97Hzw</td>\n",
       "      <td>2019</td>\n",
       "      <td>this the most horrible meat i ate in my life. ...</td>\n",
       "      <td>1</td>\n",
       "      <td>0</td>\n",
       "      <td>0.999801</td>\n",
       "    </tr>\n",
       "  </tbody>\n",
       "</table>\n",
       "</div>"
      ],
      "text/plain": [
       "                review_id  review_year  \\\n",
       "0  L-eK5AkslHTh7_mk5n0PaA         2019   \n",
       "1  C3jt2j2DfSVaW3UvuIWQKg         2019   \n",
       "2  K6AwX8wctGo4xYZIdVSY_w         2019   \n",
       "3  fi8LyvMPE74AVchRcL623w         2019   \n",
       "4  jlYfItUIWYNzAtGun97Hzw         2019   \n",
       "\n",
       "                                                text  stars  predictions  \\\n",
       "0  we had an excellent meal tonight. our server, ...      5            1   \n",
       "1  worst food ever.. they walk around with burnt ...      1            0   \n",
       "2  delicious food and excellent service! all the ...      5            1   \n",
       "3  had the worse experience here. service was hor...      1            0   \n",
       "4  this the most horrible meat i ate in my life. ...      1            0   \n",
       "\n",
       "   pred_probs_0  \n",
       "0      0.005674  \n",
       "1      0.998865  \n",
       "2      0.000141  \n",
       "3      0.999813  \n",
       "4      0.999801  "
      ]
     },
     "execution_count": 71,
     "metadata": {},
     "output_type": "execute_result"
    }
   ],
   "source": [
    "rest.head()"
   ]
  },
  {
   "cell_type": "code",
   "execution_count": 101,
   "metadata": {
    "execution": {
     "iopub.execute_input": "2020-08-21T16:52:33.625106Z",
     "iopub.status.busy": "2020-08-21T16:52:33.623906Z",
     "iopub.status.idle": "2020-08-21T16:52:33.711339Z",
     "shell.execute_reply": "2020-08-21T16:52:33.710053Z",
     "shell.execute_reply.started": "2020-08-21T16:52:33.625023Z"
    }
   },
   "outputs": [],
   "source": [
    "rest.to_csv('rest_data.csv', index=False)"
   ]
  },
  {
   "cell_type": "markdown",
   "metadata": {},
   "source": [
    "## Wordclouds for +ve and -ve reviews"
   ]
  },
  {
   "cell_type": "code",
   "execution_count": 72,
   "metadata": {
    "execution": {
     "iopub.execute_input": "2020-08-22T16:19:17.885941Z",
     "iopub.status.busy": "2020-08-22T16:19:17.885150Z",
     "iopub.status.idle": "2020-08-22T16:19:18.018166Z",
     "shell.execute_reply": "2020-08-22T16:19:18.013209Z",
     "shell.execute_reply.started": "2020-08-22T16:19:17.885895Z"
    }
   },
   "outputs": [
    {
     "data": {
      "text/plain": [
       "meat         19.047640\n",
       "brazilian    13.974003\n",
       "pri          11.950291\n",
       "pampa        11.565457\n",
       "server       11.503100\n",
       "servic       11.275169\n",
       "salad bar    10.943271\n",
       "food          9.491163\n",
       "great         8.678389\n",
       "waiter        8.544796\n",
       "bar           7.709596\n",
       "us            7.239670\n",
       "come          7.112356\n",
       "experi        7.004545\n",
       "salad         6.934964\n",
       "amaz          6.903283\n",
       "nick          6.868859\n",
       "time          6.823217\n",
       "aaron         6.246826\n",
       "tabl          6.217206\n",
       "dtype: float64"
      ]
     },
     "execution_count": 72,
     "metadata": {},
     "output_type": "execute_result"
    }
   ],
   "source": [
    "freq_words = get_freq_words(X, columns)\n",
    "freq_words[:20]"
   ]
  },
  {
   "cell_type": "code",
   "execution_count": 73,
   "metadata": {
    "execution": {
     "iopub.execute_input": "2020-08-22T16:19:21.826582Z",
     "iopub.status.busy": "2020-08-22T16:19:21.826265Z",
     "iopub.status.idle": "2020-08-22T16:19:22.144225Z",
     "shell.execute_reply": "2020-08-22T16:19:22.142964Z",
     "shell.execute_reply.started": "2020-08-22T16:19:21.826541Z"
    }
   },
   "outputs": [],
   "source": [
    "pos_words = pipe_final.transform(rest[rest.predictions==1]['text'])"
   ]
  },
  {
   "cell_type": "code",
   "execution_count": 82,
   "metadata": {
    "execution": {
     "iopub.execute_input": "2020-08-22T16:47:39.472600Z",
     "iopub.status.busy": "2020-08-22T16:47:39.472287Z",
     "iopub.status.idle": "2020-08-22T16:47:39.540291Z",
     "shell.execute_reply": "2020-08-22T16:47:39.538724Z",
     "shell.execute_reply.started": "2020-08-22T16:47:39.472568Z"
    }
   },
   "outputs": [
    {
     "data": {
      "text/plain": [
       "pri          11.865549\n",
       "meat          8.654342\n",
       "server        8.347432\n",
       "pampa         7.977129\n",
       "great         7.426827\n",
       "servic        6.837006\n",
       "amaz          6.383079\n",
       "aaron         6.246826\n",
       "nick          6.226551\n",
       "brazilian     5.934249\n",
       "dtype: float64"
      ]
     },
     "execution_count": 82,
     "metadata": {},
     "output_type": "execute_result"
    }
   ],
   "source": [
    "# top words for positive reviews\n",
    "freq_pos_words = get_freq_words(pos_words, columns)\n",
    "freq_pos_words[:10]"
   ]
  },
  {
   "cell_type": "code",
   "execution_count": 96,
   "metadata": {
    "execution": {
     "iopub.execute_input": "2020-08-22T16:58:39.045867Z",
     "iopub.status.busy": "2020-08-22T16:58:39.045350Z",
     "iopub.status.idle": "2020-08-22T16:58:39.054107Z",
     "shell.execute_reply": "2020-08-22T16:58:39.052195Z",
     "shell.execute_reply.started": "2020-08-22T16:58:39.045831Z"
    }
   },
   "outputs": [],
   "source": [
    "rows = ['pri', 'meat', 'server', 'servic', 'aaron', 'nick', 'food', 'tyler', 'experi', 'salad bar', 'attent', 'waiter', 'time', 'groupon', 'pineappl', 'great servic', 'friendli', 'delici', 'care','unlimit', 'food great']\n",
    "pos_words_fil = freq_pos_words.loc[rows]"
   ]
  },
  {
   "cell_type": "code",
   "execution_count": 75,
   "metadata": {
    "execution": {
     "iopub.execute_input": "2020-08-22T16:20:54.682705Z",
     "iopub.status.busy": "2020-08-22T16:20:54.682430Z",
     "iopub.status.idle": "2020-08-22T16:20:55.175160Z",
     "shell.execute_reply": "2020-08-22T16:20:55.174000Z",
     "shell.execute_reply.started": "2020-08-22T16:20:54.682676Z"
    }
   },
   "outputs": [],
   "source": [
    "neg_words = pipe_final.transform(rest[rest.predictions==0]['text'])"
   ]
  },
  {
   "cell_type": "code",
   "execution_count": 101,
   "metadata": {
    "execution": {
     "iopub.execute_input": "2020-08-22T16:59:36.644265Z",
     "iopub.status.busy": "2020-08-22T16:59:36.643924Z",
     "iopub.status.idle": "2020-08-22T16:59:36.792700Z",
     "shell.execute_reply": "2020-08-22T16:59:36.781534Z",
     "shell.execute_reply.started": "2020-08-22T16:59:36.644233Z"
    }
   },
   "outputs": [
    {
     "data": {
      "text/plain": [
       "meat                   10.393298\n",
       "brazilian               8.039753\n",
       "salad bar               6.150112\n",
       "waiter                  4.514116\n",
       "servic                  4.438163\n",
       "bar                     4.381271\n",
       "salad                   3.917141\n",
       "tabl                    3.902069\n",
       "brazilian steakhous     3.811245\n",
       "food                    3.631329\n",
       "dtype: float64"
      ]
     },
     "execution_count": 101,
     "metadata": {},
     "output_type": "execute_result"
    }
   ],
   "source": [
    "# top words for negative reviews\n",
    "freq_neg_words = get_freq_words(neg_words, columns)\n",
    "freq_neg_words[:10]"
   ]
  },
  {
   "cell_type": "code",
   "execution_count": 102,
   "metadata": {
    "execution": {
     "iopub.execute_input": "2020-08-22T17:00:58.042551Z",
     "iopub.status.busy": "2020-08-22T17:00:58.042251Z",
     "iopub.status.idle": "2020-08-22T17:00:58.051490Z",
     "shell.execute_reply": "2020-08-22T17:00:58.048921Z",
     "shell.execute_reply.started": "2020-08-22T17:00:58.042523Z"
    }
   },
   "outputs": [],
   "source": [
    "rows = ['meat', 'salad bar', 'waiter', 'servic', 'tabl', 'food', 'server', 'time', 'wait', 'coupon', 'fogo', 'voucher', 'manag', 'steak', 'sirloin', 'tough', 'slow', ]\n",
    "neg_words_fil = freq_pos_words.loc[rows]"
   ]
  },
  {
   "cell_type": "code",
   "execution_count": 78,
   "metadata": {
    "execution": {
     "iopub.execute_input": "2020-08-22T16:23:55.202313Z",
     "iopub.status.busy": "2020-08-22T16:23:55.202106Z",
     "iopub.status.idle": "2020-08-22T16:23:55.450007Z",
     "shell.execute_reply": "2020-08-22T16:23:55.448943Z",
     "shell.execute_reply.started": "2020-08-22T16:23:55.202290Z"
    }
   },
   "outputs": [],
   "source": [
    "from wordcloud import WordCloud"
   ]
  },
  {
   "cell_type": "code",
   "execution_count": 100,
   "metadata": {
    "execution": {
     "iopub.execute_input": "2020-08-22T16:59:22.864270Z",
     "iopub.status.busy": "2020-08-22T16:59:22.863638Z",
     "iopub.status.idle": "2020-08-22T16:59:23.220030Z",
     "shell.execute_reply": "2020-08-22T16:59:23.219221Z",
     "shell.execute_reply.started": "2020-08-22T16:59:22.864232Z"
    }
   },
   "outputs": [
    {
     "data": {
      "image/png": "[encoded data removed]",
      "text/plain": [
       "<Figure size 864x864 with 1 Axes>"
      ]
     },
     "metadata": {
      "needs_background": "light"
     },
     "output_type": "display_data"
    }
   ],
   "source": [
    "pos_wc = WordCloud(background_color=\"white\", max_words=50).generate_from_frequencies(frequencies=pos_words_fil)\n",
    "plt.figure(figsize = (12, 12), facecolor = None) \n",
    "plt.imshow(pos_wc) \n",
    "plt.axis(\"off\") \n",
    "plt.tight_layout(pad = 0) \n",
    "plt.show() "
   ]
  },
  {
   "cell_type": "code",
   "execution_count": 103,
   "metadata": {
    "execution": {
     "iopub.execute_input": "2020-08-22T17:01:09.840042Z",
     "iopub.status.busy": "2020-08-22T17:01:09.839640Z",
     "iopub.status.idle": "2020-08-22T17:01:10.127333Z",
     "shell.execute_reply": "2020-08-22T17:01:10.126650Z",
     "shell.execute_reply.started": "2020-08-22T17:01:09.840006Z"
    }
   },
   "outputs": [
    {
     "data": {
      "image/png": "[encoded data removed]",
      "text/plain": [
       "<Figure size 864x864 with 1 Axes>"
      ]
     },
     "metadata": {
      "needs_background": "light"
     },
     "output_type": "display_data"
    }
   ],
   "source": [
    "neg_wc = WordCloud(background_color=\"white\", max_words=50).generate_from_frequencies(frequencies=neg_words_fil)\n",
    "\n",
    "plt.figure(figsize = (12, 12), facecolor = None) \n",
    "plt.imshow(neg_wc) \n",
    "plt.axis(\"off\") \n",
    "plt.tight_layout(pad = 0) \n",
    "plt.show() "
   ]
  },
  {
   "cell_type": "markdown",
   "metadata": {},
   "source": [
    "---"
   ]
  },
  {
   "cell_type": "markdown",
   "metadata": {},
   "source": [
    "### Predictions for all steak resturants"
   ]
  },
  {
   "cell_type": "code",
   "execution_count": 17,
   "metadata": {
    "execution": {
     "iopub.execute_input": "2020-08-22T14:26:51.338391Z",
     "iopub.status.busy": "2020-08-22T14:26:51.338068Z",
     "iopub.status.idle": "2020-08-22T14:26:51.344182Z",
     "shell.execute_reply": "2020-08-22T14:26:51.341679Z",
     "shell.execute_reply.started": "2020-08-22T14:26:51.338361Z"
    }
   },
   "outputs": [],
   "source": [
    "query = '''\n",
    "    select business_id, review_id, review_year, text, stars \n",
    "    from yelp_reviews_filtered \n",
    "    where 1=1\n",
    "    and review_year > 2013\n",
    "    and business_id in\n",
    "    (\n",
    "\t'JpgVl3d20CMRNjf1DVnzGA',\n",
    "\t'R_ZlcX46pPdjhjmfd043LA',\n",
    "\t'OETh78qcgDltvHULowwhJg',\n",
    "\t'bpRo8L8dkhgbJhdIKa9mwA',\n",
    "\t'UTXNr62dGSK-tet8OeXUcQ',\n",
    "\t'xkVMIk_Vqh17f48ZQ_6b0w',\n",
    "\t'C9ImzBi5fn742ZcAYDww2A',\n",
    "\t'xVEtGucSRLk5pxxN0t4i6g',\n",
    "\t'ahSFUPojs9X3-1jP-QPb-w',\n",
    "\t'4JNXUYY8wbaaDmk3BPzlWw',\n",
    "\t'SAIrNOB4PtDA4gziNCucwg',\n",
    "\t'GI-CAiZ_Gg3h21PwrANB4Q',\n",
    "\t'I6EDDi4-Eq_XlFghcDCUhw',\n",
    "\t'igHYkXZMLAc9UdV5VnR_AA'\n",
    "\t)\n",
    "'''"
   ]
  },
  {
   "cell_type": "code",
   "execution_count": 18,
   "metadata": {
    "execution": {
     "iopub.execute_input": "2020-08-22T14:26:52.143037Z",
     "iopub.status.busy": "2020-08-22T14:26:52.142791Z",
     "iopub.status.idle": "2020-08-22T14:27:56.265172Z",
     "shell.execute_reply": "2020-08-22T14:27:56.263503Z",
     "shell.execute_reply.started": "2020-08-22T14:26:52.143009Z"
    }
   },
   "outputs": [
    {
     "data": {
      "text/html": [
       "<div>\n",
       "<style scoped>\n",
       "    .dataframe tbody tr th:only-of-type {\n",
       "        vertical-align: middle;\n",
       "    }\n",
       "\n",
       "    .dataframe tbody tr th {\n",
       "        vertical-align: top;\n",
       "    }\n",
       "\n",
       "    .dataframe thead th {\n",
       "        text-align: right;\n",
       "    }\n",
       "</style>\n",
       "<table border=\"1\" class=\"dataframe\">\n",
       "  <thead>\n",
       "    <tr style=\"text-align: right;\">\n",
       "      <th></th>\n",
       "      <th>business_id</th>\n",
       "      <th>review_id</th>\n",
       "      <th>review_year</th>\n",
       "      <th>text</th>\n",
       "      <th>stars</th>\n",
       "    </tr>\n",
       "  </thead>\n",
       "  <tbody>\n",
       "    <tr>\n",
       "      <th>0</th>\n",
       "      <td>SAIrNOB4PtDA4gziNCucwg</td>\n",
       "      <td>-C4LQIevhfCLZ5mOcZVagA</td>\n",
       "      <td>2019</td>\n",
       "      <td>this is a beautiful hidden local las vegas gem...</td>\n",
       "      <td>5</td>\n",
       "    </tr>\n",
       "    <tr>\n",
       "      <th>1</th>\n",
       "      <td>4JNXUYY8wbaaDmk3BPzlWw</td>\n",
       "      <td>Mxcge_WWBU_TO37iPKAgdw</td>\n",
       "      <td>2015</td>\n",
       "      <td>every time my friends and i go to vegas, dinne...</td>\n",
       "      <td>5</td>\n",
       "    </tr>\n",
       "    <tr>\n",
       "      <th>2</th>\n",
       "      <td>GI-CAiZ_Gg3h21PwrANB4Q</td>\n",
       "      <td>Iy_GubuIw0bYk__FKIaoMA</td>\n",
       "      <td>2019</td>\n",
       "      <td>one of my favorite restaurants to go to when i...</td>\n",
       "      <td>5</td>\n",
       "    </tr>\n",
       "    <tr>\n",
       "      <th>3</th>\n",
       "      <td>OETh78qcgDltvHULowwhJg</td>\n",
       "      <td>O9JhggESrNAS-y23SUvNPQ</td>\n",
       "      <td>2017</td>\n",
       "      <td>this steakhouse is  all the way through, from ...</td>\n",
       "      <td>5</td>\n",
       "    </tr>\n",
       "    <tr>\n",
       "      <th>4</th>\n",
       "      <td>UTXNr62dGSK-tet8OeXUcQ</td>\n",
       "      <td>sXi0mLmgZvZyHk4w9zMTtQ</td>\n",
       "      <td>2015</td>\n",
       "      <td>the best customer service started as soon as w...</td>\n",
       "      <td>5</td>\n",
       "    </tr>\n",
       "  </tbody>\n",
       "</table>\n",
       "</div>"
      ],
      "text/plain": [
       "              business_id               review_id  review_year  \\\n",
       "0  SAIrNOB4PtDA4gziNCucwg  -C4LQIevhfCLZ5mOcZVagA         2019   \n",
       "1  4JNXUYY8wbaaDmk3BPzlWw  Mxcge_WWBU_TO37iPKAgdw         2015   \n",
       "2  GI-CAiZ_Gg3h21PwrANB4Q  Iy_GubuIw0bYk__FKIaoMA         2019   \n",
       "3  OETh78qcgDltvHULowwhJg  O9JhggESrNAS-y23SUvNPQ         2017   \n",
       "4  UTXNr62dGSK-tet8OeXUcQ  sXi0mLmgZvZyHk4w9zMTtQ         2015   \n",
       "\n",
       "                                                text  stars  \n",
       "0  this is a beautiful hidden local las vegas gem...      5  \n",
       "1  every time my friends and i go to vegas, dinne...      5  \n",
       "2  one of my favorite restaurants to go to when i...      5  \n",
       "3  this steakhouse is  all the way through, from ...      5  \n",
       "4  the best customer service started as soon as w...      5  "
      ]
     },
     "execution_count": 18,
     "metadata": {},
     "output_type": "execute_result"
    }
   ],
   "source": [
    "# load all steak restaurant data\n",
    "all_rest = pd.read_sql(sql=query, con=engine)\n",
    "all_rest.head()"
   ]
  },
  {
   "cell_type": "code",
   "execution_count": 20,
   "metadata": {
    "execution": {
     "iopub.execute_input": "2020-08-22T14:28:09.035262Z",
     "iopub.status.busy": "2020-08-22T14:28:09.034956Z",
     "iopub.status.idle": "2020-08-22T14:28:09.046847Z",
     "shell.execute_reply": "2020-08-22T14:28:09.043995Z",
     "shell.execute_reply.started": "2020-08-22T14:28:09.035234Z"
    }
   },
   "outputs": [
    {
     "data": {
      "text/plain": [
       "(28687, 5)"
      ]
     },
     "execution_count": 20,
     "metadata": {},
     "output_type": "execute_result"
    }
   ],
   "source": [
    "all_rest.shape"
   ]
  },
  {
   "cell_type": "code",
   "execution_count": 22,
   "metadata": {
    "execution": {
     "iopub.execute_input": "2020-08-22T14:29:11.700336Z",
     "iopub.status.busy": "2020-08-22T14:29:11.699893Z",
     "iopub.status.idle": "2020-08-22T14:29:57.000567Z",
     "shell.execute_reply": "2020-08-22T14:29:56.999706Z",
     "shell.execute_reply.started": "2020-08-22T14:29:11.700296Z"
    }
   },
   "outputs": [],
   "source": [
    "# setup predictors and target\n",
    "X_all = pipe_final.transform(all_rest['text'])\n",
    "y_all = all_rest.stars.apply(lambda x: (x > 3)*1)"
   ]
  },
  {
   "cell_type": "code",
   "execution_count": 23,
   "metadata": {
    "execution": {
     "iopub.execute_input": "2020-08-22T14:29:57.002798Z",
     "iopub.status.busy": "2020-08-22T14:29:57.002557Z",
     "iopub.status.idle": "2020-08-22T14:29:57.011395Z",
     "shell.execute_reply": "2020-08-22T14:29:57.010296Z",
     "shell.execute_reply.started": "2020-08-22T14:29:57.002771Z"
    }
   },
   "outputs": [
    {
     "data": {
      "text/plain": [
       "((28687, 100000), (28687,))"
      ]
     },
     "execution_count": 23,
     "metadata": {},
     "output_type": "execute_result"
    }
   ],
   "source": [
    "X_all.shape, y_all.shape"
   ]
  },
  {
   "cell_type": "code",
   "execution_count": 24,
   "metadata": {
    "execution": {
     "iopub.execute_input": "2020-08-22T14:30:29.558967Z",
     "iopub.status.busy": "2020-08-22T14:30:29.558674Z",
     "iopub.status.idle": "2020-08-22T14:30:29.612581Z",
     "shell.execute_reply": "2020-08-22T14:30:29.611240Z",
     "shell.execute_reply.started": "2020-08-22T14:30:29.558935Z"
    }
   },
   "outputs": [
    {
     "data": {
      "text/plain": [
       "0.9311186251612229"
      ]
     },
     "execution_count": 24,
     "metadata": {},
     "output_type": "execute_result"
    }
   ],
   "source": [
    "model.score(X_all, y_all)"
   ]
  },
  {
   "cell_type": "code",
   "execution_count": 25,
   "metadata": {
    "execution": {
     "iopub.execute_input": "2020-08-22T14:30:51.567147Z",
     "iopub.status.busy": "2020-08-22T14:30:51.566611Z",
     "iopub.status.idle": "2020-08-22T14:30:51.586437Z",
     "shell.execute_reply": "2020-08-22T14:30:51.585358Z",
     "shell.execute_reply.started": "2020-08-22T14:30:51.567093Z"
    }
   },
   "outputs": [],
   "source": [
    "all_rest['predictions'] = model.predict(X_all)"
   ]
  },
  {
   "cell_type": "code",
   "execution_count": 26,
   "metadata": {
    "execution": {
     "iopub.execute_input": "2020-08-22T14:31:13.075094Z",
     "iopub.status.busy": "2020-08-22T14:31:13.074851Z",
     "iopub.status.idle": "2020-08-22T14:31:13.121251Z",
     "shell.execute_reply": "2020-08-22T14:31:13.120609Z",
     "shell.execute_reply.started": "2020-08-22T14:31:13.075068Z"
    }
   },
   "outputs": [],
   "source": [
    "probs = []\n",
    "for _ in list(model.predict_proba(X_all)):\n",
    "    probs.append(float(_[0]))"
   ]
  },
  {
   "cell_type": "code",
   "execution_count": 27,
   "metadata": {
    "execution": {
     "iopub.execute_input": "2020-08-22T14:31:27.991333Z",
     "iopub.status.busy": "2020-08-22T14:31:27.991024Z",
     "iopub.status.idle": "2020-08-22T14:31:28.026339Z",
     "shell.execute_reply": "2020-08-22T14:31:28.025607Z",
     "shell.execute_reply.started": "2020-08-22T14:31:27.991300Z"
    }
   },
   "outputs": [],
   "source": [
    "all_rest['pred_probs_0'] = probs"
   ]
  },
  {
   "cell_type": "code",
   "execution_count": 28,
   "metadata": {
    "execution": {
     "iopub.execute_input": "2020-08-22T14:31:33.075383Z",
     "iopub.status.busy": "2020-08-22T14:31:33.075129Z",
     "iopub.status.idle": "2020-08-22T14:31:33.094417Z",
     "shell.execute_reply": "2020-08-22T14:31:33.092829Z",
     "shell.execute_reply.started": "2020-08-22T14:31:33.075356Z"
    }
   },
   "outputs": [
    {
     "data": {
      "text/html": [
       "<div>\n",
       "<style scoped>\n",
       "    .dataframe tbody tr th:only-of-type {\n",
       "        vertical-align: middle;\n",
       "    }\n",
       "\n",
       "    .dataframe tbody tr th {\n",
       "        vertical-align: top;\n",
       "    }\n",
       "\n",
       "    .dataframe thead th {\n",
       "        text-align: right;\n",
       "    }\n",
       "</style>\n",
       "<table border=\"1\" class=\"dataframe\">\n",
       "  <thead>\n",
       "    <tr style=\"text-align: right;\">\n",
       "      <th></th>\n",
       "      <th>business_id</th>\n",
       "      <th>review_id</th>\n",
       "      <th>review_year</th>\n",
       "      <th>text</th>\n",
       "      <th>stars</th>\n",
       "      <th>predictions</th>\n",
       "      <th>pred_probs_0</th>\n",
       "    </tr>\n",
       "  </thead>\n",
       "  <tbody>\n",
       "    <tr>\n",
       "      <th>0</th>\n",
       "      <td>SAIrNOB4PtDA4gziNCucwg</td>\n",
       "      <td>-C4LQIevhfCLZ5mOcZVagA</td>\n",
       "      <td>2019</td>\n",
       "      <td>this is a beautiful hidden local las vegas gem...</td>\n",
       "      <td>5</td>\n",
       "      <td>1</td>\n",
       "      <td>0.001471</td>\n",
       "    </tr>\n",
       "    <tr>\n",
       "      <th>1</th>\n",
       "      <td>4JNXUYY8wbaaDmk3BPzlWw</td>\n",
       "      <td>Mxcge_WWBU_TO37iPKAgdw</td>\n",
       "      <td>2015</td>\n",
       "      <td>every time my friends and i go to vegas, dinne...</td>\n",
       "      <td>5</td>\n",
       "      <td>1</td>\n",
       "      <td>0.000045</td>\n",
       "    </tr>\n",
       "    <tr>\n",
       "      <th>2</th>\n",
       "      <td>GI-CAiZ_Gg3h21PwrANB4Q</td>\n",
       "      <td>Iy_GubuIw0bYk__FKIaoMA</td>\n",
       "      <td>2019</td>\n",
       "      <td>one of my favorite restaurants to go to when i...</td>\n",
       "      <td>5</td>\n",
       "      <td>1</td>\n",
       "      <td>0.002282</td>\n",
       "    </tr>\n",
       "    <tr>\n",
       "      <th>3</th>\n",
       "      <td>OETh78qcgDltvHULowwhJg</td>\n",
       "      <td>O9JhggESrNAS-y23SUvNPQ</td>\n",
       "      <td>2017</td>\n",
       "      <td>this steakhouse is  all the way through, from ...</td>\n",
       "      <td>5</td>\n",
       "      <td>1</td>\n",
       "      <td>0.001109</td>\n",
       "    </tr>\n",
       "    <tr>\n",
       "      <th>4</th>\n",
       "      <td>UTXNr62dGSK-tet8OeXUcQ</td>\n",
       "      <td>sXi0mLmgZvZyHk4w9zMTtQ</td>\n",
       "      <td>2015</td>\n",
       "      <td>the best customer service started as soon as w...</td>\n",
       "      <td>5</td>\n",
       "      <td>1</td>\n",
       "      <td>0.043416</td>\n",
       "    </tr>\n",
       "  </tbody>\n",
       "</table>\n",
       "</div>"
      ],
      "text/plain": [
       "              business_id               review_id  review_year  \\\n",
       "0  SAIrNOB4PtDA4gziNCucwg  -C4LQIevhfCLZ5mOcZVagA         2019   \n",
       "1  4JNXUYY8wbaaDmk3BPzlWw  Mxcge_WWBU_TO37iPKAgdw         2015   \n",
       "2  GI-CAiZ_Gg3h21PwrANB4Q  Iy_GubuIw0bYk__FKIaoMA         2019   \n",
       "3  OETh78qcgDltvHULowwhJg  O9JhggESrNAS-y23SUvNPQ         2017   \n",
       "4  UTXNr62dGSK-tet8OeXUcQ  sXi0mLmgZvZyHk4w9zMTtQ         2015   \n",
       "\n",
       "                                                text  stars  predictions  \\\n",
       "0  this is a beautiful hidden local las vegas gem...      5            1   \n",
       "1  every time my friends and i go to vegas, dinne...      5            1   \n",
       "2  one of my favorite restaurants to go to when i...      5            1   \n",
       "3  this steakhouse is  all the way through, from ...      5            1   \n",
       "4  the best customer service started as soon as w...      5            1   \n",
       "\n",
       "   pred_probs_0  \n",
       "0      0.001471  \n",
       "1      0.000045  \n",
       "2      0.002282  \n",
       "3      0.001109  \n",
       "4      0.043416  "
      ]
     },
     "execution_count": 28,
     "metadata": {},
     "output_type": "execute_result"
    }
   ],
   "source": [
    "all_rest.head()"
   ]
  },
  {
   "cell_type": "code",
   "execution_count": 30,
   "metadata": {
    "execution": {
     "iopub.execute_input": "2020-08-22T14:32:15.117334Z",
     "iopub.status.busy": "2020-08-22T14:32:15.117013Z",
     "iopub.status.idle": "2020-08-22T14:32:15.739113Z",
     "shell.execute_reply": "2020-08-22T14:32:15.738578Z",
     "shell.execute_reply.started": "2020-08-22T14:32:15.117305Z"
    }
   },
   "outputs": [],
   "source": [
    "all_rest.to_csv('all_rest_data.csv', index=False)"
   ]
  },
  {
   "cell_type": "code",
   "execution_count": null,
   "metadata": {},
   "outputs": [],
   "source": []
  }
 ],
 "metadata": {
  "kernelspec": {
   "display_name": "Python 3",
   "language": "python",
   "name": "python3"
  },
  "language_info": {
   "codemirror_mode": {
    "name": "ipython",
    "version": 3
   },
   "file_extension": ".py",
   "mimetype": "text/x-python",
   "name": "python",
   "nbconvert_exporter": "python",
   "pygments_lexer": "ipython3",
   "version": "3.7.7"
  },
  "toc-showtags": false
 },
 "nbformat": 4,
 "nbformat_minor": 4
}
