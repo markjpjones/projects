{
 "cells": [
  {
   "cell_type": "markdown",
   "metadata": {},
   "source": [
    "Project to migrate my original code for predicting the sentimment of Yelp reviews from SKlearn to PySpark."
   ]
  },
  {
   "cell_type": "markdown",
   "metadata": {
    "execution": {
     "iopub.execute_input": "2020-10-04T09:05:20.015241Z",
     "iopub.status.busy": "2020-10-04T09:05:20.014192Z",
     "iopub.status.idle": "2020-10-04T09:05:20.030907Z",
     "shell.execute_reply": "2020-10-04T09:05:20.029382Z",
     "shell.execute_reply.started": "2020-10-04T09:05:20.015197Z"
    }
   },
   "source": [
    "## 1. Configure Spark"
   ]
  },
  {
   "cell_type": "code",
   "execution_count": 1,
   "metadata": {
    "execution": {
     "iopub.execute_input": "2020-10-18T12:34:00.021135Z",
     "iopub.status.busy": "2020-10-18T12:34:00.020115Z",
     "iopub.status.idle": "2020-10-18T12:34:01.615953Z",
     "shell.execute_reply": "2020-10-18T12:34:01.615010Z",
     "shell.execute_reply.started": "2020-10-18T12:34:00.021062Z"
    }
   },
   "outputs": [],
   "source": [
    "# import libraries for setting up spark and sql contexts\n",
    "from pyspark import SparkContext, SparkConf\n",
    "from pyspark.sql import DataFrameReader, SQLContext, DataFrameWriter\n",
    "\n",
    "# import libraries for defining custom functions - udf indicates user defined function, type defines the type the function will return\n",
    "from pyspark.sql.functions import udf\n",
    "from pyspark.sql.types import IntegerType\n",
    "\n",
    "import os\n",
    "\n",
    "\n",
    "# define to postgres jdbc driver path as environment variable\n",
    "sparkClassPath = os.getenv('SPARK_CLASSPATH', \n",
    "                           '/Users/user/Downloads/postgresql-42.2.14.jar')"
   ]
  },
  {
   "cell_type": "code",
   "execution_count": 2,
   "metadata": {
    "execution": {
     "iopub.execute_input": "2020-10-18T12:34:01.618465Z",
     "iopub.status.busy": "2020-10-18T12:34:01.617643Z",
     "iopub.status.idle": "2020-10-18T12:34:17.971544Z",
     "shell.execute_reply": "2020-10-18T12:34:17.970747Z",
     "shell.execute_reply.started": "2020-10-18T12:34:01.618421Z"
    }
   },
   "outputs": [],
   "source": [
    "# define configuration settings for Spark\n",
    "conf = SparkConf()\n",
    "conf.setAppName('application')\n",
    "conf.set('spark.jars', f'file:{sparkClassPath}')\n",
    "conf.set('spark.executor.extraClassPath', sparkClassPath)\n",
    "conf.set('spark.driver.extraClassPath', sparkClassPath)\n",
    "\n",
    "# define spark context - interface between client (notebook) and cluster manager\n",
    "sc = SparkContext(conf=conf)\n",
    "# define sql context - entry point for spark sql functionalkty - register dataframe as tables, which you can execute SQL on\n",
    "sqlContext = SQLContext(sc)\n",
    "\n",
    "# define postgres connection parameters\n",
    "url = 'postgresql://localhost:5432/user'\n",
    "properties = {'user': 'user', 'password': ''}"
   ]
  },
  {
   "cell_type": "markdown",
   "metadata": {
    "execution": {
     "iopub.execute_input": "2020-10-04T09:05:53.271068Z",
     "iopub.status.busy": "2020-10-04T09:05:53.270775Z",
     "iopub.status.idle": "2020-10-04T09:05:53.277238Z",
     "shell.execute_reply": "2020-10-04T09:05:53.274855Z",
     "shell.execute_reply.started": "2020-10-04T09:05:53.271035Z"
    }
   },
   "source": [
    "## 2. Sample Yelp review data"
   ]
  },
  {
   "cell_type": "code",
   "execution_count": 3,
   "metadata": {
    "execution": {
     "iopub.execute_input": "2020-10-18T12:34:17.975295Z",
     "iopub.status.busy": "2020-10-18T12:34:17.974208Z",
     "iopub.status.idle": "2020-10-18T12:34:17.981677Z",
     "shell.execute_reply": "2020-10-18T12:34:17.979487Z",
     "shell.execute_reply.started": "2020-10-18T12:34:17.975238Z"
    }
   },
   "outputs": [],
   "source": [
    "# define user defined function for create target column\n",
    "set_target_values = udf(lambda x: (x > 3)*1, IntegerType())"
   ]
  },
  {
   "cell_type": "code",
   "execution_count": 4,
   "metadata": {
    "execution": {
     "iopub.execute_input": "2020-10-18T12:34:17.987073Z",
     "iopub.status.busy": "2020-10-18T12:34:17.986317Z",
     "iopub.status.idle": "2020-10-18T12:34:17.997344Z",
     "shell.execute_reply": "2020-10-18T12:34:17.996189Z",
     "shell.execute_reply.started": "2020-10-18T12:34:17.986572Z"
    }
   },
   "outputs": [],
   "source": [
    "# define sampling query\n",
    "def get_sample(sample_size=100):\n",
    "    query = \"\"\"\n",
    "            with reviews_1 as (\n",
    "            select review_id, stars, text\n",
    "            from yelp_reviews_filtered TABLESAMPLE BERNOULLI(75) \n",
    "            where stars = 1\n",
    "            limit \"\"\" + str(sample_size) + \"\"\"\n",
    "            )\n",
    "            , reviews_2 as (\n",
    "                select review_id, stars, text\n",
    "                from yelp_reviews_filtered TABLESAMPLE BERNOULLI(75)\n",
    "                where stars = 2\n",
    "                limit \"\"\" + str(sample_size) + \"\"\"\n",
    "            )\n",
    "            , reviews_4 as (\n",
    "                select review_id, stars, text\n",
    "                from yelp_reviews_filtered TABLESAMPLE BERNOULLI(75)\n",
    "                where stars = 4\n",
    "                limit \"\"\" + str(sample_size) + \"\"\"\n",
    "            )\n",
    "            , reviews_5 as (\n",
    "                select review_id, stars, text\n",
    "                from yelp_reviews_filtered TABLESAMPLE BERNOULLI(75)\n",
    "                where stars = 5\n",
    "                limit \"\"\" + str(sample_size) + \"\"\"\n",
    "            )\n",
    "\n",
    "            select *\n",
    "            from reviews_1\n",
    "            union\n",
    "            select *\n",
    "            from reviews_2\n",
    "            union\n",
    "            select *\n",
    "            from reviews_4\n",
    "            union\n",
    "            select *\n",
    "            from reviews_5 \n",
    "            \"\"\"\n",
    "    \n",
    "    # read data from postgres into a dataframe\n",
    "    df = DataFrameReader(sqlContext).jdbc(url=f'jdbc:{url}', \n",
    "                                      table=f'({query}) as sample', \n",
    "                                      properties=properties)\n",
    "    \n",
    "    df = df.withColumn('target', set_target_values(df.stars))\n",
    "    \n",
    "    return df"
   ]
  },
  {
   "cell_type": "code",
   "execution_count": 130,
   "metadata": {
    "execution": {
     "iopub.execute_input": "2020-10-18T15:31:28.975531Z",
     "iopub.status.busy": "2020-10-18T15:31:28.974827Z",
     "iopub.status.idle": "2020-10-18T15:31:29.085180Z",
     "shell.execute_reply": "2020-10-18T15:31:29.084529Z",
     "shell.execute_reply.started": "2020-10-18T15:31:28.975490Z"
    }
   },
   "outputs": [],
   "source": [
    "yelp = get_sample(10000) "
   ]
  },
  {
   "cell_type": "code",
   "execution_count": 131,
   "metadata": {
    "execution": {
     "iopub.execute_input": "2020-10-18T15:31:31.398485Z",
     "iopub.status.busy": "2020-10-18T15:31:31.398214Z",
     "iopub.status.idle": "2020-10-18T15:31:31.410837Z",
     "shell.execute_reply": "2020-10-18T15:31:31.407185Z",
     "shell.execute_reply.started": "2020-10-18T15:31:31.398445Z"
    }
   },
   "outputs": [
    {
     "name": "stdout",
     "output_type": "stream",
     "text": [
      "root\n",
      " |-- review_id: string (nullable = true)\n",
      " |-- stars: long (nullable = true)\n",
      " |-- text: string (nullable = true)\n",
      " |-- target: integer (nullable = true)\n",
      "\n"
     ]
    }
   ],
   "source": [
    "yelp.printSchema()"
   ]
  },
  {
   "cell_type": "code",
   "execution_count": 132,
   "metadata": {
    "execution": {
     "iopub.execute_input": "2020-10-18T15:31:35.290973Z",
     "iopub.status.busy": "2020-10-18T15:31:35.290725Z",
     "iopub.status.idle": "2020-10-18T15:31:38.275823Z",
     "shell.execute_reply": "2020-10-18T15:31:38.274732Z",
     "shell.execute_reply.started": "2020-10-18T15:31:35.290946Z"
    }
   },
   "outputs": [
    {
     "name": "stdout",
     "output_type": "stream",
     "text": [
      "+--------------------+-----+--------------------+------+\n",
      "|           review_id|stars|                text|target|\n",
      "+--------------------+-----+--------------------+------+\n",
      "|k9ab3LP_SakvwcBvB...|    4|i just moved here...|     1|\n",
      "|y-R5xOtLRKzHyt1e1...|    1|the food is the l...|     0|\n",
      "|tWgOjQCkwN5glOgWY...|    2|someone else post...|     0|\n",
      "|tC9X2ZW5zM5IsiZ7y...|    5|i found this plac...|     1|\n",
      "|dbOiKpr7XqhBrFxBK...|    4|nice selection of...|     1|\n",
      "+--------------------+-----+--------------------+------+\n",
      "only showing top 5 rows\n",
      "\n"
     ]
    }
   ],
   "source": [
    "yelp.show(5)"
   ]
  },
  {
   "cell_type": "code",
   "execution_count": 133,
   "metadata": {
    "execution": {
     "iopub.execute_input": "2020-10-18T15:31:38.280777Z",
     "iopub.status.busy": "2020-10-18T15:31:38.280406Z",
     "iopub.status.idle": "2020-10-18T15:31:43.376269Z",
     "shell.execute_reply": "2020-10-18T15:31:43.375485Z",
     "shell.execute_reply.started": "2020-10-18T15:31:38.280737Z"
    }
   },
   "outputs": [
    {
     "name": "stdout",
     "output_type": "stream",
     "text": [
      "+-------+--------------------+-----------------+-----------------------------------+------------------+\n",
      "|summary|           review_id|            stars|                               text|            target|\n",
      "+-------+--------------------+-----------------+-----------------------------------+------------------+\n",
      "|  count|               40000|            40000|                              40000|             40000|\n",
      "|   mean|                null|              3.0|                               null|               0.5|\n",
      "| stddev|                null|1.581158594690159|                               null|0.5000062501171905|\n",
      "|    min|--KZ04tOwwgV9Dnyx...|                1|               \n",
      "\n",
      "okay, so i move...|                 0|\n",
      "|    max|zzuuTCZLVB4osen_S...|                5|第一次去，沒有傳說中那麼神奇。\n",
      "f...|                 1|\n",
      "+-------+--------------------+-----------------+-----------------------------------+------------------+\n",
      "\n"
     ]
    }
   ],
   "source": [
    "yelp.describe().show()"
   ]
  },
  {
   "cell_type": "code",
   "execution_count": 134,
   "metadata": {
    "execution": {
     "iopub.execute_input": "2020-10-18T15:31:43.383537Z",
     "iopub.status.busy": "2020-10-18T15:31:43.383315Z",
     "iopub.status.idle": "2020-10-18T15:31:46.061213Z",
     "shell.execute_reply": "2020-10-18T15:31:46.060471Z",
     "shell.execute_reply.started": "2020-10-18T15:31:43.383513Z"
    }
   },
   "outputs": [
    {
     "name": "stdout",
     "output_type": "stream",
     "text": [
      "+-----+------+\n",
      "|stars|target|\n",
      "+-----+------+\n",
      "|    5|     1|\n",
      "|    5|     1|\n",
      "|    5|     1|\n",
      "|    4|     1|\n",
      "|    4|     1|\n",
      "+-----+------+\n",
      "only showing top 5 rows\n",
      "\n"
     ]
    }
   ],
   "source": [
    "yelp.select('stars', 'target').show(5)"
   ]
  },
  {
   "cell_type": "code",
   "execution_count": 135,
   "metadata": {
    "execution": {
     "iopub.execute_input": "2020-10-18T15:31:46.065540Z",
     "iopub.status.busy": "2020-10-18T15:31:46.064876Z",
     "iopub.status.idle": "2020-10-18T15:31:48.885102Z",
     "shell.execute_reply": "2020-10-18T15:31:48.884203Z",
     "shell.execute_reply.started": "2020-10-18T15:31:46.065503Z"
    }
   },
   "outputs": [
    {
     "name": "stdout",
     "output_type": "stream",
     "text": [
      "+-----+-----+\n",
      "|stars|count|\n",
      "+-----+-----+\n",
      "|    1|10000|\n",
      "|    2|10000|\n",
      "|    4|10000|\n",
      "|    5|10000|\n",
      "+-----+-----+\n",
      "\n"
     ]
    }
   ],
   "source": [
    "yelp.groupby('stars').count().sort('stars').show()"
   ]
  },
  {
   "cell_type": "code",
   "execution_count": 136,
   "metadata": {
    "execution": {
     "iopub.execute_input": "2020-10-18T15:31:48.888003Z",
     "iopub.status.busy": "2020-10-18T15:31:48.886908Z",
     "iopub.status.idle": "2020-10-18T15:31:48.917099Z",
     "shell.execute_reply": "2020-10-18T15:31:48.916167Z",
     "shell.execute_reply.started": "2020-10-18T15:31:48.887949Z"
    }
   },
   "outputs": [],
   "source": [
    "# create temp view which SQL Context can use to run SQL queries on\n",
    "yelp.createOrReplaceTempView('sample')"
   ]
  },
  {
   "cell_type": "code",
   "execution_count": 137,
   "metadata": {
    "execution": {
     "iopub.execute_input": "2020-10-18T15:31:48.919935Z",
     "iopub.status.busy": "2020-10-18T15:31:48.918603Z",
     "iopub.status.idle": "2020-10-18T15:31:50.719454Z",
     "shell.execute_reply": "2020-10-18T15:31:50.718732Z",
     "shell.execute_reply.started": "2020-10-18T15:31:48.919882Z"
    }
   },
   "outputs": [
    {
     "name": "stdout",
     "output_type": "stream",
     "text": [
      "+----------+\n",
      "|avg(stars)|\n",
      "+----------+\n",
      "|       3.0|\n",
      "+----------+\n",
      "\n"
     ]
    }
   ],
   "source": [
    "sqlContext.sql('select avg(stars) from sample').show()"
   ]
  },
  {
   "cell_type": "markdown",
   "metadata": {
    "execution": {
     "iopub.execute_input": "2020-10-03T16:31:23.216008Z",
     "iopub.status.busy": "2020-10-03T16:31:23.215757Z",
     "iopub.status.idle": "2020-10-03T16:31:23.468152Z",
     "shell.execute_reply": "2020-10-03T16:31:23.466930Z",
     "shell.execute_reply.started": "2020-10-03T16:31:23.215981Z"
    }
   },
   "source": [
    "## 3a. Pre-process data for modelling - Manual steps"
   ]
  },
  {
   "cell_type": "code",
   "execution_count": 138,
   "metadata": {
    "execution": {
     "iopub.execute_input": "2020-10-18T15:31:50.726350Z",
     "iopub.status.busy": "2020-10-18T15:31:50.722502Z",
     "iopub.status.idle": "2020-10-18T15:31:50.739107Z",
     "shell.execute_reply": "2020-10-18T15:31:50.738264Z",
     "shell.execute_reply.started": "2020-10-18T15:31:50.726298Z"
    }
   },
   "outputs": [],
   "source": [
    "from pyspark.sql.functions import lower, regexp_replace\n",
    "from pyspark.ml.feature import Tokenizer, StopWordsRemover, CountVectorizer, IDF\n",
    "from pyspark.sql.types import ArrayType, StringType\n",
    "from nltk.corpus import stopwords\n",
    "from nltk.stem import PorterStemmer"
   ]
  },
  {
   "cell_type": "code",
   "execution_count": 139,
   "metadata": {
    "execution": {
     "iopub.execute_input": "2020-10-18T15:31:50.774334Z",
     "iopub.status.busy": "2020-10-18T15:31:50.774123Z",
     "iopub.status.idle": "2020-10-18T15:31:50.795934Z",
     "shell.execute_reply": "2020-10-18T15:31:50.795098Z",
     "shell.execute_reply.started": "2020-10-18T15:31:50.774312Z"
    }
   },
   "outputs": [],
   "source": [
    "# set review test to lowercase\n",
    "yelp = yelp.withColumn('text', lower(yelp.text))"
   ]
  },
  {
   "cell_type": "code",
   "execution_count": 140,
   "metadata": {
    "execution": {
     "iopub.execute_input": "2020-10-18T15:31:50.799011Z",
     "iopub.status.busy": "2020-10-18T15:31:50.798356Z",
     "iopub.status.idle": "2020-10-18T15:31:52.596140Z",
     "shell.execute_reply": "2020-10-18T15:31:52.595499Z",
     "shell.execute_reply.started": "2020-10-18T15:31:50.798969Z"
    }
   },
   "outputs": [
    {
     "name": "stdout",
     "output_type": "stream",
     "text": [
      "+--------------------------------------------------+\n",
      "|                                              text|\n",
      "+--------------------------------------------------+\n",
      "|the food and drink were good but there service ...|\n",
      "|i was a fool for not coming here sooner. but i ...|\n",
      "|the food was great, but the service was below a...|\n",
      "|og's quality has gone way down, my nephew order...|\n",
      "|it was just ok. the crab cake had a lot of brea...|\n",
      "|come before they open they said. if you don't, ...|\n",
      "|nice neighborhood place.  my kids love it too. ...|\n",
      "|not my cup of tea.  i enjoy 'healthy' eating bu...|\n",
      "|organ stop is like a trip down memory lane. our...|\n",
      "|leaving  because zero is not an option! left af...|\n",
      "+--------------------------------------------------+\n",
      "only showing top 10 rows\n",
      "\n"
     ]
    }
   ],
   "source": [
    "yelp.select('text').show(10, truncate=50)"
   ]
  },
  {
   "cell_type": "code",
   "execution_count": 141,
   "metadata": {
    "execution": {
     "iopub.execute_input": "2020-10-18T15:31:52.598953Z",
     "iopub.status.busy": "2020-10-18T15:31:52.598184Z",
     "iopub.status.idle": "2020-10-18T15:31:52.612704Z",
     "shell.execute_reply": "2020-10-18T15:31:52.611520Z",
     "shell.execute_reply.started": "2020-10-18T15:31:52.598900Z"
    }
   },
   "outputs": [],
   "source": [
    "# remove punctuation\n",
    "yelp = yelp.withColumn('text', regexp_replace(yelp.text, '[^\\w\\s\\d]+', ''))"
   ]
  },
  {
   "cell_type": "code",
   "execution_count": 142,
   "metadata": {
    "execution": {
     "iopub.execute_input": "2020-10-18T15:31:52.614700Z",
     "iopub.status.busy": "2020-10-18T15:31:52.614490Z",
     "iopub.status.idle": "2020-10-18T15:31:54.701721Z",
     "shell.execute_reply": "2020-10-18T15:31:54.700998Z",
     "shell.execute_reply.started": "2020-10-18T15:31:52.614668Z"
    }
   },
   "outputs": [
    {
     "name": "stdout",
     "output_type": "stream",
     "text": [
      "+--------------------------------------------------+\n",
      "|                                              text|\n",
      "+--------------------------------------------------+\n",
      "|this place is off of 1775 north martin luther k...|\n",
      "|we love this place  food is always delicious  s...|\n",
      "|we came here on our anniversary when we made re...|\n",
      "|the best coffee in northeast ohio the coffee ha...|\n",
      "|very interesting fusion of korean and mexican c...|\n",
      "|this is sad our party of 8 came in and got told...|\n",
      "|authentically italianowned restaurant but the c...|\n",
      "|this is my first time ever leaving a review but...|\n",
      "|okay so first i mobile ordered a venti double c...|\n",
      "|bugs in the coffee\n",
      "\n",
      "my friend and i ducked in a...|\n",
      "+--------------------------------------------------+\n",
      "only showing top 10 rows\n",
      "\n"
     ]
    }
   ],
   "source": [
    "yelp.select('text').show(10, truncate=50)"
   ]
  },
  {
   "cell_type": "code",
   "execution_count": 143,
   "metadata": {
    "execution": {
     "iopub.execute_input": "2020-10-18T15:31:54.704156Z",
     "iopub.status.busy": "2020-10-18T15:31:54.703774Z",
     "iopub.status.idle": "2020-10-18T15:31:54.717203Z",
     "shell.execute_reply": "2020-10-18T15:31:54.716025Z",
     "shell.execute_reply.started": "2020-10-18T15:31:54.704117Z"
    }
   },
   "outputs": [],
   "source": [
    "# tokenize review text\n",
    "tokenizer = Tokenizer(inputCol='text', outputCol='word_tokens')"
   ]
  },
  {
   "cell_type": "code",
   "execution_count": 144,
   "metadata": {
    "execution": {
     "iopub.execute_input": "2020-10-18T15:31:54.719365Z",
     "iopub.status.busy": "2020-10-18T15:31:54.718710Z",
     "iopub.status.idle": "2020-10-18T15:31:54.791647Z",
     "shell.execute_reply": "2020-10-18T15:31:54.789643Z",
     "shell.execute_reply.started": "2020-10-18T15:31:54.719200Z"
    }
   },
   "outputs": [],
   "source": [
    "yelp_word_tokens = tokenizer.transform(yelp).select('review_id', 'stars', 'target', 'word_tokens')"
   ]
  },
  {
   "cell_type": "code",
   "execution_count": 145,
   "metadata": {
    "execution": {
     "iopub.execute_input": "2020-10-18T15:31:54.795167Z",
     "iopub.status.busy": "2020-10-18T15:31:54.794440Z",
     "iopub.status.idle": "2020-10-18T15:31:56.802346Z",
     "shell.execute_reply": "2020-10-18T15:31:56.801422Z",
     "shell.execute_reply.started": "2020-10-18T15:31:54.795074Z"
    }
   },
   "outputs": [
    {
     "name": "stdout",
     "output_type": "stream",
     "text": [
      "+--------------------+-----+------+--------------------+\n",
      "|           review_id|stars|target|         word_tokens|\n",
      "+--------------------+-----+------+--------------------+\n",
      "|u3g6qw8QjmjBIpvjn...|    5|     1|[tequilas, is, al...|\n",
      "|JLfC4sWPnVT4ltduQ...|    5|     1|[they, have, the,...|\n",
      "|94d8RANZLvh3n00if...|    5|     1|[highly, recommen...|\n",
      "|O9_U_9ztJgBNrIfSc...|    5|     1|[so, glad, we, tr...|\n",
      "|xgiILFAPpRUkzT7Rq...|    4|     1|[, for, great, ta...|\n",
      "+--------------------+-----+------+--------------------+\n",
      "only showing top 5 rows\n",
      "\n"
     ]
    }
   ],
   "source": [
    "yelp_word_tokens.show(5)"
   ]
  },
  {
   "cell_type": "code",
   "execution_count": 146,
   "metadata": {
    "execution": {
     "iopub.execute_input": "2020-10-18T15:31:56.809233Z",
     "iopub.status.busy": "2020-10-18T15:31:56.808747Z",
     "iopub.status.idle": "2020-10-18T15:31:56.888606Z",
     "shell.execute_reply": "2020-10-18T15:31:56.888075Z",
     "shell.execute_reply.started": "2020-10-18T15:31:56.809190Z"
    }
   },
   "outputs": [],
   "source": [
    "# remove stop words\n",
    "st_remover = StopWordsRemover(inputCol='word_tokens', outputCol='words_clean', stopWords=stopwords.words('english'))"
   ]
  },
  {
   "cell_type": "code",
   "execution_count": 147,
   "metadata": {
    "execution": {
     "iopub.execute_input": "2020-10-18T15:31:56.889904Z",
     "iopub.status.busy": "2020-10-18T15:31:56.889582Z",
     "iopub.status.idle": "2020-10-18T15:31:56.988001Z",
     "shell.execute_reply": "2020-10-18T15:31:56.987160Z",
     "shell.execute_reply.started": "2020-10-18T15:31:56.889855Z"
    }
   },
   "outputs": [],
   "source": [
    "yelp_words_clean = st_remover.transform(yelp_word_tokens).select('review_id', 'stars', 'target', 'words_clean')"
   ]
  },
  {
   "cell_type": "code",
   "execution_count": 148,
   "metadata": {
    "execution": {
     "iopub.execute_input": "2020-10-18T15:31:56.989476Z",
     "iopub.status.busy": "2020-10-18T15:31:56.989256Z",
     "iopub.status.idle": "2020-10-18T15:31:58.209952Z",
     "shell.execute_reply": "2020-10-18T15:31:58.202009Z",
     "shell.execute_reply.started": "2020-10-18T15:31:56.989440Z"
    }
   },
   "outputs": [
    {
     "name": "stdout",
     "output_type": "stream",
     "text": [
      "+--------------------+-----+------+--------------------+\n",
      "|           review_id|stars|target|         words_clean|\n",
      "+--------------------+-----+------+--------------------+\n",
      "|a6OVAPU0F5nLVnMd2...|    5|     1|[family, group, s...|\n",
      "|E49k0vUNryBo8MfFL...|    2|     0|[near, hotel, ope...|\n",
      "|Fe_ON2Z4EqplHmDC7...|    1|     0|[sexist, show, we...|\n",
      "|Nk7yfw4s430qhHLku...|    2|     0|[food, ferris, go...|\n",
      "|9cMlmWbVnehG598Rq...|    5|     1|[, great, experie...|\n",
      "+--------------------+-----+------+--------------------+\n",
      "only showing top 5 rows\n",
      "\n"
     ]
    }
   ],
   "source": [
    "yelp_words_clean.show(5)"
   ]
  },
  {
   "cell_type": "code",
   "execution_count": 149,
   "metadata": {
    "execution": {
     "iopub.execute_input": "2020-10-18T15:31:58.211512Z",
     "iopub.status.busy": "2020-10-18T15:31:58.211184Z",
     "iopub.status.idle": "2020-10-18T15:31:58.219209Z",
     "shell.execute_reply": "2020-10-18T15:31:58.218471Z",
     "shell.execute_reply.started": "2020-10-18T15:31:58.211476Z"
    }
   },
   "outputs": [],
   "source": [
    "# stem words\n",
    "stemmer = PorterStemmer()\n",
    "stemmer_udf = udf(lambda tokens: [stemmer.stem(w) for w in tokens], ArrayType(StringType()))"
   ]
  },
  {
   "cell_type": "code",
   "execution_count": 150,
   "metadata": {
    "execution": {
     "iopub.execute_input": "2020-10-18T15:31:58.226326Z",
     "iopub.status.busy": "2020-10-18T15:31:58.225749Z",
     "iopub.status.idle": "2020-10-18T15:31:58.277746Z",
     "shell.execute_reply": "2020-10-18T15:31:58.276189Z",
     "shell.execute_reply.started": "2020-10-18T15:31:58.226287Z"
    }
   },
   "outputs": [],
   "source": [
    "yelp_stemmed = yelp_words_clean.withColumn('words_clean', stemmer_udf(yelp_words_clean.words_clean))"
   ]
  },
  {
   "cell_type": "code",
   "execution_count": 151,
   "metadata": {
    "execution": {
     "iopub.execute_input": "2020-10-18T15:31:58.279365Z",
     "iopub.status.busy": "2020-10-18T15:31:58.279032Z",
     "iopub.status.idle": "2020-10-18T15:32:03.953655Z",
     "shell.execute_reply": "2020-10-18T15:32:03.952338Z",
     "shell.execute_reply.started": "2020-10-18T15:31:58.279324Z"
    }
   },
   "outputs": [
    {
     "name": "stdout",
     "output_type": "stream",
     "text": [
      "+--------------------------------------------------+\n",
      "|                                       words_clean|\n",
      "+--------------------------------------------------+\n",
      "|[omg, worth, money, know, order, , servic, grea...|\n",
      "|[definit, friendliest, staff, even, christma, d...|\n",
      "|[food, mediocr, servic, mediocr, overal, dine, ...|\n",
      "|[decent, stop, lunch, sort, fanci, mexican, foo...|\n",
      "|[open, need, someth, open, , friendli, staff, h...|\n",
      "|[pepperoni, tast, stale, couldnt, believ, would...|\n",
      "|[say, rip, sat, bar, order, lobster, taco, say,...|\n",
      "|[snooz, lose, , place, get, pretti, pack, weeke...|\n",
      "|[lose, weekend, couldnt, wait, get, vega, , tra...|\n",
      "|[ive, come, place, 2, year, first, tast, korean...|\n",
      "+--------------------------------------------------+\n",
      "only showing top 10 rows\n",
      "\n"
     ]
    }
   ],
   "source": [
    "yelp_stemmed.select('words_clean').show(10, truncate=50)"
   ]
  },
  {
   "cell_type": "code",
   "execution_count": 152,
   "metadata": {
    "execution": {
     "iopub.execute_input": "2020-10-18T15:32:03.957212Z",
     "iopub.status.busy": "2020-10-18T15:32:03.956510Z",
     "iopub.status.idle": "2020-10-18T15:32:03.967698Z",
     "shell.execute_reply": "2020-10-18T15:32:03.963097Z",
     "shell.execute_reply.started": "2020-10-18T15:32:03.957163Z"
    }
   },
   "outputs": [],
   "source": [
    "# fitler short words\n",
    "remove_empty_udf = udf(lambda tokens: [w for w in tokens if len(w) > 2], ArrayType(StringType()))"
   ]
  },
  {
   "cell_type": "code",
   "execution_count": 153,
   "metadata": {
    "execution": {
     "iopub.execute_input": "2020-10-18T15:32:03.978695Z",
     "iopub.status.busy": "2020-10-18T15:32:03.977638Z",
     "iopub.status.idle": "2020-10-18T15:32:04.034329Z",
     "shell.execute_reply": "2020-10-18T15:32:04.033462Z",
     "shell.execute_reply.started": "2020-10-18T15:32:03.978642Z"
    }
   },
   "outputs": [],
   "source": [
    "yelp_stemmed = yelp_stemmed.withColumn('words_clean', remove_empty_udf(yelp_stemmed.words_clean))"
   ]
  },
  {
   "cell_type": "code",
   "execution_count": 154,
   "metadata": {
    "execution": {
     "iopub.execute_input": "2020-10-18T15:32:04.082564Z",
     "iopub.status.busy": "2020-10-18T15:32:04.081928Z",
     "iopub.status.idle": "2020-10-18T15:32:08.010107Z",
     "shell.execute_reply": "2020-10-18T15:32:08.009300Z",
     "shell.execute_reply.started": "2020-10-18T15:32:04.082526Z"
    }
   },
   "outputs": [
    {
     "name": "stdout",
     "output_type": "stream",
     "text": [
      "+----------------------------------------------------------------------------------------------------+\n",
      "|                                                                                         words_clean|\n",
      "+----------------------------------------------------------------------------------------------------+\n",
      "|  [cockroach, ran, across, top, tabl, meal, stale, bread, hard, enough, cut, top, mouth, meal, nice]|\n",
      "|[spent, whole, day, shop, vaughn, mill, didnt, feel, like, drive, far, good, seafood, dinner, res...|\n",
      "|[skip, tender, rubberi, super, salti, mash, potato, tast, like, instant, cane, way, tastier, street]|\n",
      "|[bit, cavern, broken, black, forest, sandwich, keep, come, back, pretzel, bread, fab, ice, tea, g...|\n",
      "|[decid, queen, review, glad, fish, macchees, green, good, daughter, fri, chicken, mash, green, be...|\n",
      "|[disappoint, say, least, thought, give, place, 2nd, chanceth, first, soso, simpl, ordera, carn, a...|\n",
      "|[love, place, yummi, food, also, thai, tea, boba, sure, fire, way, make, happi, open, 247, nice, ...|\n",
      "|[erik, greatest, server, ever, whole, staff, friendli, food, amaz, wish, money, come, often, though]|\n",
      "|[ive, want, check, place, went, today, friend, order, differ, appet, stuff, nibbl, share, fri, gr...|\n",
      "|[worst, chicken, shawrma, ive, ever, hadwish, could, give, star, dont, option, chicken, raw, tahi...|\n",
      "+----------------------------------------------------------------------------------------------------+\n",
      "only showing top 10 rows\n",
      "\n"
     ]
    }
   ],
   "source": [
    "yelp_stemmed.select('words_clean').show(10, truncate=100)"
   ]
  },
  {
   "cell_type": "code",
   "execution_count": 155,
   "metadata": {
    "execution": {
     "iopub.execute_input": "2020-10-18T15:32:08.014684Z",
     "iopub.status.busy": "2020-10-18T15:32:08.014127Z",
     "iopub.status.idle": "2020-10-18T15:32:08.019443Z",
     "shell.execute_reply": "2020-10-18T15:32:08.018236Z",
     "shell.execute_reply.started": "2020-10-18T15:32:08.014645Z"
    }
   },
   "outputs": [],
   "source": [
    "from pyspark.ml.feature import NGram"
   ]
  },
  {
   "cell_type": "code",
   "execution_count": 156,
   "metadata": {
    "execution": {
     "iopub.execute_input": "2020-10-18T15:32:08.022761Z",
     "iopub.status.busy": "2020-10-18T15:32:08.021609Z",
     "iopub.status.idle": "2020-10-18T15:32:08.066433Z",
     "shell.execute_reply": "2020-10-18T15:32:08.065451Z",
     "shell.execute_reply.started": "2020-10-18T15:32:08.022707Z"
    }
   },
   "outputs": [],
   "source": [
    "# create ngrams = 2 col\n",
    "ngrams = NGram(n=2, inputCol='words_clean', outputCol='ngrams_2')\n",
    "yelp_ngrams = ngrams.transform(yelp_stemmed)"
   ]
  },
  {
   "cell_type": "code",
   "execution_count": 157,
   "metadata": {
    "execution": {
     "iopub.execute_input": "2020-10-18T15:32:08.068101Z",
     "iopub.status.busy": "2020-10-18T15:32:08.067767Z",
     "iopub.status.idle": "2020-10-18T15:32:12.463727Z",
     "shell.execute_reply": "2020-10-18T15:32:12.462789Z",
     "shell.execute_reply.started": "2020-10-18T15:32:08.068066Z"
    }
   },
   "outputs": [
    {
     "name": "stdout",
     "output_type": "stream",
     "text": [
      "+----------------------+-----+------+--------------------------------------------------+--------------------------------------------------+\n",
      "|             review_id|stars|target|                                       words_clean|                                          ngrams_2|\n",
      "+----------------------+-----+------+--------------------------------------------------+--------------------------------------------------+\n",
      "|CYySlzxUfx5yd19Vqnu8bQ|    1|     0|[order, onlin, pizza, hut, 939pm, rout, store, ...|[order onlin, onlin pizza, pizza hut, hut 939pm...|\n",
      "|uSdCxwauTz5sU2GUVexlBQ|    5|     1|[nia, cashier, great, custom, servic, made, fri...|[nia cashier, cashier great, great custom, cust...|\n",
      "|hrtGM6FtkRzkEGrlQq2hXg|    1|     0|[star, better, worst, italian, meal, long, whil...|[star better, better worst, worst italian, ital...|\n",
      "|qc7QHEHYRroJzYZ04mRATQ|    4|     1|[crave, steam, dumpl, soup, fulfil, littl, tibe...|[crave steam, steam dumpl, dumpl soup, soup ful...|\n",
      "|u6wUx6Y8qZ1ITmzdHoLQyw|    5|     1|[love, everyth, placeexcept, damag, wallet, luc...|[love everyth, everyth placeexcept, placeexcept...|\n",
      "+----------------------+-----+------+--------------------------------------------------+--------------------------------------------------+\n",
      "only showing top 5 rows\n",
      "\n"
     ]
    }
   ],
   "source": [
    "yelp_ngrams.show(5, truncate=50)"
   ]
  },
  {
   "cell_type": "code",
   "execution_count": 158,
   "metadata": {
    "execution": {
     "iopub.execute_input": "2020-10-18T15:32:12.467134Z",
     "iopub.status.busy": "2020-10-18T15:32:12.466455Z",
     "iopub.status.idle": "2020-10-18T15:32:12.475954Z",
     "shell.execute_reply": "2020-10-18T15:32:12.472952Z",
     "shell.execute_reply.started": "2020-10-18T15:32:12.467090Z"
    }
   },
   "outputs": [],
   "source": [
    "# merge feature columns\n",
    "merge_words_udf = udf(lambda col1, col2: col1 + col2, ArrayType(StringType()))"
   ]
  },
  {
   "cell_type": "code",
   "execution_count": 159,
   "metadata": {
    "execution": {
     "iopub.execute_input": "2020-10-18T15:32:12.480350Z",
     "iopub.status.busy": "2020-10-18T15:32:12.479924Z",
     "iopub.status.idle": "2020-10-18T15:32:12.528851Z",
     "shell.execute_reply": "2020-10-18T15:32:12.527997Z",
     "shell.execute_reply.started": "2020-10-18T15:32:12.480312Z"
    }
   },
   "outputs": [],
   "source": [
    "yelp_merged = yelp_ngrams.withColumn('features', merge_words_udf(yelp_ngrams.words_clean, yelp_ngrams.ngrams_2)).select('target', 'features')"
   ]
  },
  {
   "cell_type": "code",
   "execution_count": 160,
   "metadata": {
    "execution": {
     "iopub.execute_input": "2020-10-18T15:32:12.534699Z",
     "iopub.status.busy": "2020-10-18T15:32:12.532688Z",
     "iopub.status.idle": "2020-10-18T15:32:12.549110Z",
     "shell.execute_reply": "2020-10-18T15:32:12.548189Z",
     "shell.execute_reply.started": "2020-10-18T15:32:12.534652Z"
    }
   },
   "outputs": [],
   "source": [
    "# Create CountVectorizer\n",
    "cv = CountVectorizer(minDF=5, vocabSize=100000, inputCol='features', outputCol='vectors')"
   ]
  },
  {
   "cell_type": "code",
   "execution_count": 161,
   "metadata": {
    "execution": {
     "iopub.execute_input": "2020-10-18T15:32:12.551195Z",
     "iopub.status.busy": "2020-10-18T15:32:12.550795Z",
     "iopub.status.idle": "2020-10-18T15:33:54.319392Z",
     "shell.execute_reply": "2020-10-18T15:33:54.318491Z",
     "shell.execute_reply.started": "2020-10-18T15:32:12.551162Z"
    }
   },
   "outputs": [],
   "source": [
    "cv_model = cv.fit(yelp_merged)\n",
    "yelp_cv = cv_model.transform(yelp_merged)"
   ]
  },
  {
   "cell_type": "code",
   "execution_count": 162,
   "metadata": {
    "execution": {
     "iopub.execute_input": "2020-10-18T15:33:54.321021Z",
     "iopub.status.busy": "2020-10-18T15:33:54.320723Z",
     "iopub.status.idle": "2020-10-18T15:33:57.374657Z",
     "shell.execute_reply": "2020-10-18T15:33:57.369467Z",
     "shell.execute_reply.started": "2020-10-18T15:33:54.320998Z"
    }
   },
   "outputs": [
    {
     "name": "stdout",
     "output_type": "stream",
     "text": [
      "+------+----------------------------------------------------------------------------------------------------+----------------------------------------------------------------------------------------------------+\n",
      "|target|                                                                                            features|                                                                                             vectors|\n",
      "+------+----------------------------------------------------------------------------------------------------+----------------------------------------------------------------------------------------------------+\n",
      "|     1|[arizona, high, expect, find, good, japanes, food, nonetheless, didnt, think, best, tast, japanes...|(75633,[0,3,10,11,20,28,29,42,52,54,64,82,135,145,155,167,179,287,823,990,991,1307,1461,1537,1695...|\n",
      "|     1|[there, mani, place, eat, anymor, sinc, start, diet, perfect, quick, breakfast, lunch, spot, driv...|(75633,[0,1,25,27,35,40,42,62,85,98,117,121,131,157,169,172,176,202,211,242,302,329,333,346,362,6...|\n",
      "|     0|[famili, went, yesterday, spent, drink, food, owner, greedi, want, charg, share, hot, pot, isnt, ...|(75633,[0,1,7,10,11,13,15,22,26,32,34,37,43,50,60,82,83,91,92,100,105,113,121,131,139,159,162,164...|\n",
      "|     1|[huge, macaroon, fan, macaroon, amaz, serious, make, chang, mind, cooki, soft, chewi, outsid, sti...|(75633,[3,7,9,10,14,24,26,28,37,73,82,92,93,113,130,143,144,166,209,235,236,257,274,294,423,432,5...|\n",
      "|     0|[sushi, mozen, cant, speak, anyth, els, menu, impress, sushi, lot, roll, choos, basic, roll, like...|(75633,[6,12,23,24,30,43,47,66,75,76,88,110,123,132,137,138,140,176,185,186,195,214,217,283,295,3...|\n",
      "+------+----------------------------------------------------------------------------------------------------+----------------------------------------------------------------------------------------------------+\n",
      "only showing top 5 rows\n",
      "\n"
     ]
    }
   ],
   "source": [
    "yelp_cv.show(5, truncate=100)"
   ]
  },
  {
   "cell_type": "code",
   "execution_count": 163,
   "metadata": {
    "execution": {
     "iopub.execute_input": "2020-10-18T15:33:57.384548Z",
     "iopub.status.busy": "2020-10-18T15:33:57.383977Z",
     "iopub.status.idle": "2020-10-18T15:33:57.832931Z",
     "shell.execute_reply": "2020-10-18T15:33:57.831734Z",
     "shell.execute_reply.started": "2020-10-18T15:33:57.384510Z"
    }
   },
   "outputs": [
    {
     "data": {
      "text/plain": [
       "75633"
      ]
     },
     "execution_count": 163,
     "metadata": {},
     "output_type": "execute_result"
    }
   ],
   "source": [
    "# total number of words in the vocabulary\n",
    "len(cv_model.vocabulary)"
   ]
  },
  {
   "cell_type": "code",
   "execution_count": 164,
   "metadata": {
    "execution": {
     "iopub.execute_input": "2020-10-18T15:33:57.860182Z",
     "iopub.status.busy": "2020-10-18T15:33:57.858917Z",
     "iopub.status.idle": "2020-10-18T15:33:58.441098Z",
     "shell.execute_reply": "2020-10-18T15:33:58.440103Z",
     "shell.execute_reply.started": "2020-10-18T15:33:57.860133Z"
    }
   },
   "outputs": [
    {
     "data": {
      "text/plain": [
       "['010',\n",
       " '050',\n",
       " '075',\n",
       " '099',\n",
       " '100',\n",
       " '100 better',\n",
       " '100 bill',\n",
       " '100 buck',\n",
       " '100 challeng',\n",
       " '100 degre']"
      ]
     },
     "execution_count": 164,
     "metadata": {},
     "output_type": "execute_result"
    }
   ],
   "source": [
    "# list of words in the vocabulary\n",
    "sorted(cv_model.vocabulary)[:10]"
   ]
  },
  {
   "cell_type": "code",
   "execution_count": 165,
   "metadata": {
    "execution": {
     "iopub.execute_input": "2020-10-18T15:33:58.444396Z",
     "iopub.status.busy": "2020-10-18T15:33:58.443774Z",
     "iopub.status.idle": "2020-10-18T15:33:58.468276Z",
     "shell.execute_reply": "2020-10-18T15:33:58.459810Z",
     "shell.execute_reply.started": "2020-10-18T15:33:58.444362Z"
    }
   },
   "outputs": [],
   "source": [
    "# fit IDF\n",
    "idf = IDF(inputCol='vectors', outputCol='vectors_idf')"
   ]
  },
  {
   "cell_type": "code",
   "execution_count": 166,
   "metadata": {
    "execution": {
     "iopub.execute_input": "2020-10-18T15:33:58.471043Z",
     "iopub.status.busy": "2020-10-18T15:33:58.469675Z",
     "iopub.status.idle": "2020-10-18T15:35:49.685574Z",
     "shell.execute_reply": "2020-10-18T15:35:49.684232Z",
     "shell.execute_reply.started": "2020-10-18T15:33:58.470999Z"
    }
   },
   "outputs": [],
   "source": [
    "yelp_idf = idf.fit(yelp_cv).transform(yelp_cv.select('target', 'vectors')).select('target', 'vectors_idf')"
   ]
  },
  {
   "cell_type": "code",
   "execution_count": 167,
   "metadata": {
    "execution": {
     "iopub.execute_input": "2020-10-18T15:35:49.687537Z",
     "iopub.status.busy": "2020-10-18T15:35:49.687254Z",
     "iopub.status.idle": "2020-10-18T15:35:52.633311Z",
     "shell.execute_reply": "2020-10-18T15:35:52.632514Z",
     "shell.execute_reply.started": "2020-10-18T15:35:49.687499Z"
    }
   },
   "outputs": [
    {
     "name": "stdout",
     "output_type": "stream",
     "text": [
      "+------+----------------------------------------------------------------------------------------------------+\n",
      "|target|                                                                                         vectors_idf|\n",
      "+------+----------------------------------------------------------------------------------------------------+\n",
      "|     0|(75633,[2,11,20,24,33,35,47,53,57,86,103,114,127,145,179,197,221,222,282,287,291,297,384,403,408,...|\n",
      "|     1|(75633,[0,1,8,12,14,38,49,50,64,81,92,148,214,1565,2904,3334,3642,5687,5970,9349,10915,21597,2163...|\n",
      "|     1|(75633,[0,7,8,35,40,42,55,59,79,90,93,126,138,155,163,172,193,208,265,375,495,505,709,748,835,873...|\n",
      "|     0|(75633,[0,5,74,253,256,392,409,766,2787,3360],[0.6869913211723694,1.0798646030323313,2.3794911370...|\n",
      "|     1|(75633,[3,20,46,63,101,237,1351,1508,1671,2954,3425,6210,8409,29493,74467],[1.9519987799460987,6....|\n",
      "+------+----------------------------------------------------------------------------------------------------+\n",
      "only showing top 5 rows\n",
      "\n"
     ]
    }
   ],
   "source": [
    "yelp_idf.show(5, truncate=100)"
   ]
  },
  {
   "cell_type": "markdown",
   "metadata": {
    "execution": {
     "iopub.execute_input": "2020-10-11T09:55:01.128388Z",
     "iopub.status.busy": "2020-10-11T09:55:01.127173Z",
     "iopub.status.idle": "2020-10-11T09:55:01.138545Z",
     "shell.execute_reply": "2020-10-11T09:55:01.137763Z",
     "shell.execute_reply.started": "2020-10-11T09:55:01.128312Z"
    }
   },
   "source": [
    "## 3b. Pre-process data for modelling - Pipeline"
   ]
  },
  {
   "cell_type": "markdown",
   "metadata": {},
   "source": [
    "I could not easily create a pipeline for the above steps (3a.) as all the pre-processing stages require fit/transnform steps. I have two options for creating a pipeline:\n",
    "\n",
    "- write a class for doing pre-processing for those steps which lack a tranform method\n",
    "- re-write my code to allow for using methods which support .transform()\n",
    "\n",
    "I will leave this for now and move to model creation."
   ]
  },
  {
   "cell_type": "markdown",
   "metadata": {},
   "source": [
    "## 4. Model Creation"
   ]
  },
  {
   "cell_type": "code",
   "execution_count": 168,
   "metadata": {
    "execution": {
     "iopub.execute_input": "2020-10-18T15:35:52.635617Z",
     "iopub.status.busy": "2020-10-18T15:35:52.635201Z",
     "iopub.status.idle": "2020-10-18T15:35:52.674387Z",
     "shell.execute_reply": "2020-10-18T15:35:52.666163Z",
     "shell.execute_reply.started": "2020-10-18T15:35:52.635578Z"
    }
   },
   "outputs": [],
   "source": [
    "import numpy as np\n",
    "from pyspark.ml.classification import LogisticRegression, NaiveBayes\n",
    "from pyspark.ml.evaluation import BinaryClassificationEvaluator\n",
    "from pyspark.ml.tuning import CrossValidator, ParamGridBuilder\n",
    "from sklearn.metrics import recall_score, accuracy_score, classification_report, confusion_matrix\n",
    "from time import time\n",
    "import statistics"
   ]
  },
  {
   "cell_type": "code",
   "execution_count": 169,
   "metadata": {
    "execution": {
     "iopub.execute_input": "2020-10-18T15:35:52.676657Z",
     "iopub.status.busy": "2020-10-18T15:35:52.675960Z",
     "iopub.status.idle": "2020-10-18T15:35:52.706769Z",
     "shell.execute_reply": "2020-10-18T15:35:52.705498Z",
     "shell.execute_reply.started": "2020-10-18T15:35:52.676616Z"
    }
   },
   "outputs": [],
   "source": [
    "# split data into training and test sets\n",
    "data_train, data_test = yelp_idf.randomSplit([0.8, 0.2], seed=1)"
   ]
  },
  {
   "cell_type": "code",
   "execution_count": 170,
   "metadata": {
    "execution": {
     "iopub.execute_input": "2020-10-18T15:35:52.731385Z",
     "iopub.status.busy": "2020-10-18T15:35:52.730460Z",
     "iopub.status.idle": "2020-10-18T15:38:00.327645Z",
     "shell.execute_reply": "2020-10-18T15:38:00.325088Z",
     "shell.execute_reply.started": "2020-10-18T15:35:52.731342Z"
    }
   },
   "outputs": [
    {
     "name": "stdout",
     "output_type": "stream",
     "text": [
      "+------+-----+\n",
      "|target|count|\n",
      "+------+-----+\n",
      "|     1|15966|\n",
      "|     0|16016|\n",
      "+------+-----+\n",
      "\n"
     ]
    }
   ],
   "source": [
    "# check sampling weights for target in training set\n",
    "data_train.groupBy('target').count().show()"
   ]
  },
  {
   "cell_type": "code",
   "execution_count": 171,
   "metadata": {
    "execution": {
     "iopub.execute_input": "2020-10-18T15:38:00.358251Z",
     "iopub.status.busy": "2020-10-18T15:38:00.356422Z",
     "iopub.status.idle": "2020-10-18T15:40:02.033623Z",
     "shell.execute_reply": "2020-10-18T15:40:02.030814Z",
     "shell.execute_reply.started": "2020-10-18T15:38:00.358190Z"
    }
   },
   "outputs": [
    {
     "name": "stdout",
     "output_type": "stream",
     "text": [
      "+------+-----+\n",
      "|target|count|\n",
      "+------+-----+\n",
      "|     1| 4034|\n",
      "|     0| 3984|\n",
      "+------+-----+\n",
      "\n"
     ]
    }
   ],
   "source": [
    "# check sampling weights for target in testing set\n",
    "data_test.groupBy('target').count().show()"
   ]
  },
  {
   "cell_type": "code",
   "execution_count": 172,
   "metadata": {
    "execution": {
     "iopub.execute_input": "2020-10-18T15:40:02.040507Z",
     "iopub.status.busy": "2020-10-18T15:40:02.039867Z",
     "iopub.status.idle": "2020-10-18T15:40:02.179908Z",
     "shell.execute_reply": "2020-10-18T15:40:02.178575Z",
     "shell.execute_reply.started": "2020-10-18T15:40:02.040457Z"
    }
   },
   "outputs": [],
   "source": [
    "# setup models and parameters for gridsearching\n",
    "nb = NaiveBayes(featuresCol='vectors_idf',labelCol='target')\n",
    "lr = LogisticRegression(featuresCol='vectors_idf',labelCol='target')\n",
    "\n",
    "\n",
    "models = {\n",
    "    'Naive Bayes': (nb, \n",
    "                     ParamGridBuilder() \\\n",
    "                     .addGrid(nb.modelType, ['multinomial']) \\\n",
    "                     .build()),\n",
    "    'Logistic Regression': (lr, \n",
    "                            ParamGridBuilder() \\\n",
    "                            .addGrid(lr.regParam, np.logspace(1, 5, 5)) \\\n",
    "                            .addGrid(lr.fitIntercept, [True]) \\\n",
    "                            .build())    \n",
    "}\n",
    "\n",
    "evaluator = BinaryClassificationEvaluator(rawPredictionCol='prediction', labelCol='target', metricName='areaUnderROC')"
   ]
  },
  {
   "cell_type": "code",
   "execution_count": 173,
   "metadata": {
    "execution": {
     "iopub.execute_input": "2020-10-18T15:40:02.329630Z",
     "iopub.status.busy": "2020-10-18T15:40:02.323033Z",
     "iopub.status.idle": "2020-10-18T16:33:12.187614Z",
     "shell.execute_reply": "2020-10-18T16:33:12.183821Z",
     "shell.execute_reply.started": "2020-10-18T15:40:02.329583Z"
    }
   },
   "outputs": [
    {
     "name": "stdout",
     "output_type": "stream",
     "text": [
      "Model:  Naive Bayes\n",
      "Train time: 1249.488s\n",
      "Best model parameters: {'modelType': 'multinomial'}\n",
      "Avg. CV Area Under ROC:  0.907\n",
      "Test Area Under ROC:  0.907\n",
      "Test accuracy :  0.916\n",
      "\n",
      "confusion matrix: \n",
      "[[3611  373]\n",
      " [ 303 3731]]\n",
      "\n",
      "\n",
      "              precision    recall  f1-score   support\n",
      "\n",
      "           0       0.92      0.91      0.91      3984\n",
      "           1       0.91      0.92      0.92      4034\n",
      "\n",
      "    accuracy                           0.92      8018\n",
      "   macro avg       0.92      0.92      0.92      8018\n",
      "weighted avg       0.92      0.92      0.92      8018\n",
      "\n",
      "------------------------------------------------------------\n",
      "Model:  Logistic Regression\n",
      "Train time: 1278.225s\n",
      "Best model parameters: {'regParam': 10.0, 'fitIntercept': True}\n",
      "Avg. CV Area Under ROC:  0.723\n",
      "Test Area Under ROC:  0.897\n",
      "Test accuracy :  0.899\n",
      "\n",
      "confusion matrix: \n",
      "[[3380  604]\n",
      " [ 204 3830]]\n",
      "\n",
      "\n",
      "              precision    recall  f1-score   support\n",
      "\n",
      "           0       0.94      0.85      0.89      3984\n",
      "           1       0.86      0.95      0.90      4034\n",
      "\n",
      "    accuracy                           0.90      8018\n",
      "   macro avg       0.90      0.90      0.90      8018\n",
      "weighted avg       0.90      0.90      0.90      8018\n",
      "\n",
      "------------------------------------------------------------\n"
     ]
    }
   ],
   "source": [
    "# Gridsearch models to find best parameters - print out results for test set based on best parameters\n",
    "for key, value in models.items():\n",
    "    print('Model: ', key)\n",
    "    crossval = CrossValidator(estimator=value[0], estimatorParamMaps=value[1], evaluator=evaluator, numFolds=5)\n",
    "    \n",
    "    t0 = time()\n",
    "    model_fit = crossval.fit(data_train)\n",
    "    train_time = time() - t0\n",
    "    print((\"Train time: %0.3fs\" % train_time))\n",
    "    \n",
    "    # find the best model parameters\n",
    "    java_model = model_fit.bestModel._java_obj\n",
    "    print('Best model parameters:', {param.name: java_model.getOrDefault(java_model.getParam(param.name)) for param in value[1][0]})\n",
    "    \n",
    "    # get average CV score for chosen metric\n",
    "    print('Avg. CV Area Under ROC: ', np.round(statistics.mean(model_fit.avgMetrics),3))\n",
    "    \n",
    "    # get predictions for test set\n",
    "    pred_test = model_fit.transform(data_test)\n",
    "    test_target = [int(row['target']) for row in pred_test.collect()]\n",
    "    test_pred = [int(row['prediction']) for row in pred_test.collect()]\n",
    "\n",
    "    print('Test Area Under ROC: ', np.round(evaluator.evaluate(pred_test),3))\n",
    "    print(\"Test accuracy : \", np.round(accuracy_score(test_target, test_pred),3))\n",
    "\n",
    "    print('\\nconfusion matrix: ')\n",
    "    print(confusion_matrix(test_target, test_pred))\n",
    "    print('\\n')\n",
    "    print(classification_report(test_target, test_pred))\n",
    "    print('-' * 60)"
   ]
  },
  {
   "cell_type": "code",
   "execution_count": 174,
   "metadata": {
    "execution": {
     "iopub.execute_input": "2020-10-18T16:33:12.195232Z",
     "iopub.status.busy": "2020-10-18T16:33:12.194307Z",
     "iopub.status.idle": "2020-10-18T16:34:50.584595Z",
     "shell.execute_reply": "2020-10-18T16:34:50.583933Z",
     "shell.execute_reply.started": "2020-10-18T16:33:12.195191Z"
    }
   },
   "outputs": [],
   "source": [
    "# assign optimal LR parameters\n",
    "lr.setRegParam = 10.0\n",
    "lr.setFitIntercept = True\n",
    "\n",
    "lr_model = lr.fit(data_test)"
   ]
  },
  {
   "cell_type": "code",
   "execution_count": 175,
   "metadata": {
    "execution": {
     "iopub.execute_input": "2020-10-18T16:34:50.586325Z",
     "iopub.status.busy": "2020-10-18T16:34:50.586103Z",
     "iopub.status.idle": "2020-10-18T16:34:50.597448Z",
     "shell.execute_reply": "2020-10-18T16:34:50.596694Z",
     "shell.execute_reply.started": "2020-10-18T16:34:50.586295Z"
    }
   },
   "outputs": [],
   "source": [
    "model_summary = lr_model.summary"
   ]
  },
  {
   "cell_type": "code",
   "execution_count": 176,
   "metadata": {
    "execution": {
     "iopub.execute_input": "2020-10-18T16:34:50.599906Z",
     "iopub.status.busy": "2020-10-18T16:34:50.599557Z",
     "iopub.status.idle": "2020-10-18T16:36:26.237944Z",
     "shell.execute_reply": "2020-10-18T16:36:26.237138Z",
     "shell.execute_reply.started": "2020-10-18T16:34:50.599873Z"
    }
   },
   "outputs": [
    {
     "data": {
      "text/plain": [
       "0.9474558185642918"
      ]
     },
     "execution_count": 176,
     "metadata": {},
     "output_type": "execute_result"
    }
   ],
   "source": [
    "model_summary.areaUnderROC"
   ]
  },
  {
   "cell_type": "code",
   "execution_count": 177,
   "metadata": {
    "execution": {
     "iopub.execute_input": "2020-10-18T16:36:26.246330Z",
     "iopub.status.busy": "2020-10-18T16:36:26.245980Z",
     "iopub.status.idle": "2020-10-18T16:38:11.718390Z",
     "shell.execute_reply": "2020-10-18T16:38:11.716304Z",
     "shell.execute_reply.started": "2020-10-18T16:36:26.246297Z"
    }
   },
   "outputs": [
    {
     "name": "stdout",
     "output_type": "stream",
     "text": [
      "+------+-------------------------------------------+----------+\n",
      "|target|probability                                |prediction|\n",
      "+------+-------------------------------------------+----------+\n",
      "|0.0   |[1.0,5.785826511047977E-28]                |0.0       |\n",
      "|0.0   |[1.0,6.7197655027074085E-37]               |0.0       |\n",
      "|0.0   |[1.0,4.176239747076922E-26]                |0.0       |\n",
      "|0.0   |[0.9999999991562316,8.43768448826338E-10]  |0.0       |\n",
      "|0.0   |[0.9999999999999878,1.2186428684338308E-14]|0.0       |\n",
      "|0.0   |[1.4898727475853024E-9,0.9999999985101273] |1.0       |\n",
      "|0.0   |[0.9999999999980567,1.943246850557438E-12] |0.0       |\n",
      "|0.0   |[1.0,1.3291262887896124E-19]               |0.0       |\n",
      "|0.0   |[0.9997675149098847,2.3248509011532904E-4] |0.0       |\n",
      "|0.0   |[0.9996725767215732,3.274232784267846E-4]  |0.0       |\n",
      "+------+-------------------------------------------+----------+\n",
      "only showing top 10 rows\n",
      "\n"
     ]
    }
   ],
   "source": [
    "model_summary.predictions.select('target', 'probability', 'prediction').show(10, truncate=False)"
   ]
  },
  {
   "cell_type": "code",
   "execution_count": 178,
   "metadata": {
    "execution": {
     "iopub.execute_input": "2020-10-18T16:38:11.744676Z",
     "iopub.status.busy": "2020-10-18T16:38:11.744297Z",
     "iopub.status.idle": "2020-10-18T16:38:11.755633Z",
     "shell.execute_reply": "2020-10-18T16:38:11.754475Z",
     "shell.execute_reply.started": "2020-10-18T16:38:11.744630Z"
    }
   },
   "outputs": [],
   "source": [
    "import matplotlib.pyplot as plt"
   ]
  },
  {
   "cell_type": "code",
   "execution_count": 179,
   "metadata": {
    "execution": {
     "iopub.execute_input": "2020-10-18T16:38:11.768849Z",
     "iopub.status.busy": "2020-10-18T16:38:11.766968Z",
     "iopub.status.idle": "2020-10-18T16:38:12.521639Z",
     "shell.execute_reply": "2020-10-18T16:38:12.520600Z",
     "shell.execute_reply.started": "2020-10-18T16:38:11.768801Z"
    }
   },
   "outputs": [
    {
     "data": {
      "image/png": "[encoded data removed]",
      "text/plain": [
       "<Figure size 864x288 with 2 Axes>"
      ]
     },
     "metadata": {
      "needs_background": "light"
     },
     "output_type": "display_data"
    }
   ],
   "source": [
    "# create AUC & PR curves for chosen model\n",
    "fig, ax = plt.subplots(ncols=2, figsize=(12, 4))\n",
    "model_summary.roc.toPandas().plot(x='FPR', y='TPR', ax=ax[0])\n",
    "model_summary.pr.toPandas().plot(x='recall', y='precision', ax=ax[1])\n",
    "plt.show()"
   ]
  },
  {
   "cell_type": "code",
   "execution_count": null,
   "metadata": {},
   "outputs": [],
   "source": [
    "# stop spark cluster\n",
    "sc.stop()"
   ]
  },
  {
   "cell_type": "code",
   "execution_count": 89,
   "metadata": {
    "execution": {
     "iopub.execute_input": "2020-10-04T10:17:37.101876Z",
     "iopub.status.busy": "2020-10-04T10:17:37.100740Z",
     "iopub.status.idle": "2020-10-04T10:17:37.338999Z",
     "shell.execute_reply": "2020-10-04T10:17:37.338065Z",
     "shell.execute_reply.started": "2020-10-04T10:17:37.101834Z"
    }
   },
   "outputs": [],
   "source": []
  }
 ],
 "metadata": {
  "kernelspec": {
   "display_name": "pyspark_env",
   "language": "python",
   "name": "pyspark_env"
  },
  "language_info": {
   "codemirror_mode": {
    "name": "ipython",
    "version": 3
   },
   "file_extension": ".py",
   "mimetype": "text/x-python",
   "name": "python",
   "nbconvert_exporter": "python",
   "pygments_lexer": "ipython3",
   "version": "3.7.4"
  }
 },
 "nbformat": 4,
 "nbformat_minor": 4
}
