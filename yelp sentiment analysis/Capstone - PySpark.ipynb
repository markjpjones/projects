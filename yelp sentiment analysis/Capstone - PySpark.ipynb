{
 "cells": [
  {
   "cell_type": "markdown",
   "metadata": {},
   "source": [
    "Project to migrate my original code for predicting the sentimment of Yelp reviews from SKlearn to PySpark."
   ]
  },
  {
   "cell_type": "markdown",
   "metadata": {
    "execution": {
     "iopub.execute_input": "2020-10-04T09:05:20.015241Z",
     "iopub.status.busy": "2020-10-04T09:05:20.014192Z",
     "iopub.status.idle": "2020-10-04T09:05:20.030907Z",
     "shell.execute_reply": "2020-10-04T09:05:20.029382Z",
     "shell.execute_reply.started": "2020-10-04T09:05:20.015197Z"
    }
   },
   "source": [
    "## 1. Configure Spark"
   ]
  },
  {
   "cell_type": "code",
   "execution_count": 152,
   "metadata": {
    "execution": {
     "iopub.execute_input": "2020-10-24T16:46:18.609845Z",
     "iopub.status.busy": "2020-10-24T16:46:18.609612Z",
     "iopub.status.idle": "2020-10-24T16:46:18.620782Z",
     "shell.execute_reply": "2020-10-24T16:46:18.620010Z",
     "shell.execute_reply.started": "2020-10-24T16:46:18.609818Z"
    }
   },
   "outputs": [],
   "source": [
    "# import libraries for setting up spark and sql contexts\n",
    "from pyspark import SparkContext, SparkConf\n",
    "from pyspark.sql import DataFrameReader, SQLContext, DataFrameWriter\n",
    "\n",
    "# import libraries for defining custom functions - udf indicates user defined function, type defines the type the function will return\n",
    "from pyspark.sql.functions import udf\n",
    "from pyspark.sql.types import IntegerType\n",
    "\n",
    "import os\n",
    "\n",
    "\n",
    "# define to postgres jdbc driver path as environment variable\n",
    "sparkClassPath = os.getenv('SPARK_CLASSPATH', \n",
    "                           '/Users/user/Downloads/postgresql-42.2.14.jar')"
   ]
  },
  {
   "cell_type": "code",
   "execution_count": 153,
   "metadata": {
    "execution": {
     "iopub.execute_input": "2020-10-24T16:46:19.122361Z",
     "iopub.status.busy": "2020-10-24T16:46:19.121847Z",
     "iopub.status.idle": "2020-10-24T16:46:19.356893Z",
     "shell.execute_reply": "2020-10-24T16:46:19.355600Z",
     "shell.execute_reply.started": "2020-10-24T16:46:19.122312Z"
    }
   },
   "outputs": [],
   "source": [
    "# define configuration settings for Spark\n",
    "conf = SparkConf()\n",
    "conf.setAppName('application')\n",
    "conf.set('spark.jars', f'file:{sparkClassPath}')\n",
    "conf.set('spark.executor.extraClassPath', sparkClassPath)\n",
    "conf.set('spark.driver.extraClassPath', sparkClassPath)\n",
    "\n",
    "# define spark context - interface between client (notebook) and cluster manager\n",
    "sc = SparkContext(conf=conf)\n",
    "# define sql context - entry point for spark sql functionalkty - register dataframe as tables, which you can execute SQL on\n",
    "sqlContext = SQLContext(sc)\n",
    "\n",
    "# define postgres connection parameters\n",
    "url = 'postgresql://localhost:5432/user'\n",
    "properties = {'user': 'user', 'password': ''}"
   ]
  },
  {
   "cell_type": "markdown",
   "metadata": {
    "execution": {
     "iopub.execute_input": "2020-10-04T09:05:53.271068Z",
     "iopub.status.busy": "2020-10-04T09:05:53.270775Z",
     "iopub.status.idle": "2020-10-04T09:05:53.277238Z",
     "shell.execute_reply": "2020-10-04T09:05:53.274855Z",
     "shell.execute_reply.started": "2020-10-04T09:05:53.271035Z"
    }
   },
   "source": [
    "## 2. Sample Yelp review data"
   ]
  },
  {
   "cell_type": "code",
   "execution_count": 154,
   "metadata": {
    "execution": {
     "iopub.execute_input": "2020-10-24T16:46:21.707619Z",
     "iopub.status.busy": "2020-10-24T16:46:21.707355Z",
     "iopub.status.idle": "2020-10-24T16:46:21.716450Z",
     "shell.execute_reply": "2020-10-24T16:46:21.711198Z",
     "shell.execute_reply.started": "2020-10-24T16:46:21.707591Z"
    }
   },
   "outputs": [],
   "source": [
    "# define user defined function for create target column\n",
    "set_target_values = udf(lambda x: (x > 3)*1, IntegerType())"
   ]
  },
  {
   "cell_type": "code",
   "execution_count": 155,
   "metadata": {
    "execution": {
     "iopub.execute_input": "2020-10-24T16:46:22.588046Z",
     "iopub.status.busy": "2020-10-24T16:46:22.587786Z",
     "iopub.status.idle": "2020-10-24T16:46:22.600975Z",
     "shell.execute_reply": "2020-10-24T16:46:22.597694Z",
     "shell.execute_reply.started": "2020-10-24T16:46:22.588017Z"
    }
   },
   "outputs": [],
   "source": [
    "# define sampling query\n",
    "def get_sample(sample_size=100):\n",
    "    query = \"\"\"\n",
    "            with reviews_1 as (\n",
    "            select review_id, stars, text\n",
    "            from yelp_reviews_filtered TABLESAMPLE BERNOULLI(75) \n",
    "            where stars = 1\n",
    "            limit \"\"\" + str(sample_size) + \"\"\"\n",
    "            )\n",
    "            , reviews_2 as (\n",
    "                select review_id, stars, text\n",
    "                from yelp_reviews_filtered TABLESAMPLE BERNOULLI(75)\n",
    "                where stars = 2\n",
    "                limit \"\"\" + str(sample_size) + \"\"\"\n",
    "            )\n",
    "            , reviews_4 as (\n",
    "                select review_id, stars, text\n",
    "                from yelp_reviews_filtered TABLESAMPLE BERNOULLI(75)\n",
    "                where stars = 4\n",
    "                limit \"\"\" + str(sample_size) + \"\"\"\n",
    "            )\n",
    "            , reviews_5 as (\n",
    "                select review_id, stars, text\n",
    "                from yelp_reviews_filtered TABLESAMPLE BERNOULLI(75)\n",
    "                where stars = 5\n",
    "                limit \"\"\" + str(sample_size) + \"\"\"\n",
    "            )\n",
    "\n",
    "            select *\n",
    "            from reviews_1\n",
    "            union\n",
    "            select *\n",
    "            from reviews_2\n",
    "            union\n",
    "            select *\n",
    "            from reviews_4\n",
    "            union\n",
    "            select *\n",
    "            from reviews_5 \n",
    "            \"\"\"\n",
    "    \n",
    "    # read data from postgres into a dataframe\n",
    "    df = DataFrameReader(sqlContext).jdbc(url=f'jdbc:{url}', \n",
    "                                      table=f'({query}) as sample', \n",
    "                                      properties=properties)\n",
    "    \n",
    "    df = df.withColumn('target', set_target_values(df.stars))\n",
    "    \n",
    "    return df"
   ]
  },
  {
   "cell_type": "code",
   "execution_count": 156,
   "metadata": {
    "execution": {
     "iopub.execute_input": "2020-10-24T16:46:25.246280Z",
     "iopub.status.busy": "2020-10-24T16:46:25.245733Z",
     "iopub.status.idle": "2020-10-24T16:46:25.320823Z",
     "shell.execute_reply": "2020-10-24T16:46:25.319831Z",
     "shell.execute_reply.started": "2020-10-24T16:46:25.246226Z"
    }
   },
   "outputs": [],
   "source": [
    "yelp = get_sample(5000) "
   ]
  },
  {
   "cell_type": "code",
   "execution_count": 157,
   "metadata": {
    "execution": {
     "iopub.execute_input": "2020-10-24T16:46:25.897344Z",
     "iopub.status.busy": "2020-10-24T16:46:25.897080Z",
     "iopub.status.idle": "2020-10-24T16:46:25.912802Z",
     "shell.execute_reply": "2020-10-24T16:46:25.908222Z",
     "shell.execute_reply.started": "2020-10-24T16:46:25.897313Z"
    }
   },
   "outputs": [
    {
     "name": "stdout",
     "output_type": "stream",
     "text": [
      "root\n",
      " |-- review_id: string (nullable = true)\n",
      " |-- stars: long (nullable = true)\n",
      " |-- text: string (nullable = true)\n",
      " |-- target: integer (nullable = true)\n",
      "\n"
     ]
    }
   ],
   "source": [
    "yelp.printSchema()"
   ]
  },
  {
   "cell_type": "code",
   "execution_count": 158,
   "metadata": {
    "execution": {
     "iopub.execute_input": "2020-10-24T16:46:26.434437Z",
     "iopub.status.busy": "2020-10-24T16:46:26.433464Z",
     "iopub.status.idle": "2020-10-24T16:46:29.547422Z",
     "shell.execute_reply": "2020-10-24T16:46:29.543857Z",
     "shell.execute_reply.started": "2020-10-24T16:46:26.434380Z"
    }
   },
   "outputs": [
    {
     "name": "stdout",
     "output_type": "stream",
     "text": [
      "+--------------------+-----+--------------------+------+\n",
      "|           review_id|stars|                text|target|\n",
      "+--------------------+-----+--------------------+------+\n",
      "|Ndx0c6FUQNxwMd-2U...|    5|my favorite tacos...|     1|\n",
      "|2BGTuL2tud2Dousa7...|    4|we got king wah t...|     1|\n",
      "|tWgOjQCkwN5glOgWY...|    2|someone else post...|     0|\n",
      "|EeUNVG3FQS8kz9y-T...|    2|when in vegas do ...|     0|\n",
      "|OTN-huMbwaHkqXp4J...|    1|in my opinion def...|     0|\n",
      "+--------------------+-----+--------------------+------+\n",
      "only showing top 5 rows\n",
      "\n"
     ]
    }
   ],
   "source": [
    "yelp.show(5)"
   ]
  },
  {
   "cell_type": "code",
   "execution_count": 159,
   "metadata": {
    "execution": {
     "iopub.execute_input": "2020-10-24T16:46:29.549846Z",
     "iopub.status.busy": "2020-10-24T16:46:29.549257Z",
     "iopub.status.idle": "2020-10-24T16:46:31.928071Z",
     "shell.execute_reply": "2020-10-24T16:46:31.927344Z",
     "shell.execute_reply.started": "2020-10-24T16:46:29.549786Z"
    }
   },
   "outputs": [
    {
     "name": "stdout",
     "output_type": "stream",
     "text": [
      "+-------+--------------------+-----------------+-----------------------------------+----------------+\n",
      "|summary|           review_id|            stars|                               text|          target|\n",
      "+-------+--------------------+-----------------+-----------------------------------+----------------+\n",
      "|  count|               20000|            20000|                              20000|           20000|\n",
      "|   mean|                null|              3.0|                               null|             0.5|\n",
      "| stddev|                null|1.581178360037318|                               null|0.50001250046877|\n",
      "|    min|--7955vOboy-p8aTe...|                1|                already? not sur...|               0|\n",
      "|    max|zzaEtm6fgZIcvYQQ9...|                5|味道不好，每小碗米饭$2，刷卡另加...|               1|\n",
      "+-------+--------------------+-----------------+-----------------------------------+----------------+\n",
      "\n"
     ]
    }
   ],
   "source": [
    "yelp.describe().show()"
   ]
  },
  {
   "cell_type": "code",
   "execution_count": 160,
   "metadata": {
    "execution": {
     "iopub.execute_input": "2020-10-24T16:46:31.971874Z",
     "iopub.status.busy": "2020-10-24T16:46:31.971570Z",
     "iopub.status.idle": "2020-10-24T16:46:33.584533Z",
     "shell.execute_reply": "2020-10-24T16:46:33.583042Z",
     "shell.execute_reply.started": "2020-10-24T16:46:31.971840Z"
    }
   },
   "outputs": [
    {
     "name": "stdout",
     "output_type": "stream",
     "text": [
      "+-----+------+\n",
      "|stars|target|\n",
      "+-----+------+\n",
      "|    1|     0|\n",
      "|    4|     1|\n",
      "|    1|     0|\n",
      "|    2|     0|\n",
      "|    2|     0|\n",
      "+-----+------+\n",
      "only showing top 5 rows\n",
      "\n"
     ]
    }
   ],
   "source": [
    "yelp.select('stars', 'target').show(5)"
   ]
  },
  {
   "cell_type": "code",
   "execution_count": 161,
   "metadata": {
    "execution": {
     "iopub.execute_input": "2020-10-24T16:46:33.587321Z",
     "iopub.status.busy": "2020-10-24T16:46:33.586938Z",
     "iopub.status.idle": "2020-10-24T16:46:35.508308Z",
     "shell.execute_reply": "2020-10-24T16:46:35.507144Z",
     "shell.execute_reply.started": "2020-10-24T16:46:33.587279Z"
    }
   },
   "outputs": [
    {
     "name": "stdout",
     "output_type": "stream",
     "text": [
      "+-----+-----+\n",
      "|stars|count|\n",
      "+-----+-----+\n",
      "|    1| 5000|\n",
      "|    2| 5000|\n",
      "|    4| 5000|\n",
      "|    5| 5000|\n",
      "+-----+-----+\n",
      "\n"
     ]
    }
   ],
   "source": [
    "yelp.groupby('stars').count().sort('stars').show()"
   ]
  },
  {
   "cell_type": "code",
   "execution_count": 162,
   "metadata": {
    "execution": {
     "iopub.execute_input": "2020-10-24T16:46:35.510042Z",
     "iopub.status.busy": "2020-10-24T16:46:35.509597Z",
     "iopub.status.idle": "2020-10-24T16:46:35.523876Z",
     "shell.execute_reply": "2020-10-24T16:46:35.523205Z",
     "shell.execute_reply.started": "2020-10-24T16:46:35.509935Z"
    }
   },
   "outputs": [],
   "source": [
    "# create temp view which SQL Context can use to run SQL queries on\n",
    "yelp.createOrReplaceTempView('sample')"
   ]
  },
  {
   "cell_type": "code",
   "execution_count": 163,
   "metadata": {
    "execution": {
     "iopub.execute_input": "2020-10-24T16:46:35.525658Z",
     "iopub.status.busy": "2020-10-24T16:46:35.525318Z",
     "iopub.status.idle": "2020-10-24T16:46:36.857296Z",
     "shell.execute_reply": "2020-10-24T16:46:36.855730Z",
     "shell.execute_reply.started": "2020-10-24T16:46:35.525625Z"
    }
   },
   "outputs": [
    {
     "name": "stdout",
     "output_type": "stream",
     "text": [
      "+----------+\n",
      "|avg(stars)|\n",
      "+----------+\n",
      "|       3.0|\n",
      "+----------+\n",
      "\n"
     ]
    }
   ],
   "source": [
    "sqlContext.sql('select avg(stars) from sample').show()"
   ]
  },
  {
   "cell_type": "markdown",
   "metadata": {
    "execution": {
     "iopub.execute_input": "2020-10-03T16:31:23.216008Z",
     "iopub.status.busy": "2020-10-03T16:31:23.215757Z",
     "iopub.status.idle": "2020-10-03T16:31:23.468152Z",
     "shell.execute_reply": "2020-10-03T16:31:23.466930Z",
     "shell.execute_reply.started": "2020-10-03T16:31:23.215981Z"
    }
   },
   "source": [
    "## 3a. Pre-process data for modelling - Manual steps"
   ]
  },
  {
   "cell_type": "code",
   "execution_count": 164,
   "metadata": {
    "execution": {
     "iopub.execute_input": "2020-10-24T16:46:36.858808Z",
     "iopub.status.busy": "2020-10-24T16:46:36.858595Z",
     "iopub.status.idle": "2020-10-24T16:46:36.868011Z",
     "shell.execute_reply": "2020-10-24T16:46:36.867078Z",
     "shell.execute_reply.started": "2020-10-24T16:46:36.858772Z"
    }
   },
   "outputs": [],
   "source": [
    "from pyspark.sql.functions import lower, regexp_replace\n",
    "from pyspark.ml.feature import Tokenizer, StopWordsRemover, CountVectorizer, IDF\n",
    "from pyspark.sql.types import ArrayType, StringType\n",
    "from nltk.corpus import stopwords\n",
    "from nltk.stem import PorterStemmer"
   ]
  },
  {
   "cell_type": "code",
   "execution_count": 165,
   "metadata": {
    "execution": {
     "iopub.execute_input": "2020-10-24T16:46:36.906992Z",
     "iopub.status.busy": "2020-10-24T16:46:36.895096Z",
     "iopub.status.idle": "2020-10-24T16:46:36.935466Z",
     "shell.execute_reply": "2020-10-24T16:46:36.934791Z",
     "shell.execute_reply.started": "2020-10-24T16:46:36.906881Z"
    }
   },
   "outputs": [],
   "source": [
    "# set review test to lowercase\n",
    "yelp = yelp.withColumn('text', lower(yelp.text))"
   ]
  },
  {
   "cell_type": "code",
   "execution_count": 166,
   "metadata": {
    "execution": {
     "iopub.execute_input": "2020-10-24T16:46:36.939984Z",
     "iopub.status.busy": "2020-10-24T16:46:36.938021Z",
     "iopub.status.idle": "2020-10-24T16:46:38.256414Z",
     "shell.execute_reply": "2020-10-24T16:46:38.254150Z",
     "shell.execute_reply.started": "2020-10-24T16:46:36.939934Z"
    }
   },
   "outputs": [
    {
     "name": "stdout",
     "output_type": "stream",
     "text": [
      "+--------------------------------------------------+\n",
      "|                                              text|\n",
      "+--------------------------------------------------+\n",
      "|honestly this is the best korean bbq i've ever ...|\n",
      "|spring garden is just the best they have great ...|\n",
      "|the chimichangas were alright, not bad. guacamo...|\n",
      "|super nice service. food is ok like any other k...|\n",
      "|good priced rooms. very ordinary. go down to th...|\n",
      "|today i ordered the pene rustica dish, it's oka...|\n",
      "|the service was fine but most of the food is gr...|\n",
      "|came here for a late night dinner since our oth...|\n",
      "|2nd visit - food & service were great. we made ...|\n",
      "|one of my favorite tea houses! the food is very...|\n",
      "+--------------------------------------------------+\n",
      "only showing top 10 rows\n",
      "\n"
     ]
    }
   ],
   "source": [
    "yelp.select('text').show(10, truncate=50)"
   ]
  },
  {
   "cell_type": "code",
   "execution_count": 167,
   "metadata": {
    "execution": {
     "iopub.execute_input": "2020-10-24T16:46:38.259207Z",
     "iopub.status.busy": "2020-10-24T16:46:38.258134Z",
     "iopub.status.idle": "2020-10-24T16:46:38.283400Z",
     "shell.execute_reply": "2020-10-24T16:46:38.273943Z",
     "shell.execute_reply.started": "2020-10-24T16:46:38.258671Z"
    }
   },
   "outputs": [],
   "source": [
    "# remove punctuation\n",
    "yelp = yelp.withColumn('text', regexp_replace(yelp.text, '[^\\w\\s\\d]+', ''))"
   ]
  },
  {
   "cell_type": "code",
   "execution_count": 168,
   "metadata": {
    "execution": {
     "iopub.execute_input": "2020-10-24T16:46:38.285726Z",
     "iopub.status.busy": "2020-10-24T16:46:38.285000Z",
     "iopub.status.idle": "2020-10-24T16:46:39.684357Z",
     "shell.execute_reply": "2020-10-24T16:46:39.681743Z",
     "shell.execute_reply.started": "2020-10-24T16:46:38.285683Z"
    }
   },
   "outputs": [
    {
     "name": "stdout",
     "output_type": "stream",
     "text": [
      "+--------------------------------------------------+\n",
      "|                                              text|\n",
      "+--------------------------------------------------+\n",
      "|quality of food has went downhill and not to me...|\n",
      "|this location does not understand the concept o...|\n",
      "|visited a few times now and the food is very co...|\n",
      "|love it fresh and done right the food doesnt sw...|\n",
      "|ebc is the best dayclub in vegas hands down  ev...|\n",
      "|very disappointing i wasnt expecting much to be...|\n",
      "|3 times in a row without fortune cookies and th...|\n",
      "|i have been to other einstein bro before but th...|\n",
      "|ive been checking out a new coffee shop almost ...|\n",
      "|i have been to way too many chipotle restaurant...|\n",
      "+--------------------------------------------------+\n",
      "only showing top 10 rows\n",
      "\n"
     ]
    }
   ],
   "source": [
    "yelp.select('text').show(10, truncate=50)"
   ]
  },
  {
   "cell_type": "code",
   "execution_count": 169,
   "metadata": {
    "execution": {
     "iopub.execute_input": "2020-10-24T16:46:39.688762Z",
     "iopub.status.busy": "2020-10-24T16:46:39.686884Z",
     "iopub.status.idle": "2020-10-24T16:46:39.701462Z",
     "shell.execute_reply": "2020-10-24T16:46:39.700679Z",
     "shell.execute_reply.started": "2020-10-24T16:46:39.688706Z"
    }
   },
   "outputs": [],
   "source": [
    "# tokenize review text\n",
    "tokenizer = Tokenizer(inputCol='text', outputCol='word_tokens')"
   ]
  },
  {
   "cell_type": "code",
   "execution_count": 170,
   "metadata": {
    "execution": {
     "iopub.execute_input": "2020-10-24T16:46:39.713626Z",
     "iopub.status.busy": "2020-10-24T16:46:39.712293Z",
     "iopub.status.idle": "2020-10-24T16:46:39.820492Z",
     "shell.execute_reply": "2020-10-24T16:46:39.819725Z",
     "shell.execute_reply.started": "2020-10-24T16:46:39.713577Z"
    }
   },
   "outputs": [],
   "source": [
    "yelp_word_tokens = tokenizer.transform(yelp).select('review_id', 'stars', 'target', 'word_tokens')"
   ]
  },
  {
   "cell_type": "code",
   "execution_count": 171,
   "metadata": {
    "execution": {
     "iopub.execute_input": "2020-10-24T16:46:39.825974Z",
     "iopub.status.busy": "2020-10-24T16:46:39.825610Z",
     "iopub.status.idle": "2020-10-24T16:46:41.325302Z",
     "shell.execute_reply": "2020-10-24T16:46:41.323529Z",
     "shell.execute_reply.started": "2020-10-24T16:46:39.825935Z"
    }
   },
   "outputs": [
    {
     "name": "stdout",
     "output_type": "stream",
     "text": [
      "+--------------------+-----+------+--------------------+\n",
      "|           review_id|stars|target|         word_tokens|\n",
      "+--------------------+-----+------+--------------------+\n",
      "|gNePHbiB5iMqr85sB...|    2|     0|[taco, guild, has...|\n",
      "|pzuFOYimnHO9_7dHo...|    5|     1|[man, that, sumo,...|\n",
      "|uz8xllzD9lkmUj7_x...|    4|     1|[we, ordered, pot...|\n",
      "|lnyMoX0VNFlHrozyH...|    1|     0|[was, all, excite...|\n",
      "|yVXXc__c_z8h1lCCY...|    2|     0|[the, food, was, ...|\n",
      "+--------------------+-----+------+--------------------+\n",
      "only showing top 5 rows\n",
      "\n"
     ]
    }
   ],
   "source": [
    "yelp_word_tokens.show(5)"
   ]
  },
  {
   "cell_type": "code",
   "execution_count": 172,
   "metadata": {
    "execution": {
     "iopub.execute_input": "2020-10-24T16:46:41.327656Z",
     "iopub.status.busy": "2020-10-24T16:46:41.327299Z",
     "iopub.status.idle": "2020-10-24T16:46:41.460475Z",
     "shell.execute_reply": "2020-10-24T16:46:41.458300Z",
     "shell.execute_reply.started": "2020-10-24T16:46:41.327614Z"
    }
   },
   "outputs": [],
   "source": [
    "# remove stop words\n",
    "st_remover = StopWordsRemover(inputCol='word_tokens', outputCol='words_clean', stopWords=stopwords.words('english'))"
   ]
  },
  {
   "cell_type": "code",
   "execution_count": 173,
   "metadata": {
    "execution": {
     "iopub.execute_input": "2020-10-24T16:46:41.462991Z",
     "iopub.status.busy": "2020-10-24T16:46:41.462017Z",
     "iopub.status.idle": "2020-10-24T16:46:41.579229Z",
     "shell.execute_reply": "2020-10-24T16:46:41.578504Z",
     "shell.execute_reply.started": "2020-10-24T16:46:41.462940Z"
    }
   },
   "outputs": [],
   "source": [
    "yelp_words_clean = st_remover.transform(yelp_word_tokens).select('review_id', 'stars', 'target', 'words_clean')"
   ]
  },
  {
   "cell_type": "code",
   "execution_count": 174,
   "metadata": {
    "execution": {
     "iopub.execute_input": "2020-10-24T16:46:41.580632Z",
     "iopub.status.busy": "2020-10-24T16:46:41.580175Z",
     "iopub.status.idle": "2020-10-24T16:46:43.103206Z",
     "shell.execute_reply": "2020-10-24T16:46:43.101254Z",
     "shell.execute_reply.started": "2020-10-24T16:46:41.580594Z"
    }
   },
   "outputs": [
    {
     "name": "stdout",
     "output_type": "stream",
     "text": [
      "+--------------------+-----+------+--------------------+\n",
      "|           review_id|stars|target|         words_clean|\n",
      "+--------------------+-----+------+--------------------+\n",
      "|LD_wVG4iUzpFdkrT_...|    4|     1|[fair, ive, homem...|\n",
      "|0yExuN4BYNDoXgqjR...|    2|     0|[overall, underwh...|\n",
      "|GSvkQkoxySczfJDDL...|    2|     0|[, food, okay, ho...|\n",
      "|uiWKwBFoBqlNP-xJ_...|    5|     1|[loved, loved, lo...|\n",
      "|yRc3umgF-pHcSzpfy...|    5|     1|[brunch, twice, l...|\n",
      "+--------------------+-----+------+--------------------+\n",
      "only showing top 5 rows\n",
      "\n"
     ]
    }
   ],
   "source": [
    "yelp_words_clean.show(5)"
   ]
  },
  {
   "cell_type": "code",
   "execution_count": 175,
   "metadata": {
    "execution": {
     "iopub.execute_input": "2020-10-24T16:46:43.109237Z",
     "iopub.status.busy": "2020-10-24T16:46:43.108801Z",
     "iopub.status.idle": "2020-10-24T16:46:43.121861Z",
     "shell.execute_reply": "2020-10-24T16:46:43.120673Z",
     "shell.execute_reply.started": "2020-10-24T16:46:43.109196Z"
    }
   },
   "outputs": [],
   "source": [
    "# stem words\n",
    "stemmer = PorterStemmer()\n",
    "stemmer_udf = udf(lambda tokens: [stemmer.stem(w) for w in tokens], ArrayType(StringType()))"
   ]
  },
  {
   "cell_type": "code",
   "execution_count": 176,
   "metadata": {
    "execution": {
     "iopub.execute_input": "2020-10-24T16:46:43.124833Z",
     "iopub.status.busy": "2020-10-24T16:46:43.124502Z",
     "iopub.status.idle": "2020-10-24T16:46:43.161931Z",
     "shell.execute_reply": "2020-10-24T16:46:43.160737Z",
     "shell.execute_reply.started": "2020-10-24T16:46:43.124796Z"
    }
   },
   "outputs": [],
   "source": [
    "yelp_stemmed = yelp_words_clean.withColumn('words_clean', stemmer_udf(yelp_words_clean.words_clean))"
   ]
  },
  {
   "cell_type": "code",
   "execution_count": 177,
   "metadata": {
    "execution": {
     "iopub.execute_input": "2020-10-24T16:46:43.164296Z",
     "iopub.status.busy": "2020-10-24T16:46:43.163529Z",
     "iopub.status.idle": "2020-10-24T16:46:48.393124Z",
     "shell.execute_reply": "2020-10-24T16:46:48.391648Z",
     "shell.execute_reply.started": "2020-10-24T16:46:43.164251Z"
    }
   },
   "outputs": [
    {
     "name": "stdout",
     "output_type": "stream",
     "text": [
      "+--------------------------------------------------+\n",
      "|                                       words_clean|\n",
      "+--------------------------------------------------+\n",
      "|[cupcak, good, hit, miss, twice, ive, first, ti...|\n",
      "|[realli, realli, realli, like, restaur, cant, b...|\n",
      "|[came, dinner, week, ago, price, 35, wasnt, bad...|\n",
      "|[im, one, ever, write, neg, review, unless, sit...|\n",
      "|[16, fail, health, inspect, 7, sever, ill, peop...|\n",
      "|[manag, short, blond, hair, need, fire, wait, o...|\n",
      "|[come, 8, year, last, night, first, visit, , th...|\n",
      "|[sometim, skip, line, starbuck, pop, panera, co...|\n",
      "|[could, would, give, 0, star, got, coupon, door...|\n",
      "|[plaza, casino, remind, senior, citizen, home, ...|\n",
      "+--------------------------------------------------+\n",
      "only showing top 10 rows\n",
      "\n"
     ]
    }
   ],
   "source": [
    "yelp_stemmed.select('words_clean').show(10, truncate=50)"
   ]
  },
  {
   "cell_type": "code",
   "execution_count": 178,
   "metadata": {
    "execution": {
     "iopub.execute_input": "2020-10-24T16:46:48.395231Z",
     "iopub.status.busy": "2020-10-24T16:46:48.394624Z",
     "iopub.status.idle": "2020-10-24T16:46:48.405927Z",
     "shell.execute_reply": "2020-10-24T16:46:48.400741Z",
     "shell.execute_reply.started": "2020-10-24T16:46:48.395162Z"
    }
   },
   "outputs": [],
   "source": [
    "# fitler short words\n",
    "remove_empty_udf = udf(lambda tokens: [w for w in tokens if len(w) > 2], ArrayType(StringType()))"
   ]
  },
  {
   "cell_type": "code",
   "execution_count": 179,
   "metadata": {
    "execution": {
     "iopub.execute_input": "2020-10-24T16:46:48.411723Z",
     "iopub.status.busy": "2020-10-24T16:46:48.411362Z",
     "iopub.status.idle": "2020-10-24T16:46:48.453833Z",
     "shell.execute_reply": "2020-10-24T16:46:48.452967Z",
     "shell.execute_reply.started": "2020-10-24T16:46:48.411688Z"
    }
   },
   "outputs": [],
   "source": [
    "yelp_stemmed = yelp_stemmed.withColumn('words_clean', remove_empty_udf(yelp_stemmed.words_clean))"
   ]
  },
  {
   "cell_type": "code",
   "execution_count": 180,
   "metadata": {
    "execution": {
     "iopub.execute_input": "2020-10-24T16:46:48.478284Z",
     "iopub.status.busy": "2020-10-24T16:46:48.477769Z",
     "iopub.status.idle": "2020-10-24T16:46:50.615819Z",
     "shell.execute_reply": "2020-10-24T16:46:50.614056Z",
     "shell.execute_reply.started": "2020-10-24T16:46:48.478246Z"
    }
   },
   "outputs": [
    {
     "name": "stdout",
     "output_type": "stream",
     "text": [
      "+----------------------------------------------------------------------------------------------------+\n",
      "|                                                                                         words_clean|\n",
      "+----------------------------------------------------------------------------------------------------+\n",
      "|[first, nativ, montreal, live, year, plateau, outremont, default, make, expert, come, smoke, meat...|\n",
      "|[last, time, went, island, pasadena, think, andbut, rememb, bad, date, give, second, chanc, islan...|\n",
      "|                                   [place, amaz, food, tri, sever, thing, favorit, steak, taco, yum]|\n",
      "|[hereunless, enjoy, eat, roach, infest, restaur, lunch, wait, seat, wit, huge, cockroach, stroll,...|\n",
      "|[came, angri, crab, shack, dinner, famili, highli, disappoint, waitress, shelbi, seem, like, tri,...|\n",
      "|            [nice, neighborhood, place, kid, love, goat, chees, stuf, date, wrap, prosciutto, yummi]|\n",
      "|[peg, glorifi, ham, egg, henderson, vega, lot, great, breakfast, spot, choos, alway, tri, someon,...|\n",
      "|[dont, think, overst, wonder, food, incred, amaz, servic, guy, run, bar, person, charact, hummu, ...|\n",
      "|[realli, interest, flavour, purpl, yam, kimchi, squid, ink, thought, egg, waffl, realli, good, ta...|\n",
      "|[meh, green, giant, omelet, smaller, portion, wateri, realli, flavor, potato, also, meh, mostli, ...|\n",
      "+----------------------------------------------------------------------------------------------------+\n",
      "only showing top 10 rows\n",
      "\n"
     ]
    }
   ],
   "source": [
    "yelp_stemmed.select('words_clean').show(10, truncate=100)"
   ]
  },
  {
   "cell_type": "code",
   "execution_count": 181,
   "metadata": {
    "execution": {
     "iopub.execute_input": "2020-10-24T16:46:50.618211Z",
     "iopub.status.busy": "2020-10-24T16:46:50.617494Z",
     "iopub.status.idle": "2020-10-24T16:46:50.631537Z",
     "shell.execute_reply": "2020-10-24T16:46:50.629401Z",
     "shell.execute_reply.started": "2020-10-24T16:46:50.618159Z"
    }
   },
   "outputs": [],
   "source": [
    "from pyspark.ml.feature import NGram"
   ]
  },
  {
   "cell_type": "code",
   "execution_count": 182,
   "metadata": {
    "execution": {
     "iopub.execute_input": "2020-10-24T16:46:50.646196Z",
     "iopub.status.busy": "2020-10-24T16:46:50.645813Z",
     "iopub.status.idle": "2020-10-24T16:46:50.697099Z",
     "shell.execute_reply": "2020-10-24T16:46:50.696106Z",
     "shell.execute_reply.started": "2020-10-24T16:46:50.646160Z"
    }
   },
   "outputs": [],
   "source": [
    "# create ngrams = 2 col\n",
    "ngrams = NGram(n=2, inputCol='words_clean', outputCol='ngrams_2')\n",
    "yelp_ngrams = ngrams.transform(yelp_stemmed)"
   ]
  },
  {
   "cell_type": "code",
   "execution_count": 183,
   "metadata": {
    "execution": {
     "iopub.execute_input": "2020-10-24T16:46:50.704815Z",
     "iopub.status.busy": "2020-10-24T16:46:50.704351Z",
     "iopub.status.idle": "2020-10-24T16:46:53.507059Z",
     "shell.execute_reply": "2020-10-24T16:46:53.506026Z",
     "shell.execute_reply.started": "2020-10-24T16:46:50.704774Z"
    }
   },
   "outputs": [
    {
     "name": "stdout",
     "output_type": "stream",
     "text": [
      "+----------------------+-----+------+--------------------------------------------------+--------------------------------------------------+\n",
      "|             review_id|stars|target|                                       words_clean|                                          ngrams_2|\n",
      "+----------------------+-----+------+--------------------------------------------------+--------------------------------------------------+\n",
      "|EhwNarjig7WFKxMonzRD_w|    4|     1|[happen, see, restaur, pass, decid, pleasantli,...|[happen see, see restaur, restaur pass, pass de...|\n",
      "|62mcOkcaRmNHAOWGAPTBqg|    5|     1|[amaz, food, fantast, pianist, excel, servic, b...|[amaz food, food fantast, fantast pianist, pian...|\n",
      "|2vI4oC6gQQEMt8yMZHWyWA|    1|     0|[one, worst, dine, experi, food, came, cold, ha...|[one worst, worst dine, dine experi, experi foo...|\n",
      "|8ozR5Ydw5wazU2D5xUtY-g|    2|     0|[went, lunch, friend, today, white, sangria, ho...|[went lunch, lunch friend, friend today, today ...|\n",
      "|2xsWWuJJvBq9SwFABVx3kw|    4|     1|[recommend, your, look, spend, lot, money, ambi...|[recommend your, your look, look spend, spend l...|\n",
      "+----------------------+-----+------+--------------------------------------------------+--------------------------------------------------+\n",
      "only showing top 5 rows\n",
      "\n"
     ]
    }
   ],
   "source": [
    "yelp_ngrams.show(5, truncate=50)"
   ]
  },
  {
   "cell_type": "code",
   "execution_count": 184,
   "metadata": {
    "execution": {
     "iopub.execute_input": "2020-10-24T16:46:53.509677Z",
     "iopub.status.busy": "2020-10-24T16:46:53.508890Z",
     "iopub.status.idle": "2020-10-24T16:46:53.516918Z",
     "shell.execute_reply": "2020-10-24T16:46:53.515194Z",
     "shell.execute_reply.started": "2020-10-24T16:46:53.509630Z"
    }
   },
   "outputs": [],
   "source": [
    "# merge feature columns\n",
    "merge_words_udf = udf(lambda col1, col2: col1 + col2, ArrayType(StringType()))"
   ]
  },
  {
   "cell_type": "code",
   "execution_count": 185,
   "metadata": {
    "execution": {
     "iopub.execute_input": "2020-10-24T16:46:53.518868Z",
     "iopub.status.busy": "2020-10-24T16:46:53.518517Z",
     "iopub.status.idle": "2020-10-24T16:46:53.578391Z",
     "shell.execute_reply": "2020-10-24T16:46:53.576532Z",
     "shell.execute_reply.started": "2020-10-24T16:46:53.518833Z"
    }
   },
   "outputs": [],
   "source": [
    "yelp_merged = yelp_ngrams.withColumn('features', merge_words_udf(yelp_ngrams.words_clean, yelp_ngrams.ngrams_2)).select('target', 'features')"
   ]
  },
  {
   "cell_type": "code",
   "execution_count": 186,
   "metadata": {
    "execution": {
     "iopub.execute_input": "2020-10-24T16:46:53.581950Z",
     "iopub.status.busy": "2020-10-24T16:46:53.580706Z",
     "iopub.status.idle": "2020-10-24T16:46:53.611126Z",
     "shell.execute_reply": "2020-10-24T16:46:53.609874Z",
     "shell.execute_reply.started": "2020-10-24T16:46:53.581890Z"
    }
   },
   "outputs": [],
   "source": [
    "# Create CountVectorizer\n",
    "cv = CountVectorizer(minDF=5, vocabSize=100000, inputCol='features', outputCol='vectors')"
   ]
  },
  {
   "cell_type": "code",
   "execution_count": 187,
   "metadata": {
    "execution": {
     "iopub.execute_input": "2020-10-24T16:46:53.619862Z",
     "iopub.status.busy": "2020-10-24T16:46:53.618188Z",
     "iopub.status.idle": "2020-10-24T16:47:45.679043Z",
     "shell.execute_reply": "2020-10-24T16:47:45.678231Z",
     "shell.execute_reply.started": "2020-10-24T16:46:53.619782Z"
    }
   },
   "outputs": [],
   "source": [
    "cv_model = cv.fit(yelp_merged)\n",
    "yelp_cv = cv_model.transform(yelp_merged)"
   ]
  },
  {
   "cell_type": "code",
   "execution_count": 188,
   "metadata": {
    "execution": {
     "iopub.execute_input": "2020-10-24T16:47:45.681655Z",
     "iopub.status.busy": "2020-10-24T16:47:45.681192Z",
     "iopub.status.idle": "2020-10-24T16:47:47.425065Z",
     "shell.execute_reply": "2020-10-24T16:47:47.424152Z",
     "shell.execute_reply.started": "2020-10-24T16:47:45.681592Z"
    }
   },
   "outputs": [
    {
     "name": "stdout",
     "output_type": "stream",
     "text": [
      "+------+----------------------------------------------------------------------------------------------------+----------------------------------------------------------------------------------------------------+\n",
      "|target|                                                                                            features|                                                                                             vectors|\n",
      "+------+----------------------------------------------------------------------------------------------------+----------------------------------------------------------------------------------------------------+\n",
      "|     1|[place, much, fun, staff, extrem, great, help, great, person, qualiti, meat, unriv, kobe, salmon,...|(39077,[2,5,8,22,24,29,48,51,52,56,101,131,139,163,175,194,197,204,211,214,319,331,336,340,341,35...|\n",
      "|     0|[charg, peopl, remain, food, without, let, know, first, com, charg peopl, peopl remain, remain fo...|(39077,[0,39,47,59,205,246,257,1163,2161,12220,15313,18500],[1.0,1.0,1.0,1.0,1.0,1.0,1.0,1.0,1.0,...|\n",
      "|     0|[sever, bone, pick, place, cashier, realli, talk, fact, get, free, beer, wine, dinner, yeah, two,...|(39077,[0,2,3,4,5,7,9,12,14,18,20,22,24,28,29,30,33,42,43,46,47,54,60,68,69,89,93,105,127,141,148...|\n",
      "|     1|[nice, gem, heart, noda, amaz, beer, select, actual, beer, lover, destin, kind, food, want, beer,...|(39077,[0,2,3,7,13,23,26,38,73,94,99,107,141,182,216,236,238,250,313,570,685,848,990,1027,1067,11...|\n",
      "|     0|[one, worst, experi, ever, restaur, would, give, zero, star, could, went, pay, bill, told, credit...|(39077,[2,3,4,9,10,11,12,13,14,15,23,28,35,42,46,49,54,58,63,91,92,104,106,116,119,127,135,160,16...|\n",
      "+------+----------------------------------------------------------------------------------------------------+----------------------------------------------------------------------------------------------------+\n",
      "only showing top 5 rows\n",
      "\n"
     ]
    }
   ],
   "source": [
    "yelp_cv.show(5, truncate=100)"
   ]
  },
  {
   "cell_type": "code",
   "execution_count": 189,
   "metadata": {
    "execution": {
     "iopub.execute_input": "2020-10-24T16:47:47.430141Z",
     "iopub.status.busy": "2020-10-24T16:47:47.428479Z",
     "iopub.status.idle": "2020-10-24T16:47:47.688906Z",
     "shell.execute_reply": "2020-10-24T16:47:47.687741Z",
     "shell.execute_reply.started": "2020-10-24T16:47:47.430084Z"
    }
   },
   "outputs": [
    {
     "data": {
      "text/plain": [
       "39077"
      ]
     },
     "execution_count": 189,
     "metadata": {},
     "output_type": "execute_result"
    }
   ],
   "source": [
    "# total number of words in the vocabulary\n",
    "len(cv_model.vocabulary)"
   ]
  },
  {
   "cell_type": "code",
   "execution_count": 190,
   "metadata": {
    "execution": {
     "iopub.execute_input": "2020-10-24T16:47:47.694400Z",
     "iopub.status.busy": "2020-10-24T16:47:47.694196Z",
     "iopub.status.idle": "2020-10-24T16:47:47.946332Z",
     "shell.execute_reply": "2020-10-24T16:47:47.945455Z",
     "shell.execute_reply.started": "2020-10-24T16:47:47.694376Z"
    }
   },
   "outputs": [
    {
     "data": {
      "text/plain": [
       "['050',\n",
       " '100',\n",
       " '100 back',\n",
       " '100 bill',\n",
       " '100 challeng',\n",
       " '100 degre',\n",
       " '100 time',\n",
       " '100 worth',\n",
       " '1000',\n",
       " '1000 island']"
      ]
     },
     "execution_count": 190,
     "metadata": {},
     "output_type": "execute_result"
    }
   ],
   "source": [
    "# list of words in the vocabulary\n",
    "sorted(cv_model.vocabulary)[:10]"
   ]
  },
  {
   "cell_type": "code",
   "execution_count": 191,
   "metadata": {
    "execution": {
     "iopub.execute_input": "2020-10-24T16:47:47.951782Z",
     "iopub.status.busy": "2020-10-24T16:47:47.947928Z",
     "iopub.status.idle": "2020-10-24T16:47:47.978209Z",
     "shell.execute_reply": "2020-10-24T16:47:47.974705Z",
     "shell.execute_reply.started": "2020-10-24T16:47:47.951732Z"
    }
   },
   "outputs": [],
   "source": [
    "# fit IDF\n",
    "idf = IDF(inputCol='vectors', outputCol='vectors_idf')"
   ]
  },
  {
   "cell_type": "code",
   "execution_count": 192,
   "metadata": {
    "execution": {
     "iopub.execute_input": "2020-10-24T16:47:47.992253Z",
     "iopub.status.busy": "2020-10-24T16:47:47.982639Z",
     "iopub.status.idle": "2020-10-24T16:48:34.632392Z",
     "shell.execute_reply": "2020-10-24T16:48:34.631822Z",
     "shell.execute_reply.started": "2020-10-24T16:47:47.992166Z"
    }
   },
   "outputs": [],
   "source": [
    "yelp_idf = idf.fit(yelp_cv).transform(yelp_cv.select('target', 'vectors')).select('target', 'vectors_idf')"
   ]
  },
  {
   "cell_type": "code",
   "execution_count": 193,
   "metadata": {
    "execution": {
     "iopub.execute_input": "2020-10-24T16:48:34.633858Z",
     "iopub.status.busy": "2020-10-24T16:48:34.633520Z",
     "iopub.status.idle": "2020-10-24T16:48:35.833541Z",
     "shell.execute_reply": "2020-10-24T16:48:35.830359Z",
     "shell.execute_reply.started": "2020-10-24T16:48:34.633822Z"
    }
   },
   "outputs": [
    {
     "name": "stdout",
     "output_type": "stream",
     "text": [
      "+------+----------------------------------------------------------------------------------------------------+\n",
      "|target|                                                                                         vectors_idf|\n",
      "+------+----------------------------------------------------------------------------------------------------+\n",
      "|     0|(39077,[1,5,10,14,21,22,26,27,28,29,30,33,47,52,57,59,63,69,74,75,78,80,81,97,113,115,126,177,196...|\n",
      "|     0|(39077,[1,2,3,4,5,7,8,9,13,15,22,24,26,29,30,35,37,39,44,46,49,55,58,62,66,69,73,74,75,78,82,84,8...|\n",
      "|     1|(39077,[4,10,15,38,39,68,98,108,133,156,169,191,247,249,397,499,589,667,730,757,997,1308,1404,168...|\n",
      "|     1|(39077,[0,3,7,9,13,16,20,26,31,41,45,50,57,70,80,88,134,153,204,209,234,280,283,339,341,381,392,3...|\n",
      "|     1|(39077,[0,3,6,12,37,41,51,60,80,86,99,131,209,220,224,230,459,467,472,514,763,875,1334,2070,2117,...|\n",
      "+------+----------------------------------------------------------------------------------------------------+\n",
      "only showing top 5 rows\n",
      "\n"
     ]
    }
   ],
   "source": [
    "yelp_idf.show(5, truncate=100)"
   ]
  },
  {
   "cell_type": "markdown",
   "metadata": {
    "execution": {
     "iopub.execute_input": "2020-10-11T09:55:01.128388Z",
     "iopub.status.busy": "2020-10-11T09:55:01.127173Z",
     "iopub.status.idle": "2020-10-11T09:55:01.138545Z",
     "shell.execute_reply": "2020-10-11T09:55:01.137763Z",
     "shell.execute_reply.started": "2020-10-11T09:55:01.128312Z"
    }
   },
   "source": [
    "## 3b. Pre-process data for modelling - Pipeline"
   ]
  },
  {
   "cell_type": "markdown",
   "metadata": {},
   "source": [
    "I could not easily create a pipeline for the above steps (3a.) as all the pre-processing stages require fit/transnform steps. I have two options for creating a pipeline:\n",
    "\n",
    "- write a class for doing pre-processing for those steps which lack a tranform method\n",
    "- re-write my code to allow for using methods which support .transform()\n",
    "\n",
    "I will leave this for now and move to model creation."
   ]
  },
  {
   "cell_type": "markdown",
   "metadata": {},
   "source": [
    "## 4. Model Creation"
   ]
  },
  {
   "cell_type": "code",
   "execution_count": 194,
   "metadata": {
    "execution": {
     "iopub.execute_input": "2020-10-24T16:48:35.842744Z",
     "iopub.status.busy": "2020-10-24T16:48:35.842417Z",
     "iopub.status.idle": "2020-10-24T16:48:35.937339Z",
     "shell.execute_reply": "2020-10-24T16:48:35.907726Z",
     "shell.execute_reply.started": "2020-10-24T16:48:35.842706Z"
    }
   },
   "outputs": [],
   "source": [
    "import numpy as np\n",
    "import pandas as pd\n",
    "from pyspark.ml.classification import LogisticRegression, NaiveBayes, LinearSVC\n",
    "from pyspark.ml.evaluation import BinaryClassificationEvaluator\n",
    "from pyspark.ml.tuning import CrossValidator, ParamGridBuilder\n",
    "from sklearn.metrics import recall_score, accuracy_score, classification_report, confusion_matrix\n",
    "from time import time\n",
    "import statistics"
   ]
  },
  {
   "cell_type": "code",
   "execution_count": 195,
   "metadata": {
    "execution": {
     "iopub.execute_input": "2020-10-24T16:48:35.946167Z",
     "iopub.status.busy": "2020-10-24T16:48:35.945378Z",
     "iopub.status.idle": "2020-10-24T16:48:35.965111Z",
     "shell.execute_reply": "2020-10-24T16:48:35.964309Z",
     "shell.execute_reply.started": "2020-10-24T16:48:35.946100Z"
    }
   },
   "outputs": [],
   "source": [
    "# split data into training and test sets\n",
    "data_train, data_test = yelp_idf.randomSplit([0.8, 0.2], seed=1)"
   ]
  },
  {
   "cell_type": "code",
   "execution_count": 196,
   "metadata": {
    "execution": {
     "iopub.execute_input": "2020-10-24T16:48:35.967334Z",
     "iopub.status.busy": "2020-10-24T16:48:35.966385Z",
     "iopub.status.idle": "2020-10-24T16:49:34.316740Z",
     "shell.execute_reply": "2020-10-24T16:49:34.315557Z",
     "shell.execute_reply.started": "2020-10-24T16:48:35.967288Z"
    }
   },
   "outputs": [
    {
     "name": "stdout",
     "output_type": "stream",
     "text": [
      "+------+-----+\n",
      "|target|count|\n",
      "+------+-----+\n",
      "|     1| 8012|\n",
      "|     0| 8004|\n",
      "+------+-----+\n",
      "\n"
     ]
    }
   ],
   "source": [
    "# check sampling weights for target in training set\n",
    "data_train.groupBy('target').count().show()"
   ]
  },
  {
   "cell_type": "code",
   "execution_count": 197,
   "metadata": {
    "execution": {
     "iopub.execute_input": "2020-10-24T16:49:34.319037Z",
     "iopub.status.busy": "2020-10-24T16:49:34.318501Z",
     "iopub.status.idle": "2020-10-24T16:50:28.108973Z",
     "shell.execute_reply": "2020-10-24T16:50:28.108057Z",
     "shell.execute_reply.started": "2020-10-24T16:49:34.318993Z"
    }
   },
   "outputs": [
    {
     "name": "stdout",
     "output_type": "stream",
     "text": [
      "+------+-----+\n",
      "|target|count|\n",
      "+------+-----+\n",
      "|     1| 1988|\n",
      "|     0| 1996|\n",
      "+------+-----+\n",
      "\n"
     ]
    }
   ],
   "source": [
    "# check sampling weights for target in testing set\n",
    "data_test.groupBy('target').count().show()"
   ]
  },
  {
   "cell_type": "code",
   "execution_count": 198,
   "metadata": {
    "execution": {
     "iopub.execute_input": "2020-10-24T16:50:28.111829Z",
     "iopub.status.busy": "2020-10-24T16:50:28.111390Z",
     "iopub.status.idle": "2020-10-24T16:50:28.138501Z",
     "shell.execute_reply": "2020-10-24T16:50:28.137743Z",
     "shell.execute_reply.started": "2020-10-24T16:50:28.111787Z"
    }
   },
   "outputs": [],
   "source": [
    "# setup models and parameters for gridsearching\n",
    "nb = NaiveBayes(featuresCol='vectors_idf',labelCol='target')\n",
    "lr = LogisticRegression(featuresCol='vectors_idf',labelCol='target')\n",
    "svc = LinearSVC(featuresCol='vectors_idf',labelCol='target')\n",
    "\n",
    "\n",
    "models = {\n",
    "    'Naive Bayes': (nb, \n",
    "                     ParamGridBuilder() \\\n",
    "                     .addGrid(nb.modelType, ['multinomial']) \\\n",
    "                     .build()),\n",
    "    'Linear SVC': (svc, \n",
    "                      ParamGridBuilder() \\\n",
    "                      .addGrid(svc.regParam, np.linspace(8, 12, 5)) \\\n",
    "                      .build()),  \n",
    "    'Logistic Regression': (lr, \n",
    "                            ParamGridBuilder() \\\n",
    "                            .addGrid(lr.regParam, np.linspace(6, 11, 5)) \\\n",
    "                            .build())    \n",
    "}\n",
    "\n",
    "evaluator = BinaryClassificationEvaluator(rawPredictionCol='prediction', labelCol='target', metricName='areaUnderROC')"
   ]
  },
  {
   "cell_type": "code",
   "execution_count": 108,
   "metadata": {
    "execution": {
     "iopub.execute_input": "2020-10-24T15:04:31.441405Z",
     "iopub.status.busy": "2020-10-24T15:04:31.441130Z",
     "iopub.status.idle": "2020-10-24T15:51:09.460906Z",
     "shell.execute_reply": "2020-10-24T15:51:09.460171Z",
     "shell.execute_reply.started": "2020-10-24T15:04:31.441375Z"
    }
   },
   "outputs": [
    {
     "name": "stdout",
     "output_type": "stream",
     "text": [
      "Model:  Naive Bayes\n",
      "Train time: 588.856s\n",
      "Best model parameters: {'modelType': 'multinomial'}\n",
      "Avg. CV Area Under ROC:  0.897\n",
      "Test Area Under ROC:  0.904\n",
      "Test accuracy :  0.899\n",
      "\n",
      "confusion matrix: \n",
      "[[1750  246]\n",
      " [ 157 1831]]\n",
      "\n",
      "\n",
      "              precision    recall  f1-score   support\n",
      "\n",
      "           0       0.92      0.88      0.90      1996\n",
      "           1       0.88      0.92      0.90      1988\n",
      "\n",
      "    accuracy                           0.90      3984\n",
      "   macro avg       0.90      0.90      0.90      3984\n",
      "weighted avg       0.90      0.90      0.90      3984\n",
      "\n",
      "------------------------------------------------------------\n",
      "Model:  Linear SVC\n",
      "Train time: 1102.137s\n",
      "Best model parameters: {'regParam': 8.0}\n",
      "Avg. CV Area Under ROC:  0.9\n",
      "Test Area Under ROC:  0.921\n",
      "Test accuracy :  0.913\n",
      "\n",
      "confusion matrix: \n",
      "[[1748  248]\n",
      " [  97 1891]]\n",
      "\n",
      "\n",
      "              precision    recall  f1-score   support\n",
      "\n",
      "           0       0.95      0.88      0.91      1996\n",
      "           1       0.88      0.95      0.92      1988\n",
      "\n",
      "    accuracy                           0.91      3984\n",
      "   macro avg       0.92      0.91      0.91      3984\n",
      "weighted avg       0.92      0.91      0.91      3984\n",
      "\n",
      "------------------------------------------------------------\n",
      "Model:  Logistic Regression\n",
      "Train time: 631.346s\n",
      "Best model parameters: {'regParam': 6.0}\n",
      "Avg. CV Area Under ROC:  0.887\n",
      "Test Area Under ROC:  0.876\n",
      "Test accuracy :  0.872\n",
      "\n",
      "confusion matrix: \n",
      "[[1587  409]\n",
      " [  99 1889]]\n",
      "\n",
      "\n",
      "              precision    recall  f1-score   support\n",
      "\n",
      "           0       0.94      0.80      0.86      1996\n",
      "           1       0.82      0.95      0.88      1988\n",
      "\n",
      "    accuracy                           0.87      3984\n",
      "   macro avg       0.88      0.87      0.87      3984\n",
      "weighted avg       0.88      0.87      0.87      3984\n",
      "\n",
      "------------------------------------------------------------\n"
     ]
    }
   ],
   "source": [
    "# Gridsearch models to find best parameters - print out results for test set based on best parameters\n",
    "for key, value in models.items():\n",
    "    print('Model: ', key)\n",
    "    crossval = CrossValidator(estimator=value[0], estimatorParamMaps=value[1], evaluator=evaluator, numFolds=5)\n",
    "    \n",
    "    t0 = time()\n",
    "    model_fit = crossval.fit(data_train)\n",
    "    train_time = time() - t0\n",
    "    print((\"Train time: %0.3fs\" % train_time))\n",
    "    \n",
    "    # find the best model parameters\n",
    "    java_model = model_fit.bestModel._java_obj\n",
    "    print('Best model parameters:', {param.name: java_model.getOrDefault(java_model.getParam(param.name)) for param in value[1][0]})\n",
    "    \n",
    "    # get average CV score for chosen metric\n",
    "    print('Avg. CV Area Under ROC: ', np.round(statistics.mean(model_fit.avgMetrics),3))\n",
    "    \n",
    "    # get predictions for test set\n",
    "    pred_test = model_fit.transform(data_test)\n",
    "    test_target = [int(row['target']) for row in pred_test.collect()]\n",
    "    test_pred = [int(row['prediction']) for row in pred_test.collect()]\n",
    "\n",
    "    print('Test Area Under ROC: ', np.round(evaluator.evaluate(pred_test),3))\n",
    "    print(\"Test accuracy : \", np.round(accuracy_score(test_target, test_pred),3))\n",
    "\n",
    "    print('\\nconfusion matrix: ')\n",
    "    print(confusion_matrix(test_target, test_pred))\n",
    "    print('\\n')\n",
    "    print(classification_report(test_target, test_pred))\n",
    "    print('-' * 60)"
   ]
  },
  {
   "cell_type": "code",
   "execution_count": 199,
   "metadata": {
    "execution": {
     "iopub.execute_input": "2020-10-24T16:50:36.232896Z",
     "iopub.status.busy": "2020-10-24T16:50:36.232643Z",
     "iopub.status.idle": "2020-10-24T16:51:38.428489Z",
     "shell.execute_reply": "2020-10-24T16:51:38.426725Z",
     "shell.execute_reply.started": "2020-10-24T16:50:36.232868Z"
    }
   },
   "outputs": [],
   "source": [
    "# assign optimal LR parameters\n",
    "lr.setRegParam = 6.0\n",
    "\n",
    "model = lr.fit(data_test)"
   ]
  },
  {
   "cell_type": "code",
   "execution_count": 200,
   "metadata": {
    "execution": {
     "iopub.execute_input": "2020-10-24T16:51:38.451677Z",
     "iopub.status.busy": "2020-10-24T16:51:38.451297Z",
     "iopub.status.idle": "2020-10-24T16:51:38.459166Z",
     "shell.execute_reply": "2020-10-24T16:51:38.458321Z",
     "shell.execute_reply.started": "2020-10-24T16:51:38.451628Z"
    }
   },
   "outputs": [],
   "source": [
    "model_summary = model.summary"
   ]
  },
  {
   "cell_type": "code",
   "execution_count": 201,
   "metadata": {
    "execution": {
     "iopub.execute_input": "2020-10-24T16:51:38.462458Z",
     "iopub.status.busy": "2020-10-24T16:51:38.461526Z",
     "iopub.status.idle": "2020-10-24T16:52:29.699623Z",
     "shell.execute_reply": "2020-10-24T16:52:29.698531Z",
     "shell.execute_reply.started": "2020-10-24T16:51:38.462157Z"
    }
   },
   "outputs": [
    {
     "data": {
      "text/plain": [
       "0.9307783071172524"
      ]
     },
     "execution_count": 201,
     "metadata": {},
     "output_type": "execute_result"
    }
   ],
   "source": [
    "model_summary.areaUnderROC"
   ]
  },
  {
   "cell_type": "code",
   "execution_count": 202,
   "metadata": {
    "execution": {
     "iopub.execute_input": "2020-10-24T16:52:29.704488Z",
     "iopub.status.busy": "2020-10-24T16:52:29.703999Z",
     "iopub.status.idle": "2020-10-24T16:53:30.196813Z",
     "shell.execute_reply": "2020-10-24T16:53:30.196104Z",
     "shell.execute_reply.started": "2020-10-24T16:52:29.704444Z"
    }
   },
   "outputs": [
    {
     "name": "stdout",
     "output_type": "stream",
     "text": [
      "+------+-----------------------------------------+----------+\n",
      "|target|probability                              |prediction|\n",
      "+------+-----------------------------------------+----------+\n",
      "|0.0   |[1.0,6.715354157768528E-33]              |0.0       |\n",
      "|0.0   |[1.0,5.576751010898905E-23]              |0.0       |\n",
      "|0.0   |[0.9999643391719879,3.566082801203105E-5]|0.0       |\n",
      "|0.0   |[1.0,5.33079225229859E-31]               |0.0       |\n",
      "|0.0   |[1.0,1.0207591076532884E-17]             |0.0       |\n",
      "|0.0   |[0.9999999999999916,8.46127963316544E-15]|0.0       |\n",
      "|0.0   |[1.0,1.295275115199729E-45]              |0.0       |\n",
      "|0.0   |[1.0,1.2535116971189236E-22]             |0.0       |\n",
      "|0.0   |[1.0,1.4184568886533643E-59]             |0.0       |\n",
      "|0.0   |[1.0,7.810056803462182E-34]              |0.0       |\n",
      "+------+-----------------------------------------+----------+\n",
      "only showing top 10 rows\n",
      "\n"
     ]
    }
   ],
   "source": [
    "model_summary.predictions.select('target', 'probability', 'prediction').show(10, truncate=False)"
   ]
  },
  {
   "cell_type": "code",
   "execution_count": 203,
   "metadata": {
    "execution": {
     "iopub.execute_input": "2020-10-24T16:53:30.198914Z",
     "iopub.status.busy": "2020-10-24T16:53:30.198535Z",
     "iopub.status.idle": "2020-10-24T16:53:30.207373Z",
     "shell.execute_reply": "2020-10-24T16:53:30.206666Z",
     "shell.execute_reply.started": "2020-10-24T16:53:30.198877Z"
    }
   },
   "outputs": [],
   "source": [
    "import matplotlib.pyplot as plt"
   ]
  },
  {
   "cell_type": "code",
   "execution_count": 204,
   "metadata": {
    "execution": {
     "iopub.execute_input": "2020-10-24T16:53:30.210349Z",
     "iopub.status.busy": "2020-10-24T16:53:30.209272Z",
     "iopub.status.idle": "2020-10-24T16:53:30.533411Z",
     "shell.execute_reply": "2020-10-24T16:53:30.531618Z",
     "shell.execute_reply.started": "2020-10-24T16:53:30.210301Z"
    }
   },
   "outputs": [
    {
     "ename": "AttributeError",
     "evalue": "'NoneType' object has no attribute 'setCallSite'",
     "output_type": "error",
     "traceback": [
      "\u001b[0;31m---------------------------------------------------------------------------\u001b[0m",
      "\u001b[0;31mAttributeError\u001b[0m                            Traceback (most recent call last)",
      "\u001b[0;32m<ipython-input-204-d90f0bb22f1d>\u001b[0m in \u001b[0;36m<module>\u001b[0;34m\u001b[0m\n\u001b[1;32m      1\u001b[0m \u001b[0;31m# create AUC & PR curves for chosen model\u001b[0m\u001b[0;34m\u001b[0m\u001b[0;34m\u001b[0m\u001b[0;34m\u001b[0m\u001b[0m\n\u001b[1;32m      2\u001b[0m \u001b[0mfig\u001b[0m\u001b[0;34m,\u001b[0m \u001b[0max\u001b[0m \u001b[0;34m=\u001b[0m \u001b[0mplt\u001b[0m\u001b[0;34m.\u001b[0m\u001b[0msubplots\u001b[0m\u001b[0;34m(\u001b[0m\u001b[0mncols\u001b[0m\u001b[0;34m=\u001b[0m\u001b[0;36m2\u001b[0m\u001b[0;34m,\u001b[0m \u001b[0mfigsize\u001b[0m\u001b[0;34m=\u001b[0m\u001b[0;34m(\u001b[0m\u001b[0;36m12\u001b[0m\u001b[0;34m,\u001b[0m \u001b[0;36m4\u001b[0m\u001b[0;34m)\u001b[0m\u001b[0;34m)\u001b[0m\u001b[0;34m\u001b[0m\u001b[0;34m\u001b[0m\u001b[0m\n\u001b[0;32m----> 3\u001b[0;31m \u001b[0mmodel_summary\u001b[0m\u001b[0;34m.\u001b[0m\u001b[0mroc\u001b[0m\u001b[0;34m.\u001b[0m\u001b[0mtoPandas\u001b[0m\u001b[0;34m(\u001b[0m\u001b[0;34m)\u001b[0m\u001b[0;34m.\u001b[0m\u001b[0mplot\u001b[0m\u001b[0;34m(\u001b[0m\u001b[0mx\u001b[0m\u001b[0;34m=\u001b[0m\u001b[0;34m'FPR'\u001b[0m\u001b[0;34m,\u001b[0m \u001b[0my\u001b[0m\u001b[0;34m=\u001b[0m\u001b[0;34m'TPR'\u001b[0m\u001b[0;34m,\u001b[0m \u001b[0max\u001b[0m\u001b[0;34m=\u001b[0m\u001b[0max\u001b[0m\u001b[0;34m[\u001b[0m\u001b[0;36m0\u001b[0m\u001b[0;34m]\u001b[0m\u001b[0;34m)\u001b[0m\u001b[0;34m\u001b[0m\u001b[0;34m\u001b[0m\u001b[0m\n\u001b[0m\u001b[1;32m      4\u001b[0m \u001b[0mmodel_summary\u001b[0m\u001b[0;34m.\u001b[0m\u001b[0mpr\u001b[0m\u001b[0;34m.\u001b[0m\u001b[0mtoPandas\u001b[0m\u001b[0;34m(\u001b[0m\u001b[0;34m)\u001b[0m\u001b[0;34m.\u001b[0m\u001b[0mplot\u001b[0m\u001b[0;34m(\u001b[0m\u001b[0mx\u001b[0m\u001b[0;34m=\u001b[0m\u001b[0;34m'recall'\u001b[0m\u001b[0;34m,\u001b[0m \u001b[0my\u001b[0m\u001b[0;34m=\u001b[0m\u001b[0;34m'precision'\u001b[0m\u001b[0;34m,\u001b[0m \u001b[0max\u001b[0m\u001b[0;34m=\u001b[0m\u001b[0max\u001b[0m\u001b[0;34m[\u001b[0m\u001b[0;36m1\u001b[0m\u001b[0;34m]\u001b[0m\u001b[0;34m)\u001b[0m\u001b[0;34m\u001b[0m\u001b[0;34m\u001b[0m\u001b[0m\n\u001b[1;32m      5\u001b[0m \u001b[0mplt\u001b[0m\u001b[0;34m.\u001b[0m\u001b[0mshow\u001b[0m\u001b[0;34m(\u001b[0m\u001b[0;34m)\u001b[0m\u001b[0;34m\u001b[0m\u001b[0;34m\u001b[0m\u001b[0m\n",
      "\u001b[0;32m~/opt/anaconda3/envs/pyspark_env/lib/python3.7/site-packages/pyspark/sql/pandas/conversion.py\u001b[0m in \u001b[0;36mtoPandas\u001b[0;34m(self)\u001b[0m\n\u001b[1;32m    136\u001b[0m \u001b[0;34m\u001b[0m\u001b[0m\n\u001b[1;32m    137\u001b[0m         \u001b[0;31m# Below is toPandas without Arrow optimization.\u001b[0m\u001b[0;34m\u001b[0m\u001b[0;34m\u001b[0m\u001b[0;34m\u001b[0m\u001b[0m\n\u001b[0;32m--> 138\u001b[0;31m         \u001b[0mpdf\u001b[0m \u001b[0;34m=\u001b[0m \u001b[0mpd\u001b[0m\u001b[0;34m.\u001b[0m\u001b[0mDataFrame\u001b[0m\u001b[0;34m.\u001b[0m\u001b[0mfrom_records\u001b[0m\u001b[0;34m(\u001b[0m\u001b[0mself\u001b[0m\u001b[0;34m.\u001b[0m\u001b[0mcollect\u001b[0m\u001b[0;34m(\u001b[0m\u001b[0;34m)\u001b[0m\u001b[0;34m,\u001b[0m \u001b[0mcolumns\u001b[0m\u001b[0;34m=\u001b[0m\u001b[0mself\u001b[0m\u001b[0;34m.\u001b[0m\u001b[0mcolumns\u001b[0m\u001b[0;34m)\u001b[0m\u001b[0;34m\u001b[0m\u001b[0;34m\u001b[0m\u001b[0m\n\u001b[0m\u001b[1;32m    139\u001b[0m         \u001b[0mcolumn_counter\u001b[0m \u001b[0;34m=\u001b[0m \u001b[0mCounter\u001b[0m\u001b[0;34m(\u001b[0m\u001b[0mself\u001b[0m\u001b[0;34m.\u001b[0m\u001b[0mcolumns\u001b[0m\u001b[0;34m)\u001b[0m\u001b[0;34m\u001b[0m\u001b[0;34m\u001b[0m\u001b[0m\n\u001b[1;32m    140\u001b[0m \u001b[0;34m\u001b[0m\u001b[0m\n",
      "\u001b[0;32m~/opt/anaconda3/envs/pyspark_env/lib/python3.7/site-packages/pyspark/sql/dataframe.py\u001b[0m in \u001b[0;36mcollect\u001b[0;34m(self)\u001b[0m\n\u001b[1;32m    593\u001b[0m         \u001b[0;34m[\u001b[0m\u001b[0mRow\u001b[0m\u001b[0;34m(\u001b[0m\u001b[0mage\u001b[0m\u001b[0;34m=\u001b[0m\u001b[0;36m2\u001b[0m\u001b[0;34m,\u001b[0m \u001b[0mname\u001b[0m\u001b[0;34m=\u001b[0m\u001b[0;34mu'Alice'\u001b[0m\u001b[0;34m)\u001b[0m\u001b[0;34m,\u001b[0m \u001b[0mRow\u001b[0m\u001b[0;34m(\u001b[0m\u001b[0mage\u001b[0m\u001b[0;34m=\u001b[0m\u001b[0;36m5\u001b[0m\u001b[0;34m,\u001b[0m \u001b[0mname\u001b[0m\u001b[0;34m=\u001b[0m\u001b[0;34mu'Bob'\u001b[0m\u001b[0;34m)\u001b[0m\u001b[0;34m]\u001b[0m\u001b[0;34m\u001b[0m\u001b[0;34m\u001b[0m\u001b[0m\n\u001b[1;32m    594\u001b[0m         \"\"\"\n\u001b[0;32m--> 595\u001b[0;31m         \u001b[0;32mwith\u001b[0m \u001b[0mSCCallSiteSync\u001b[0m\u001b[0;34m(\u001b[0m\u001b[0mself\u001b[0m\u001b[0;34m.\u001b[0m\u001b[0m_sc\u001b[0m\u001b[0;34m)\u001b[0m \u001b[0;32mas\u001b[0m \u001b[0mcss\u001b[0m\u001b[0;34m:\u001b[0m\u001b[0;34m\u001b[0m\u001b[0;34m\u001b[0m\u001b[0m\n\u001b[0m\u001b[1;32m    596\u001b[0m             \u001b[0msock_info\u001b[0m \u001b[0;34m=\u001b[0m \u001b[0mself\u001b[0m\u001b[0;34m.\u001b[0m\u001b[0m_jdf\u001b[0m\u001b[0;34m.\u001b[0m\u001b[0mcollectToPython\u001b[0m\u001b[0;34m(\u001b[0m\u001b[0;34m)\u001b[0m\u001b[0;34m\u001b[0m\u001b[0;34m\u001b[0m\u001b[0m\n\u001b[1;32m    597\u001b[0m         \u001b[0;32mreturn\u001b[0m \u001b[0mlist\u001b[0m\u001b[0;34m(\u001b[0m\u001b[0m_load_from_socket\u001b[0m\u001b[0;34m(\u001b[0m\u001b[0msock_info\u001b[0m\u001b[0;34m,\u001b[0m \u001b[0mBatchedSerializer\u001b[0m\u001b[0;34m(\u001b[0m\u001b[0mPickleSerializer\u001b[0m\u001b[0;34m(\u001b[0m\u001b[0;34m)\u001b[0m\u001b[0;34m)\u001b[0m\u001b[0;34m)\u001b[0m\u001b[0;34m)\u001b[0m\u001b[0;34m\u001b[0m\u001b[0;34m\u001b[0m\u001b[0m\n",
      "\u001b[0;32m~/opt/anaconda3/envs/pyspark_env/lib/python3.7/site-packages/pyspark/traceback_utils.py\u001b[0m in \u001b[0;36m__enter__\u001b[0;34m(self)\u001b[0m\n\u001b[1;32m     70\u001b[0m     \u001b[0;32mdef\u001b[0m \u001b[0m__enter__\u001b[0m\u001b[0;34m(\u001b[0m\u001b[0mself\u001b[0m\u001b[0;34m)\u001b[0m\u001b[0;34m:\u001b[0m\u001b[0;34m\u001b[0m\u001b[0;34m\u001b[0m\u001b[0m\n\u001b[1;32m     71\u001b[0m         \u001b[0;32mif\u001b[0m \u001b[0mSCCallSiteSync\u001b[0m\u001b[0;34m.\u001b[0m\u001b[0m_spark_stack_depth\u001b[0m \u001b[0;34m==\u001b[0m \u001b[0;36m0\u001b[0m\u001b[0;34m:\u001b[0m\u001b[0;34m\u001b[0m\u001b[0;34m\u001b[0m\u001b[0m\n\u001b[0;32m---> 72\u001b[0;31m             \u001b[0mself\u001b[0m\u001b[0;34m.\u001b[0m\u001b[0m_context\u001b[0m\u001b[0;34m.\u001b[0m\u001b[0m_jsc\u001b[0m\u001b[0;34m.\u001b[0m\u001b[0msetCallSite\u001b[0m\u001b[0;34m(\u001b[0m\u001b[0mself\u001b[0m\u001b[0;34m.\u001b[0m\u001b[0m_call_site\u001b[0m\u001b[0;34m)\u001b[0m\u001b[0;34m\u001b[0m\u001b[0;34m\u001b[0m\u001b[0m\n\u001b[0m\u001b[1;32m     73\u001b[0m         \u001b[0mSCCallSiteSync\u001b[0m\u001b[0;34m.\u001b[0m\u001b[0m_spark_stack_depth\u001b[0m \u001b[0;34m+=\u001b[0m \u001b[0;36m1\u001b[0m\u001b[0;34m\u001b[0m\u001b[0;34m\u001b[0m\u001b[0m\n\u001b[1;32m     74\u001b[0m \u001b[0;34m\u001b[0m\u001b[0m\n",
      "\u001b[0;31mAttributeError\u001b[0m: 'NoneType' object has no attribute 'setCallSite'"
     ]
    },
    {
     "data": {
      "image/png": "[encoded data removed]",
      "text/plain": [
       "<Figure size 864x288 with 2 Axes>"
      ]
     },
     "metadata": {
      "needs_background": "light"
     },
     "output_type": "display_data"
    }
   ],
   "source": [
    "# create AUC & PR curves for chosen model\n",
    "fig, ax = plt.subplots(ncols=2, figsize=(12, 4))\n",
    "model_summary.roc.toPandas().plot(x='FPR', y='TPR', ax=ax[0])\n",
    "model_summary.pr.toPandas().plot(x='recall', y='precision', ax=ax[1])\n",
    "plt.show()"
   ]
  },
  {
   "cell_type": "code",
   "execution_count": 151,
   "metadata": {
    "execution": {
     "iopub.execute_input": "2020-10-24T16:46:13.548969Z",
     "iopub.status.busy": "2020-10-24T16:46:13.548707Z",
     "iopub.status.idle": "2020-10-24T16:46:14.615130Z",
     "shell.execute_reply": "2020-10-24T16:46:14.614271Z",
     "shell.execute_reply.started": "2020-10-24T16:46:13.548939Z"
    }
   },
   "outputs": [],
   "source": [
    "# stop spark cluster\n",
    "sc.stop()"
   ]
  },
  {
   "cell_type": "code",
   "execution_count": 89,
   "metadata": {
    "execution": {
     "iopub.execute_input": "2020-10-04T10:17:37.101876Z",
     "iopub.status.busy": "2020-10-04T10:17:37.100740Z",
     "iopub.status.idle": "2020-10-04T10:17:37.338999Z",
     "shell.execute_reply": "2020-10-04T10:17:37.338065Z",
     "shell.execute_reply.started": "2020-10-04T10:17:37.101834Z"
    }
   },
   "outputs": [],
   "source": []
  }
 ],
 "metadata": {
  "kernelspec": {
   "display_name": "pyspark_env",
   "language": "python",
   "name": "pyspark_env"
  },
  "language_info": {
   "codemirror_mode": {
    "name": "ipython",
    "version": 3
   },
   "file_extension": ".py",
   "mimetype": "text/x-python",
   "name": "python",
   "nbconvert_exporter": "python",
   "pygments_lexer": "ipython3",
   "version": "3.7.4"
  }
 },
 "nbformat": 4,
 "nbformat_minor": 4
}
