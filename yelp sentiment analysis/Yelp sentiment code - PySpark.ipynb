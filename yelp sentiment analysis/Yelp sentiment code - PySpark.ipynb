{
 "cells": [
  {
   "cell_type": "markdown",
   "metadata": {
    "execution": {
     "iopub.execute_input": "2020-10-04T09:05:20.015241Z",
     "iopub.status.busy": "2020-10-04T09:05:20.014192Z",
     "iopub.status.idle": "2020-10-04T09:05:20.030907Z",
     "shell.execute_reply": "2020-10-04T09:05:20.029382Z",
     "shell.execute_reply.started": "2020-10-04T09:05:20.015197Z"
    }
   },
   "source": [
    "## 1. Configure Spark"
   ]
  },
  {
   "cell_type": "code",
   "execution_count": 1,
   "metadata": {
    "execution": {
     "iopub.execute_input": "2020-10-11T11:18:54.619792Z",
     "iopub.status.busy": "2020-10-11T11:18:54.619380Z",
     "iopub.status.idle": "2020-10-11T11:18:55.724550Z",
     "shell.execute_reply": "2020-10-11T11:18:55.723930Z",
     "shell.execute_reply.started": "2020-10-11T11:18:54.619752Z"
    }
   },
   "outputs": [],
   "source": [
    "# import libraries for setting up spark and sql contexts\n",
    "from pyspark import SparkContext, SparkConf\n",
    "from pyspark.sql import DataFrameReader, SQLContext, DataFrameWriter\n",
    "\n",
    "# import libraries for defining custom functions - udf indicates user defined function, type defines the type the function will return\n",
    "from pyspark.sql.functions import udf\n",
    "from pyspark.sql.types import IntegerType\n",
    "\n",
    "import os\n",
    "\n",
    "\n",
    "# define to postgres jdbc driver path as environment variable\n",
    "sparkClassPath = os.getenv('SPARK_CLASSPATH', \n",
    "                           '/Users/user/Downloads/postgresql-42.2.14.jar')"
   ]
  },
  {
   "cell_type": "code",
   "execution_count": 2,
   "metadata": {
    "execution": {
     "iopub.execute_input": "2020-10-11T11:18:55.726316Z",
     "iopub.status.busy": "2020-10-11T11:18:55.726037Z",
     "iopub.status.idle": "2020-10-11T11:19:12.104039Z",
     "shell.execute_reply": "2020-10-11T11:19:12.103360Z",
     "shell.execute_reply.started": "2020-10-11T11:18:55.726282Z"
    }
   },
   "outputs": [],
   "source": [
    "# define configuration settings for Spark\n",
    "conf = SparkConf()\n",
    "conf.setAppName('application')\n",
    "conf.set('spark.jars', f'file:{sparkClassPath}')\n",
    "conf.set('spark.executor.extraClassPath', sparkClassPath)\n",
    "conf.set('spark.driver.extraClassPath', sparkClassPath)\n",
    "\n",
    "# define spark context - interface between client (notebook) and cluster manager\n",
    "sc = SparkContext(conf=conf)\n",
    "# define sql context - entry point for spark sql functionalkty - register dataframe as tables, which you can execute SQL on\n",
    "sqlContext = SQLContext(sc)\n",
    "\n",
    "# define postgres connection parameters\n",
    "url = 'postgresql://localhost:5432/user'\n",
    "properties = {'user': 'user', 'password': ''}"
   ]
  },
  {
   "cell_type": "markdown",
   "metadata": {
    "execution": {
     "iopub.execute_input": "2020-10-04T09:05:53.271068Z",
     "iopub.status.busy": "2020-10-04T09:05:53.270775Z",
     "iopub.status.idle": "2020-10-04T09:05:53.277238Z",
     "shell.execute_reply": "2020-10-04T09:05:53.274855Z",
     "shell.execute_reply.started": "2020-10-04T09:05:53.271035Z"
    }
   },
   "source": [
    "## 2. Sample Yelp review data"
   ]
  },
  {
   "cell_type": "code",
   "execution_count": 3,
   "metadata": {
    "execution": {
     "iopub.execute_input": "2020-10-11T11:19:12.106758Z",
     "iopub.status.busy": "2020-10-11T11:19:12.106390Z",
     "iopub.status.idle": "2020-10-11T11:19:12.111853Z",
     "shell.execute_reply": "2020-10-11T11:19:12.110031Z",
     "shell.execute_reply.started": "2020-10-11T11:19:12.106713Z"
    }
   },
   "outputs": [],
   "source": [
    "# define user defined function for create target column\n",
    "set_target_values = udf(lambda x: (x > 3)*1, IntegerType())"
   ]
  },
  {
   "cell_type": "code",
   "execution_count": 4,
   "metadata": {
    "execution": {
     "iopub.execute_input": "2020-10-11T11:19:12.113755Z",
     "iopub.status.busy": "2020-10-11T11:19:12.113476Z",
     "iopub.status.idle": "2020-10-11T11:19:12.119677Z",
     "shell.execute_reply": "2020-10-11T11:19:12.118490Z",
     "shell.execute_reply.started": "2020-10-11T11:19:12.113727Z"
    }
   },
   "outputs": [],
   "source": [
    "# define sampling query\n",
    "def get_sample(sample_size=100):\n",
    "    query = \"\"\"\n",
    "            with reviews_1 as (\n",
    "            select review_id, stars, text\n",
    "            from yelp_reviews_filtered TABLESAMPLE BERNOULLI(75) \n",
    "            where stars = 1\n",
    "            limit \"\"\" + str(sample_size) + \"\"\"\n",
    "            )\n",
    "            , reviews_2 as (\n",
    "                select review_id, stars, text\n",
    "                from yelp_reviews_filtered TABLESAMPLE BERNOULLI(75)\n",
    "                where stars = 2\n",
    "                limit \"\"\" + str(sample_size) + \"\"\"\n",
    "            )\n",
    "            , reviews_4 as (\n",
    "                select review_id, stars, text\n",
    "                from yelp_reviews_filtered TABLESAMPLE BERNOULLI(75)\n",
    "                where stars = 4\n",
    "                limit \"\"\" + str(sample_size) + \"\"\"\n",
    "            )\n",
    "            , reviews_5 as (\n",
    "                select review_id, stars, text\n",
    "                from yelp_reviews_filtered TABLESAMPLE BERNOULLI(75)\n",
    "                where stars = 5\n",
    "                limit \"\"\" + str(sample_size) + \"\"\"\n",
    "            )\n",
    "\n",
    "            select *\n",
    "            from reviews_1\n",
    "            union\n",
    "            select *\n",
    "            from reviews_2\n",
    "            union\n",
    "            select *\n",
    "            from reviews_4\n",
    "            union\n",
    "            select *\n",
    "            from reviews_5 \n",
    "            \"\"\"\n",
    "    \n",
    "    # read data from postgres into a dataframe\n",
    "    df = DataFrameReader(sqlContext).jdbc(url=f'jdbc:{url}', \n",
    "                                      table=f'({query}) as sample', \n",
    "                                      properties=properties)\n",
    "    \n",
    "    df = df.withColumn('target', set_target_values(df.stars))\n",
    "    \n",
    "    return df"
   ]
  },
  {
   "cell_type": "code",
   "execution_count": 176,
   "metadata": {
    "execution": {
     "iopub.execute_input": "2020-10-11T16:56:33.939624Z",
     "iopub.status.busy": "2020-10-11T16:56:33.939380Z",
     "iopub.status.idle": "2020-10-11T16:56:34.044092Z",
     "shell.execute_reply": "2020-10-11T16:56:34.042950Z",
     "shell.execute_reply.started": "2020-10-11T16:56:33.939598Z"
    }
   },
   "outputs": [],
   "source": [
    "yelp = get_sample(50000)"
   ]
  },
  {
   "cell_type": "code",
   "execution_count": 177,
   "metadata": {
    "execution": {
     "iopub.execute_input": "2020-10-11T16:56:35.556426Z",
     "iopub.status.busy": "2020-10-11T16:56:35.556155Z",
     "iopub.status.idle": "2020-10-11T16:56:35.574110Z",
     "shell.execute_reply": "2020-10-11T16:56:35.572883Z",
     "shell.execute_reply.started": "2020-10-11T16:56:35.556399Z"
    }
   },
   "outputs": [
    {
     "name": "stdout",
     "output_type": "stream",
     "text": [
      "root\n",
      " |-- review_id: string (nullable = true)\n",
      " |-- stars: long (nullable = true)\n",
      " |-- text: string (nullable = true)\n",
      " |-- target: integer (nullable = true)\n",
      "\n"
     ]
    }
   ],
   "source": [
    "yelp.printSchema()"
   ]
  },
  {
   "cell_type": "code",
   "execution_count": 178,
   "metadata": {
    "execution": {
     "iopub.execute_input": "2020-10-11T16:56:36.435154Z",
     "iopub.status.busy": "2020-10-11T16:56:36.434891Z",
     "iopub.status.idle": "2020-10-11T16:56:56.100143Z",
     "shell.execute_reply": "2020-10-11T16:56:56.093132Z",
     "shell.execute_reply.started": "2020-10-11T16:56:36.435126Z"
    }
   },
   "outputs": [
    {
     "name": "stdout",
     "output_type": "stream",
     "text": [
      "+--------------------+-----+--------------------+------+\n",
      "|           review_id|stars|                text|target|\n",
      "+--------------------+-----+--------------------+------+\n",
      "|---WDP9kwKyVQiw9G...|    1|2nd time eating h...|     0|\n",
      "|--1CHYhjfVIw_Nveh...|    4|happy that i foun...|     1|\n",
      "|--1JMhPk6K9fZo4FO...|    2|had to stop in ju...|     0|\n",
      "|--29SBl8OUdsRP0aS...|    1|worst! waited ove...|     0|\n",
      "|--48T-86nuNb5uJb4...|    1|terrible.  very d...|     0|\n",
      "+--------------------+-----+--------------------+------+\n",
      "only showing top 5 rows\n",
      "\n"
     ]
    }
   ],
   "source": [
    "yelp.show(5)"
   ]
  },
  {
   "cell_type": "code",
   "execution_count": 179,
   "metadata": {
    "execution": {
     "iopub.execute_input": "2020-10-11T16:56:56.109470Z",
     "iopub.status.busy": "2020-10-11T16:56:56.106184Z",
     "iopub.status.idle": "2020-10-11T16:57:22.666242Z",
     "shell.execute_reply": "2020-10-11T16:57:22.664781Z",
     "shell.execute_reply.started": "2020-10-11T16:56:56.109391Z"
    }
   },
   "outputs": [
    {
     "name": "stdout",
     "output_type": "stream",
     "text": [
      "+-------+--------------------+------------------+-------------------------------------+------------------+\n",
      "|summary|           review_id|             stars|                                 text|            target|\n",
      "+-------+--------------------+------------------+-------------------------------------+------------------+\n",
      "|  count|              200000|            200000|                               200000|            200000|\n",
      "|   mean|                null|               3.0|                                 null|               0.5|\n",
      "| stddev|                null|1.5811427829460865|                                 null|0.5000012500046852|\n",
      "|    min|--096Ajil4RQtvH4s...|                 1|                 \n",
      "\n",
      "\n",
      "\n",
      "if you haven'...|                 0|\n",
      "|    max|zzylWZTq7LfXDXgJv...|                 5|服务员是真的傻逼，加个座位会挡住你...|                 1|\n",
      "+-------+--------------------+------------------+-------------------------------------+------------------+\n",
      "\n"
     ]
    }
   ],
   "source": [
    "yelp.describe().show()"
   ]
  },
  {
   "cell_type": "code",
   "execution_count": 180,
   "metadata": {
    "execution": {
     "iopub.execute_input": "2020-10-11T16:57:22.669950Z",
     "iopub.status.busy": "2020-10-11T16:57:22.669298Z",
     "iopub.status.idle": "2020-10-11T16:57:42.290685Z",
     "shell.execute_reply": "2020-10-11T16:57:42.288840Z",
     "shell.execute_reply.started": "2020-10-11T16:57:22.669900Z"
    }
   },
   "outputs": [
    {
     "name": "stdout",
     "output_type": "stream",
     "text": [
      "+-----+------+\n",
      "|stars|target|\n",
      "+-----+------+\n",
      "|    1|     0|\n",
      "|    1|     0|\n",
      "|    1|     0|\n",
      "|    4|     1|\n",
      "|    2|     0|\n",
      "+-----+------+\n",
      "only showing top 5 rows\n",
      "\n"
     ]
    }
   ],
   "source": [
    "yelp.select('stars', 'target').show(5)"
   ]
  },
  {
   "cell_type": "code",
   "execution_count": 181,
   "metadata": {
    "execution": {
     "iopub.execute_input": "2020-10-11T16:57:42.295470Z",
     "iopub.status.busy": "2020-10-11T16:57:42.295010Z",
     "iopub.status.idle": "2020-10-11T16:57:58.226386Z",
     "shell.execute_reply": "2020-10-11T16:57:58.225258Z",
     "shell.execute_reply.started": "2020-10-11T16:57:42.295428Z"
    }
   },
   "outputs": [
    {
     "name": "stdout",
     "output_type": "stream",
     "text": [
      "+-----+-----+\n",
      "|stars|count|\n",
      "+-----+-----+\n",
      "|    1|50000|\n",
      "|    2|50000|\n",
      "|    4|50000|\n",
      "|    5|50000|\n",
      "+-----+-----+\n",
      "\n"
     ]
    }
   ],
   "source": [
    "yelp.groupby('stars').count().sort('stars').show()"
   ]
  },
  {
   "cell_type": "code",
   "execution_count": 182,
   "metadata": {
    "execution": {
     "iopub.execute_input": "2020-10-11T16:58:05.084978Z",
     "iopub.status.busy": "2020-10-11T16:58:05.084719Z",
     "iopub.status.idle": "2020-10-11T16:58:05.218505Z",
     "shell.execute_reply": "2020-10-11T16:58:05.217737Z",
     "shell.execute_reply.started": "2020-10-11T16:58:05.084950Z"
    }
   },
   "outputs": [],
   "source": [
    "# create temp view which SQL Context can use to run SQL queries on\n",
    "yelp.createOrReplaceTempView('sample')"
   ]
  },
  {
   "cell_type": "code",
   "execution_count": 183,
   "metadata": {
    "execution": {
     "iopub.execute_input": "2020-10-11T16:58:05.562077Z",
     "iopub.status.busy": "2020-10-11T16:58:05.561823Z",
     "iopub.status.idle": "2020-10-11T16:58:24.128778Z",
     "shell.execute_reply": "2020-10-11T16:58:24.127746Z",
     "shell.execute_reply.started": "2020-10-11T16:58:05.562049Z"
    }
   },
   "outputs": [
    {
     "name": "stdout",
     "output_type": "stream",
     "text": [
      "+----------+\n",
      "|avg(stars)|\n",
      "+----------+\n",
      "|       3.0|\n",
      "+----------+\n",
      "\n"
     ]
    }
   ],
   "source": [
    "sqlContext.sql('select avg(stars) from sample').show()"
   ]
  },
  {
   "cell_type": "markdown",
   "metadata": {
    "execution": {
     "iopub.execute_input": "2020-10-03T16:31:23.216008Z",
     "iopub.status.busy": "2020-10-03T16:31:23.215757Z",
     "iopub.status.idle": "2020-10-03T16:31:23.468152Z",
     "shell.execute_reply": "2020-10-03T16:31:23.466930Z",
     "shell.execute_reply.started": "2020-10-03T16:31:23.215981Z"
    }
   },
   "source": [
    "## 3a. Pre-process data for modelling - Manual steps"
   ]
  },
  {
   "cell_type": "code",
   "execution_count": 184,
   "metadata": {
    "execution": {
     "iopub.execute_input": "2020-10-11T16:58:24.130731Z",
     "iopub.status.busy": "2020-10-11T16:58:24.130363Z",
     "iopub.status.idle": "2020-10-11T16:58:24.155359Z",
     "shell.execute_reply": "2020-10-11T16:58:24.151938Z",
     "shell.execute_reply.started": "2020-10-11T16:58:24.130701Z"
    }
   },
   "outputs": [],
   "source": [
    "from pyspark.sql.functions import lower, regexp_replace\n",
    "from pyspark.ml.feature import Tokenizer, StopWordsRemover, CountVectorizer, IDF\n",
    "from pyspark.sql.types import ArrayType, StringType\n",
    "from nltk.corpus import stopwords\n",
    "from nltk.stem import PorterStemmer"
   ]
  },
  {
   "cell_type": "code",
   "execution_count": 185,
   "metadata": {
    "execution": {
     "iopub.execute_input": "2020-10-11T16:58:24.242547Z",
     "iopub.status.busy": "2020-10-11T16:58:24.242176Z",
     "iopub.status.idle": "2020-10-11T16:58:24.266696Z",
     "shell.execute_reply": "2020-10-11T16:58:24.265984Z",
     "shell.execute_reply.started": "2020-10-11T16:58:24.242506Z"
    }
   },
   "outputs": [],
   "source": [
    "# set review test to lowercase\n",
    "yelp = yelp.withColumn('text', lower(yelp.text))"
   ]
  },
  {
   "cell_type": "code",
   "execution_count": 186,
   "metadata": {
    "execution": {
     "iopub.execute_input": "2020-10-11T16:58:24.945114Z",
     "iopub.status.busy": "2020-10-11T16:58:24.944861Z",
     "iopub.status.idle": "2020-10-11T16:58:54.725487Z",
     "shell.execute_reply": "2020-10-11T16:58:54.724276Z",
     "shell.execute_reply.started": "2020-10-11T16:58:24.945086Z"
    }
   },
   "outputs": [
    {
     "name": "stdout",
     "output_type": "stream",
     "text": [
      "+--------------------------------------------------+\n",
      "|                                              text|\n",
      "+--------------------------------------------------+\n",
      "|just not a good dining experience. how you can ...|\n",
      "|very unimpressed by their pad thai.. one of the...|\n",
      "|i just called this north york location at 416-4...|\n",
      "|i made reservations on october 4, 2014 at 7:00p...|\n",
      "|while visiting pittsburgh from ny had the good ...|\n",
      "|really like this buffet! service was friendly. ...|\n",
      "|we went in there to get a quick\n",
      "bite. the waitr...|\n",
      "|ehhh, pass on this one, highly disappointing! i...|\n",
      "|this restaurant is a hot mess. we came here dur...|\n",
      "|the waitress was not very nice.  my wife had fr...|\n",
      "+--------------------------------------------------+\n",
      "only showing top 10 rows\n",
      "\n"
     ]
    }
   ],
   "source": [
    "yelp.select('text').show(10, truncate=50)"
   ]
  },
  {
   "cell_type": "code",
   "execution_count": 187,
   "metadata": {
    "execution": {
     "iopub.execute_input": "2020-10-11T16:58:54.729230Z",
     "iopub.status.busy": "2020-10-11T16:58:54.727563Z",
     "iopub.status.idle": "2020-10-11T16:58:54.754700Z",
     "shell.execute_reply": "2020-10-11T16:58:54.750806Z",
     "shell.execute_reply.started": "2020-10-11T16:58:54.729163Z"
    }
   },
   "outputs": [],
   "source": [
    "# remove punctuation\n",
    "yelp = yelp.withColumn('text', regexp_replace(yelp.text, '[^\\w\\s\\d]+', ''))"
   ]
  },
  {
   "cell_type": "code",
   "execution_count": 188,
   "metadata": {
    "execution": {
     "iopub.execute_input": "2020-10-11T16:58:54.763332Z",
     "iopub.status.busy": "2020-10-11T16:58:54.763113Z",
     "iopub.status.idle": "2020-10-11T16:59:12.975337Z",
     "shell.execute_reply": "2020-10-11T16:59:12.974200Z",
     "shell.execute_reply.started": "2020-10-11T16:58:54.763309Z"
    }
   },
   "outputs": [
    {
     "name": "stdout",
     "output_type": "stream",
     "text": [
      "+--------------------------------------------------+\n",
      "|                                              text|\n",
      "+--------------------------------------------------+\n",
      "|red white and bleu salad was super yum and a gr...|\n",
      "|2nd time eating here today1st time was great bu...|\n",
      "|wow weve been missing out shouldve tried this a...|\n",
      "|had to stop in just to see what the hype was ab...|\n",
      "|worst waited over 25 minutes just for a 3 piece...|\n",
      "|terrible  very disappointing we went for ramen ...|\n",
      "|we came here for a breakfast at around 100 in t...|\n",
      "|first time using this dominos location always u...|\n",
      "|food was subpar prices too high along with high...|\n",
      "|food not that tasty when i asked for extra cucu...|\n",
      "+--------------------------------------------------+\n",
      "only showing top 10 rows\n",
      "\n"
     ]
    }
   ],
   "source": [
    "yelp.select('text').show(10, truncate=50)"
   ]
  },
  {
   "cell_type": "code",
   "execution_count": 189,
   "metadata": {
    "execution": {
     "iopub.execute_input": "2020-10-11T16:59:12.980080Z",
     "iopub.status.busy": "2020-10-11T16:59:12.979828Z",
     "iopub.status.idle": "2020-10-11T16:59:13.010023Z",
     "shell.execute_reply": "2020-10-11T16:59:13.003509Z",
     "shell.execute_reply.started": "2020-10-11T16:59:12.980051Z"
    }
   },
   "outputs": [],
   "source": [
    "# tokenizw review text\n",
    "tokenizer = Tokenizer(inputCol='text', outputCol='word_tokens')"
   ]
  },
  {
   "cell_type": "code",
   "execution_count": 190,
   "metadata": {
    "execution": {
     "iopub.execute_input": "2020-10-11T16:59:13.016213Z",
     "iopub.status.busy": "2020-10-11T16:59:13.014683Z",
     "iopub.status.idle": "2020-10-11T16:59:13.091069Z",
     "shell.execute_reply": "2020-10-11T16:59:13.081715Z",
     "shell.execute_reply.started": "2020-10-11T16:59:13.016165Z"
    }
   },
   "outputs": [],
   "source": [
    "yelp_word_tokens = tokenizer.transform(yelp).select('review_id', 'stars', 'target', 'word_tokens')"
   ]
  },
  {
   "cell_type": "code",
   "execution_count": 191,
   "metadata": {
    "execution": {
     "iopub.execute_input": "2020-10-11T16:59:13.099791Z",
     "iopub.status.busy": "2020-10-11T16:59:13.098571Z",
     "iopub.status.idle": "2020-10-11T16:59:37.134963Z",
     "shell.execute_reply": "2020-10-11T16:59:37.133869Z",
     "shell.execute_reply.started": "2020-10-11T16:59:13.099745Z"
    }
   },
   "outputs": [
    {
     "name": "stdout",
     "output_type": "stream",
     "text": [
      "+--------------------+-----+------+--------------------+\n",
      "|           review_id|stars|target|         word_tokens|\n",
      "+--------------------+-----+------+--------------------+\n",
      "|---j05qHS2X7FkXjj...|    5|     1|[november, 2018, ...|\n",
      "|--096Ajil4RQtvH4s...|    1|     0|[i, ordered, whit...|\n",
      "|--0XCA-1T8AecSI6t...|    1|     0|[slow, service, w...|\n",
      "|--2DVbraypo43Yl1g...|    4|     1|[first, visit, an...|\n",
      "|--3QLHdgTu4GCeBju...|    1|     0|[over, the, weeke...|\n",
      "+--------------------+-----+------+--------------------+\n",
      "only showing top 5 rows\n",
      "\n"
     ]
    }
   ],
   "source": [
    "yelp_word_tokens.show(5)"
   ]
  },
  {
   "cell_type": "code",
   "execution_count": 192,
   "metadata": {
    "execution": {
     "iopub.execute_input": "2020-10-11T16:59:37.142534Z",
     "iopub.status.busy": "2020-10-11T16:59:37.139873Z",
     "iopub.status.idle": "2020-10-11T16:59:37.329078Z",
     "shell.execute_reply": "2020-10-11T16:59:37.328377Z",
     "shell.execute_reply.started": "2020-10-11T16:59:37.142488Z"
    }
   },
   "outputs": [],
   "source": [
    "# remove stop words\n",
    "st_remover = StopWordsRemover(inputCol='word_tokens', outputCol='words_clean', stopWords=stopwords.words('english'))"
   ]
  },
  {
   "cell_type": "code",
   "execution_count": 193,
   "metadata": {
    "execution": {
     "iopub.execute_input": "2020-10-11T16:59:37.340259Z",
     "iopub.status.busy": "2020-10-11T16:59:37.339933Z",
     "iopub.status.idle": "2020-10-11T16:59:37.509251Z",
     "shell.execute_reply": "2020-10-11T16:59:37.508210Z",
     "shell.execute_reply.started": "2020-10-11T16:59:37.340225Z"
    }
   },
   "outputs": [],
   "source": [
    "yelp_words_clean = st_remover.transform(yelp_word_tokens).select('review_id', 'stars', 'target', 'words_clean')"
   ]
  },
  {
   "cell_type": "code",
   "execution_count": 194,
   "metadata": {
    "execution": {
     "iopub.execute_input": "2020-10-11T16:59:37.518582Z",
     "iopub.status.busy": "2020-10-11T16:59:37.518341Z",
     "iopub.status.idle": "2020-10-11T17:00:01.477076Z",
     "shell.execute_reply": "2020-10-11T17:00:01.475350Z",
     "shell.execute_reply.started": "2020-10-11T16:59:37.518549Z"
    }
   },
   "outputs": [
    {
     "name": "stdout",
     "output_type": "stream",
     "text": [
      "+--------------------+-----+------+--------------------+\n",
      "|           review_id|stars|target|         words_clean|\n",
      "+--------------------+-----+------+--------------------+\n",
      "|--0y7xOZPpiGD5d6v...|    1|     0|[unimpressed, pad...|\n",
      "|--1-yyzQBuewSErAT...|    1|     0|[called, north, y...|\n",
      "|--6jbEW2sVFSjTZI-...|    2|     0|[went, saturday, ...|\n",
      "|--BFvQRQ0hMN_J5ij...|    1|     0|[drinks, ok, howe...|\n",
      "|--CKRAtCONUvul6S3...|    5|     1|[good, local, fol...|\n",
      "+--------------------+-----+------+--------------------+\n",
      "only showing top 5 rows\n",
      "\n"
     ]
    }
   ],
   "source": [
    "yelp_words_clean.show(5)"
   ]
  },
  {
   "cell_type": "code",
   "execution_count": 195,
   "metadata": {
    "execution": {
     "iopub.execute_input": "2020-10-11T17:00:01.479786Z",
     "iopub.status.busy": "2020-10-11T17:00:01.478840Z",
     "iopub.status.idle": "2020-10-11T17:00:01.495010Z",
     "shell.execute_reply": "2020-10-11T17:00:01.494236Z",
     "shell.execute_reply.started": "2020-10-11T17:00:01.479702Z"
    }
   },
   "outputs": [],
   "source": [
    "# stem words\n",
    "stemmer = PorterStemmer()\n",
    "stemmer_udf = udf(lambda tokens: [stemmer.stem(w) for w in tokens], ArrayType(StringType()))"
   ]
  },
  {
   "cell_type": "code",
   "execution_count": 196,
   "metadata": {
    "execution": {
     "iopub.execute_input": "2020-10-11T17:00:01.497548Z",
     "iopub.status.busy": "2020-10-11T17:00:01.497277Z",
     "iopub.status.idle": "2020-10-11T17:00:01.637129Z",
     "shell.execute_reply": "2020-10-11T17:00:01.635934Z",
     "shell.execute_reply.started": "2020-10-11T17:00:01.497513Z"
    }
   },
   "outputs": [],
   "source": [
    "yelp_stemmed = yelp_words_clean.withColumn('words_clean', stemmer_udf(yelp_words_clean.words_clean))"
   ]
  },
  {
   "cell_type": "code",
   "execution_count": 197,
   "metadata": {
    "execution": {
     "iopub.execute_input": "2020-10-11T17:00:01.639430Z",
     "iopub.status.busy": "2020-10-11T17:00:01.638924Z",
     "iopub.status.idle": "2020-10-11T17:00:22.352006Z",
     "shell.execute_reply": "2020-10-11T17:00:22.350865Z",
     "shell.execute_reply.started": "2020-10-11T17:00:01.639394Z"
    }
   },
   "outputs": [
    {
     "name": "stdout",
     "output_type": "stream",
     "text": [
      "+--------------------------------------------------+\n",
      "|                                       words_clean|\n",
      "+--------------------------------------------------+\n",
      "|[red, white, bleu, salad, super, yum, great, ad...|\n",
      "|[one, absolut, favorit, restaur, usual, go, one...|\n",
      "|[wow, weve, miss, shouldv, tri, lot, sooner, ny...|\n",
      "|[happi, found, way, back, mani, year, , new, ow...|\n",
      "|[stop, see, hype, came, away, shoulder, shrug, ...|\n",
      "|[worst, wait, 25, minut, 3, piec, tender, combo...|\n",
      "|[terribl, , disappoint, went, ramen, plain, tas...|\n",
      "|[came, breakfast, around, 100, afternoon, bad, ...|\n",
      "|[went, place, 112119, around, 1145am, put, spec...|\n",
      "|[pasta, el, dent, , trust, even, italian, itali...|\n",
      "+--------------------------------------------------+\n",
      "only showing top 10 rows\n",
      "\n"
     ]
    }
   ],
   "source": [
    "yelp_stemmed.select('words_clean').show(10, truncate=50)"
   ]
  },
  {
   "cell_type": "code",
   "execution_count": 198,
   "metadata": {
    "execution": {
     "iopub.execute_input": "2020-10-11T17:00:22.355035Z",
     "iopub.status.busy": "2020-10-11T17:00:22.354640Z",
     "iopub.status.idle": "2020-10-11T17:00:22.366189Z",
     "shell.execute_reply": "2020-10-11T17:00:22.361158Z",
     "shell.execute_reply.started": "2020-10-11T17:00:22.354996Z"
    }
   },
   "outputs": [],
   "source": [
    "# fitler short words\n",
    "remove_empty_udf = udf(lambda tokens: [w for w in tokens if len(w) > 2], ArrayType(StringType()))"
   ]
  },
  {
   "cell_type": "code",
   "execution_count": 199,
   "metadata": {
    "execution": {
     "iopub.execute_input": "2020-10-11T17:00:22.369233Z",
     "iopub.status.busy": "2020-10-11T17:00:22.368671Z",
     "iopub.status.idle": "2020-10-11T17:00:22.391092Z",
     "shell.execute_reply": "2020-10-11T17:00:22.390328Z",
     "shell.execute_reply.started": "2020-10-11T17:00:22.369186Z"
    }
   },
   "outputs": [],
   "source": [
    "yelp_stemmed = yelp_stemmed.withColumn('words_clean', remove_empty_udf(yelp_stemmed.words_clean))"
   ]
  },
  {
   "cell_type": "code",
   "execution_count": 200,
   "metadata": {
    "execution": {
     "iopub.execute_input": "2020-10-11T17:00:22.398003Z",
     "iopub.status.busy": "2020-10-11T17:00:22.392307Z",
     "iopub.status.idle": "2020-10-11T17:00:45.649086Z",
     "shell.execute_reply": "2020-10-11T17:00:45.640862Z",
     "shell.execute_reply.started": "2020-10-11T17:00:22.397933Z"
    }
   },
   "outputs": [
    {
     "name": "stdout",
     "output_type": "stream",
     "text": [
      "+----------------------------------------------------------------------------------------------------+\n",
      "|                                                                                         words_clean|\n",
      "+----------------------------------------------------------------------------------------------------+\n",
      "|[novemb, 2018, updat, one, still, terrif, healthi, fill, vegetarian, option, outstand, tandoori, ...|\n",
      "|                                  [slow, servic, mediocr, food, look, cool, outsid, that, fun, stop]|\n",
      "|[first, visit, disappoint, cant, tell, mani, time, walk, take, grant, ill, get, sometim, kind, at...|\n",
      "|[weekend, ate, twice, first, experi, denni, night, hellth, cook, couldnt, seem, get, egg, fri, ha...|\n",
      "|[friend, decid, give, place, shot, read, review, yelp, even, excit, see, make, long, stori, short...|\n",
      "|[littl, press, time, decid, get, take, place, close, also, coupon, order, eye, got, quit, lot, fo...|\n",
      "|[terribl, servic, boyfriend, wait, least, minut, server, notic, tri, get, attent, approach, tabl,...|\n",
      "|[like, other, went, check, stromboli, guy, fieri, foodgasm, okay, noth, write, home, mostli, ham,...|\n",
      "|[ive, die, come, year, sinc, move, dad, came, visit, new, york, went, didnt, wait, long, get, may...|\n",
      "|[enjoy, frequent, humbl, pie, peoria, servic, great, haley, becom, favorit, server, entertain, at...|\n",
      "+----------------------------------------------------------------------------------------------------+\n",
      "only showing top 10 rows\n",
      "\n"
     ]
    }
   ],
   "source": [
    "yelp_stemmed.select('words_clean').show(10, truncate=100)"
   ]
  },
  {
   "cell_type": "code",
   "execution_count": 201,
   "metadata": {
    "execution": {
     "iopub.execute_input": "2020-10-11T17:00:45.653033Z",
     "iopub.status.busy": "2020-10-11T17:00:45.651385Z",
     "iopub.status.idle": "2020-10-11T17:00:45.775887Z",
     "shell.execute_reply": "2020-10-11T17:00:45.773734Z",
     "shell.execute_reply.started": "2020-10-11T17:00:45.652961Z"
    }
   },
   "outputs": [],
   "source": [
    "from pyspark.ml.feature import NGram"
   ]
  },
  {
   "cell_type": "code",
   "execution_count": 202,
   "metadata": {
    "execution": {
     "iopub.execute_input": "2020-10-11T17:00:45.780118Z",
     "iopub.status.busy": "2020-10-11T17:00:45.779152Z",
     "iopub.status.idle": "2020-10-11T17:00:45.917946Z",
     "shell.execute_reply": "2020-10-11T17:00:45.914233Z",
     "shell.execute_reply.started": "2020-10-11T17:00:45.780070Z"
    }
   },
   "outputs": [],
   "source": [
    "# create ngrams = 2 col\n",
    "ngrams = NGram(n=2, inputCol='words_clean', outputCol='ngrams_2')\n",
    "yelp_ngrams = ngrams.transform(yelp_stemmed)"
   ]
  },
  {
   "cell_type": "code",
   "execution_count": 203,
   "metadata": {
    "execution": {
     "iopub.execute_input": "2020-10-11T17:00:45.926484Z",
     "iopub.status.busy": "2020-10-11T17:00:45.920806Z",
     "iopub.status.idle": "2020-10-11T17:01:19.217851Z",
     "shell.execute_reply": "2020-10-11T17:01:19.216016Z",
     "shell.execute_reply.started": "2020-10-11T17:00:45.926412Z"
    }
   },
   "outputs": [
    {
     "name": "stdout",
     "output_type": "stream",
     "text": [
      "+----------------------+-----+------+--------------------------------------------------+--------------------------------------------------+\n",
      "|             review_id|stars|target|                                       words_clean|                                          ngrams_2|\n",
      "+----------------------+-----+------+--------------------------------------------------+--------------------------------------------------+\n",
      "|---0hl58W-sjVTKi5LghGw|    4|     1|[ate, momo, momo, crawl, best, lot, decid, eat,...|[ate momo, momo momo, momo crawl, crawl best, b...|\n",
      "|---D6-P4MpS86LYldBfX7w|    4|     1|[dont, know, place, lifesav, your, stay, mandal...|[dont know, know place, place lifesav, lifesav ...|\n",
      "|--0FCNjk2NnZ2aUji5QYBg|    5|     1|[everi, time, come, food, perfect, one, favorit...|[everi time, time come, come food, food perfect...|\n",
      "|--1-yyzQBuewSErATIDAEw|    1|     0|[call, north, york, locat, 4164461045, told, ca...|[call north, north york, york locat, locat 4164...|\n",
      "|--2B5Wu-pXbNew_6bOFx9w|    1|     0|[made, reserv, octob, 2014, 700pm, peopl, celeb...|[made reserv, reserv octob, octob 2014, 2014 70...|\n",
      "+----------------------+-----+------+--------------------------------------------------+--------------------------------------------------+\n",
      "only showing top 5 rows\n",
      "\n"
     ]
    }
   ],
   "source": [
    "yelp_ngrams.show(5, truncate=50)"
   ]
  },
  {
   "cell_type": "code",
   "execution_count": 204,
   "metadata": {
    "execution": {
     "iopub.execute_input": "2020-10-11T17:01:19.228941Z",
     "iopub.status.busy": "2020-10-11T17:01:19.228429Z",
     "iopub.status.idle": "2020-10-11T17:01:19.240159Z",
     "shell.execute_reply": "2020-10-11T17:01:19.237160Z",
     "shell.execute_reply.started": "2020-10-11T17:01:19.228884Z"
    }
   },
   "outputs": [],
   "source": [
    "# merge feature columns\n",
    "merge_words_udf = udf(lambda col1, col2: col1 + col2, ArrayType(StringType()))"
   ]
  },
  {
   "cell_type": "code",
   "execution_count": 205,
   "metadata": {
    "execution": {
     "iopub.execute_input": "2020-10-11T17:01:19.242736Z",
     "iopub.status.busy": "2020-10-11T17:01:19.241699Z",
     "iopub.status.idle": "2020-10-11T17:01:19.411361Z",
     "shell.execute_reply": "2020-10-11T17:01:19.394782Z",
     "shell.execute_reply.started": "2020-10-11T17:01:19.242686Z"
    }
   },
   "outputs": [],
   "source": [
    "yelp_merged = yelp_ngrams.withColumn('features', merge_words_udf(yelp_ngrams.words_clean, yelp_ngrams.ngrams_2)).select('target', 'features')"
   ]
  },
  {
   "cell_type": "code",
   "execution_count": 206,
   "metadata": {
    "execution": {
     "iopub.execute_input": "2020-10-11T17:01:19.417353Z",
     "iopub.status.busy": "2020-10-11T17:01:19.416795Z",
     "iopub.status.idle": "2020-10-11T17:01:19.474757Z",
     "shell.execute_reply": "2020-10-11T17:01:19.473169Z",
     "shell.execute_reply.started": "2020-10-11T17:01:19.417309Z"
    }
   },
   "outputs": [],
   "source": [
    "# Create CountVectorizer\n",
    "cv = CountVectorizer(minDF=5, vocabSize=100000, inputCol='features', outputCol='vectors')"
   ]
  },
  {
   "cell_type": "code",
   "execution_count": 207,
   "metadata": {
    "execution": {
     "iopub.execute_input": "2020-10-11T17:01:19.484134Z",
     "iopub.status.busy": "2020-10-11T17:01:19.483606Z",
     "iopub.status.idle": "2020-10-11T17:10:24.906680Z",
     "shell.execute_reply": "2020-10-11T17:10:24.905965Z",
     "shell.execute_reply.started": "2020-10-11T17:01:19.484086Z"
    }
   },
   "outputs": [],
   "source": [
    "cv_model = cv.fit(yelp_merged)\n",
    "yelp_cv = cv_model.transform(yelp_merged)"
   ]
  },
  {
   "cell_type": "code",
   "execution_count": 208,
   "metadata": {
    "execution": {
     "iopub.execute_input": "2020-10-11T17:10:24.915188Z",
     "iopub.status.busy": "2020-10-11T17:10:24.914967Z",
     "iopub.status.idle": "2020-10-11T17:10:42.080377Z",
     "shell.execute_reply": "2020-10-11T17:10:42.077036Z",
     "shell.execute_reply.started": "2020-10-11T17:10:24.915165Z"
    }
   },
   "outputs": [
    {
     "name": "stdout",
     "output_type": "stream",
     "text": [
      "+------+----------------------------------------------------------------------------------------------------+----------------------------------------------------------------------------------------------------+\n",
      "|target|                                                                                            features|                                                                                             vectors|\n",
      "+------+----------------------------------------------------------------------------------------------------+----------------------------------------------------------------------------------------------------+\n",
      "|     1|[great, brisket, sandwich, claim, weird, station, hipster, bbq, lunch, spot, hallmark, store, car...|(100000,[8,90,102,201,354,435,790,835,839,1519,2770,5609,8813,67675],[1.0,1.0,1.0,1.0,1.0,1.0,1.0...|\n",
      "|     0|[order, white, fri, hair, didnt, eat, also, got, philli, chicken, meat, dri, hoagi, roll, way, to...|(100000,[2,18,19,23,25,29,36,74,106,138,236,312,442,472,802,1522,1997,3042,5022,6934,9585,13097,1...|\n",
      "|     0|[slow, servic, mediocr, food, look, cool, outsid, that, fun, stop, slow servic, servic mediocr, m...|(100000,[0,6,32,167,196,288,300,365,376,495,1861,2478,2648,4677,16775,80464,81381,81765],[1.0,1.0...|\n",
      "|     0|[weekend, ate, twice, first, experi, denni, night, hellth, cook, couldnt, seem, get, egg, fri, ha...|(100000,[0,2,7,10,20,29,33,36,40,57,61,69,77,78,87,100,102,103,112,116,118,170,173,174,213,245,25...|\n",
      "|     1|[came, friend, littl, ago, quiet, weekday, empti, time, peopl, occasion, come, pick, take, order,...|(100000,[0,1,2,3,4,5,15,21,25,27,29,31,33,34,38,40,49,51,56,58,60,61,63,71,74,75,88,89,100,107,10...|\n",
      "+------+----------------------------------------------------------------------------------------------------+----------------------------------------------------------------------------------------------------+\n",
      "only showing top 5 rows\n",
      "\n"
     ]
    }
   ],
   "source": [
    "yelp_cv.show(5, truncate=100)"
   ]
  },
  {
   "cell_type": "code",
   "execution_count": 209,
   "metadata": {
    "execution": {
     "iopub.execute_input": "2020-10-11T17:10:42.087973Z",
     "iopub.status.busy": "2020-10-11T17:10:42.087673Z",
     "iopub.status.idle": "2020-10-11T17:10:42.747936Z",
     "shell.execute_reply": "2020-10-11T17:10:42.744157Z",
     "shell.execute_reply.started": "2020-10-11T17:10:42.087941Z"
    }
   },
   "outputs": [
    {
     "data": {
      "text/plain": [
       "['010',\n",
       " '025',\n",
       " '050',\n",
       " '075',\n",
       " '099',\n",
       " '100',\n",
       " '100 back',\n",
       " '100 beer',\n",
       " '100 better',\n",
       " '100 bill']"
      ]
     },
     "execution_count": 209,
     "metadata": {},
     "output_type": "execute_result"
    }
   ],
   "source": [
    "# number if words in the vocabulary - can only be run on the fit stage\n",
    "sorted(map(str, cv_model.vocabulary))[:10]"
   ]
  },
  {
   "cell_type": "code",
   "execution_count": 210,
   "metadata": {
    "execution": {
     "iopub.execute_input": "2020-10-11T17:10:42.758633Z",
     "iopub.status.busy": "2020-10-11T17:10:42.756927Z",
     "iopub.status.idle": "2020-10-11T17:10:42.776114Z",
     "shell.execute_reply": "2020-10-11T17:10:42.773163Z",
     "shell.execute_reply.started": "2020-10-11T17:10:42.758565Z"
    }
   },
   "outputs": [],
   "source": [
    "# fit IDF\n",
    "idf = IDF(inputCol='vectors', outputCol='vectors_idf')"
   ]
  },
  {
   "cell_type": "code",
   "execution_count": 211,
   "metadata": {
    "execution": {
     "iopub.execute_input": "2020-10-11T17:10:42.779304Z",
     "iopub.status.busy": "2020-10-11T17:10:42.777881Z",
     "iopub.status.idle": "2020-10-11T17:19:47.127924Z",
     "shell.execute_reply": "2020-10-11T17:19:47.125868Z",
     "shell.execute_reply.started": "2020-10-11T17:10:42.779255Z"
    }
   },
   "outputs": [],
   "source": [
    "yelp_idf = idf.fit(yelp_cv).transform(yelp_cv.select('target', 'vectors')).select('target', 'vectors_idf')"
   ]
  },
  {
   "cell_type": "code",
   "execution_count": 212,
   "metadata": {
    "execution": {
     "iopub.execute_input": "2020-10-11T17:19:47.134467Z",
     "iopub.status.busy": "2020-10-11T17:19:47.132840Z",
     "iopub.status.idle": "2020-10-11T17:20:10.195883Z",
     "shell.execute_reply": "2020-10-11T17:20:10.194252Z",
     "shell.execute_reply.started": "2020-10-11T17:19:47.134404Z"
    }
   },
   "outputs": [
    {
     "name": "stdout",
     "output_type": "stream",
     "text": [
      "+------+----------------------------------------------------------------------------------------------------+\n",
      "|target|                                                                                         vectors_idf|\n",
      "+------+----------------------------------------------------------------------------------------------------+\n",
      "|     0|(100000,[2,4,8,19,22,23,25,27,34,36,55,83,86,96,101,129,150,178,214,216,345,426,500,746,753,950,1...|\n",
      "|     1|(100000,[0,2,3,6,8,13,14,36,42,43,71,75,76,89,91,113,114,124,166,169,199,207,215,267,276,321,374,...|\n",
      "|     1|(100000,[0,1,3,4,5,6,8,10,12,13,16,17,18,23,29,30,33,34,40,42,43,48,63,68,69,75,87,95,110,135,197...|\n",
      "|     1|(100000,[6,8,10,34,36,68,69,70,98,109,177,194,216,217,274,357,366,416,500,524,543,879,921,1029,11...|\n",
      "|     0|(100000,[16,39,40,66,122,248,257,486,563,646,3386,64271,66681],[1.8076804592809559,2.202563778914...|\n",
      "+------+----------------------------------------------------------------------------------------------------+\n",
      "only showing top 5 rows\n",
      "\n"
     ]
    }
   ],
   "source": [
    "yelp_idf.show(5, truncate=100)"
   ]
  },
  {
   "cell_type": "markdown",
   "metadata": {
    "execution": {
     "iopub.execute_input": "2020-10-11T09:55:01.128388Z",
     "iopub.status.busy": "2020-10-11T09:55:01.127173Z",
     "iopub.status.idle": "2020-10-11T09:55:01.138545Z",
     "shell.execute_reply": "2020-10-11T09:55:01.137763Z",
     "shell.execute_reply.started": "2020-10-11T09:55:01.128312Z"
    }
   },
   "source": [
    "## 3b. Pre-process data for modelling - Pipeline"
   ]
  },
  {
   "cell_type": "markdown",
   "metadata": {},
   "source": [
    "I can't create a pipeline easily as to do this all my pre-processing stages need to have a fit/transnform step. I have two options for adding a pipeline:\n",
    "\n",
    "- write a class for doing pre-processing for those steps which lack a tranform method\n",
    "- re-write my code to allow for using methods which support .transform()\n",
    "\n",
    "I don't want to do either right now. Instead I will continue with model creation"
   ]
  },
  {
   "cell_type": "markdown",
   "metadata": {},
   "source": [
    "## 4. Model Creation"
   ]
  },
  {
   "cell_type": "code",
   "execution_count": 213,
   "metadata": {
    "execution": {
     "iopub.execute_input": "2020-10-11T17:20:10.204127Z",
     "iopub.status.busy": "2020-10-11T17:20:10.203874Z",
     "iopub.status.idle": "2020-10-11T17:20:10.269618Z",
     "shell.execute_reply": "2020-10-11T17:20:10.253629Z",
     "shell.execute_reply.started": "2020-10-11T17:20:10.204093Z"
    }
   },
   "outputs": [],
   "source": [
    "import numpy as np\n",
    "from pyspark.ml.classification import LogisticRegression, NaiveBayes\n",
    "from pyspark.ml.evaluation import BinaryClassificationEvaluator\n",
    "from pyspark.ml.tuning import CrossValidator, ParamGridBuilder\n",
    "from sklearn.metrics import recall_score, accuracy_score, classification_report, confusion_matrix\n",
    "from time import time"
   ]
  },
  {
   "cell_type": "code",
   "execution_count": 214,
   "metadata": {
    "execution": {
     "iopub.execute_input": "2020-10-11T17:20:10.280070Z",
     "iopub.status.busy": "2020-10-11T17:20:10.279343Z",
     "iopub.status.idle": "2020-10-11T17:20:10.377572Z",
     "shell.execute_reply": "2020-10-11T17:20:10.372398Z",
     "shell.execute_reply.started": "2020-10-11T17:20:10.280030Z"
    }
   },
   "outputs": [],
   "source": [
    "# split data\n",
    "data_train, data_test = yelp_idf.randomSplit([0.8, 0.2], seed=1)"
   ]
  },
  {
   "cell_type": "code",
   "execution_count": 215,
   "metadata": {
    "execution": {
     "iopub.execute_input": "2020-10-11T17:20:10.379688Z",
     "iopub.status.busy": "2020-10-11T17:20:10.379180Z",
     "iopub.status.idle": "2020-10-11T17:28:29.903282Z",
     "shell.execute_reply": "2020-10-11T17:28:29.901158Z",
     "shell.execute_reply.started": "2020-10-11T17:20:10.379647Z"
    }
   },
   "outputs": [
    {
     "name": "stdout",
     "output_type": "stream",
     "text": [
      "+------+-----+\n",
      "|target|count|\n",
      "+------+-----+\n",
      "|     1|80155|\n",
      "|     0|79812|\n",
      "+------+-----+\n",
      "\n"
     ]
    }
   ],
   "source": [
    "# check sampling weights for target in training set\n",
    "data_train.groupBy('target').count().show()"
   ]
  },
  {
   "cell_type": "code",
   "execution_count": 216,
   "metadata": {
    "execution": {
     "iopub.execute_input": "2020-10-11T17:28:29.907707Z",
     "iopub.status.busy": "2020-10-11T17:28:29.907380Z",
     "iopub.status.idle": "2020-10-11T17:36:44.990841Z",
     "shell.execute_reply": "2020-10-11T17:36:44.989107Z",
     "shell.execute_reply.started": "2020-10-11T17:28:29.907671Z"
    }
   },
   "outputs": [
    {
     "name": "stdout",
     "output_type": "stream",
     "text": [
      "+------+-----+\n",
      "|target|count|\n",
      "+------+-----+\n",
      "|     1|19845|\n",
      "|     0|20188|\n",
      "+------+-----+\n",
      "\n"
     ]
    }
   ],
   "source": [
    "# check sampling weights for target in testing set\n",
    "data_test.groupBy('target').count().show()"
   ]
  },
  {
   "cell_type": "code",
   "execution_count": 217,
   "metadata": {
    "execution": {
     "iopub.execute_input": "2020-10-11T17:36:44.994142Z",
     "iopub.status.busy": "2020-10-11T17:36:44.993752Z",
     "iopub.status.idle": "2020-10-11T17:36:45.047380Z",
     "shell.execute_reply": "2020-10-11T17:36:45.046707Z",
     "shell.execute_reply.started": "2020-10-11T17:36:44.994105Z"
    }
   },
   "outputs": [],
   "source": [
    "nb = NaiveBayes(featuresCol='vectors_idf',labelCol='target')\n",
    "lr = LogisticRegression(featuresCol='vectors_idf',labelCol='target')\n",
    "\n",
    "\n",
    "models = {\n",
    "    'NB Bernoulli': (nb, \n",
    "                     ParamGridBuilder() \\\n",
    "                     .addGrid(nb.modelType, ['multinomial']) \\\n",
    "                     .build()),\n",
    "    'Logistic Regression': (lr, \n",
    "                            ParamGridBuilder() \\\n",
    "                            .addGrid(lr.regParam, np.logspace(1, 5, 6)) \\\n",
    "                            .addGrid(lr.fitIntercept, [True, False]) \\\n",
    "                            .build())    \n",
    "}\n",
    "\n",
    "evaluator = BinaryClassificationEvaluator(rawPredictionCol='prediction', labelCol='target', metricName='areaUnderROC')"
   ]
  },
  {
   "cell_type": "code",
   "execution_count": 218,
   "metadata": {
    "execution": {
     "iopub.execute_input": "2020-10-11T17:36:45.049333Z",
     "iopub.status.busy": "2020-10-11T17:36:45.049033Z",
     "iopub.status.idle": "2020-10-11T18:43:19.410246Z",
     "shell.execute_reply": "2020-10-11T18:43:19.409430Z",
     "shell.execute_reply.started": "2020-10-11T17:36:45.049297Z"
    }
   },
   "outputs": [
    {
     "name": "stdout",
     "output_type": "stream",
     "text": [
      "Model:  NB Bernoulli\n",
      "Train time: 486.163s\n",
      "Test Area Under ROC:  0.924\n",
      "Test accuracy :  0.92\n",
      "Test recall (class 0):  0.905\n",
      "\n",
      "confusion matrix: \n",
      "[[18261  1927]\n",
      " [ 1256 18589]]\n",
      "\n",
      "\n",
      "              precision    recall  f1-score   support\n",
      "\n",
      "           0       0.94      0.90      0.92     20188\n",
      "           1       0.91      0.94      0.92     19845\n",
      "\n",
      "    accuracy                           0.92     40033\n",
      "   macro avg       0.92      0.92      0.92     40033\n",
      "weighted avg       0.92      0.92      0.92     40033\n",
      "\n",
      "------------------------------------------------------------\n",
      "Model:  Logistic Regression\n",
      "Train time: 529.331s\n",
      "Test Area Under ROC:  0.924\n",
      "Test accuracy :  0.92\n",
      "Test recall (class 0):  0.9\n",
      "\n",
      "confusion matrix: \n",
      "[[18174  2014]\n",
      " [ 1176 18669]]\n",
      "\n",
      "\n",
      "              precision    recall  f1-score   support\n",
      "\n",
      "           0       0.94      0.90      0.92     20188\n",
      "           1       0.90      0.94      0.92     19845\n",
      "\n",
      "    accuracy                           0.92     40033\n",
      "   macro avg       0.92      0.92      0.92     40033\n",
      "weighted avg       0.92      0.92      0.92     40033\n",
      "\n",
      "------------------------------------------------------------\n"
     ]
    }
   ],
   "source": [
    "for key, value in models.items():\n",
    "    print('Model: ', key)\n",
    "    crossval = CrossValidator(estimator=nb, estimatorParamMaps=value[1], evaluator=evaluator, numFolds=5)\n",
    "    \n",
    "    t0 = time()\n",
    "    model_fit = nb.fit(data_train)\n",
    "    train_time = time() - t0\n",
    "    print((\"Train time: %0.3fs\" % train_time))\n",
    "#     print('Avg. Training Area Under ROC: ', np.round(statistics.mean(model_fit.avgMetrics),3))\n",
    "    \n",
    "    # find the best model parameters\n",
    "#     java_model = model_fit.bestModel._java_obj\n",
    "\n",
    "#     print('Best model parameters:', {param.name: java_model.getOrDefault(java_model.getParam(param.name)) for param in paramGrid[0]})\n",
    "    \n",
    "    # get predictions for test set\n",
    "    pred_test = model_fit.transform(data_test)\n",
    "    test_target = [int(row['target']) for row in pred_test.collect()]\n",
    "    test_pred = [int(row['prediction']) for row in pred_test.collect()]\n",
    "\n",
    "    print('Test Area Under ROC: ', np.round(evaluator.evaluate(pred_test),3))\n",
    "    print(\"Test accuracy : \", np.round(accuracy_score(test_target, test_pred),3))\n",
    "    print(\"Test recall (class 0): \", np.round(recall_score(test_target, test_pred, average='binary', pos_label=0),3)) # average='macro'\n",
    "\n",
    "    print('\\nconfusion matrix: ')\n",
    "    print(confusion_matrix(test_target, test_pred))\n",
    "    print('\\n')\n",
    "    print(classification_report(test_target, test_pred))\n",
    "    print('-' * 60)\n",
    "    "
   ]
  },
  {
   "cell_type": "code",
   "execution_count": null,
   "metadata": {},
   "outputs": [],
   "source": [
    "# stop spark cluster\n",
    "sc.stop()"
   ]
  },
  {
   "cell_type": "markdown",
   "metadata": {},
   "source": [
    "---"
   ]
  },
  {
   "cell_type": "code",
   "execution_count": 93,
   "metadata": {
    "execution": {
     "iopub.execute_input": "2020-10-11T15:27:55.368751Z",
     "iopub.status.busy": "2020-10-11T15:27:55.368442Z",
     "iopub.status.idle": "2020-10-11T15:27:55.408575Z",
     "shell.execute_reply": "2020-10-11T15:27:55.405873Z",
     "shell.execute_reply.started": "2020-10-11T15:27:55.368716Z"
    }
   },
   "outputs": [
    {
     "ename": "AttributeError",
     "evalue": "'CrossValidatorModel' object has no attribute 'summary'",
     "output_type": "error",
     "traceback": [
      "\u001b[0;31m---------------------------------------------------------------------------\u001b[0m",
      "\u001b[0;31mAttributeError\u001b[0m                            Traceback (most recent call last)",
      "\u001b[0;32m<ipython-input-93-2c9527486c9e>\u001b[0m in \u001b[0;36m<module>\u001b[0;34m\u001b[0m\n\u001b[1;32m      1\u001b[0m \u001b[0;31m# only works when the model is fitted directly to the data\u001b[0m\u001b[0;34m\u001b[0m\u001b[0;34m\u001b[0m\u001b[0;34m\u001b[0m\u001b[0m\n\u001b[0;32m----> 2\u001b[0;31m \u001b[0mmodel_summary\u001b[0m \u001b[0;34m=\u001b[0m \u001b[0mmodel_fit\u001b[0m\u001b[0;34m.\u001b[0m\u001b[0msummary\u001b[0m\u001b[0;34m\u001b[0m\u001b[0;34m\u001b[0m\u001b[0m\n\u001b[0m",
      "\u001b[0;31mAttributeError\u001b[0m: 'CrossValidatorModel' object has no attribute 'summary'"
     ]
    }
   ],
   "source": [
    "model_summary = model_fit.summary"
   ]
  },
  {
   "cell_type": "code",
   "execution_count": 49,
   "metadata": {
    "execution": {
     "iopub.execute_input": "2020-10-11T09:45:31.745577Z",
     "iopub.status.busy": "2020-10-11T09:45:31.744989Z",
     "iopub.status.idle": "2020-10-11T09:45:33.528185Z",
     "shell.execute_reply": "2020-10-11T09:45:33.527126Z",
     "shell.execute_reply.started": "2020-10-11T09:45:31.745534Z"
    }
   },
   "outputs": [
    {
     "data": {
      "text/plain": [
       "0.8713499999999997"
      ]
     },
     "execution_count": 49,
     "metadata": {},
     "output_type": "execute_result"
    }
   ],
   "source": [
    "model_summary.areaUnderROC"
   ]
  },
  {
   "cell_type": "code",
   "execution_count": 50,
   "metadata": {
    "execution": {
     "iopub.execute_input": "2020-10-11T09:45:33.530338Z",
     "iopub.status.busy": "2020-10-11T09:45:33.529919Z",
     "iopub.status.idle": "2020-10-11T09:45:34.421801Z",
     "shell.execute_reply": "2020-10-11T09:45:34.417681Z",
     "shell.execute_reply.started": "2020-10-11T09:45:33.530297Z"
    }
   },
   "outputs": [
    {
     "name": "stdout",
     "output_type": "stream",
     "text": [
      "+------+-------------------------------------------+----------+\n",
      "|target|probability                                |prediction|\n",
      "+------+-------------------------------------------+----------+\n",
      "|0.0   |[0.8295681887795381,0.1704318112204619]    |0.0       |\n",
      "|1.0   |[1.1838908066037959E-8,0.9999999881610918] |1.0       |\n",
      "|1.0   |[1.0,4.060738456944009E-23]                |0.0       |\n",
      "|0.0   |[1.0,7.823101973685385E-19]                |0.0       |\n",
      "|1.0   |[1.2721337849774822E-10,0.9999999998727866]|1.0       |\n",
      "|0.0   |[1.0,2.15743994651109E-19]                 |0.0       |\n",
      "|1.0   |[4.959395577289689E-6,0.9999950406044228]  |1.0       |\n",
      "|1.0   |[0.9999999999999989,1.1632385162579999E-15]|0.0       |\n",
      "|1.0   |[0.019733870395414795,0.9802661296045853]  |1.0       |\n",
      "|1.0   |[7.738453331668664E-11,0.9999999999226155] |1.0       |\n",
      "+------+-------------------------------------------+----------+\n",
      "only showing top 10 rows\n",
      "\n"
     ]
    }
   ],
   "source": [
    "model_summary.predictions.select('target', 'probability', 'prediction').show(10, truncate=False)"
   ]
  },
  {
   "cell_type": "code",
   "execution_count": 51,
   "metadata": {
    "execution": {
     "iopub.execute_input": "2020-10-11T09:45:34.423850Z",
     "iopub.status.busy": "2020-10-11T09:45:34.423005Z",
     "iopub.status.idle": "2020-10-11T09:45:35.358493Z",
     "shell.execute_reply": "2020-10-11T09:45:35.357720Z",
     "shell.execute_reply.started": "2020-10-11T09:45:34.423806Z"
    }
   },
   "outputs": [],
   "source": [
    "import matplotlib.pyplot as plt"
   ]
  },
  {
   "cell_type": "code",
   "execution_count": 52,
   "metadata": {
    "execution": {
     "iopub.execute_input": "2020-10-11T09:45:35.363811Z",
     "iopub.status.busy": "2020-10-11T09:45:35.363501Z",
     "iopub.status.idle": "2020-10-11T09:45:37.902722Z",
     "shell.execute_reply": "2020-10-11T09:45:37.901714Z",
     "shell.execute_reply.started": "2020-10-11T09:45:35.363775Z"
    }
   },
   "outputs": [
    {
     "data": {
      "image/png": "[encoded data removed]",
      "text/plain": [
       "<Figure size 864x288 with 2 Axes>"
      ]
     },
     "metadata": {
      "needs_background": "light"
     },
     "output_type": "display_data"
    }
   ],
   "source": [
    "fig, ax = plt.subplots(ncols=2, figsize=(12, 4))\n",
    "model_summary.roc.toPandas().plot(x='FPR', y='TPR', ax=ax[0])\n",
    "model_summary.pr.toPandas().plot(x='recall', y='precision', ax=ax[1])\n",
    "plt.show()"
   ]
  },
  {
   "cell_type": "code",
   "execution_count": 89,
   "metadata": {
    "execution": {
     "iopub.execute_input": "2020-10-04T10:17:37.101876Z",
     "iopub.status.busy": "2020-10-04T10:17:37.100740Z",
     "iopub.status.idle": "2020-10-04T10:17:37.338999Z",
     "shell.execute_reply": "2020-10-04T10:17:37.338065Z",
     "shell.execute_reply.started": "2020-10-04T10:17:37.101834Z"
    }
   },
   "outputs": [],
   "source": []
  }
 ],
 "metadata": {
  "kernelspec": {
   "display_name": "pyspark_env",
   "language": "python",
   "name": "pyspark_env"
  },
  "language_info": {
   "codemirror_mode": {
    "name": "ipython",
    "version": 3
   },
   "file_extension": ".py",
   "mimetype": "text/x-python",
   "name": "python",
   "nbconvert_exporter": "python",
   "pygments_lexer": "ipython3",
   "version": "3.7.4"
  }
 },
 "nbformat": 4,
 "nbformat_minor": 4
}
